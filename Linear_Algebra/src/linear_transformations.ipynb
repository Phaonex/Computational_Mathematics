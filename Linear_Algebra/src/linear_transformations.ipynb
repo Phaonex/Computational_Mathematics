{
 "cells": [
  {
   "cell_type": "markdown",
   "metadata": {},
   "source": [
    "# LINEAR TRANSFORMATIONS"
   ]
  },
  {
   "cell_type": "code",
   "execution_count": 90,
   "metadata": {},
   "outputs": [],
   "source": [
    "using StaticArrays\n",
    "using LinearAlgebra\n",
    "using Symbolics\n",
    "using Latexify\n",
    "using Nemo"
   ]
  },
  {
   "cell_type": "code",
   "execution_count": 132,
   "metadata": {},
   "outputs": [
    {
     "data": {
      "text/plain": [
       "1-element Vector{Symbolics.CallWithMetadata{SymbolicUtils.FnType{Tuple, Real}, Base.ImmutableDict{DataType, Any}}}:\n",
       " T⋆"
      ]
     },
     "metadata": {},
     "output_type": "display_data"
    }
   ],
   "source": [
    "@variables x, u[1:2], v[1:2]\n",
    "@variables T(..)"
   ]
  },
  {
   "cell_type": "code",
   "execution_count": 182,
   "metadata": {},
   "outputs": [
    {
     "data": {
      "text/latex": [
       "$$ \\begin{equation}\n",
       "\\left( T\\left( \\mathrm{broadcast}\\left( -, \\mathrm{broadcast}\\left( *, 3, u \\right), \\mathrm{broadcast}\\left( *, 7, v \\right) \\right) \\right) = T\\left( \\mathrm{broadcast}\\left( *, 3, u \\right) \\right) + T\\left( \\mathrm{broadcast}\\left( *, -7, v \\right) \\right) \\right) =  - 7 T\\left( v \\right) + 3 T\\left( u \\right)\n",
       "\\end{equation}\n",
       " $$"
      ],
      "text/plain": [
       "(T(broadcast(-, broadcast(*, 3, u), broadcast(*, 7, v))) == (T(broadcast(*, 3, u)) + T(broadcast(*, -7, v)))) == (-7T(v) + 3T(u))"
      ]
     },
     "metadata": {},
     "output_type": "display_data"
    }
   ],
   "source": [
    "exp_1_2 = T(3u − 7v) == T(3u) + T(−7v) \n",
    "expr = exp_1_2 == 3T(u) − 7T(v)"
   ]
  },
  {
   "cell_type": "code",
   "execution_count": 183,
   "metadata": {},
   "outputs": [
    {
     "data": {
      "text/latex": [
       "$$ \\begin{equation}\n",
       "\\left[\n",
       "\\begin{array}{c}\n",
       "u_{1} \\\\\n",
       "u_{2} \\\\\n",
       "\\end{array}\n",
       "\\right]\n",
       "\\end{equation}\n",
       " $$"
      ],
      "text/plain": [
       "2-element Vector{Num}:\n",
       " u[1]\n",
       " u[2]"
      ]
     },
     "metadata": {},
     "output_type": "display_data"
    }
   ],
   "source": [
    "Symbolics.scalarize(u)"
   ]
  },
  {
   "cell_type": "markdown",
   "metadata": {},
   "source": [
    "**T as transformation operation**"
   ]
  },
  {
   "cell_type": "code",
   "execution_count": 184,
   "metadata": {},
   "outputs": [
    {
     "data": {
      "text/latex": [
       "$$ \\begin{equation}\n",
       "\\left( T\\left( -4 \\right) = T\\left( -7 \\right) + T\\left( 3 \\right) \\right) =  - 4 T\\left( 1 \\right)\n",
       "\\end{equation}\n",
       " $$"
      ],
      "text/plain": [
       "(T(-4) == (T(-7) + T(3))) == (-4T(1))"
      ]
     },
     "metadata": {},
     "output_type": "display_data"
    }
   ],
   "source": [
    "substitute(expr, Dict(u => 1, v => 1, T => *))"
   ]
  },
  {
   "cell_type": "code",
   "execution_count": 188,
   "metadata": {},
   "outputs": [
    {
     "data": {
      "text/latex": [
       "$$ \\begin{equation}\n",
       "\\left( T\\left( -4 \\right) = T\\left( -7 \\right) + T\\left( 3 \\right) \\right) =  - 4 T\\left( 1 \\right)\n",
       "\\end{equation}\n",
       " $$"
      ],
      "text/plain": [
       "(T(-4) == (T(-7) + T(3))) == (-4T(1))"
      ]
     },
     "metadata": {},
     "output_type": "display_data"
    }
   ],
   "source": [
    "substitute(expr, Dict(u => 1, v => 1))"
   ]
  },
  {
   "cell_type": "code",
   "execution_count": 221,
   "metadata": {},
   "outputs": [
    {
     "data": {
      "text/latex": [
       "$$ \\begin{equation}\n",
       "\\left[\n",
       "\\begin{array}{c}\n",
       "A \\\\\n",
       "c \\\\\n",
       "y \\\\\n",
       "v \\\\\n",
       "\\end{array}\n",
       "\\right]\n",
       "\\end{equation}\n",
       " $$"
      ],
      "text/plain": [
       "4-element Vector{Num}:\n",
       " A\n",
       " c\n",
       " y\n",
       " v"
      ]
     },
     "metadata": {},
     "output_type": "display_data"
    }
   ],
   "source": [
    "@variables A, c, y, v"
   ]
  },
  {
   "cell_type": "code",
   "execution_count": 372,
   "metadata": {},
   "outputs": [
    {
     "data": {
      "text/latex": [
       "$$ \\begin{equation}\n",
       "T\\left( x \\right) = A x\n",
       "\\end{equation}\n",
       " $$"
      ],
      "text/plain": [
       "T(x) == (A*x)"
      ]
     },
     "metadata": {},
     "output_type": "display_data"
    }
   ],
   "source": [
    "expr = T(x) == A * x"
   ]
  },
  {
   "cell_type": "code",
   "execution_count": 223,
   "metadata": {},
   "outputs": [
    {
     "data": {
      "text/latex": [
       "$$ \\begin{equation}\n",
       "T\\left( 1 \\right) = \\left[\n",
       "\\begin{array}{c}\n",
       "\\left[\n",
       "\\begin{array}{c}\n",
       "1 \\\\\n",
       "2 \\\\\n",
       "3 \\\\\n",
       "\\end{array}\n",
       "\\right] \\\\\n",
       "\\left[\n",
       "\\begin{array}{c}\n",
       "1 \\\\\n",
       "2 \\\\\n",
       "3 \\\\\n",
       "\\end{array}\n",
       "\\right] \\\\\n",
       "\\end{array}\n",
       "\\right]\n",
       "\\end{equation}\n",
       " $$"
      ],
      "text/plain": [
       "T(1) == StepRangeLen{Int64, Int64, Int64, Int64}[1:1:3, 1:1:3]"
      ]
     },
     "metadata": {},
     "output_type": "display_data"
    }
   ],
   "source": [
    "substitute(expr, Dict(x => 1, A => [1:3, 1:3]))"
   ]
  },
  {
   "cell_type": "code",
   "execution_count": 254,
   "metadata": {},
   "outputs": [
    {
     "data": {
      "text/latex": [
       "$$ \\begin{equation}\n",
       "true\n",
       "\\end{equation}\n",
       " $$"
      ],
      "text/plain": [
       "true"
      ]
     },
     "metadata": {},
     "output_type": "display_data"
    }
   ],
   "source": [
    "simplify(A*(c*v) == c*(A*v))"
   ]
  },
  {
   "cell_type": "code",
   "execution_count": 263,
   "metadata": {},
   "outputs": [
    {
     "data": {
      "text/latex": [
       "$$ \\begin{equation}\n",
       "A \\left( x + y \\right) = A x + A y\n",
       "\\end{equation}\n",
       " $$"
      ],
      "text/plain": [
       "(A*(x + y)) == (A*x + A*y)"
      ]
     },
     "metadata": {},
     "output_type": "display_data"
    }
   ],
   "source": [
    "simplify(A*(x + y ) == A*x + A*y)"
   ]
  },
  {
   "cell_type": "code",
   "execution_count": 269,
   "metadata": {},
   "outputs": [
    {
     "data": {
      "text/latex": [
       "$$ \\begin{equation}\n",
       "true\n",
       "\\end{equation}\n",
       " $$"
      ],
      "text/plain": [
       "true"
      ]
     },
     "metadata": {},
     "output_type": "display_data"
    }
   ],
   "source": [
    "substitute(A*(x + y ) == A*x + A*y, Dict(A => [1:3, 3:4], x => 1,  y=> 1))"
   ]
  }
 ],
 "metadata": {
  "kernelspec": {
   "display_name": "Julia 1.11.2",
   "language": "julia",
   "name": "julia-1.11"
  },
  "language_info": {
   "file_extension": ".jl",
   "mimetype": "application/julia",
   "name": "julia",
   "version": "1.11.2"
  }
 },
 "nbformat": 4,
 "nbformat_minor": 2
}
