{
 "cells": [
  {
   "cell_type": "markdown",
   "metadata": {},
   "source": [
    "# SYSTEMS OF LINEAR EQUATIONS"
   ]
  },
  {
   "cell_type": "code",
   "execution_count": 433,
   "metadata": {},
   "outputs": [],
   "source": [
    "using StaticArrays\n",
    "using LinearAlgebra\n",
    "using Symbolics\n",
    "using Latexify\n",
    "using Nemo"
   ]
  },
  {
   "cell_type": "code",
   "execution_count": 15,
   "metadata": {},
   "outputs": [
    {
     "data": {
      "text/plain": [
       "1-element Vector{Symbolics.Arr{Num, 1}}:\n",
       " x[1:3]"
      ]
     },
     "metadata": {},
     "output_type": "display_data"
    }
   ],
   "source": [
    "@variables x[1:3]"
   ]
  },
  {
   "cell_type": "markdown",
   "metadata": {},
   "source": [
    "***Here a system of Liniar equations***"
   ]
  },
  {
   "cell_type": "code",
   "execution_count": 39,
   "metadata": {},
   "outputs": [
    {
     "data": {
      "text/latex": [
       "$$ \\begin{equation}\n",
       " - x_{1} + 2 x_{3} = -3\n",
       "\\end{equation}\n",
       " $$"
      ],
      "text/plain": [
       "(-x[1] + 2x[3]) == -3"
      ]
     },
     "metadata": {},
     "output_type": "display_data"
    }
   ],
   "source": [
    "sEq_1 = x[1] + x[2] + x[3]      == 4\n",
    "sEq_2 = 2x[1] + 5x[2] - x[3]    == 11\n",
    "sEq_3 = -x[1] + 2x[3]           == -3"
   ]
  },
  {
   "cell_type": "code",
   "execution_count": 41,
   "metadata": {},
   "outputs": [
    {
     "data": {
      "text/latex": [
       "$$ \\begin{equation}\n",
       "true\n",
       "\\end{equation}\n",
       " $$"
      ],
      "text/plain": [
       "true"
      ]
     },
     "metadata": {},
     "output_type": "display_data"
    }
   ],
   "source": [
    "substitute(sEq_1, Dict(x[1] => 2, x[2] => 1, x[3] => 1))"
   ]
  },
  {
   "cell_type": "code",
   "execution_count": 44,
   "metadata": {},
   "outputs": [
    {
     "data": {
      "text/latex": [
       "$$ \\begin{equation}\n",
       "true\n",
       "\\end{equation}\n",
       " $$"
      ],
      "text/plain": [
       "true"
      ]
     },
     "metadata": {},
     "output_type": "display_data"
    }
   ],
   "source": [
    "substitute(sEq_2, Dict(x[1] => 1, x[2] => 2, x[3] => 1))"
   ]
  },
  {
   "cell_type": "code",
   "execution_count": 57,
   "metadata": {},
   "outputs": [
    {
     "data": {
      "text/latex": [
       "$$ \\begin{equation}\n",
       "false\n",
       "\\end{equation}\n",
       " $$"
      ],
      "text/plain": [
       "false"
      ]
     },
     "metadata": {},
     "output_type": "display_data"
    }
   ],
   "source": [
    "substitute(sEq_3, Dict(x[1] => 3, x[3] => 3))"
   ]
  },
  {
   "cell_type": "markdown",
   "metadata": {},
   "source": [
    "**All this can be writen as argumented Matrix!**"
   ]
  },
  {
   "cell_type": "code",
   "execution_count": 99,
   "metadata": {},
   "outputs": [
    {
     "data": {
      "text/plain": [
       "3-element Vector{Int64}:\n",
       "  4\n",
       " 11\n",
       " -3"
      ]
     },
     "metadata": {},
     "output_type": "display_data"
    }
   ],
   "source": [
    "arguments = [Symbolics.arguments(Symbolics.value(sEq_1))[2], Symbolics.arguments(Symbolics.value(sEq_2))[2], Symbolics.arguments(Symbolics.value(sEq_3))[2]]\n"
   ]
  },
  {
   "cell_type": "code",
   "execution_count": 262,
   "metadata": {},
   "outputs": [
    {
     "data": {
      "text/plain": [
       "get_coefficients (generic function with 1 method)"
      ]
     },
     "metadata": {},
     "output_type": "display_data"
    }
   ],
   "source": [
    "extract_coeffs(eq, idx) = Symbolics.coeff(Symbolics.arguments(Symbolics.value(eq))[1], x[idx])\n",
    "get_coefficients(eqs) = map(v -> extract_coeffs(eqs, v), range(1,length(arguments)))"
   ]
  },
  {
   "cell_type": "code",
   "execution_count": 264,
   "metadata": {},
   "outputs": [
    {
     "data": {
      "text/plain": [
       "3×3 Matrix{Int64}:\n",
       " 1   2  -1\n",
       " 1   5   0\n",
       " 1  -1   2"
      ]
     },
     "metadata": {},
     "output_type": "display_data"
    }
   ],
   "source": [
    "M = [get_coefficients(sEq_1) get_coefficients(sEq_2) get_coefficients(sEq_3)]"
   ]
  },
  {
   "cell_type": "code",
   "execution_count": 403,
   "metadata": {},
   "outputs": [
    {
     "data": {
      "text/plain": [
       "3×4 Matrix{Int64}:\n",
       "  1  1   1   4\n",
       "  2  5  -1  11\n",
       " -1  0   2  -3"
      ]
     },
     "metadata": {},
     "output_type": "display_data"
    }
   ],
   "source": [
    "A = [M' arguments]"
   ]
  },
  {
   "cell_type": "markdown",
   "metadata": {},
   "source": [
    "###  Elementary row operations\n",
    "\n",
    "The process of getting there is called row\n",
    "reduction or Gaussian elimination."
   ]
  },
  {
   "cell_type": "markdown",
   "metadata": {},
   "source": [
    "**First row operation**\n",
    "\n",
    "R2 - 2R1 and R1 + R3"
   ]
  },
  {
   "cell_type": "code",
   "execution_count": 404,
   "metadata": {},
   "outputs": [
    {
     "data": {
      "text/plain": [
       "1×4 adjoint(::Vector{Int64}) with eltype Int64:\n",
       " 0  3  -3  3"
      ]
     },
     "metadata": {},
     "output_type": "display_data"
    }
   ],
   "source": [
    "r_2_2r_1 = A[2, 1:4]' - 2A[1, 1:4]'"
   ]
  },
  {
   "cell_type": "code",
   "execution_count": 405,
   "metadata": {},
   "outputs": [
    {
     "data": {
      "text/plain": [
       "1×4 adjoint(::Vector{Int64}) with eltype Int64:\n",
       " 0  1  3  1"
      ]
     },
     "metadata": {},
     "output_type": "display_data"
    }
   ],
   "source": [
    "r_1_r_3 = A[1, 1:4]' + A[3, 1:4]'"
   ]
  },
  {
   "cell_type": "markdown",
   "metadata": {},
   "source": [
    "Now we can create the Matrix rapresenting the Matrix equation changes."
   ]
  },
  {
   "cell_type": "code",
   "execution_count": 406,
   "metadata": {},
   "outputs": [
    {
     "data": {
      "text/plain": [
       "3×4 Matrix{Int64}:\n",
       " 1  1   1  4\n",
       " 0  3  -3  3\n",
       " 0  1   3  1"
      ]
     },
     "metadata": {},
     "output_type": "display_data"
    }
   ],
   "source": [
    "A = [A[1, 1:4]'; r_2_2r_1; r_1_r_3]\n"
   ]
  },
  {
   "cell_type": "markdown",
   "metadata": {},
   "source": [
    "Then after do the 2 allowed operation mult and add we can do another one the swap operation.\n",
    "\n",
    "R2 to R3"
   ]
  },
  {
   "cell_type": "code",
   "execution_count": 407,
   "metadata": {},
   "outputs": [
    {
     "data": {
      "text/plain": [
       "3×4 Matrix{Int64}:\n",
       " 1  1   1  4\n",
       " 0  1   3  1\n",
       " 0  3  -3  3"
      ]
     },
     "metadata": {},
     "output_type": "display_data"
    }
   ],
   "source": [
    "A = [A[1, 1:4]'; r_1_r_3; r_2_2r_1]\n"
   ]
  },
  {
   "cell_type": "markdown",
   "metadata": {},
   "source": [
    "Finally get a zero at the bottom.\n",
    "R3 - 3R2"
   ]
  },
  {
   "cell_type": "code",
   "execution_count": 408,
   "metadata": {},
   "outputs": [
    {
     "data": {
      "text/plain": [
       "1×4 adjoint(::Vector{Int64}) with eltype Int64:\n",
       " 0  0  -12  0"
      ]
     },
     "metadata": {},
     "output_type": "display_data"
    }
   ],
   "source": [
    "r_2_3r2 = (A[3, 1:4] - 3A[2, 1:4])'"
   ]
  },
  {
   "cell_type": "code",
   "execution_count": 409,
   "metadata": {},
   "outputs": [
    {
     "data": {
      "text/plain": [
       "3×4 Matrix{Int64}:\n",
       " 1  1    1  4\n",
       " 0  1    3  1\n",
       " 0  0  -12  0"
      ]
     },
     "metadata": {},
     "output_type": "display_data"
    }
   ],
   "source": [
    "A = [A[1, 1:4]'; A[2, 1:4]'; r_2_3r2]"
   ]
  },
  {
   "cell_type": "markdown",
   "metadata": {},
   "source": [
    "And we can then mult  -1 // 12 by R3 to get the last zero.\n",
    "\n",
    "-1 // 12 R3"
   ]
  },
  {
   "cell_type": "code",
   "execution_count": 410,
   "metadata": {},
   "outputs": [
    {
     "data": {
      "text/plain": [
       "3×4 Matrix{Rational{Int64}}:\n",
       " 1  1  1  4\n",
       " 0  1  3  1\n",
       " 0  0  1  0"
      ]
     },
     "metadata": {},
     "output_type": "display_data"
    }
   ],
   "source": [
    " A = [A[1, 1:4]'; A[2, 1:4]'; (-(1//12) * A[3, 1:4])']"
   ]
  },
  {
   "cell_type": "markdown",
   "metadata": {},
   "source": [
    "Continue add zeros by:\n",
    "\n",
    "R2 - 3R3"
   ]
  },
  {
   "cell_type": "code",
   "execution_count": 412,
   "metadata": {},
   "outputs": [
    {
     "data": {
      "text/plain": [
       "3×4 Matrix{Rational{Int64}}:\n",
       " 1  1  1  4\n",
       " 0  1  0  1\n",
       " 0  0  1  0"
      ]
     },
     "metadata": {},
     "output_type": "display_data"
    }
   ],
   "source": [
    "A = [A[1, 1:4]'; (A[2, 1:4] - 3A[3, 1:4])'; A[3, 1:4]']"
   ]
  },
  {
   "cell_type": "markdown",
   "metadata": {},
   "source": [
    "Continue more zeros by:\n",
    "\n",
    "R1 - R3"
   ]
  },
  {
   "cell_type": "code",
   "execution_count": 416,
   "metadata": {},
   "outputs": [
    {
     "data": {
      "text/plain": [
       "3×4 Matrix{Rational{Int64}}:\n",
       " 1  1  0  4\n",
       " 0  1  0  1\n",
       " 0  0  1  0"
      ]
     },
     "metadata": {},
     "output_type": "display_data"
    }
   ],
   "source": [
    "A = [(A[1, 1:4] - A[3, 1:4])'; A[2, 1:4]'; A[3, 1:4]'] "
   ]
  },
  {
   "cell_type": "markdown",
   "metadata": {},
   "source": [
    "Final zeros by:\n",
    "\n",
    "R1 - R2"
   ]
  },
  {
   "cell_type": "code",
   "execution_count": 419,
   "metadata": {},
   "outputs": [
    {
     "data": {
      "text/plain": [
       "3×4 Matrix{Rational{Int64}}:\n",
       " 1  0  0  3\n",
       " 0  1  0  1\n",
       " 0  0  1  0"
      ]
     },
     "metadata": {},
     "output_type": "display_data"
    }
   ],
   "source": [
    "A = [(A[1, 1:4] - A[2, 1:4])'; A[2, 1:4]'; A[3, 1:4]']"
   ]
  },
  {
   "cell_type": "markdown",
   "metadata": {},
   "source": [
    "Finally I can write the solution for the system of linear equation as."
   ]
  },
  {
   "cell_type": "code",
   "execution_count": 421,
   "metadata": {},
   "outputs": [
    {
     "data": {
      "text/latex": [
       "$$ \\begin{equation}\n",
       "true\n",
       "\\end{equation}\n",
       " $$"
      ],
      "text/plain": [
       "true"
      ]
     },
     "metadata": {},
     "output_type": "display_data"
    }
   ],
   "source": [
    "substitute(sEq_1, Dict(x[1] => 3, x[2] => 1, x[3] => 0))"
   ]
  },
  {
   "cell_type": "code",
   "execution_count": 426,
   "metadata": {},
   "outputs": [
    {
     "data": {
      "text/latex": [
       "$$ \\begin{equation}\n",
       "true\n",
       "\\end{equation}\n",
       " $$"
      ],
      "text/plain": [
       "true"
      ]
     },
     "metadata": {},
     "output_type": "display_data"
    }
   ],
   "source": [
    "substitute(sEq_2, Dict(x[1] => 3, x[2] => 1, x[3] => 0))"
   ]
  },
  {
   "cell_type": "code",
   "execution_count": 427,
   "metadata": {},
   "outputs": [
    {
     "data": {
      "text/latex": [
       "$$ \\begin{equation}\n",
       "true\n",
       "\\end{equation}\n",
       " $$"
      ],
      "text/plain": [
       "true"
      ]
     },
     "metadata": {},
     "output_type": "display_data"
    }
   ],
   "source": [
    "substitute(sEq_3, Dict(x[1] => 3, x[2] => 1, x[3] => 0))"
   ]
  }
 ],
 "metadata": {
  "kernelspec": {
   "display_name": "Julia 1.11.2",
   "language": "julia",
   "name": "julia-1.11"
  },
  "language_info": {
   "file_extension": ".jl",
   "mimetype": "application/julia",
   "name": "julia",
   "version": "1.11.2"
  }
 },
 "nbformat": 4,
 "nbformat_minor": 2
}
