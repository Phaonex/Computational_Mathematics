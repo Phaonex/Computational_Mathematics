{
 "cells": [
  {
   "cell_type": "code",
   "execution_count": 310,
   "metadata": {},
   "outputs": [],
   "source": [
    "using StaticArrays\n",
    "using LinearAlgebra\n",
    "using Symbolics\n",
    "using Latexify\n"
   ]
  },
  {
   "cell_type": "code",
   "execution_count": 2,
   "metadata": {},
   "outputs": [],
   "source": [
    "using Pkg"
   ]
  },
  {
   "cell_type": "code",
   "execution_count": 3,
   "metadata": {},
   "outputs": [
    {
     "name": "stdout",
     "output_type": "stream",
     "text": [
      "\u001b[36m\u001b[1mProject\u001b[22m\u001b[39m project_1 v0.1.0\n",
      "\u001b[32m\u001b[1mStatus\u001b[22m\u001b[39m `~/Documents/linierAlgebra/julia/project_1/Project.toml`\n",
      "  \u001b[90m[a93c6f00] \u001b[39mDataFrames v1.7.0\n",
      "  \u001b[90m[23fbe1c1] \u001b[39mLatexify v0.16.5\n",
      "  \u001b[90m[91a5bcdd] \u001b[39mPlots v1.40.9\n",
      "  \u001b[90m[90137ffa] \u001b[39mStaticArrays v1.9.8\n",
      "  \u001b[90m[0c5d862f] \u001b[39mSymbolics v6.22.0\n",
      "  \u001b[90m[37e2e46d] \u001b[39mLinearAlgebra v1.11.0\n"
     ]
    }
   ],
   "source": [
    "Pkg.status()"
   ]
  },
  {
   "cell_type": "code",
   "execution_count": 4,
   "metadata": {},
   "outputs": [
    {
     "data": {
      "text/latex": [
       "$$ \\begin{equation}\n",
       "\\left[\n",
       "\\begin{array}{c}\n",
       "a \\\\\n",
       "b \\\\\n",
       "c \\\\\n",
       "d \\\\\n",
       "\\end{array}\n",
       "\\right]\n",
       "\\end{equation}\n",
       " $$"
      ],
      "text/plain": [
       "4-element Vector{Num}:\n",
       " a\n",
       " b\n",
       " c\n",
       " d"
      ]
     },
     "metadata": {},
     "output_type": "display_data"
    }
   ],
   "source": [
    "v_1 = [14, 30, -5]\n",
    "v_2 = [23, 56, 2]\n",
    "@variables a b c d"
   ]
  },
  {
   "cell_type": "code",
   "execution_count": 5,
   "metadata": {},
   "outputs": [
    {
     "data": {
      "text/plain": [
       "2×3 adjoint(::Matrix{Int64}) with eltype Int64:\n",
       " 14  30  -5\n",
       " 23  56   2"
      ]
     },
     "metadata": {},
     "output_type": "display_data"
    }
   ],
   "source": [
    "M = [v_1 v_2]'"
   ]
  },
  {
   "cell_type": "code",
   "execution_count": 6,
   "metadata": {},
   "outputs": [
    {
     "data": {
      "text/plain": [
       "2-element Vector{Int64}:\n",
       " 14\n",
       " 23"
      ]
     },
     "metadata": {},
     "output_type": "display_data"
    }
   ],
   "source": [
    "I = M[1:2]"
   ]
  },
  {
   "cell_type": "code",
   "execution_count": 7,
   "metadata": {},
   "outputs": [
    {
     "data": {
      "text/plain": [
       "2-element Vector{Int64}:\n",
       " 30\n",
       " 56"
      ]
     },
     "metadata": {},
     "output_type": "display_data"
    }
   ],
   "source": [
    "J = M[3:4]"
   ]
  },
  {
   "cell_type": "code",
   "execution_count": 8,
   "metadata": {},
   "outputs": [
    {
     "data": {
      "text/plain": [
       "2-element Vector{Int64}:\n",
       " -5\n",
       "  2"
      ]
     },
     "metadata": {},
     "output_type": "display_data"
    }
   ],
   "source": [
    "K = M[5:6]"
   ]
  },
  {
   "cell_type": "code",
   "execution_count": 9,
   "metadata": {},
   "outputs": [
    {
     "data": {
      "text/plain": [
       "2×2 Matrix{Int64}:\n",
       " -5  30\n",
       "  2  56"
      ]
     },
     "metadata": {},
     "output_type": "display_data"
    }
   ],
   "source": [
    "[K J]"
   ]
  },
  {
   "cell_type": "code",
   "execution_count": 10,
   "metadata": {},
   "outputs": [
    {
     "data": {
      "text/plain": [
       "2×2 Matrix{Int64}:\n",
       " -70  -70\n",
       "  46   46"
      ]
     },
     "metadata": {},
     "output_type": "display_data"
    }
   ],
   "source": [
    "I .* [J K] .+ (-J) .* [I K] .+ K .* [I J]"
   ]
  },
  {
   "cell_type": "code",
   "execution_count": 11,
   "metadata": {},
   "outputs": [
    {
     "data": {
      "text/plain": [
       "1680"
      ]
     },
     "metadata": {},
     "output_type": "display_data"
    }
   ],
   "source": [
    "prod(J)"
   ]
  },
  {
   "cell_type": "code",
   "execution_count": 12,
   "metadata": {},
   "outputs": [],
   "source": [
    "Sdeteminat(M_mn) = substitute(a * b - c * d, Dict(a => M_mn[1], b => M_mn[4], c => M_mn[3], d => M_mn[2]))\n",
    "@register_symbolic Sdeteminat(M_mn)"
   ]
  },
  {
   "cell_type": "code",
   "execution_count": 13,
   "metadata": {},
   "outputs": [
    {
     "data": {
      "text/latex": [
       "$$ \\begin{equation}\n",
       "\\left[\n",
       "\\begin{array}{c}\n",
       "340 \\\\\n",
       "143 \\\\\n",
       "94 \\\\\n",
       "\\end{array}\n",
       "\\right]\n",
       "\\end{equation}\n",
       " $$"
      ],
      "text/plain": [
       "3-element Vector{Num}:\n",
       " 340\n",
       " 143\n",
       "  94"
      ]
     },
     "metadata": {},
     "output_type": "display_data"
    }
   ],
   "source": [
    "crossProduct = [Sdeteminat([J K]), Sdeteminat([I K]), Sdeteminat([I J])]"
   ]
  },
  {
   "cell_type": "code",
   "execution_count": 14,
   "metadata": {},
   "outputs": [
    {
     "data": {
      "text/latex": [
       "$$ \\begin{equation}\n",
       "\\left[\n",
       "\\begin{array}{c}\n",
       "a \\\\\n",
       "b \\\\\n",
       "\\end{array}\n",
       "\\right]\n",
       "\\end{equation}\n",
       " $$"
      ],
      "text/plain": [
       "2-element Vector{Num}:\n",
       " a\n",
       " b"
      ]
     },
     "metadata": {},
     "output_type": "display_data"
    }
   ],
   "source": [
    "M = [a; b]"
   ]
  },
  {
   "cell_type": "code",
   "execution_count": 15,
   "metadata": {},
   "outputs": [
    {
     "data": {
      "text/latex": [
       "$$ \\begin{equation}\n",
       "\\left[\n",
       "\\begin{array}{c}\n",
       "a \\\\\n",
       "\\end{array}\n",
       "\\right]\n",
       "\\end{equation}\n",
       " $$"
      ],
      "text/plain": [
       "1-element Vector{Num}:\n",
       " a"
      ]
     },
     "metadata": {},
     "output_type": "display_data"
    }
   ],
   "source": [
    "c = M[1:1]\n",
    "c"
   ]
  },
  {
   "cell_type": "code",
   "execution_count": 16,
   "metadata": {},
   "outputs": [
    {
     "data": {
      "text/latex": [
       "$$ \\begin{equation}\n",
       "\\left[\n",
       "\\begin{array}{c}\n",
       "a \\\\\n",
       "\\end{array}\n",
       "\\right]\n",
       "\\end{equation}\n",
       " $$"
      ],
      "text/plain": [
       "1-element Vector{Num}:\n",
       " a"
      ]
     },
     "metadata": {},
     "output_type": "display_data"
    }
   ],
   "source": [
    "Symbolics.value(c)"
   ]
  },
  {
   "cell_type": "code",
   "execution_count": 17,
   "metadata": {},
   "outputs": [
    {
     "data": {
      "text/plain": [
       "1-element Vector{Symbolics.Arr{Num, 2}}:\n",
       " M[[3 15 7],[-41 27 10]]"
      ]
     },
     "metadata": {},
     "output_type": "display_data"
    }
   ],
   "source": [
    "@variables M[[3, 15, 7]', [-41, 27, 10]']"
   ]
  },
  {
   "cell_type": "code",
   "execution_count": 18,
   "metadata": {},
   "outputs": [
    {
     "data": {
      "text/latex": [
       "$$ \\begin{equation}\n",
       "x + x^{5} = 1\n",
       "\\end{equation}\n",
       " $$"
      ],
      "text/plain": [
       "x + x^5 ~ 1"
      ]
     },
     "metadata": {},
     "output_type": "display_data"
    }
   ],
   "source": [
    "using Symbolics\n",
    "@variables x\n",
    "quintic = x^5 + x ~ 1"
   ]
  },
  {
   "cell_type": "code",
   "execution_count": 19,
   "metadata": {},
   "outputs": [
    {
     "name": "stdout",
     "output_type": "stream",
     "text": [
      "Newton's method solution: x = 0.7548776662466927\n"
     ]
    }
   ],
   "source": [
    "function solve_newton(eq, x, x₀; abstol=1e-8, maxiters=50)\n",
    "    # symbolic expressions for f(x) and f′(x)\n",
    "    f = eq.lhs - eq.rhs # want to find root of f(x)\n",
    "    f′ = Symbolics.derivative(f, x)\n",
    "\n",
    "    xₙ = x₀ # numerical value of the initial guess\n",
    "    for i = 1:maxiters\n",
    "        # calculate new guess by numerically evaluating symbolic expression at previous guess\n",
    "        xₙ₊₁ = substitute(x - f / f′, x => xₙ)\n",
    "        if abs(xₙ₊₁ - xₙ) < abstol\n",
    "            return xₙ₊₁ # converged\n",
    "        else\n",
    "            xₙ = xₙ₊₁\n",
    "        end\n",
    "    end\n",
    "    error(\"Newton's method failed to converge\")\n",
    "end\n",
    "\n",
    "x_newton = solve_newton(quintic, x, 1.0)\n",
    "println(\"Newton's method solution: x = \", x_newton)\n"
   ]
  },
  {
   "cell_type": "code",
   "execution_count": 20,
   "metadata": {},
   "outputs": [
    {
     "data": {
      "text/latex": [
       "$$ \\begin{equation}\n",
       "x \\epsilon + x^{5} = 1\n",
       "\\end{equation}\n",
       " $$"
      ],
      "text/plain": [
       "x*ϵ + x^5 ~ 1"
      ]
     },
     "metadata": {},
     "output_type": "display_data"
    }
   ],
   "source": [
    "@variables ϵ # expansion variable\n",
    "quintic = x^5 + ϵ*x ~ 1\n"
   ]
  },
  {
   "cell_type": "code",
   "execution_count": 21,
   "metadata": {},
   "outputs": [
    {
     "data": {
      "text/latex": [
       "$$ \\begin{equation}\n",
       "a_{0} + a_{1} \\epsilon + \\epsilon^{2} a_{2} + \\epsilon^{3} a_{3} + \\epsilon^{4} a_{4} + \\epsilon^{5} a_{5} + \\epsilon^{6} a_{6} + \\epsilon^{7} a_{7}\n",
       "\\end{equation}\n",
       " $$"
      ],
      "text/plain": [
       "a[0] + a[1]*ϵ + a[2]*(ϵ^2) + a[3]*(ϵ^3) + a[4]*(ϵ^4) + a[5]*(ϵ^5) + a[6]*(ϵ^6) + a[7]*(ϵ^7)"
      ]
     },
     "metadata": {},
     "output_type": "display_data"
    }
   ],
   "source": [
    "x_coeffs, = @variables a[0:7] # create Taylor series coefficients\n",
    "x_taylor = series(x_coeffs, ϵ) # expand x in a power series in ϵ\n"
   ]
  },
  {
   "cell_type": "code",
   "execution_count": 22,
   "metadata": {},
   "outputs": [
    {
     "data": {
      "text/latex": [
       "$$ \\begin{equation}\n",
       "a_{0}^{5} + \\left( a_{0} + 5 a_{0}^{4} a_{1} \\right) \\epsilon + \\frac{1}{2} \\epsilon^{2} \\left( 2 a_{1} + 10 a_{0}^{4} a_{2} + 20 a_{1}^{2} a_{0}^{3} \\right) + \\frac{1}{6} \\epsilon^{3} \\left( 6 a_{2} + 30 a_{0}^{4} a_{3} + 120 a_{0}^{3} a_{1} a_{2} + 60 a_{1}^{3} a_{0}^{2} \\right) + \\frac{1}{24} \\epsilon^{4} \\left( 24 a_{3} + 120 a_{0}^{4} a_{4} + 480 a_{0}^{3} a_{1} a_{3} + 240 a_{2}^{2} a_{0}^{3} + 720 a_{1}^{2} a_{0}^{2} a_{2} + 120 a_{1}^{4} a_{0} \\right) + \\frac{1}{120} \\epsilon^{5} \\left( 120 a_{4} + 600 a_{0}^{4} a_{5} + 2400 a_{0}^{3} a_{1} a_{4} + 2400 a_{0}^{3} a_{2} a_{3} + 3600 a_{1}^{2} a_{0}^{2} a_{3} + 3600 a_{2}^{2} a_{0}^{2} a_{1} + 2400 a_{1}^{3} a_{0} a_{2} + 120 a_{1}^{5} \\right) + \\frac{1}{720} \\epsilon^{6} \\left( 720 a_{5} + 3600 a_{0}^{4} a_{6} + 14400 a_{0}^{3} a_{1} a_{5} + 14400 a_{0}^{3} a_{2} a_{4} + 7200 a_{3}^{2} a_{0}^{3} + 21600 a_{1}^{2} a_{0}^{2} a_{4} + 43200 a_{0}^{2} a_{1} a_{2} a_{3} + 7200 a_{2}^{3} a_{0}^{2} + 14400 a_{1}^{3} a_{0} a_{3} + 21600 a_{2}^{2} a_{1}^{2} a_{0} + 3600 a_{1}^{4} a_{2} \\right) + \\frac{1}{5040} \\epsilon^{7} \\left( 5040 a_{6} + 25200 a_{0}^{4} a_{7} + 100800 a_{0}^{3} a_{1} a_{6} + 100800 a_{0}^{3} a_{2} a_{5} + 100800 a_{0}^{3} a_{3} a_{4} + 151200 a_{1}^{2} a_{0}^{2} a_{5} + 302400 a_{0}^{2} a_{1} a_{2} a_{4} + 151200 a_{3}^{2} a_{0}^{2} a_{1} + 151200 a_{2}^{2} a_{0}^{2} a_{3} + 100800 a_{1}^{3} a_{0} a_{4} + 302400 a_{1}^{2} a_{0} a_{2} a_{3} + 100800 a_{2}^{3} a_{0} a_{1} + 25200 a_{1}^{4} a_{3} + 50400 a_{2}^{2} a_{1}^{3} \\right) = 1\n",
       "\\end{equation}\n",
       " $$"
      ],
      "text/plain": [
       "a[0]^5 + (a[0] + 5(a[0]^4)*a[1])*ϵ + (1//2)*(2a[1] + 10(a[0]^4)*a[2] + 20(a[0]^3)*(a[1]^2))*(ϵ^2) + (1//6)*(6a[2] + 30(a[0]^4)*a[3] + 120(a[0]^3)*a[1]*a[2] + 60(a[0]^2)*(a[1]^3))*(ϵ^3) + (1//24)*(24a[3] + 120(a[0]^4)*a[4] + 480(a[0]^3)*a[1]*a[3] + (240//1)*(a[0]^3)*(a[2]^2) + 720(a[0]^2)*(a[1]^2)*a[2] + 120a[0]*(a[1]^4))*(ϵ^4) + (1//120)*(120a[4] + 600(a[0]^4)*a[5] + 2400(a[0]^3)*a[1]*a[4] + 2400(a[0]^3)*a[2]*a[3] + 3600(a[0]^2)*(a[1]^2)*a[3] + (3600//1)*(a[0]^2)*a[1]*(a[2]^2) + 2400a[0]*(a[1]^3)*a[2] + 120(a[1]^5))*(ϵ^5) + (1//720)*(720a[5] + 3600(a[0]^4)*a[6] + 14400(a[0]^3)*a[1]*a[5] + 14400(a[0]^3)*a[2]*a[4] + (7200//1)*(a[0]^3)*(a[3]^2) + 21600(a[0]^2)*(a[1]^2)*a[4] + 43200(a[0]^2)*a[1]*a[2]*a[3] + (7200//1)*(a[0]^2)*(a[2]^3) + 14400a[0]*(a[1]^3)*a[3] + (21600//1)*a[0]*(a[1]^2)*(a[2]^2) + 3600(a[1]^4)*a[2])*(ϵ^6) + (1//5040)*(5040a[6] + 25200(a[0]^4)*a[7] + 100800(a[0]^3)*a[1]*a[6] + 100800(a[0]^3)*a[2]*a[5] + 100800(a[0]^3)*a[3]*a[4] + 151200(a[0]^2)*(a[1]^2)*a[5] + 302400(a[0]^2)*a[1]*a[2]*a[4] + (151200//1)*(a[0]^2)*a[1]*(a[3]^2) + (151200//1)*(a[0]^2)*(a[2]^2)*a[3] + 100800a[0]*(a[1]^3)*a[4] + 302400a[0]*(a[1]^2)*a[2]*a[3] + (100800//1)*a[0]*a[1]*(a[2]^3) + 25200(a[1]^4)*a[3] + (50400//1)*(a[1]^3)*(a[2]^2))*(ϵ^7) ~ 1//1"
      ]
     },
     "metadata": {},
     "output_type": "display_data"
    }
   ],
   "source": [
    "quintic_taylor = substitute(quintic, x => x_taylor)\n",
    "quintic_taylor = taylor(quintic_taylor, ϵ, 0:7)\n"
   ]
  },
  {
   "cell_type": "code",
   "execution_count": 23,
   "metadata": {},
   "outputs": [
    {
     "data": {
      "text/latex": [
       "$$ \\begin{align}\n",
       "a_{0}^{5} &= 1 \\\\\n",
       "a_{0} + 5 a_{0}^{4} a_{1} &= 0 \\\\\n",
       "\\frac{1}{2} \\left( 2 a_{1} + 10 a_{0}^{4} a_{2} + 20 a_{1}^{2} a_{0}^{3} \\right) &= 0 \\\\\n",
       "\\frac{1}{6} \\left( 6 a_{2} + 30 a_{0}^{4} a_{3} + 120 a_{0}^{3} a_{1} a_{2} + 60 a_{1}^{3} a_{0}^{2} \\right) &= 0 \\\\\n",
       "\\frac{1}{24} \\left( 24 a_{3} + 120 a_{0}^{4} a_{4} + 480 a_{0}^{3} a_{1} a_{3} + 240 a_{2}^{2} a_{0}^{3} + 720 a_{1}^{2} a_{0}^{2} a_{2} + 120 a_{1}^{4} a_{0} \\right) &= 0\n",
       "\\end{align}\n",
       " $$"
      ],
      "text/plain": [
       "5-element Vector{Equation}:\n",
       " a[0]^5 ~ 1//1\n",
       " a[0] + 5(a[0]^4)*a[1] ~ 0//1\n",
       " (1//2)*(2a[1] + 10(a[0]^4)*a[2] + 20(a[0]^3)*(a[1]^2)) ~ 0//1\n",
       " (1//6)*(6a[2] + 30(a[0]^4)*a[3] + 120(a[0]^3)*a[1]*a[2] + 60(a[0]^2)*(a[1]^3)) ~ 0//1\n",
       " (1//24)*(24a[3] + 120(a[0]^4)*a[4] + 480(a[0]^3)*a[1]*a[3] + (240//1)*(a[0]^3)*(a[2]^2) + 720(a[0]^2)*(a[1]^2)*a[2] + 120a[0]*(a[1]^4)) ~ 0//1"
      ]
     },
     "metadata": {},
     "output_type": "display_data"
    }
   ],
   "source": [
    "quintic_eqs = taylor_coeff(quintic_taylor, ϵ, 0:7)\n",
    "quintic_eqs[1:5] # for readability, show only 5 shortest equations\n"
   ]
  },
  {
   "cell_type": "code",
   "execution_count": 24,
   "metadata": {},
   "outputs": [
    {
     "data": {
      "text/plain": [
       "solve_cascade (generic function with 1 method)"
      ]
     },
     "metadata": {},
     "output_type": "display_data"
    }
   ],
   "source": [
    "function solve_cascade(eqs, xs, x₀, ϵ)\n",
    "    sol = Dict(xs[begin] => x₀) # store solutions in a map\n",
    "\n",
    "    # verify that x₀ is a solution of the first equation\n",
    "    eq0 = substitute(eqs[1], sol)\n",
    "    isequal(eq0.lhs, eq0.rhs) || error(\"$sol does not solve $(eqs[1])\")\n",
    "\n",
    "    # solve remaining equations sequentially\n",
    "    for i in 2:length(eqs)\n",
    "        eq = substitute(eqs[i], sol) # insert previous solutions\n",
    "        x = xs[begin+i-1] # need not be 1-indexed\n",
    "        xsol = Symbolics.symbolic_linear_solve(eq, x) # solve current equation\n",
    "        sol = merge(sol, Dict(x => xsol)) # store solution\n",
    "    end\n",
    "\n",
    "    return sol\n",
    "end\n"
   ]
  },
  {
   "cell_type": "code",
   "execution_count": 25,
   "metadata": {},
   "outputs": [
    {
     "data": {
      "text/latex": [
       "$$ \\begin{equation}\n",
       "1 - \\frac{1}{5} \\epsilon - \\frac{1}{25} \\epsilon^{2} - \\frac{1}{125} \\epsilon^{3} + \\frac{21}{15625} \\epsilon^{5} + \\frac{78}{78125} \\epsilon^{6} + \\frac{187}{390625} \\epsilon^{7}\n",
       "\\end{equation}\n",
       " $$"
      ],
      "text/plain": [
       "1 - (1//5)*ϵ - (1//25)*(ϵ^2) - (1//125)*(ϵ^3) + (21//15625)*(ϵ^5) + (78//78125)*(ϵ^6) + (187//390625)*(ϵ^7)"
      ]
     },
     "metadata": {},
     "output_type": "display_data"
    }
   ],
   "source": [
    "x_coeffs_sol = solve_cascade(quintic_eqs, x_coeffs, 1, ϵ)\n",
    "x_pert = substitute(x_taylor, x_coeffs_sol)\n"
   ]
  },
  {
   "cell_type": "code",
   "execution_count": 26,
   "metadata": {},
   "outputs": [
    {
     "name": "stdout",
     "output_type": "stream",
     "text": [
      "0-th order solution: x = 1//1 = 1.0\n",
      "1-th order solution: x = 4//5 = 0.8\n",
      "2-th order solution: x = 19//25 = 0.76\n",
      "3-th order solution: x = 94//125 = 0.752\n",
      "4-th order solution: x = 94//125 = 0.752\n",
      "5-th order solution: x = 11771//15625 = 0.753344\n",
      "6-th order solution: x = 58933//78125 = 0.7543424\n",
      "7-th order solution: x = 294852//390625 = 0.75482112\n"
     ]
    }
   ],
   "source": [
    "for n in 0:7\n",
    "    x_pert_sol = substitute(taylor(x_pert, ϵ, 0:n), ϵ => 1)\n",
    "    println(\"$n-th order solution: x = $x_pert_sol = $(x_pert_sol * 1.0)\")\n",
    "end\n"
   ]
  },
  {
   "cell_type": "markdown",
   "metadata": {},
   "source": [
    "# Dot product!"
   ]
  },
  {
   "cell_type": "code",
   "execution_count": 30,
   "metadata": {},
   "outputs": [
    {
     "data": {
      "text/plain": [
       "3-element Vector{Int64}:\n",
       "  1\n",
       " -5\n",
       "  0"
      ]
     },
     "metadata": {},
     "output_type": "display_data"
    }
   ],
   "source": [
    "@variables u v\n",
    "u_1 = [3, 1 ,4]\n",
    "v_2 = [1, -5 ,0]"
   ]
  },
  {
   "cell_type": "code",
   "execution_count": 28,
   "metadata": {},
   "outputs": [
    {
     "data": {
      "text/latex": [
       "$$ \\begin{equation}\n",
       "u v\n",
       "\\end{equation}\n",
       " $$"
      ],
      "text/plain": [
       "u*v"
      ]
     },
     "metadata": {},
     "output_type": "display_data"
    }
   ],
   "source": [
    "Symbolics.sum(u * v)"
   ]
  },
  {
   "cell_type": "code",
   "execution_count": 31,
   "metadata": {},
   "outputs": [],
   "source": [
    "dotProduct(u, v) = substitute(sum(v .* u), Dict(u => u, v => v ))\n",
    "@register_symbolic dotProduct(u, v)"
   ]
  },
  {
   "cell_type": "code",
   "execution_count": 33,
   "metadata": {},
   "outputs": [
    {
     "data": {
      "text/plain": [
       "-2"
      ]
     },
     "metadata": {},
     "output_type": "display_data"
    }
   ],
   "source": [
    "dotProduct(u_1, v_2)"
   ]
  },
  {
   "cell_type": "markdown",
   "metadata": {},
   "source": [
    "*Magnitude or lenght.*"
   ]
  },
  {
   "cell_type": "code",
   "execution_count": 47,
   "metadata": {},
   "outputs": [],
   "source": [
    "magnitude(u) = substitute(sqrt(dotProduct(u, u) * dotProduct(u, u)), (u => u))\n",
    "@register_symbolic magnitude(u)"
   ]
  },
  {
   "cell_type": "code",
   "execution_count": 48,
   "metadata": {},
   "outputs": [
    {
     "data": {
      "text/plain": [
       "26.0"
      ]
     },
     "metadata": {},
     "output_type": "display_data"
    }
   ],
   "source": [
    "magnitude(u_1)"
   ]
  },
  {
   "cell_type": "code",
   "execution_count": 61,
   "metadata": {},
   "outputs": [
    {
     "data": {
      "text/plain": [
       "2-element Vector{Symbolics.Arr{Num}}:\n",
       " A[1:5,1:3]\n",
       " b[1:3]"
      ]
     },
     "metadata": {},
     "output_type": "display_data"
    }
   ],
   "source": [
    "@variables A[1:5, 1:3] b[1:3]\n"
   ]
  },
  {
   "cell_type": "code",
   "execution_count": 67,
   "metadata": {},
   "outputs": [
    {
     "data": {
      "text/latex": [
       "$$ \\begin{equation}\n",
       "\\left[\n",
       "\\begin{array}{c}\n",
       "b_{1} \\\\\n",
       "b_{2} \\\\\n",
       "b_{3} \\\\\n",
       "\\end{array}\n",
       "\\right]\n",
       "\\end{equation}\n",
       " $$"
      ],
      "text/plain": [
       "3-element Vector{Num}:\n",
       " b[1]\n",
       " b[2]\n",
       " b[3]"
      ]
     },
     "metadata": {},
     "output_type": "display_data"
    }
   ],
   "source": [
    "Symbolics.scalarize(b[1:3])"
   ]
  },
  {
   "cell_type": "code",
   "execution_count": 70,
   "metadata": {},
   "outputs": [
    {
     "ename": "UndefVarError",
     "evalue": "UndefVarError: `b1` not defined in `Main`\nSuggestion: check for spelling errors or missing imports.",
     "output_type": "error",
     "traceback": [
      "UndefVarError: `b1` not defined in `Main`\n",
      "Suggestion: check for spelling errors or missing imports.\n",
      "\n",
      "Stacktrace:\n",
      " [1] top-level scope\n",
      "   @ ~/Documents/linierAlgebra/julia/project_1/Prj_2_combine_maths/jl_notebook_cell_df34fa98e69747e1a8f8a730347b8e2f_Y106sZmlsZQ==.jl:1"
     ]
    }
   ],
   "source": [
    "substitute(Symbolics.scalarize(b[1:3]) * 2, Dict(b1 => 1, b2 => 2, b3 => 3))"
   ]
  },
  {
   "cell_type": "markdown",
   "metadata": {},
   "source": [
    "*Some Matrix function and properties.*"
   ]
  },
  {
   "cell_type": "code",
   "execution_count": 71,
   "metadata": {},
   "outputs": [
    {
     "data": {
      "text/plain": [
       "2×3 Matrix{Int64}:\n",
       " 1  2  3\n",
       " 4  5  6"
      ]
     },
     "metadata": {},
     "output_type": "display_data"
    }
   ],
   "source": [
    "A = [1 2 3\n",
    "    4 5 6 ]"
   ]
  },
  {
   "cell_type": "code",
   "execution_count": 72,
   "metadata": {},
   "outputs": [
    {
     "data": {
      "text/plain": [
       "3×3 Matrix{Int64}:\n",
       " 1  0  0\n",
       " 0  1  0\n",
       " 0  0  1"
      ]
     },
     "metadata": {},
     "output_type": "display_data"
    }
   ],
   "source": [
    "I = [1 0 0\n",
    "     0 1 0 \n",
    "     0 0 1]"
   ]
  },
  {
   "cell_type": "code",
   "execution_count": 73,
   "metadata": {},
   "outputs": [
    {
     "data": {
      "text/plain": [
       "2×3 Matrix{Int64}:\n",
       " 1  2  3\n",
       " 4  5  6"
      ]
     },
     "metadata": {},
     "output_type": "display_data"
    }
   ],
   "source": [
    "A * I "
   ]
  },
  {
   "cell_type": "code",
   "execution_count": 77,
   "metadata": {},
   "outputs": [
    {
     "data": {
      "text/plain": [
       "0"
      ]
     },
     "metadata": {},
     "output_type": "display_data"
    }
   ],
   "source": [
    "Z = (0) "
   ]
  },
  {
   "cell_type": "code",
   "execution_count": 82,
   "metadata": {},
   "outputs": [
    {
     "data": {
      "text/plain": [
       "2×3 Matrix{Int64}:\n",
       " 0  0  0\n",
       " 0  0  0"
      ]
     },
     "metadata": {},
     "output_type": "display_data"
    }
   ],
   "source": [
    "A * Z"
   ]
  },
  {
   "cell_type": "code",
   "execution_count": 83,
   "metadata": {},
   "outputs": [
    {
     "data": {
      "text/plain": [
       "2×3 Matrix{Int64}:\n",
       " 0  0  0\n",
       " 0  0  0"
      ]
     },
     "metadata": {},
     "output_type": "display_data"
    }
   ],
   "source": [
    "A + (-A)"
   ]
  },
  {
   "cell_type": "code",
   "execution_count": 85,
   "metadata": {},
   "outputs": [
    {
     "data": {
      "text/plain": [
       "3×2 adjoint(::Matrix{Int64}) with eltype Int64:\n",
       " 1  4\n",
       " 2  5\n",
       " 3  6"
      ]
     },
     "metadata": {},
     "output_type": "display_data"
    }
   ],
   "source": [
    "A'"
   ]
  },
  {
   "cell_type": "code",
   "execution_count": 91,
   "metadata": {},
   "outputs": [
    {
     "data": {
      "text/plain": [
       "true"
      ]
     },
     "metadata": {},
     "output_type": "display_data"
    }
   ],
   "source": [
    "(A')' == A"
   ]
  },
  {
   "cell_type": "code",
   "execution_count": 88,
   "metadata": {},
   "outputs": [
    {
     "data": {
      "text/plain": [
       "2×3 Matrix{Int64}:\n",
       "  7   8   9\n",
       " 10  11  12"
      ]
     },
     "metadata": {},
     "output_type": "display_data"
    }
   ],
   "source": [
    "B = [7 8 9\n",
    "     10 11 12]"
   ]
  },
  {
   "cell_type": "code",
   "execution_count": 89,
   "metadata": {},
   "outputs": [
    {
     "data": {
      "text/plain": [
       "true"
      ]
     },
     "metadata": {},
     "output_type": "display_data"
    }
   ],
   "source": [
    "(A + B)' == A' + B'"
   ]
  },
  {
   "cell_type": "code",
   "execution_count": 94,
   "metadata": {},
   "outputs": [
    {
     "data": {
      "text/plain": [
       "true"
      ]
     },
     "metadata": {},
     "output_type": "display_data"
    }
   ],
   "source": [
    "(5A)' == 5A'"
   ]
  },
  {
   "cell_type": "code",
   "execution_count": 106,
   "metadata": {},
   "outputs": [
    {
     "data": {
      "text/plain": [
       "true"
      ]
     },
     "metadata": {},
     "output_type": "display_data"
    }
   ],
   "source": [
    "(A .* B)' == B' .* A'"
   ]
  },
  {
   "cell_type": "markdown",
   "metadata": {},
   "source": [
    "## Symbolic Array variables!"
   ]
  },
  {
   "cell_type": "code",
   "execution_count": 108,
   "metadata": {},
   "outputs": [
    {
     "data": {
      "text/plain": [
       "0-dimensional Array{Num, 0}:\n",
       "x₄ˏ₂ˏ₀"
      ]
     },
     "metadata": {},
     "output_type": "display_data"
    }
   ],
   "source": [
    "Symbolics.variables(:x, 4, 2, 0)"
   ]
  },
  {
   "cell_type": "code",
   "execution_count": 114,
   "metadata": {},
   "outputs": [
    {
     "data": {
      "text/latex": [
       "$$ \\begin{equation}\n",
       "2 x\n",
       "\\end{equation}\n",
       " $$"
      ],
      "text/plain": [
       "2x"
      ]
     },
     "metadata": {},
     "output_type": "display_data"
    }
   ],
   "source": [
    "C = x * 2"
   ]
  },
  {
   "cell_type": "code",
   "execution_count": 130,
   "metadata": {},
   "outputs": [
    {
     "data": {
      "text/latex": [
       "$$ \\begin{equation}\n",
       "\\left[\n",
       "\\begin{array}{cccc}\n",
       "\\mathtt{x{{_1}}ˏ{_3}} & \\mathtt{x{{_1}}ˏ{_4}} & \\mathtt{x{{_1}}ˏ{_5}} & \\mathtt{x{{_1}}ˏ{_6}} \\\\\n",
       "\\mathtt{x{{_2}}ˏ{_3}} & \\mathtt{x{{_2}}ˏ{_4}} & \\mathtt{x{{_2}}ˏ{_5}} & \\mathtt{x{{_2}}ˏ{_6}} \\\\\n",
       "\\mathtt{x{{_3}}ˏ{_3}} & \\mathtt{x{{_3}}ˏ{_4}} & \\mathtt{x{{_3}}ˏ{_5}} & \\mathtt{x{{_3}}ˏ{_6}} \\\\\n",
       "\\end{array}\n",
       "\\right]\n",
       "\\end{equation}\n",
       " $$"
      ],
      "text/plain": [
       "3×4 Matrix{Num}:\n",
       " x₁ˏ₃  x₁ˏ₄  x₁ˏ₅  x₁ˏ₆\n",
       " x₂ˏ₃  x₂ˏ₄  x₂ˏ₅  x₂ˏ₆\n",
       " x₃ˏ₃  x₃ˏ₄  x₃ˏ₅  x₃ˏ₆"
      ]
     },
     "metadata": {},
     "output_type": "display_data"
    }
   ],
   "source": [
    "X = Symbolics.variables(:x, 1:3, 3:6)"
   ]
  },
  {
   "cell_type": "code",
   "execution_count": 133,
   "metadata": {},
   "outputs": [
    {
     "data": {
      "text/latex": [
       "$$ \\begin{equation}\n",
       "\\left[\n",
       "\\begin{array}{cccc}\n",
       "2 \\mathtt{x_{1}ˏ_3} & 2 \\mathtt{x_{1}ˏ_4} & 2 \\mathtt{x_{1}ˏ_5} & 2 \\mathtt{x_{1}ˏ_6} \\\\\n",
       "2 \\mathtt{x_{2}ˏ_3} & 2 \\mathtt{x_{2}ˏ_4} & 2 \\mathtt{x_{2}ˏ_5} & 2 \\mathtt{x_{2}ˏ_6} \\\\\n",
       "2 \\mathtt{x_{3}ˏ_3} & 2 \\mathtt{x_{3}ˏ_4} & 2 \\mathtt{x_{3}ˏ_5} & 2 \\mathtt{x_{3}ˏ_6} \\\\\n",
       "\\end{array}\n",
       "\\right]\n",
       "\\end{equation}\n",
       " $$"
      ],
      "text/plain": [
       "3×4 Matrix{Num}:\n",
       " 2x₁ˏ₃  2x₁ˏ₄  2x₁ˏ₅  2x₁ˏ₆\n",
       " 2x₂ˏ₃  2x₂ˏ₄  2x₂ˏ₅  2x₂ˏ₆\n",
       " 2x₃ˏ₃  2x₃ˏ₄  2x₃ˏ₅  2x₃ˏ₆"
      ]
     },
     "metadata": {},
     "output_type": "display_data"
    }
   ],
   "source": [
    "c = X * 2"
   ]
  },
  {
   "cell_type": "code",
   "execution_count": 152,
   "metadata": {},
   "outputs": [
    {
     "data": {
      "text/latex": [
       "$$ \\begin{equation}\n",
       "3 \\left( \\mathtt{x_{1}ˏ_4} + \\mathtt{x_{2}ˏ_4} + \\mathtt{x_{3}ˏ_3} + \\mathtt{x_{3}ˏ_4} \\right)\n",
       "\\end{equation}\n",
       " $$"
      ],
      "text/plain": [
       "3(x₁ˏ₄ + x₂ˏ₄ + x₃ˏ₃ + x₃ˏ₄)"
      ]
     },
     "metadata": {},
     "output_type": "display_data"
    }
   ],
   "source": [
    "c = Symbolics.scalarize( 3 * sum( X[3:6]))"
   ]
  },
  {
   "cell_type": "markdown",
   "metadata": {},
   "source": [
    "**With the subscrite index clear I use substitution and solve any system of lenier equations**"
   ]
  },
  {
   "cell_type": "code",
   "execution_count": 179,
   "metadata": {},
   "outputs": [
    {
     "data": {
      "text/latex": [
       "$$ \\begin{equation}\n",
       "30\n",
       "\\end{equation}\n",
       " $$"
      ],
      "text/plain": [
       "30"
      ]
     },
     "metadata": {},
     "output_type": "display_data"
    }
   ],
   "source": [
    "Symbolics.substitute(c, Dict(X[:4] => 1, X[:3] => 2, X[:5] => 3, X[:6] => 4))"
   ]
  },
  {
   "cell_type": "code",
   "execution_count": 192,
   "metadata": {},
   "outputs": [
    {
     "data": {
      "text/plain": [
       "1-element Vector{Symbolics.Arr{Num, 2}}:\n",
       " A[1:3,4:6]"
      ]
     },
     "metadata": {},
     "output_type": "display_data"
    }
   ],
   "source": [
    "@variables A[1:3 ,4:6 ]"
   ]
  },
  {
   "cell_type": "code",
   "execution_count": 236,
   "metadata": {},
   "outputs": [
    {
     "data": {
      "text/latex": [
       "$$ \\begin{equation}\n",
       "\\mathrm{broadcast}\\left( *, A_{\\left[\n",
       "\\begin{array}{c}\n",
       "1 \\\\\n",
       "2 \\\\\n",
       "3 \\\\\n",
       "\\end{array}\n",
       "\\right],\\left[\n",
       "\\begin{array}{c}\n",
       "4 \\\\\n",
       "5 \\\\\n",
       "6 \\\\\n",
       "\\end{array}\n",
       "\\right]}, 2 \\right)\n",
       "\\end{equation}\n",
       " $$"
      ],
      "text/plain": [
       "(broadcast(*, A[1:3, 4:6], 2))[Base.OneTo(3),Base.OneTo(3)]"
      ]
     },
     "metadata": {},
     "output_type": "display_data"
    }
   ],
   "source": [
    "c = A[1:3, 4:6] * 2 "
   ]
  },
  {
   "cell_type": "code",
   "execution_count": 242,
   "metadata": {},
   "outputs": [
    {
     "data": {
      "text/plain": [
       "3-element Vector{SymbolicUtils.BasicSymbolic}:\n",
       " x\n",
       " y\n",
       " z(t)"
      ]
     },
     "metadata": {},
     "output_type": "display_data"
    }
   ],
   "source": [
    "@variables t x y z(t);\n",
    "\n",
    "Symbolics.get_variables(x + y + sin(z); sort = true)\n",
    "\n",
    "\n"
   ]
  },
  {
   "cell_type": "code",
   "execution_count": 254,
   "metadata": {},
   "outputs": [
    {
     "ename": "UndefVarError",
     "evalue": "UndefVarError: `get_variables` not defined in `Main`\nSuggestion: check for spelling errors or missing imports.",
     "output_type": "error",
     "traceback": [
      "UndefVarError: `get_variables` not defined in `Main`\n",
      "Suggestion: check for spelling errors or missing imports.\n",
      "\n",
      "Stacktrace:\n",
      " [1] top-level scope\n",
      "   @ ~/Documents/linierAlgebra/julia/project_1/Prj_2_combine_maths/jl_notebook_cell_df34fa98e69747e1a8f8a730347b8e2f_Y146sZmlsZQ==.jl:1"
     ]
    }
   ],
   "source": [
    "Symbolics.get_variables(A; sort = true) \n"
   ]
  },
  {
   "cell_type": "code",
   "execution_count": 333,
   "metadata": {},
   "outputs": [
    {
     "data": {
      "text/latex": [
       "$$ \\begin{equation}\n",
       " - a b - a x - 2 a b x - 2 x^{2} a + x^{2} b + x^{3} - x^{2} a b - x^{3} a + 2 x^{3} b + 2 x^{4} + x^{4} b + x^{5}\n",
       "\\end{equation}\n",
       " $$"
      ],
      "text/plain": [
       "-a*b - a*x - 2a*b*x - 2a*(x^2) + b*(x^2) + x^3 - a*b*(x^2) - a*(x^3) + 2b*(x^3) + 2(x^4) + b*(x^4) + x^5"
      ]
     },
     "metadata": {},
     "output_type": "display_data"
    }
   ],
   "source": [
    "@variables x a b\n",
    "expr = Symbolics.expand((x + b)*(x^2 + 2x + 1)*(x^2 - a))"
   ]
  },
  {
   "cell_type": "code",
   "execution_count": 338,
   "metadata": {},
   "outputs": [
    {
     "data": {
      "text/plain": [
       "5"
      ]
     },
     "metadata": {},
     "output_type": "display_data"
    }
   ],
   "source": [
    "A = [1 2; 3 4]\n",
    "\n",
    "\n",
    "tr(A)"
   ]
  },
  {
   "cell_type": "code",
   "execution_count": null,
   "metadata": {},
   "outputs": [
    {
     "data": {
      "text/plain": [
       "2×2 Matrix{Float64}:\n",
       " 1.0      1.41421\n",
       " 1.73205  2.0"
      ]
     },
     "metadata": {},
     "output_type": "display_data"
    }
   ],
   "source": [
    ".√(A)"
   ]
  },
  {
   "cell_type": "markdown",
   "metadata": {},
   "source": [
    "**Buiding function to be used as symbolic or numerical in julia**"
   ]
  },
  {
   "cell_type": "code",
   "execution_count": null,
   "metadata": {},
   "outputs": [],
   "source": [
    "to_compute = [x^2 + y, y^2 + x]\n",
    "f_expr = build_function(expr, [x, A])"
   ]
  },
  {
   "cell_type": "code",
   "execution_count": null,
   "metadata": {},
   "outputs": [],
   "source": [
    "myf = eval(f_expr)"
   ]
  },
  {
   "cell_type": "code",
   "execution_count": null,
   "metadata": {},
   "outputs": [],
   "source": [
    "values(myf([2, 2]))"
   ]
  }
 ],
 "metadata": {
  "kernelspec": {
   "display_name": "Julia 1.11.2",
   "language": "julia",
   "name": "julia-1.11"
  },
  "language_info": {
   "file_extension": ".jl",
   "mimetype": "application/julia",
   "name": "julia",
   "version": "1.11.2"
  }
 },
 "nbformat": 4,
 "nbformat_minor": 2
}
