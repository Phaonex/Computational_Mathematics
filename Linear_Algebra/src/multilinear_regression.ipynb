{
 "cells": [
  {
   "cell_type": "code",
   "execution_count": 43,
   "metadata": {},
   "outputs": [],
   "source": [
    "\n",
    "using Latexify\n",
    "using AbstractAlgebra\n",
    "using LinearAlgebra\n",
    "using GLMakie\n"
   ]
  },
  {
   "cell_type": "code",
   "execution_count": 44,
   "metadata": {},
   "outputs": [
    {
     "name": "stderr",
     "output_type": "stream",
     "text": [
      "WARNING: replacing module linearUtils.\n"
     ]
    }
   ],
   "source": [
    "include(\"mdulos/liner_utils.jl\")\n",
    "using .linearUtils"
   ]
  },
  {
   "cell_type": "code",
   "execution_count": 45,
   "metadata": {},
   "outputs": [
    {
     "data": {
      "text/plain": [
       "true"
      ]
     },
     "metadata": {},
     "output_type": "display_data"
    }
   ],
   "source": [
    "Makie.inline!(true)"
   ]
  },
  {
   "cell_type": "code",
   "execution_count": 46,
   "metadata": {},
   "outputs": [
    {
     "data": {
      "text/plain": [
       "(Multivariate polynomial ring in 15 variables over floats, AbstractAlgebra.Generic.MPoly{BigFloat}[b, m, X, Y, Ŷ, Q, R̂, U, V, W, δ, β, β̂, ℇ, Σ])"
      ]
     },
     "metadata": {},
     "output_type": "display_data"
    }
   ],
   "source": [
    "RR = RealField;\n",
    "RRs, (b, m, X, Y, Ŷ, Q, R̂, U, V, W, δ, β, β̂, ℇ, Σ, ) = polynomial_ring(RR, [:b, :m, :X, :Y, :Ŷ, :Q, :R̂, :U, :V, :W, :δ, :β, :β̂, :ℇ, :Σ,])"
   ]
  },
  {
   "cell_type": "code",
   "execution_count": 47,
   "metadata": {},
   "outputs": [
    {
     "data": {
      "text/plain": [
       "(Multivariate polynomial ring in 4 variables over multivariate polynomial ring, AbstractAlgebra.Generic.MPoly{AbstractAlgebra.Generic.MPoly{AbstractAlgebra.Generic.MPoly{AbstractAlgebra.Generic.MPoly{AbstractAlgebra.Generic.MPoly{AbstractAlgebra.Generic.MPoly{AbstractAlgebra.Generic.MPoly{BigFloat}}}}}}}[w[1], w[2], w[3], w[4]])"
      ]
     },
     "metadata": {},
     "output_type": "display_data"
    }
   ],
   "source": [
    "R, v = polynomial_ring(RRs, :v => (1:4))\n",
    "R, x = polynomial_ring(R, :x => (1:4))\n",
    "R, y = polynomial_ring(R, :y => (1:4))\n",
    "R, ℇ = polynomial_ring(R, :ℇ => (1:4))\n",
    "R, u = polynomial_ring(R, :u => (1:4))\n",
    "R, w = polynomial_ring(R, :w => (1:4))"
   ]
  },
  {
   "cell_type": "code",
   "execution_count": 48,
   "metadata": {},
   "outputs": [],
   "source": [
    "X = R[x ones(1, 4)[:]];\n",
    "Y = y;\n",
    "β = [m; b];\n"
   ]
  },
  {
   "cell_type": "markdown",
   "metadata": {},
   "source": [
    "# MULTILINEAR REGRESSION:\n",
    "\n",
    "LEAST SQUARES"
   ]
  },
  {
   "cell_type": "markdown",
   "metadata": {},
   "source": [
    "## Linear Regression"
   ]
  },
  {
   "cell_type": "code",
   "execution_count": 49,
   "metadata": {},
   "outputs": [
    {
     "data": {
      "text/plain": [
       "AbstractAlgebra.Generic.MPoly{AbstractAlgebra.Generic.MPoly{AbstractAlgebra.Generic.MPoly{AbstractAlgebra.Generic.MPoly{BigFloat}}}}[y[1], y[2], y[3], y[4]] ~ [m*x[1]+b m; m*x[2] b+m; m*x[3] m; m*x[4] m]"
      ]
     },
     "metadata": {},
     "output_type": "display_data"
    }
   ],
   "source": [
    "Y ~ m*X + b"
   ]
  },
  {
   "cell_type": "code",
   "execution_count": 50,
   "metadata": {},
   "outputs": [
    {
     "data": {
      "text/plain": [
       "AbstractAlgebra.Generic.MPoly{AbstractAlgebra.Generic.MPoly{AbstractAlgebra.Generic.MPoly{AbstractAlgebra.Generic.MPoly{BigFloat}}}}[y[1], y[2], y[3], y[4]] ~ AbstractAlgebra.Generic.MPoly{AbstractAlgebra.Generic.MPoly{AbstractAlgebra.Generic.MPoly{AbstractAlgebra.Generic.MPoly{AbstractAlgebra.Generic.MPoly{BigFloat}}}}}[ℇ[1] + m*x[1] + b, ℇ[2] + m*x[2] + b, ℇ[3] + m*x[3] + b, ℇ[4] + m*x[4] + b]"
      ]
     },
     "metadata": {},
     "output_type": "display_data"
    }
   ],
   "source": [
    "Y ~ m.*x .+ b .+ ℇ"
   ]
  },
  {
   "cell_type": "code",
   "execution_count": 51,
   "metadata": {},
   "outputs": [
    {
     "data": {
      "text/plain": [
       "AbstractAlgebra.Generic.MPoly{AbstractAlgebra.Generic.MPoly{AbstractAlgebra.Generic.MPoly{AbstractAlgebra.Generic.MPoly{BigFloat}}}}[y[1], y[2], y[3], y[4]] ~ AbstractAlgebra.Generic.MPoly{AbstractAlgebra.Generic.MPoly{AbstractAlgebra.Generic.MPoly{AbstractAlgebra.Generic.MPoly{AbstractAlgebra.Generic.MPoly{AbstractAlgebra.Generic.MPoly{AbstractAlgebra.Generic.MPoly{BigFloat}}}}}}}[ℇ[1] + m*x[1] + b, ℇ[2] + m*x[2] + b, ℇ[3] + m*x[3] + b, ℇ[4] + m*x[4] + b]"
      ]
     },
     "metadata": {},
     "output_type": "display_data"
    }
   ],
   "source": [
    "Y ~ X*β + ℇ"
   ]
  },
  {
   "cell_type": "code",
   "execution_count": 52,
   "metadata": {},
   "outputs": [
    {
     "data": {
      "text/plain": [
       "AbstractAlgebra.Generic.MPoly{AbstractAlgebra.Generic.MPoly{AbstractAlgebra.Generic.MPoly{AbstractAlgebra.Generic.MPoly{AbstractAlgebra.Generic.MPoly{BigFloat}}}}}[ℇ[1], ℇ[2], ℇ[3], ℇ[4]] ~ AbstractAlgebra.Generic.MPoly{AbstractAlgebra.Generic.MPoly{AbstractAlgebra.Generic.MPoly{AbstractAlgebra.Generic.MPoly{AbstractAlgebra.Generic.MPoly{AbstractAlgebra.Generic.MPoly{AbstractAlgebra.Generic.MPoly{BigFloat}}}}}}}[ℇ[1] + y[1] - 1.0*m*x[1] - 1.0*b, ℇ[2] + y[2] - 1.0*m*x[2] - 1.0*b, ℇ[3] + y[3] - 1.0*m*x[3] - 1.0*b, ℇ[4] + y[4] - 1.0*m*x[4] - 1.0*b]"
      ]
     },
     "metadata": {},
     "output_type": "display_data"
    }
   ],
   "source": [
    "ℇ ~ Y - X*β + ℇ"
   ]
  },
  {
   "cell_type": "markdown",
   "metadata": {},
   "source": [
    "**Gram matrix**"
   ]
  },
  {
   "cell_type": "code",
   "execution_count": 53,
   "metadata": {},
   "outputs": [
    {
     "data": {
      "text/html": [
       "[x[1]^2+x[2]^2+x[3]^2+x[4]^2 x[1]+x[2]+x[3]+x[4]; x[1]+x[2]+x[3]+x[4] 4.0]"
      ],
      "text/latex": [
       "\\begin{array}{cc}\n",
       "\\mathop{\\mathrm{x[1]}}^{2} + \\mathop{\\mathrm{x[2]}}^{2} + \\mathop{\\mathrm{x[3]}}^{2} + \\mathop{\\mathrm{x[4]}}^{2} & \\mathop{\\mathrm{x[1]}} + \\mathop{\\mathrm{x[2]}} + \\mathop{\\mathrm{x[3]}} + \\mathop{\\mathrm{x[4]}} \\\\\n",
       "\\mathop{\\mathrm{x[1]}} + \\mathop{\\mathrm{x[2]}} + \\mathop{\\mathrm{x[3]}} + \\mathop{\\mathrm{x[4]}} & 4.0\n",
       "\\end{array}"
      ],
      "text/plain": [
       "[x[1]^2 + x[2]^2 + x[3]^2 + x[4]^2   x[1] + x[2] + x[3] + x[4]]\n",
       "[        x[1] + x[2] + x[3] + x[4]                         4.0]"
      ]
     },
     "metadata": {},
     "output_type": "display_data"
    }
   ],
   "source": [
    "transpose(X)*X "
   ]
  },
  {
   "cell_type": "markdown",
   "metadata": {},
   "source": [
    "**Normal equations**"
   ]
  },
  {
   "cell_type": "code",
   "execution_count": 54,
   "metadata": {},
   "outputs": [
    {
     "data": {
      "text/plain": [
       "[β̂*x[1]^2+β̂*x[2]^2+β̂*x[3]^2+β̂*x[4]^2 β̂*x[1]+β̂*x[2]+β̂*x[3]+β̂*x[4]; β̂*x[1]+β̂*x[2]+β̂*x[3]+β̂*x[4] 4.0*β̂] ~ AbstractAlgebra.Generic.MPoly{AbstractAlgebra.Generic.MPoly{AbstractAlgebra.Generic.MPoly{AbstractAlgebra.Generic.MPoly{AbstractAlgebra.Generic.MPoly{AbstractAlgebra.Generic.MPoly{AbstractAlgebra.Generic.MPoly{BigFloat}}}}}}}[x[1]*y[1] + x[2]*y[2] + x[3]*y[3] + x[4]*y[4], y[1] + y[2] + y[3] + y[4]]"
      ]
     },
     "metadata": {},
     "output_type": "display_data"
    }
   ],
   "source": [
    "transpose(X)*X .* β̂ ~ transpose(X)*Y  "
   ]
  },
  {
   "cell_type": "markdown",
   "metadata": {},
   "source": [
    "Then if gram matrix is invertable."
   ]
  },
  {
   "cell_type": "code",
   "execution_count": 55,
   "metadata": {},
   "outputs": [
    {
     "data": {
      "text/plain": [
       "false"
      ]
     },
     "metadata": {},
     "output_type": "display_data"
    }
   ],
   "source": [
    "is_invertible(X)"
   ]
  },
  {
   "cell_type": "markdown",
   "metadata": {},
   "source": [
    "Because that our extimator equation will fail but as you can see later we will be able to compute it by change the variables to numerical ones change the field where X is then invertable and have so a gram matrix."
   ]
  },
  {
   "cell_type": "code",
   "execution_count": 56,
   "metadata": {},
   "outputs": [
    {
     "ename": "DomainError",
     "evalue": "DomainError with [x[1]^2+x[2]^2+x[3]^2+x[4]^2 x[1]+x[2]+x[3]+x[4]; x[1]+x[2]+x[3]+x[4] 4.0]:\nMatrix is not invertible.",
     "output_type": "error",
     "traceback": [
      "DomainError with [x[1]^2+x[2]^2+x[3]^2+x[4]^2 x[1]+x[2]+x[3]+x[4]; x[1]+x[2]+x[3]+x[4] 4.0]:\n",
      "Matrix is not invertible.\n",
      "\n",
      "Stacktrace:\n",
      " [1] inv(M::AbstractAlgebra.Generic.MatSpaceElem{AbstractAlgebra.Generic.MPoly{AbstractAlgebra.Generic.MPoly{AbstractAlgebra.Generic.MPoly{AbstractAlgebra.Generic.MPoly{AbstractAlgebra.Generic.MPoly{AbstractAlgebra.Generic.MPoly{AbstractAlgebra.Generic.MPoly{BigFloat}}}}}}}})\n",
      "   @ AbstractAlgebra ~/.julia/packages/AbstractAlgebra/eNeG2/src/Matrix.jl:3632\n",
      " [2] inv\n",
      "   @ ~/.julia/packages/AbstractAlgebra/eNeG2/src/AbstractAlgebra.jl:73 [inlined]\n",
      " [3] ^(a::AbstractAlgebra.Generic.MatSpaceElem{AbstractAlgebra.Generic.MPoly{AbstractAlgebra.Generic.MPoly{AbstractAlgebra.Generic.MPoly{AbstractAlgebra.Generic.MPoly{AbstractAlgebra.Generic.MPoly{AbstractAlgebra.Generic.MPoly{AbstractAlgebra.Generic.MPoly{BigFloat}}}}}}}}, b::Int64)\n",
      "   @ AbstractAlgebra ~/.julia/packages/AbstractAlgebra/eNeG2/src/Matrix.jl:1276\n",
      " [4] literal_pow(::typeof(^), x::AbstractAlgebra.Generic.MatSpaceElem{AbstractAlgebra.Generic.MPoly{AbstractAlgebra.Generic.MPoly{AbstractAlgebra.Generic.MPoly{AbstractAlgebra.Generic.MPoly{AbstractAlgebra.Generic.MPoly{AbstractAlgebra.Generic.MPoly{AbstractAlgebra.Generic.MPoly{BigFloat}}}}}}}}, ::Val{-1})\n",
      "   @ AbstractAlgebra ~/.julia/packages/AbstractAlgebra/eNeG2/src/Matrix.jl:1266\n",
      " [5] top-level scope\n",
      "   @ ~/Documents/linierAlgebra/julia/project_1/src/jl_notebook_cell_df34fa98e69747e1a8f8a730347b8e2f_X64sZmlsZQ==.jl:1"
     ]
    }
   ],
   "source": [
    "β̂ ~ (transpose(X)*X)^-1 * transpose(X)*Y"
   ]
  },
  {
   "cell_type": "markdown",
   "metadata": {},
   "source": [
    "But if we can have QR factorization then we will be able to still evaluate β̂ as you can see by the equations bellow."
   ]
  },
  {
   "cell_type": "code",
   "execution_count": 57,
   "metadata": {},
   "outputs": [
    {
     "data": {
      "text/plain": [
       "AbstractAlgebra.Generic.MPoly{BigFloat}[m*Q^2*R̂^2, b*Q^2*R̂^2] ~ AbstractAlgebra.Generic.MPoly{AbstractAlgebra.Generic.MPoly{AbstractAlgebra.Generic.MPoly{AbstractAlgebra.Generic.MPoly{BigFloat}}}}[Q*R̂*y[1], Q*R̂*y[2], Q*R̂*y[3], Q*R̂*y[4]]"
      ]
     },
     "metadata": {},
     "output_type": "display_data"
    }
   ],
   "source": [
    "transpose(Q*R̂) * Q.*R̂.*β ~ transpose(Q*R̂).*Y"
   ]
  },
  {
   "cell_type": "code",
   "execution_count": 58,
   "metadata": {},
   "outputs": [
    {
     "data": {
      "text/plain": [
       "AbstractAlgebra.Generic.MPoly{BigFloat}[m*Q^2*R̂^2, b*Q^2*R̂^2] ~ AbstractAlgebra.Generic.MPoly{AbstractAlgebra.Generic.MPoly{AbstractAlgebra.Generic.MPoly{AbstractAlgebra.Generic.MPoly{BigFloat}}}}[Q*R̂*y[1], Q*R̂*y[2], Q*R̂*y[3], Q*R̂*y[4]]"
      ]
     },
     "metadata": {},
     "output_type": "display_data"
    }
   ],
   "source": [
    "transpose(R̂) * transpose(Q) * Q.*R̂.*β ~ transpose(R̂) * transpose(Q).*Y"
   ]
  },
  {
   "cell_type": "code",
   "execution_count": 59,
   "metadata": {},
   "outputs": [
    {
     "data": {
      "text/plain": [
       "AbstractAlgebra.Generic.MPoly{BigFloat}[m*R̂^2, b*R̂^2] ~ AbstractAlgebra.Generic.MPoly{AbstractAlgebra.Generic.MPoly{AbstractAlgebra.Generic.MPoly{AbstractAlgebra.Generic.MPoly{BigFloat}}}}[Q*R̂*y[1], Q*R̂*y[2], Q*R̂*y[3], Q*R̂*y[4]]"
      ]
     },
     "metadata": {},
     "output_type": "display_data"
    }
   ],
   "source": [
    "transpose(R̂) * R̂.*β ~ transpose(R̂) * transpose(Q).*Y"
   ]
  },
  {
   "cell_type": "code",
   "execution_count": 60,
   "metadata": {},
   "outputs": [
    {
     "data": {
      "text/plain": [
       "AbstractAlgebra.Generic.MPoly{BigFloat}[m*R̂, b*R̂] ~ AbstractAlgebra.Generic.MPoly{AbstractAlgebra.Generic.MPoly{AbstractAlgebra.Generic.MPoly{AbstractAlgebra.Generic.MPoly{BigFloat}}}}[Q*y[1], Q*y[2], Q*y[3], Q*y[4]]"
      ]
     },
     "metadata": {},
     "output_type": "display_data"
    }
   ],
   "source": [
    "R̂.*β ~ transpose(Q).*Y"
   ]
  },
  {
   "cell_type": "markdown",
   "metadata": {},
   "source": [
    "This equations can then be evaluated as:\n",
    "$$\n",
    "    β = R-^1*Q^T*Y\n",
    "$$"
   ]
  },
  {
   "cell_type": "markdown",
   "metadata": {},
   "source": [
    "Change X and make it orthogonal."
   ]
  },
  {
   "cell_type": "code",
   "execution_count": 61,
   "metadata": {},
   "outputs": [
    {
     "data": {
      "text/html": [
       "[1 1; 2.0 1; 3.0 1; 4.0 1]"
      ],
      "text/latex": [
       "\\begin{array}{cc}\n",
       "1 & 1 \\\\\n",
       "2.0 & 1 \\\\\n",
       "3.0 & 1 \\\\\n",
       "4.0 & 1\n",
       "\\end{array}"
      ],
      "text/plain": [
       "[  1   1]\n",
       "[2.0   1]\n",
       "[3.0   1]\n",
       "[4.0   1]"
      ]
     },
     "metadata": {},
     "output_type": "display_data"
    }
   ],
   "source": [
    "Y = R[2 3 5 5];\n",
    "X = R[1:4 ones(1, 4)[:]]\n"
   ]
  },
  {
   "cell_type": "code",
   "execution_count": 62,
   "metadata": {},
   "outputs": [
    {
     "data": {
      "text/html": [
       "[2.0 3.0 5.0 5.0]"
      ],
      "text/latex": [
       "\\begin{array}{cccc}\n",
       "2.0 & 3.0 & 5.0 & 5.0\n",
       "\\end{array}"
      ],
      "text/plain": [
       "[2.0   3.0   5.0   5.0]"
      ]
     },
     "metadata": {},
     "output_type": "display_data"
    }
   ],
   "source": [
    "Y"
   ]
  },
  {
   "cell_type": "markdown",
   "metadata": {},
   "source": [
    "Gram matrix is now possible as X is orthogonal and invertable.\n",
    "\n",
    "**THEOREM**\n",
    "\n",
    "X\n",
    "TX is invertible if and only if the columns of X are\n",
    "linearly independent.\n",
    "Here’s a logically equivalent statement:\n",
    "X\n",
    "TX is not invertible if and only if the columns of X\n",
    "are linearly dependent."
   ]
  },
  {
   "cell_type": "code",
   "execution_count": 63,
   "metadata": {},
   "outputs": [
    {
     "data": {
      "text/html": [
       "[30.0 10.0; 10.0 4.0]"
      ],
      "text/latex": [
       "\\begin{array}{cc}\n",
       "30.0 & 10.0 \\\\\n",
       "10.0 & 4.0\n",
       "\\end{array}"
      ],
      "text/plain": [
       "[30.0   10.0]\n",
       "[10.0    4.0]"
      ]
     },
     "metadata": {},
     "output_type": "display_data"
    }
   ],
   "source": [
    "transpose(X)*X"
   ]
  },
  {
   "cell_type": "code",
   "execution_count": 64,
   "metadata": {},
   "outputs": [
    {
     "data": {
      "text/html": [
       "[43.0 15.0]"
      ],
      "text/latex": [
       "\\begin{array}{cc}\n",
       "43.0 & 15.0\n",
       "\\end{array}"
      ],
      "text/plain": [
       "[43.0   15.0]"
      ]
     },
     "metadata": {},
     "output_type": "display_data"
    }
   ],
   "source": [
    "R[sum((transpose(X).*Y)[:1, :]) sum((transpose(X).*Y)[:2, :])]"
   ]
  },
  {
   "cell_type": "code",
   "execution_count": 65,
   "metadata": {},
   "outputs": [
    {
     "data": {
      "text/plain": [
       "[2.0 3.0 5.0 5.0] ~ AbstractAlgebra.Generic.MPoly{AbstractAlgebra.Generic.MPoly{AbstractAlgebra.Generic.MPoly{AbstractAlgebra.Generic.MPoly{AbstractAlgebra.Generic.MPoly{AbstractAlgebra.Generic.MPoly{AbstractAlgebra.Generic.MPoly{BigFloat}}}}}}}[ℇ[1] + b + m, ℇ[2] + b + 2.0*m, ℇ[3] + b + 3.0*m, ℇ[4] + b + 4.0*m]"
      ]
     },
     "metadata": {},
     "output_type": "display_data"
    }
   ],
   "source": [
    "Y ~ X * β + ℇ"
   ]
  },
  {
   "cell_type": "code",
   "execution_count": 66,
   "metadata": {},
   "outputs": [
    {
     "data": {
      "text/html": [
       "[0.2000000000000000000000000000000000000000000000000000000000000000000000000000004 -0.5; -0.5 1.5]"
      ],
      "text/latex": [
       "\\begin{array}{cc}\n",
       "0.2000000000000000000000000000000000000000000000000000000000000000000000000000004 & -0.5 \\\\\n",
       "-0.5 & 1.5\n",
       "\\end{array}"
      ],
      "text/plain": [
       "[0.2000000000000000000000000000000000000000000000000000000000000000000000000000004   -0.5]\n",
       "[                                                                             -0.5    1.5]"
      ]
     },
     "metadata": {},
     "output_type": "display_data"
    }
   ],
   "source": [
    "inv(transpose(X)*X)"
   ]
  },
  {
   "cell_type": "code",
   "execution_count": 67,
   "metadata": {},
   "outputs": [
    {
     "data": {
      "text/plain": [
       "β̂ ~ [8.600000000000000000000000000000000000000000000000000000000000000000000000000055 -7.5; -21.5 22.5] ~ [1.100000000000000088817841970012523233890533447265625; 1]"
      ]
     },
     "metadata": {},
     "output_type": "display_data"
    }
   ],
   "source": [
    "β̂ ~ inv(transpose(X)*X).*R[sum((transpose(X).*Y)[:1, :]) sum((transpose(X).*Y)[:2, :])] ~ R[1.1; 1.0]"
   ]
  },
  {
   "cell_type": "markdown",
   "metadata": {},
   "source": [
    "And finaly we have the regression line that will fit out data set."
   ]
  },
  {
   "cell_type": "code",
   "execution_count": 68,
   "metadata": {},
   "outputs": [
    {
     "data": {
      "text/plain": [
       "4-element Vector{AbstractAlgebra.Generic.MPoly{AbstractAlgebra.Generic.MPoly{AbstractAlgebra.Generic.MPoly{BigFloat}}}}:\n",
       " 1.100000000000000088817841970012523233890533447265625*x[1] + 1\n",
       " 1.100000000000000088817841970012523233890533447265625*x[2] + 1\n",
       " 1.100000000000000088817841970012523233890533447265625*x[3] + 1\n",
       " 1.100000000000000088817841970012523233890533447265625*x[4] + 1"
      ]
     },
     "metadata": {},
     "output_type": "display_data"
    }
   ],
   "source": [
    "y = 1.1*x .+ 1.0"
   ]
  },
  {
   "cell_type": "code",
   "execution_count": 69,
   "metadata": {},
   "outputs": [
    {
     "data": {
      "text/plain": [
       "rl (generic function with 1 method)"
      ]
     },
     "metadata": {},
     "output_type": "display_data"
    }
   ],
   "source": [
    "rl(x) = 1.1*x .+ 1.0"
   ]
  },
  {
   "cell_type": "code",
   "execution_count": 70,
   "metadata": {},
   "outputs": [
    {
     "data": {
      "text/plain": [
       "4-element Vector{Float64}:\n",
       " 2.1\n",
       " 3.2\n",
       " 4.300000000000001\n",
       " 5.4"
      ]
     },
     "metadata": {},
     "output_type": "display_data"
    }
   ],
   "source": [
    "rl([1, 2, 3, 4])"
   ]
  },
  {
   "cell_type": "code",
   "execution_count": 71,
   "metadata": {},
   "outputs": [
    {
     "data": {
      "image/png": "[encoded data removed]",
      "text/html": [
       "<img width=600 height=450 style='object-fit: contain; height: auto;' src=\"data:image/png;base64, iVBORw0KGgoAAAANSUhEUgAABLAAAAOECAIAAAA+D1+tAAAABGdBTUEAALGPC/xhBQAAAAFzUkdCAK7OHOkAAAAgY0hSTQAAeiYAAICEAAD6AAAAgOgAAHUwAADqYAAAOpgAABdwnLpRPAAAIABJREFUeAHswQd83XWh///395zPyU6zV5OmbdYpFApllUIpdCaoeL2Xnxu9XFBAVEQQmZllC4iC8yqoqNzrwnlJultmC4WW1Z6stmmSZu+dnPP96/fx4PHXBxYZTXtyzuv5NLZtCwAAAAAQfowAAAAAAGHJCAAAAAAQlowAAAAAAGHJCAAAAAAQlowAAAAAAGHJCAAAAAAQlowAAAAAAGHJCAAAAAAQlowAAAAAAGHJCAAAAAAQlowAAAAAAGHJCAAAAAAQlowAAAAAAGHJCAAAAAAQlowAAAAAAGHJCAAAAAAQlowAAAAAAGHJCAAAAAAQlowAAAAAAGHJCAAAAAAQlowAAAAAAGHJCAAAAAAQlowAAAAAAGHJCAAAAAAQlowAAAAAAGHJCAAAAAAQlowAAAAAAGHJCAAAAAAQlowAAAAAAGHJaIZ79dVX9aa0tDQBAAAAwMzX2dlp27Yky7JOPvlkTQ+jGc627cWLF0tKSUlxuVwCAAAAgJkvEAh0d3dL2r17t6aNEaZHIBCQ5HK5BCB0BQIBSS6XSwBCVyAQkORyuQQgdAUCAUkul0thxmiGsywrJSVF0qZNm9LS0hQcbNvu6Ojw+/3p6enGGAEIRbZtt7e327adkZHhcrkEIBQFAoH29nbLsjIyMizLEoBQNDU11dHR4Xa709PTLctScOjs7Fy1apWmmdEMl5aW5nK5JKWlpWVmZio42A6/35+RkeHxeAQgFAUctm1nZGS43W4BCEV+vz8QCFiWlZGR4XK5BCAUTU5O2rbtdrszMzMty1LQcLlcktLS0jRtjAAAAAAAYckIAAAAABCWjAAAAAAAYckIAAAAABCWjAAAAAAAYckIAAAAABCWjAAAAAAAYckIAAAAABCWjAAAAAAAYckIAAAAABCWjAAAAAAAYckIAAAAABCWjAAAAAAAYckIAAAAABCWjAAAAAAAYckIAAAAABCWjAAAAAAAYckIAAAAABCWjAAAAAAAYckIAAAAABCWjAAAAAAAYckIAAAAABCWjAAAAAAAYckIAAAAABCWjAAAAAAAYckIAAAAABCWjAAAAAAAYckIAAAAABCWjAAAAAAAYckIAAAAABCWjAAAAAAAYckIAAAAAMLYob6xrqHJnAS3wo8RAAAAAISrP77eVvrkvpNTI+5eM0/hxwgAAAAAwk/3yMS9mxsefmb/yIT/jXZrSU78l2ZnKcwYAQAAAECY2dbQXVbt297YLUd2fIQtBWzbbVkKJ0YAAAAAEDZGJvwPPb3/3i0NPSMTkizp4kWZV5+a6E2LdVmWwowRAAAAAISH3S39ZTW+P73eLkdmfOTNqwovO2N2b1eHwpIRAAAAAIS6qYD9yI6m2zfWHeoblWOtN62qxLskN2lyclLhyggAAAAAQlpD93Dl+tpf7GoJ2LakWVHmq8vzrjs/f1aUUXgzAgAAAIAQZUu/3tNaUePb2z4kx5LcpKoS71pvmiAZAQAAAEAoahscv2tT3Q+eOzg+FZAUaVxXLp1786rCzPhIwWEEAAAAACFnva+zrNq3o6lXjhMy4iqKvR89ZbYl/P+MAAAAACCEDIxNPbCt4ZvbGwfGpiS5LOuS07PL1hblp8QK/8gIAAAAAELFjqbesid962s75ZiTGH3b6sLLluQalyW8hREAAAAAzHzjU4HvP3fw7k11bYPjcly0MKOq2HtqdoJwBEYAAAAAMMPtbR8qr/H9Zk+rrb9Jjon4+or8Ly+bHxPhFo7MCAAAAABmrIBt/3xXS9X62obuYTmW56WsK/Euz08R/hUjAAAAAJiZDvWN3r6h7pGdTVMBW1JMhPvLy+bfsCI/JSZCeAeMAAAAAGAG+tPr7WXV+3a3DshxyuxZVSXeDy/MFN4xIwAAAACYUbpHJr6xpeGhp/ePTPglGZd12Vm5t60pnJMYLbwbRgAAAAAwc2xv7C590re9sVuO/JSYsrXeS07PdlmW8C4ZAQAAAMBMMDLhf+jp/d/Y0tA9MiHJkv7fKbMriotOzIgX3hMjAAAAAAh6u1sHyqv3/fH1djky4iNvXlVw1dJ5kcYlvFdGAAAAABDEpgL2Izubbt9Qd6hvVI41RWnrSrxL5iYJ748RAAAAAASrhu6RqvW+n+9qCdi2pFlR5qvL8647P39WlBHeNyMAAAAACD629Js9reU1tXvbB+U4KzdxXcmCtd404SgxAgAAAIAg0z44ftemuu8/d3B8KiAp0riuXDr35lWFmfGRwtFjBAAAAADBZENtZ2m1b8fBXjlOSI+rKPZ+9NTZlnCUGQEAAABAcBgYm/rm9sYHtjUMjE1JclnWp0/LLl9blJ8aK0wDIwAAAAAIAjub+kqr9633dcqRkxh92+rCy5fkGpclTA8jAAAAADiuxqcCP3ju4F2b6toGx+W46MSMyhLv4uwEYToZAQAAAMDxs7d9qGK979e7W239TXKM54YVBV9eNj82wi1MMyMAAAAAOB4Ctv2LXS2VG2obuoblOC8vZV2J9/z8FOGYMAIAAACAY+5Q3+gdG+t+vKNpKmBLivG4v7Rs/tdX5KfERgjHihEAAAAAHFt/er29rMa3u6VfjlNmz6os8f7bwkzh2DICAAAAgGOlZ2TiG1saHnp6//CEX5JxWf911pzb1hTlJkYLx5wRAAAAABwTTzV2l1b7tjV0y5GXElO2tugzp+e4LEs4HowAAAAAYJqNTPoffnr/vVsauocnJFnSxadkVRZ7T8yIF44fIwAAAACYTntaB8qqfX98vU2OjPjIm1YWfOGceZHGJRxXRgAAAAAwPaYC9qM7m27fUNfUNyrHmqK0qhLv2XOThCBgBAAAAADToLF7pGp97WO7mgO2LWlWpLn2/Lzrzs9PiDJCcDACAAAAgKPKln6zp7WipvaN9kE5zspNrCpZUOxNE4KJEQAAAAAcPe2D43dtrv/+swfGpwKSIozryrPn3rKqMHNWpBBkjAAAAADgKNlQ21lW7Xv+YK8cC9LjKoq9HztltmUJQcgIAAAAAN63gbGpB7c3PrCtoX9sSpLLsj51Wnb52qKC1FghWBkBAAAAwPuzs6mvrHpfja9TjpyEqFvXFF1+Vq7HbQlBzAgAAAAA3qvxqcAPnz9458a6tsFxOT50YkZViXdxdoIQ9IwAAAAA4D3Z1zFUUeP71e5WW3+THOP52gUF15w3PzbCLcwERgAAAADwLgVs+xcvtVStr63vGpbjvLzkqpIFF+SnCDOHEQAAAAC8G819o7dvrHtkZ9Ok35YU43F/cdm8r68oSI2NEGYUIwAAAAB4x/78RntZte/lln45Fs2eVVXs/beTMoUZyAgAAAAA3oGekclvbK1/6Kn9wxN+ScZlXXrmnNI1RblJ0cLMZAQAAAAA/8pTjT2l1fu2NXTLkZcSU7am6JIzctyWJcxYRgAAAABwZCOT/oef3n/vlobu4QlJlnTxoqyKYu/CzHhhhjMCAAAAgCPY0zpQXuP7w2ttcqTHRd68quCqc+ZFGZcw8xkBAAAAwFtMBexHdx66fWNtU++oHKuL0taVeM+emySECiMAAAAA+EeN3SNVG2ofe7E5YNuS4iPNV5fnXXdBXkKURwghRgAAAADwJlv67SuHy6t9b7QPynHmnMR1Jd7iBelCyDECAAAAAEf74Pjdm+u//+yBsamApAi368qlc29eVZg1K1IIRUYAAAAAIG2s7Syt9j1/sFeOBelxFcXej50y27KEUGUEAAAAILwNjk99c1vjA9sa+8cmJbks61OnZZevLSpIjRVCmhEAAACAMPZCU19pta/G1yFHTkLUrauLLl+S63FbQqgzAgAAABCWJvyBHzx38K5NdYcHxuX40IkZlSXe07IThPBgBAAAACD87OsYqqjx/WpPq23rr5JiPDdckH/NeXmxEW4hbBgBAAAACCcB2/7lSy2V62vru4blWDY/ed2FCy7ITxHCjBEAAACAsNHcP3bHhtof72ya9NuSoj3uLy2b9/UVBamxEUL4MQIAAAAQHv78RntZte/lln45FmXNqizxfuSkTCFcGQEAAAAIdT0jk/dtbfj2U43DE35JxmVdeuac29YUzU2KFsKYEQAAAICQ9vT+ntIn921t6JZjfnJM2dqiz5yR47YsIbwZAQAAAAhRo5P+h58+cO+W+q7hCTkuXpRVWexdmBkvQDICAAAAEIpeaR0oq/H94bU2OdLjIm9aVfCFc+ZFGZcAhxEAAACA0DIVsH/ywqF1G2qbekflWFWYuu7CBUvnJgn4O0YAAAAAQsj+npGq9bWPvdjst21J8ZHm2uV515+flxDtEfCPjAAAAACEBFv63SuHy2t8r7cNynHmnMSqEm/JgnQB/4wRAAAAgJmvY2j87k3133v2wNhUQFKE23XF0rm3rCrImhUl4AiMAAAAAMxwG+u6yp7c99zBXjm86XEVa4s+fmq2ZQl4G0YAAAAAZqzB8akHtzfev7Wxf2xSksvSJxfnlBcXFabGCvhXjKbf+Ph4IBDQEViWFRUVJQAAAADv0guH+sqqfdX7OuTIToi6dXXh55bketwuAe+A0fS74oorNm/erCM466yzfvvb3woAAADAOzbhD/zwuYN3bqo/PDAmxwdPyKgq8Z6WkyDgHTOaZn6/f+/evc3NzTqCE044QQAAAADeMV/HUMX62v/d3WLb+qukaM/XVuR/5by82Ai3gHfDaJoNDg62trZK+tznPpeYmKi3SEhIEAAAQFAK2PbwRMByWbYtIBgEbPvxl1oq19fWdQ3LsWx+clWJd0VBqvBeBWx7eCJgjGVLlsKL0TTr6urq6emxLOtTn/rUihUrBAAAMBN0Dk38fFfzH19va+wasiwVpDV/5KTMT5+ekxTtEXCctPSP3b6x7sc7Dk76bUnRHvcXz51348qC1NgI4T1pHRh77MXmP7/RdrB72O2yijKaL16U9cnF2fGRRuHBaJo1NzePjo5GR0fPnTtXAAAAM8FzB3u/9LtXX2ru15sO9o1vquv65cst3/mPkxdnJwg45v7yRntZje+l5n45FmXNqizxfuSkTOG92lLfdc0Tr73WNqg3HejrXO/r/J+XWx/+j5NOzIhXGDCaZg0NDZJSU1PT0tIEAAAQ9Pa2D/3n4y/XdQ7rLZ470Pufj+/+w2Vnzk+OEXCs9I5M3re14VtPNQ5P+CW5XdalZ84pXVM0NylaeK9eau6/9PHdTX2jeost9V3/9T+7f/9fZ2bNilKoM5pm9fX1knJycoaHh7du3frKK69MTk4mJiYuXrx4yZIlUVFRAgAACBq2tG5DbV3nsI7g1cMDd2+q/8FHFwk4Jp7e31NavW9rfbcc85NjStcWffb0HLfLEt4rf8CuqPE19Y3qCHY29T2wrfEbF52oUGc0zRoaGiSlpqaWlJS88sortm3L4XK5li5dWllZuWrVKgEAAASHus6h/9vbrrf1+9fabltTOCcxWsB0Gp30f+eZA/dsru8anpDj4kVZlcXehZnxwvuz5/DAxrouva1f72m9cWVBamyEQprRdPL7/Y2NjZL+9Kc/GWMWL16clZUlad++fQ0NDc8888zHPvaxxx577AMf+ICOrK2trbKyUkcwMjISCAQsy+rr64uIiFBwsG27r6/P7/dHRER4PB4BCEWBQKCvr8+27cjISLfbLQAh4YWGnv6xKb2tzqHxlxrbYuclCJg2b3QM37X90P/5uuVIjfF85Zycy0/PjDSTPT09wvuzo75jdNKvt9XcP7Z7f9tps+N0nPT19dm2bVmWppPRdBoaGmptbZWUnp7+3e9+96KLLoqIiJDU39//05/+9Oabb+7p6bnuuuvOPPPMtLQ0HdkTTzzR3t6ufyYtLU2SbdtDQ0PR0dEKGsPDw36/f2hoyBgjAKHItu3h4WHbtoeGhlwulwCEhM7+If0rttTZPzQ46BIwDfwB+zd7e7+9s6NlcEKOc+fEXX925mlZMROjwxPCUdDRP6x/xR+wu/oHB+NtHSdDQ0O2bVuWpelkNJ1GRkYuueQS27YvvPDClStX6k0JCQnXXHPNwMBAaWmpz+d74oknrrjiCh1ZRUWFjmBgYOC+++6zLCspKSklJUXBwbbtiYkJv9+fnJzs8XgEIBQFAoGJiQnbtpOTk91utwCEhNx0SYf0tlyWlZuelJKSKOBoO9g7dvdTBx7f3ea3bUlxEe4vLp3z5XPmJEQZ4eiZm+aXWvW2ItyuOenJKSnxOk6mpqYsy9I0M5pOWVlZ9957r47gsssue+ihhzo6OrZs2XLFFVfoCDIzM6+66iodQVtb2wMPPCApNjY2Li5OwcG27djYWL/fHxcX5/F4BCAUBQKB2NhY27bj4uLcbrcAhIQz57sz4yPbBsd1ZHOTohfPS4+LjRBwVP32lcPlNb7X2wblOGNOYlWJ98IF6cLRtjRfSdG1vaOTOrLCtNhFuWlxkUbHydDQkGVZmmZGx09mZua8efM6OjoOHjwoAACAIDAnMfqTp2V/c1ujjuyzZ+SkxUYIOHo6hsbv3lz/vWcOjE0FJEW4XZ8/O/eW1YWzZ0UJ08CbHnfxoqwf7WjSkV12Vm58pFGoMzp+XC6XZVmSLMsSAABAcLhpZcGuQ/3bG7v1z5QsSL92eZ6Ao2dTXVdp9b7nDvTK4U2LKy8u+sSp2ZYlTJ+ytUV7WgdeONSnf+biRVlXLZ2rMGA0nb71rW/19fVFR0ffcMMNlmXpH42Pjw8PD0vKzc0VAABAcEiPi/z5pxdf98c3nnj1sD9g600et+sTp86+96ITE6M9Ao6GwfGpB7c3PrCtsW90UpLL0icXZ5ev9RamxQrTbE5i9C8vOe26P7z+l70dAdvWm6KM67NnzrnrAyfERLgVBoym08TEREVFRXx8/IUXXnjyySfrH+3Zs6eurk7S8uXLBQAAEDTmJEY/fslpm+u6/vxG26vNPS5Lp8xJvWhhxvn5KS7LEnA0vHior7TaV72vQ47shKhbVxd+bkmux+0SjomC1NjfXHrGBl/nX95oe7211+N2nTY39cMLM8+dn2wpXBhNpw9+8IN33nlnX19fWVnZz372s/j4eL2ps7OzrKxsfHw8JyfnoosuEgAAQDAxLmutN21VQfLhw4cty8rKynK5XAKOhgl/4IfPN925se7wwJgcHzghvapkwek5CcKxFeF2ffDEjLWFyW1tbW63Oysry7IshROj6XTiiSdefvnl999//+9///sPf/jDn//850844YSRkZE9e/Y88sgju3btcrvdt912W05OjgAAAIAw4OsYqlhf+7+7W2xbf5UU7fnaBfnXnDc/LtIIOOaMpllFRUV7e/svfvGLrQ6Xy2U7JCUkJFRUVFx55ZUCAAAAQl3A1uMvt1Su99V1Dstx7vzkdSXeFQWpAo4To2kWFxf36KOPfuhDH/rlL3+5Z8+evr4+Y0xmZuby5cuvuOKKU089VQAAAECoa+kfu2Nj3Y92NE36A5KiPe6rz51348qCtNgIAceP0fQzxnzcMTw8PDQ0ZFlWQkJCZGSkAAAAgDDwl73tZdW+l5r75Tg5a1ZlsfffT84UcLwZHUOxDgEAAADhoXd08r6tDd/evn9oYkqS22Vdesac0rVFc5OiBQQBIwAAAADT4Jn9PaXVvi31XXLMS44pW1P02TNy3C5LQHAwAgAAAHBUjU76v/PMgXs213cNT8jxHydnVZZ4T8qMFxBMjAAAAAAcPa8eHiiv8T3xapscaXERN60svPqcuVEet4AgYwQAAADgaPAH7J+8cGjdhtqDvaNyrCxMXVfiPWdesoCgZAQAAADgfdvfM7JuQ+3PXmz2B2xJcZHm2vPmX39BfmK0R0CwMgIAAADw/vzulcPlNb7X2gblOGNOYlWJ98IF6QKCmxEAAACA96pjaOKezXXfffbA2GRAUoTb9fmzc29ZXTh7VpSAoGcEAAAA4D3ZVNdVVr3v2QO9chSlxVUUF33i1GzLEjAjGAEAAAB4l4bGpx7cvv/+bQ19o5OSLEufXJxdvtZblBYrYOYwAgAAAPBuvHior6za9+S+DjlmJ0Tduqrw82fnetwuATOKEQAAAIB3ZsIf+O/nm+7cWNc6MCbHB05IrypZcHpOgoAZyAgAAADAO1DbOVRRU/s/u1tsW3+VGO352gX5XzlvflykETAzGQEAAAB4W7atx19uqVzvq+0cluPceclVF3pXFqQKmMmMAAAAABxZS//YnRvr/ntH06Q/ICna47763Hk3rihIi4sQMMMZAQAAADiC/9vbUVa9b1dzvxwnZ8VXFnv//eQsASHBCAAAAMBb9I5O3r+14VtP7R8an5Lkdln/ecac0jWF85JjBIQKIwAAAAD/6Jn9PaXVvi31XXLMS44pXVP4n2fMcbssASHECAAAAMCbRif9333mwD2b6zuHJ+T495Ozqoq9J2XFCwg5RgAAAAAcrx4eKK+pfeLVw3KkxUXcuLLg6nPmRXvcAkKREQAAABD2/AH7py8eWreh7kDPiBwrC1KrLvSeOy9ZQOgyAgAAAMLbgZ6RdRtqf/pisz9gS4qLNF85b/7XLshPjPYICGlGAAAAQBj73auHy6t9r7UNynF6TkJVyYIPnJAuIAwYAQAAAGGpc2jins3133n2wNikX5LH7fr82bm3riqcnRAlIDwYAQAAAOFnc11XabXv2QM9chSlxZav9X5ycbZlCQgfRgAAAEA4GRqf+tZT++/b2tA3OinJsvSJU7MriouK0uIEhBkjAAAAIGzsau4rrfY9ubdDjtmzom5ZXfj5s3Mj3C4B4ccIAAAACAMT/sCPnm+6Y2Nd68CYHBeekF5V7D1jTqKAcGUEAAAAhLrazuHK9b7HX26xbf1VYrTn+gvyrz1vflykERDGjAAAAIDQZdt6/OWWyvW+2s5hOc6Zl7yuxLuyMFVA2DMCAAAAQlTrwNgdG+t+9HzThD8gKcrjvvqcuTetLEyLixAAyQgAAAAIRf+3t6Os2reruU+OkzLjK0u8/3FylgC8yQgAAAAILX2jk/dtbfjWU/uHxqckuV3WZ8/IKVtTNC85RgD+jhEAAAAQQp490FNa7dtc1yXH3KSYsrWF/3nGHLfLEoB/ZAQAAACEhLFJ/3eePXDP5vrOoQk5/v3kzMpi78lZswTgnzECAAAAZr7X2gbLq32/e/WwHGmxETeuLLj63HnRHrcAHIERAAAAMJP5A/ZPX2xet6H2QM+IHCsKUteVeM+dnywAb8sIAAAAmLEO9Iys21D30xcP+QO2pLhIc8158792QX5StEcA/hUjAAAAYGZ64tXD5TW1rx4ekOP0nISqkgUfOCFdAN4ZIwAAAGCm6RyauGdL/XefOTA66Zfkcbs+tyT31tWF2QlRAvCOGQEAAAAzyub6rrJq3zP7e+QoTIutWOv9xOJslyUA74oRAAAAMEMMjU9966n9929t6B2dlGRZ+sSp2eXFRd60OAF494wAAACAmWBXc39Z9b7/29shx+xZUbesLvz82bkRbpcAvCdGAAAAQHCb9Af+e0fTnRvrWvrH5LhwQXpVifeMOYkC8D4YAQAAAEGstnO4cr3v8ZdbbFt/lRjtuf78vK8sz4uPNALw/hgBAAAAQcm29T+7Wypqams7h+Q4Z15SVcmCVYWpAnA0GAEAAADBp3Vg7M6Ndf/9fNOEPyApyriuPnfejSsL0uMiBeAoMQIAAACCzJP7OsqqfS8e6pPjpMz4imLvxYuyBOCoMgIAAACCRt/o5P3bGh7cvn9ofEqS22V99vSc0rVF85NjBOBoMwIAAACCw7MHesuq922q65JjblJ06ZqiS8+c43ZZAjANjAAAAIDjbWwy8N1nD9yzua5jaEKOj5yUWVXiPTlrlgBMGyMAAADguHqtbbC8xve7Vw7LkRobcePKgi+eOy/a4xaA6WQEAAAAHCf+gP2zF5vXbajd3zMix4qC1KoS77L5yQIw/YwAAACA4+Fg7+i6DbU/eeGQP2BLiotwX3Ne3tdW5CdFewTgmDACAAAAjrknXm0rr/G9enhAjtNyEqpKvB88IUMAjiEjAAAA4BjqGp64Z3P9d545MDrpl+Rxuz63JPfW1YXZCVECcGwZAQAAAMfKlvqu0mrfM/t75ChMjS0vLvrk4hyXJQDHnhEAAAAw/YYmpr69ff99Wxt6RyclWZY+fmp2xdoib3qcABwnRgAAAMA0e6m5v6za95e97XJkzYq6ZVXBFUvnRrhdAnD8GAEAAADTZtIf+NGOpjs21rX0j8lRsiC9qsR75pxEATjejAAAAIDpUdc5XLne9/jLLQFbf5UQ7bn+/Lxrl+fFRxoBCAJGAAAAwNFm2/rf3S0V62t9HUNyLJ2XtK5kwarCVAEIGkYAAADAUXV4YOzOjXU/fL5pwh+QFGVcXzhn3k2rCtLjIgUgmBgBAAAAR0/1vo7Sat+Lh/rkWJgZX1nsvXhRlgAEHyMAAADgaOgbnXxgW+OD2xsHx6ckuS3rM2fklK0tmp8cIwBByQgAAAB435470FtavW9TXZccc5Oib1tTdOmZc4zLEoBgZQQAAAC8D2NTge89c+DuzfUdQ+NyfOSkzMoS76KsWQIQ3IwAAACA9+r1tsHyGt9vXzksR2psxNdXFHxp2bxoj1sAgp4RAAAA8O75A/Zju5qr1tfu7xmR44L8lHUXLlg2P1kAZggjAAAA4F062Du6bkPtT1445A/YkmIj3Necl3fDBflJMR4BmDmMAAAAgHfj96+1lVf7Xjk8IMdp2QlVJd4PnpghADONEQAAAPDOdA1P3LO5/jvPHBid9EvyuK3Ll+TeurooJyFKAGYgIwAAAOAd2FrfXVq97+n9PXIUpMaWry361GnZLssSgJnJCAAAAHhbwxP+bz3VeN/Wht6RSUmWpY+fMru82LsgPU4AZjIjAAAA4Mheau4vq/H95Y12ObJmRd6yqvCKpXMj3C4BmOGMAAAAgH9m0m//eMfB2zfWtfSPyVGyIL2qxHvnLhNHAAAgAElEQVTmnEQBCAlGAAAAwFvUdQ1Xrq99/KWWgG1LSojyXHdB3leX58VHGgEIFUYAAADA37Ft/e/ulor1tb6OITnOnpu0rsS7uihNAEKLEQAAAPCmwwNjd26q/+FzByf8AUlRxnXVOfNuXlWQHhcpACHHCAAAAHBU7+soq/a9cKhPjoWZ8RXF3osXZVkCEJqMAAAAEPb6xybv39r44PbGwfEpSW7LuuSMnLI1RXkpMQIQuowAAAAQ3p472Fv25L6NdV1y5CZFl64puvTMOcZlCUBIMwIAAEC4GpsKfO/ZA3dvqu8YGpfj307KrCr2Lpo9SwDCgBEAAADC0uttgxU1vt++ctjW36TGRnx9RcEXl82L8bgFIDwYAQAAIMz4bfuxF5ur1tfu7xmR44L8lKqSBeflJQtAODECAABAOGnqHV23ofYnLxyaCtiSYiPc15w3/2sXFCTHeAQgzBgBAAAgbPzhtbayGt8rrQNyLM5OqCrxfujEDAEIS0YAAAAIA13DE/duqX/46QOjk35JHrd1+Vm5t64pykmIEoBwZQQAAIBQt7Whu/TJfU/v75GjIDW2fG3Rp07LdlmWAIQxIwAAAISu4Qn/t59qvG9rQ8/IpCTL0sdOmV1R7F2QHicAYc8IAAAAIerllv6yat+f32iXI3NW5C2rCq88e26EcQkAJCMAAACEnEm//eOdTXdsqG3uH5Oj2JtWVbLgrNxEAcCbjAAAABBa6ruGK9fX/vKlloBtS0qIMtedn3/t+XmzIo0A4O8YAQAAIFTYtn61p7WixrevY0iOs+cmVZV41xSlCQDewggAAAAh4fDA+F2b6n7w/MGJqYCkSOP6wjnzblpZkBEfKQD4Z4wAAAAw89X4OkqrfS809clxYkZ8ZbH34lOyLAHAERkBAABgJusfm3xgW+M3tzUOjk9JclnWZ07PKVtblJcSIwB4W0YAAACYsZ4/2Fta7dtY2ylHbmL0bWuK/uusOcZlCQD+FSMAAADMQONTge89e+DuzfXtg+Ny/NvCzMoS7ymzZwkA3hkjAAAAzDRvtA+W1/h+u+ewrb9JiY34+or8Ly2bH+NxCwDeMSMAAADMHAHbfuzF5qoNtY3dI3Kcn5+yrmTBeXnJAoB3yQgAAAAzRFPv6O0bax/deWgqYEuKjXB/edn8G1YUJMd4BADvnhEAAABmgj+81lZe49vTOiDH4uyEyhLvRSdmCADeKyMAAAAEt+7hiXu3NDz89P6RSb8k47IuX5J72+rCnMRoAcD7YAQAAIAgtq2hu7R631ONPXIUpMaWrS369GnZLssSALw/RgAAAAhKwxP+h57e/40t9T0jk5Is6aOnzq4o9p6QHicAOBqMAAAAEHxebukvq/b9+Y12OTLjI29eVXjl0rmRxiUAOEqMAAAAEEwm/fYjO5tu31jX3Dcqx1pv2rqSBWflJgoAjiojAAAABI36ruGq9bW/eKklYNuSEqLMV8/P/+ryvFlRRgBwtBkBAAAgCNjSr3a3VtT49nUMybFkbtK6Eu+aojQBwPQwAgAAwPHWNjh+58a6Hz5/cHwqICnSuK5aOu/mVQUZ8ZECgGljBAAAgOOqxtdZVr1vZ1OfHCdmxFcUF/2/U2ZbAoDpZQQAAIDjpH9s6oFtDQ9ubxwYm5LksqxLTs8uW+vNT4kRAEw/IwAAABwPzx/sLav2bajtlGNOYvRtawovOyvXuCwBwDFhBAAAgGNrfCrw/WcP3LW5vn1wXI4PL8ysKvGeMnuWAOAYMgIAAMAx9Eb7YEVN7W/2tNr6m5SYiBtW5H952fyYCLcA4NgyAgAAwDERsO3HdjVXra9t7B6RY3l+yroS7/K8FAHA8WAEAACA6dfUN3r7hrpHdzZNBWxJMRHuLy+b//UV+ckxEQKA48QIAAAA0+yPr7eVVfv2tA7IcWp2QlWx96KFGQKA48oIAAAA06Z7eOLeLQ0PP7N/ZMIvybisy5bk3ra6cE5itADgeDMCAADA9NjW0F1W7dve2C1Hfkps2dqiS07PdlmWACAIGAEAAOBoG57wP/T0/m9saegZmZBkSR89ZXZFsfeEjDgBQNAwAgAAwFG1u6W/rMb3p9fb5ciMj7x5VeGVS+dGGpcAIJgYAQAA4CiZCtg/3tF0x8a6Q32jcqz1plWVeJfkJgkAgo8RAAAAjoaGruHKDbW/2NUSsG1Js6LMdefnf3V53qwoIwAISkYAAAB4f2zp17tbK9b79rYPybEkN6mqxLvWmyYACGJGAAAAeB/aBsfv2lT3g+cOjk8FJEUa15VL5968qjAzPlIAENyMAAAA8F6t93WWVu/b2dQnxwkZcRXF3o+eMtsSAMwARgAAAHj3BsamHtjW8M3tjQNjU5JclnXJ6dlla4vyU2IFADOEEQAAAN6lHU29pU/6NtR2yjEnMfq21YWXLck1LksAMHMYAQAA4B0bnwp8/7mDd22qax8cl+OihRlVxQtOzZ4lAJhpjAAAAPDO7G0fKq/x/WZPq62/SYmJuGFF/peXzY+JcAsAZiAjAAAA/CsB2/75i81V630N3SNyLM9LWXehd3leigBgxjICAADA22odnKh89rVHdx6aCtiSYiLcX142/4YV+SkxEQKAmcwIAAAAR7ahsf/+Zw+/3jkqx6mzZ1WWeD+8MFMAMPMZAQAA4J/pHpm4Z1Pdw88cGJ0MSDIu67Kzcm9bUzgnMVoAEBKMAAAA8BbbG7tLn/Rtb+yWIy8lpnyt95LTs12WJQAIFUYAAAD4OyMT/oee3v+NLQ3dIxOSLOmDRUl3f3jRwqxZAoDQYgQAAIA37W4dKK/e98fX2+XIiI/8wulpnz0lbW5GnAAg5BgBAABAmgrYj+xsun1D3aG+UTnWFKVVrC3M9YxaliUACEVGAAAAYa+he7hqfe3Pd7UEbFvSrCjz1eV5152fH+uxDh8eFQCEKCMAAIAwZku/2dNaXuPb2z4kx1m5ietKFqz1pkny+/0CgNBlBAAAEK7aB8fv2lT3/ecOjk8FJEUa15VL5968qjAzPlIAEAaMAAAAwtKG2s7SJ307mnrlOCE9rqLY+9FTZ1sCgHBhBAAAEGYGxqa+ub3xgW0NA2NTklyW9enTssvXFuWnxgoAwokRAABAONnR1FdWvW+9r1OOnMTo21YXXr4k17gsAUCYMQIAAAgP41OBHzx38K5NdW2D43JcdGJGZYl3cXaCACAsGQEAAISBve1DFet9v97dautvkmM8N6wo+PKy+bERbgFAuDICAAAIaQHb/sWulsr1tQ3dw3Kcl5eyrsR7fn6KACC8GQEAAISuQ32jd2ys+/GOpqmALSnG4/7SsvlfX5GfEhshAAh7RgAAACHqT6+3l9X4drf0y3HK7FlVJd4PL8wUAMBhBAAAEHJ6Ria+saXhoaf3D0/4JRmX9V9n5d62pjA3MVoAgDcZAQAAhJbtjd1l1b5tDd1y5KXElK0t+szpOS7LEgDg7xgBAACEipEJ/8PP7L93S0P38IQkS7r4lNmVxUUnZsQLAPAWRgAAACFhT+tAWbXvj6+3yZERH3nTyoIvnDMv0rgEAPhnjAAAAGa4qYD96M6m2zfUNfWNyrGmKK2qxHv23CQBAI7MCAAAYCZr7B6pWl/72K7mgG1LmhVprj0/77rz8xOijAAAb8sIAABgZrKl3+xpraipfaN9UI6zchOrShYUe9MEAHgHjAAAAGag9sHxuzbXf//ZA+NTAUkRxnXl2XNvWV2YGR8pAMA7YwQAADDTbKjtLKv2PX+wV44F6XEVxd6PnTLbsgQAeOeMAAAAZo6Bsalvbm/85raG/rEpSS7L+tRp2eVriwpSYwUAeJeMAAAAZoidTX1l1ftqfJ1y5CRG3bq66PKzcj1uSwCAd88IAAAg6I1PBX743ME7N9W1DY7L8aETM6pKvIuzEwQAeK+MAAAAgtu+jqGKGt+vdrfa+pvkGM/XLii45rz5sRFuAQDeByMAAIBgFbDtX7zUUrW+tr5rWI7z8pKrShZckJ8iAMD7ZgQAABCUmvtGb99Y98jOpkm/LSnG4/7isnlfX1GQGhshAMDRYAQAABB8/vxGe1m17+WWfjkWzZ5VVez9t5MyBQA4eowAAACCSc/I5De21D/09P7hCb8k47IuPXNO6Zqi3KRoAQCOKiMAAICg8VRjT2n1vm0N3XLkpcSUrSm65Iwct2UJAHC0GQEAAASBkUn/w0/vv3dLQ/fwhCRLunhRVkWxd2FmvAAA08MIAADgeNvTOlBe4/vDa21ypMdF3ryq4Kpz5kUZlwAA08YIAADg+JkK2I/uPHT7xtqm3lE5VhelrSvxnj03SQCAaWYEAABwnDR2j1RtqH3sxeaAbUuKjzRfXZ533QV5CVEeAQCmnxEAAMAxZ0u/feVwebXvjfZBOc6ck1hV4i1ZkC4AwLFiBAAAcGy1D47fvbn++88eGJsKSIpwu65YOveWVQVZs6IEADiGjAAAAI6hjbWdpdW+5w/2yrEgPa682PvxU2ZblgAAx5gRAADAMTE4PvXNbY0PbGvsH5uU5LKsT52WXb62qCA1VgCA48EIAABg+r3Q1Fda7avxdciRkxB16+qiy5fketyWAADHiREAAMB0mvAHfvDcwbs21R0eGJfjgydmVJV4T8tOEADguDICAACYNvs6hipqfL/a02rb+qukGM8NF+Rfc15ebIRbAIDjzQgAAGAaBGz7ly+1VK6vre8almPZ/OR1Fy64ID9FAIDgYAQAAHC0NfeP3bGh9sc7myb9tqRoj/tL5877+sqC1NgIAQCChhEAAMBR9ec32suqfS+39MuxKGtWZYn3IydlCgAQZIwAAACOkp6Ryfu2Nnz7qcbhCb8k47IuPXPObWuK5iZFCwAQfIwAAACOhqf395Q+uW9rQ7cc85NjytYWfeaMHLdlCQAQlIwAAADen9FJ/8NPH7h3S33X8IQcFy/Kqiz2LsyMFwAgiBkBAAC8D6+0DpTV+P7wWpsc6XGRN60q+MI586KMSwCA4GYEAADwnkwF7J+8cGjdhtqm3lE5VhWmritZsHRekgAAM4ERAADAu7e/Z6Rqfe1jLzb7bVtSfKS5dnne9efnJUR7BACYIYyOk127dtm2vXDhwujoaAEAgBnlt68cLq/xvd42KMeZcxKrSrwlC9IFAJhRjI6H3/3ud5/+9KcjIiJee+21OXPmCAAAzBAdQ+N3b6r/3rMHxqYCkiLcriuWzr1lVUHWrCgBAGYao2Ouvr7+hhtuGBsbsyxLAABg5thY11X25L7nDvbK4U2Pq1hb9PFTsy1LAICZyOjYGh8fv/HGGxsbGwUAAGaOwfGpB7c33r+1sX9sUpLL0icXZ5cXewtTYwUAmLGMjq1vf/vbTzzxhNvt9vv9AgAAM8ELh/rKqn3V+zrkyE6IunV14eeW5HrcLgEAZjKjY2jr1q133HFHdHT0F77whfvvv18AACC4TfgDP3zu4J2b6g8PjMnxwRMyqkq8p+UkCAAw8xkdK+3t7ddff31/f39paens2bMFAACCm69jqGJ97f/ubrFt/VVStOdrK/KvOS8vLsItAEBIMDombNsuLS196aWXVq1adf311//6178WAAAIVgFbj7/cXFlTW9c1LMey+clVJd4VBakCAIQQo2Pi0UcffeSRRzIzMx944IGEhAQBAIBg1dI/dsfGuh/taJr0ByRFe9xfPHfejSsLUmMjBAAILUbT79VXX73tttsk3XHHHYsWLdK71NbWVl1drSPo7+8PBAKWZQ0PDw8NDSk42LY9MjLi9/uHh4eNMQIQimzbHhkZsW17eHjY5XIJCAnVtd13bN6/+/CgHAsz4m5dMf+iE1JlTwwNTSj8BAKBkZERy7KGh4ctyxKAUDQ1NTUyMuJ2u4eGhizLUnAYHh62bduyLE0no2k2NDR07bXXHj58+LLLLrv00kv1ntx0003t7e36Z9LS0iTZtt3b22uMUdDo7e31+/3GIQChyLbt3t5e27Y9Ho/L5RIww/WP+3+4q/PRPV0jkwFJbsv6fycmXXNWena81d3drXAVCAR6e3sty/J4PJZlCUAompqa6u3tdbvdHo9HQaO3t9e2bcuyNJ2Mptmdd965efPmRYsWrVu3zuVy6T35wAc+oCMYHR3dtGmTZVmxsbFxcXEKDrZtx8TE+P3+2NhYj8cjAKEoEAjExMTYth0bG+t2uwXMZDsODdy1vfnpg/1y5CZGfm3ZnI+fnOa2LIU3v98fExNjWVZsbKzL5RKAUDQ5OTk8POx2u2NjYy3LUnAYGRmxLEvTzGg6/elPf3rwwQfj4uIeeOCB2bNn6z3JzMx85JFHdARtbW2nnnqqpKSkpJSUFAUH27YnJib8fn9KSorH4xGAUBQIBCYmJmzbTklJcbvdAmam0Un/d545cM/m+q7hCTkuXpRVUew9KTNekPx+/8TEhGVZKSkpLpdLAELRpMPtdqekpFiWpeAwOTlpWZammdG0mZqaqqqqGh0dveqqqyYnJ9evX683tba2SrJte8eOHXv37pW0YsUKj8cjAABwDL1yeKC82vf719rkSI+LvHFlwdXnzosyLgEAwoDRdBocHJT0fYfeYmxs7KMf/aik9PR0n8+XmJgoAABwTPgD9k9eOLRuQ+3B3lE5VhWmVpUsOGdekgAAYcNoOsXFxSUmJuotAoHAwMCApMTEREmRkZECAADHyv6ekXXra3+2q9kfsCXFR5qvLJ9//fn5idEeAQDCidG0McbU1NToLWzb/vWvf3311VdHR0dv3bo1JydHUmJiogAAwPT77SuHy2t8r7cNynHGnMSqEu+FC9IFAAg/RtMpJSVF/4zH45EjOTk5JSVFAABg+nUMjd+9uf57zxwYmwpIinC7Pn927i2rC2fPihIAICwZAQCAMLCprqv0/2MPTuDjrgv8/7+/M5/JfTRJ06ZNm+aecBcolNL7TOoursrqCh6LrHggKihyJ2kSDlERVEQ82EXdVffAW5v0PmhpabmvTO6mTY+kzX1PZr5//P4e/h/ygGJLm3Zm8no+q2ufaemSw5ueUF5c+NHZmZYlAMCEZQQAACJa38jYd7Y1PbS1qXvIL8mydM3FmWtWeQvS4wUAmNiMzoaYmJiFCxd6PB6XyyUAADBu9u7vLqv2ra1tlyMzOeauFQU3zM3yuF0CAEx4RmfDxx0CAADjZjQQ/PGu1vs31B/sHZbjfedMqSwpunRGsgAAcBgBAICI4+vor6ip+9WLbbatN6XEer66JO/LC3MSoo0AAPgrIwAAEEGCtn75QlvFOl99x4Ac83NSq0q8S/MnCwCAtzICAACRoq1n+L4N9T/Z3eoPBCXFetw3zs++fVl+enyUAAB4GyMAABAR/vxGe1l17XMHeuS4YFpSRbH3gxdkCACA4zACAABhrmvI/60tjd/d1tw/OibJ7bL+dc7M0lUF2SlxAgDg+IwAAEA429HcWVrt29xwVI7s1LiylYWfnDPD7bIEAMC7MgIAAOFpyB/4/o6Wb2xq6BgYleNDF0yrKPGen5EoAABOgBEAAAhDrxzqLa/x/eaVw3KkJ0TdsSz/xiuzYzxuAQBwYowAAEBYCQTtJ/fsr1pft69rSI5lBZOrSrxXZqcKAICTYQQAAMJHS+dg5fq6n+09EAjakhKizZcX5ty6JG9SrEcAAJwkIwAAECZ+/cqh8mrfq4f75Lh0xqSqEu/qc6YIAID3xAgAAIS8jv7Rr2+qf2znvmF/QFKU2/XpK7LuXlEwPSlGAAC8V0YAACC0bao/Wlrt29nSKUdhevyaYu9HZ2dalgAAOBVGAAAgVPWPjD2yvfmhLY3dQ35JlqVrLs4sX+UtTI8XAACnzAgAAISkvfu7y6p9a2vb5ZieHHP38oIbrsjyuF0CAOB0MAIAACFmNBD88a7W+zfUH+wdluN950ypLCm6dEayAAA4fYwAAEAoqevoX1NT96sX22xbb5oU67l1Sd6XF+YkRBsBAHBaGQEAgNBg2/rlC20V63x1HQNyXJmdWrXauyx/sgAAGAdGAAAgBBzsGb5vY/2Pd7X6A0FJMR73F67Mvn1ZfnpClAAAGB9GAADgbPvzG+1l1bXPHeiR4/xpiRXF3g9dME0AAIwnIwAAcPZ0D/m/taXxO9ub+0fGJLld1r/OmVG6sjA7NU4AAIwzIwAAcJbsaOksW+vb1HBUjuzUuNKVBf86Z6bbZQkAgPFnBAAAzrghf+CxHS0Pbm7o6B+V44MXTKso9l4wLVEAAJwpRgAA4Mx65VBfeY3vN68ckiM9Ier2pfk3zs+O9bgFAMAZZAQAAM6UQND+6d79VevrWzoH5ViWP7lytXd+dqoAADjjjAAAwBnR0jlYtb7+p3v3B4K2pIRo8+WFOV9dkpcS6xEAAGeDEQAAGH+/eeVQWY3v1UN9clw6I7mypOh950wRAABnjxEAABhPHf2jD25qeGxny5A/IMnjdt0wN+uuFQWZyTECAOCsMgIAAONmU8PRsrW+HS2dchSmx5ev8l5zcaZlCQCAs84IAACMg/6Rse9sb/7WlsbuIb8ky9JHZ2euKS4sTE8QAAChwQgAAJxuzx3oKauu/fMb7XJMT4q5a0XBDVdkRbldAgAgZBgBAIDTxx8I/nhX630b6w/2DMuxumhKZYl3zsxJAgAgxBgBAIDTpK5joGKd75cvtNm23jQp1vPVxXk3L8pJiDYCACD0GAEAgFNm2/rVi21raurqOvrluDI7pbKkaHnBZAEAEKqMAADAqTnYO3z/hvof72odDQQlxXhcN16ZfceygvSEKAEAEMKMAADAKVhb215W7du7v1uO8zMSK0q8H7pgmgAACHlGAADgPeke8j+0pfGR7c39I2OS3C7rk3NmlK0szE6NEwAA4cAIAACcvJ0tnaXVvk31R+WYlRJburLwustmul2WAAAIE0YAAOBkDPsDj+3c9/VN9R39o3J88IKMimLvBdOSBABAWDECAAAn7NXDfeXVvl+/ckiOyfFRty/L/8L87FiPWwAAhBsjAABwAgJB+2d7D1Sur2vpHJRjaf7kqhLv/JxUAQAQnowAAMDfs69rqGpd3ZN79weCtqSEKPOlRTm3LslLifUIAICwZQQAAN7Vb145XF7je+VQrxyXzEiuLPH+wzlTBQBAmDMCAADH0TEw+uCmhsd2tAz5A5I8bten52bdvaIgMzlGAACEPyMAAPBONjccLa327WjulKMgPb58lfeaizNdlgAAiAxGAADgrfpHx767rflbWxq7hvySLEv/MjtzTXGhNz1BAABEECMAAPA3njvQU1Zd++c32uWYlhRz94qCG67IinK7BABAZDECAAAOfyD4k92t922ob+sZlqOkaEpViXfOzEkCACASGQEAAKm+Y6Bine+XL7QFbb1pUqznK4tzb16UmxhtBABAhDICAGBis2396sW2ipo6X0e/HPOyU6pKipYXTBYAABHNCACACexg7/D9G+p/vKt1NBCUFGNcn5+ffcey/CkJ0QIAINIZAQAwUa2tbS+r9u3d3y3HeRmJFcXeqy+cJgAAJgYjAAAmnu4h/0Nbm76zralvZEyS22V94tIZZasKc1LjBADAhGEEAMAE80xLV2l17cb6o3LMSoktXVl43WUz3S5LAABMJEYAAEwYw2PBH+xo+fqmhvb+ETk+cH5GRYn3wmlJAgBg4jECAGBieO1wX3mN76mXD8kxOT7q9mX5X5ifHetxCwCACckIAIBIFwjaP3vuQNW6uubOQTmW5KdVlRQtyEkVAAATmBEAABFtX9dQ1fq6J/fsDwRtSfFR7i8vzL11SV5KnEcAAExsRgAARK7fvnq4vNr38qFeOS6ZkVxZ7P2Hc6cKAABIRgAARKKjA6MPbmr4/o6WIX9AksdtfXrurLtXFGQmxwgAADiMAACIOJsbjpVV1z7d3ClHweT48uLCay6e4bIEAAD+f0YAAESQgdHAd7Y3fWtzY9eQX5Jl6V9mZ65ZVeidkiAAAPBWRgAARIrnD/SU1fj+9PoROaYlxdy1PP8z82ZFuV0CAABvYwQAQPjzB4I/2d1634b6tp5hOUqKplSWeC+bOUkAAOA4jAAACHP1Rwcqaup++cKBoK03Jcd4vrok9+ZFuYnRRgAA4PiMAAAIW7at/36xbc26Ol97vxzzZqVUri5aUTBZAADg7zECACA8Heodvn9jw4+e2TcaCEqKMa7PX5l9x/L8KQnRAgAAJ8AIAIAwVF3bXlbt27O/W47zMhIrir1XXzhNAADghBkBABBWeob9D21pemRbU9/ImCS3ZX1izoyyVYU5qXECAAAnwwgAgPDxzL6usrW1G+qPypGVElu6svC6y2YalyUAAHCSjAAACAfDY8Ef7Gz5+saG9v4ROf7p/IzKYu+F05MEAADeEyMAAELea4f7ymt8T718SI7J8VG3Lc2/aUF2rMctAADwXhkBABDCArb9870HKtfVNXcOyrEkL61qddGCnFQBAIBTYwQAQKhq7RqqWl/35J79Y0FbUnyU+0sLc29dkpca5xEAADhlRgAAhKTfvnq4vNr38qFeOS7OTK4s8f7juVMFAABOEyMAAELM0YHRb2xuePTpliF/QJLHbf3b5Vl3ryyckRwjAABw+hgBABBKtjQeK11b+3Rzpxz5k+PLVxVee0mmy7IEAABOKyMAAELDwGjgu9ubvrmlsWvQL8my9JGLpq8p9hZNSRAAABgHRgAAhIAX2nrKqn1/fP2IHNOSou9cXvDZebOi3C4BAIDxYQQAwFnlD9hPPNt63/q6Az3DchR7p1SVeC/LmiQAADCejAAAOHsajg5UrKv7xfNtQduWlBzj+cri3FsW5yZGGwEAgHFmBADA2WDb+p+XDq6p8dW298txxayUqhLvisJ0AQCAM8IIAIAz7lDvyAMb63/4zL7RQFBStHF9/srsO5bnT02IFgAAOFOMAAA4s2p87aVrfXv2d8tx7tTEihLv1RdOswQAALhPWoAAACAASURBVM4oIwAAzpSeYf+3tzY9vLWpb2RMksuyPjFnRtnKwty0OAEAgDPOCACAM2LXvq7Sat+Gug45slJi71lR+KnLZxqXJQAAcDYYAQAwzobHgo/vbPn6xoYj/SNy/NP5GRXF3oumJwkAAJw9RgAAjKfXj/SVV/ueevmQrb9Ii4+6bWneTQty4jxuAQCAs8oIAIDxEbTtn+89ULm+runYoByL89KqSooW5qYKAACEACMAAMZBa9fQvRvq/uPZ/WNBW1J8lPuLC3O+tiQ/Nc4jAAAQGowAADjdfvfq4fIa30sHe+W4ODO5ssT7j+dOFQAACCVGAACcPscGRr+xueHRp1sG/QFJHrd1/eVZ96womDEpVgAAIMQYAQBwmmxtPFZaXbu9qVOO/MnxZasKP3ZJpsuyBAAAQo8RAACnbGA08L3tzd/c0tA56JdkSR+ZPX1NsbdoSoIAAECoMgIA4NS80NZTVu374+tH5MhIjL5rRcFnrpgVbVwCAAAhzAgAgPfKH7D//dnWezfUHegelqPYm15ZUnR51iQBAICQZwQAwHvScHSgYl3dL55vC9q2pOQY85XFeTcvyk2KMQIAAOHACACAk2RL//PiwTU1vtr2fjmumJVSWeJdWZguAAAQPowAADgZh/tG7t9Q/8Nd+0bHgpKijetzV2bfuSx/amK0AABAWDECAOCE1fg6yqprn23tluPcqYlrigv/+aLplgAAQPgxAgDgBPQMj317a+Mj25p6h8ckuSzrE5fOKFtVmJsWJwAAEJ6MAAD4e3bt6yqr9q2v65Aja1LsPSsLPnV5lnFZAgAAYcsIAIDjGxkLPr6z5YFNDUf6RuR4/3kZlSXei6YnCQAAhDkjAACO4/UjfWtq6v7vpYO2/iItPuq2pXk3LciJ87gFAADCnxEAAG8TtO2fP3egcl1d07FBORbnpVWVeBfmpgkAAEQKIwAA3qq1e+je9fX/8WzrWNCWFB/l/uKCnK8tzUuNixIAAIggRgAA/I3fv3a4rNr30sFeOWZnJlcWe686b6oAAEDEMQIAwHFsYPQbmxsffbp50B+QZFzWv83NuntFwcxJsQIAAJHICAAAaWvjsdJq3/amY3LkTY4vX1n4sUszXZYlAAAQoYwAABPbwGjge083f3NzQ+egX5IlfXj29DWrvOdMTRAAAIhoRgCACezFtp6yat8fXj8iR0Zi9J3LCz47b1a0cQkAAEQ6IwDAhDQWtJ/Y3Xrfhvr93UNyrPKmV5UUXZ41SQAAYGIwAgBMPI1HByrW1f3X821B25aUFGO+sjjvlkW5STFGAABgwjACAEwktvS/Lx5cs873xpF+OeZmpVSt9q4sTBcAAJhgjAAAE8bhvpEHNtb/8Jl9I2NBSdHG9bl5s+5cXjA1MVoAAGDiMQIATAzrfB2l1bXPtnbLcc7UhIpi7z9fNN0SAACYoIwAAJGud3js21sbH97W1Ds8JsllWR+/NLNslTcvLU4AAGACMwIARLTd+7pKq33r6zrkmDkp9p6VBddfnmVclgAAwMRmBACIUCNjwcef2ffAxvojfSNyvP+8qRUlRbOnJwkAAEAyAgBEojeO9JXX1P3fSwdt/UVaXNTXluZ9cUFOXJRbAAAADiMAQGQJ2vZ/PtdWuc7XeGxQjkW5aVWrvYty0wQAAPA3jAAAEWR/99C96+v//dnWsaAtKS7K/cUFOV9bmpcWFyUAAIC3MgIARIrfv3akvLr2xYO9csyenlRRUvT+86YKAADgnRgBAMLfscHRb25u/N7TzYOjAUnGZV1/edY9KwtmTooVAADAcRgBAMLctqZjpWt925qOyZGXFl+2qvDjl2a6LEsAAADHZwQACFuDo4HvPd38zc2NxwZHJVnSP180vaLYe87UBAEAAPw9RgCA8PTiwd6y6to/vHZEjqmJ0XcuL/jcvFnRxiUAAIATYAQACDdjQfvfn229d339/u4hOVYVpleu9s7NShEAAMAJMwIAhJXGYwOV6+r+87m2oG1LSooxtyzK/crivKQYIwAAgJNhBAAIE7b0fy8dLK/xvXGkX465WZMqS4pWedMFAABw8owAAOHgSN/IAxvrH39m38hYUFK0cX123qw7lxdkJEYLAADgPTECAIS8dXUdZWt9u1u75DhnasKaYu+HL5puCQAA4L0zAgCEsN7hsYe3NX17a2Pv8Jgkl2V97NLM8lWFeWnxAgAAODVGAIBQtbu1u6y6dp2vQ46Zk2LvWVFw/dws47IEAABwyowAAKFnZCz4w2f2PbCx/nDfiBxXnTe1stg7OzNZAAAAp4kRACDEvHGkf02N739fOmjrL1Ljom5bmvfFBTlxUW4BAACcPkYAgJARtO3/eq6tYl1d47EBORblplWWeBfnpQkAAOB0MwIAhIb93UP3bqj/992tY0FbUlyU+6b5Obcty0uLixIAAMA4MAIAhIA/vHakrMb3YluPHBdNT6os8b7/vAwBAACMGyMAwFnVOTj6jc2N33u6eXA0IMm4rE9dnlW6smDmpFgBAACMJyMAwNmzrelYWbVva+MxOXLT4spXFX780hkuyxIAAMA4MwIAnA2Do4FHdzR/Y1PjscFRSZb0zxdNX1NceO7URAEAAJwRRgCAM+6lg71l1b7fv3ZYjqmJ0Xcuy//cldnRxiUAAIAzxQgAcAaNBe3/eLa1an39/u4hOVYWpleWeK+YlSIAAIAzywgAcKY0HRusWOf7z+fagrYtKSnG3LIo95bFeckxRgAAAGecEQBg/NnS/710cE1N3etH+uS4PGtSZUlRsTddAAAAZ4kRAGCcHekbeWBjw+PPtIyMBSVFG9dn5826c3lBRmK0AAAAzh4jAMB4Wl/XUVrt272vS46iKQkVxd4Pz55uCQAA4CwzAgCMj97hsYe3NT28tbFneEySy7I+dklm2arC/MnxAgAACAFGAIBx8Gxrd2l17TpfhxwzJsXes6Lg+rlZHpclAACA0GAEADitRsaCP3xm3wMb6w/3jcjxj+dOrSzxXpyZLAAAgFBiBAA4fWrb+8trfP/74kFbf5Ea5/na0vwvLsiJj3ILAAAgxBgBAE6HoG3/1/NtlevqGo4OyLEwN7WqpGhxXpoAAABCkhEA4JQd6B66d0P9E7tbx4K2pDiP+6YFObctzUuLjxIAAECoMgIAnJo/vtFesa7+hbYeOS6anlRR7P2n8zMEAAAQ2owAAO9V9/DYD/YcefKlowOjAUnGZX3q8pn3rCjMSokVAABAyDMCALwn25s77/h9064D/XLkpsWVrSz8xJwZLssSAABAODACAJykQX/g0aebv7Gp8djgqCRLuvqiaRXF3nOnJgoAACB8GAEATsZLB3vLq32/e+2wHJPjzJ3LC7+wICfauAQAABBWjAAAJ2YsaP/Hs/vvXV/X2j0kx8JZibfOm/YPl2S73S4BAACEGyMAwAloOjZYub7u53sPBG1bUmK0uXlRzrWFcQlRLgEAAIQnIwDAu7Klp146VF7je/1InxyXZ02qLClaWZB26NAh27YFAAAQnowAAMd3pG/k65safrCzZWQsKCnKuD57xaw7lxdMS4oOBoMCAAAIZ0YAgOPYUNdRWu3bta9LjqIpCWuKvR+5aLplCQAAIAIYAQDepm9k7OGtTd/e2tgzPCbJZVnXXpJZvqowf3K8AAAAIoURAOCtnm3tLquurfF1yDEjOebulYX/dnmWx20JAAAgghgBAP5qdCz4w1377t9Yf7h3RI5/PHdqZYn34sxkAQAARBwjAICjtr1/TY3vf146aNt6U2qc59Yl+V9amBMf5RYAAEAkMgKACS9o2794vq1iXV3D0QE5FuakVq4uWpKXJgAAgMhlBAAT24Ge4fvW1z3xbKs/YEuK9bhvWpB929L8yfFRAgAAiGhGADCB/fH1I2XVvhfaeuS4cHpSZbH3n87PEAAAwARgBAATUueg/1tbGr67vXlgNCDJuKzrLptZurIwKyVWAAAAE4MRAEw825s6y6prtzQekyMnLa5sZeEn5sxwW5YAAAAmDCMAmEgG/YHvP93yjc0NRwdGJVnS1RdOW1PsPS8jUQAAABOMEQBMGC8f7C2r8f3u1cNyTEmIvnN5/ueuzI4xLgEAAEw8RgAwAYwF7Sf37K9aX9faNSTHisLJlSVF82alCAAAYKIyAoBI13RssGp93c/3HgjYtqTEaHPzotyvLslNjvEIAABgAjMCgMhlS0+9fGhNje+1w31yXDZzUmWJt6RoigAAACY8IwCIUO39Iw9sbHh8Z8vwWFBSlNv1mXmz7lqePy0pRgAAAJCMACASbajrKK327drXJUfRlITyYu+/XDTdsgQAAID/xwgAIkvfyNgj25oe2tLUM+yX5LKsay/JLF9VmD85XgAAAPgbRgAQQfbs7y6r9lXXtssxIznm7hWF/zY3y+O2BAAAgLcyAoCIMBoI/uiZffdvrD/UOyLHP5w7tbLEe0lmsgAAAPBOjAAg/NW291fU+P77pYO2rTelxHm+tiTvSwtz46PcAgAAwHEYAUA4C9r2L55vq1hX13B0QI4FOalVq4uW5KUJAAAA78oIAMLWgZ7h+zbUPbG71R+wJcV63DfNz75tWf7k+CgBAADg7zECgPD0p9ePlFX7nm/rkePCaUkVJd4PnJ8hAAAAnBgjAAg3XYP+b25p/O72poHRgCTjsq67bOY9KwtnpcQKAAAAJ8wIAMLK082dpWtrtzQekyMnNa5sVeEn5sxwW5YAAABwMozOoNHR0aGhIcuy4uPj3W63AOBkDPkDjz7d8o3NDUcHRuW4+sJpFcXe8zISBQAAgJNnNP5s2167du0vfvGL559/vqOjIyoqasaMGYsWLfrkJz95wQUXCABOwMuHesurfb999bAcUxKi71iW//n52THGJQAAALwnRuNsbGzslltuefzxx8fGxiRZliXp4MGDzz777JNPPvnggw9ef/31AoDjGwvaT+7Zf+/6un1dQ3IsL5hcVVI0LztFAAAAOAVG4+xHP/rRo48+KmnBggU33HBDUVGR3+9ft27dY489dvTo0VtvvfXCCy+cM2eOAOCdNHcOVq6r+/neAwHblpQYbW5elPvVxbnJsR4BAADg1BiNp/7+/scee0zSggULfve736Wmpsoxf/78uXPnfuhDH+rq6vrRj340Z84cAcDbPPXyofIa32uH++S4bOakyhJvSdEUhYD2/pGdzZ17m44Eg/Yludb8nLRpSTECAAAIK0bj6dVXX62trZX02c9+NjU1VX+jpKRk3rx5W7Zs2b17t9/v93g8AoC/au8f+frGhh/sbBkeC0qKcrs+M2/WXcvzpyXF6GwLBO0fPLPvka1NjccG9P88fXBWSuxNC3K+tDAnyu0SAABAmDAaT62trYFAICoqas6cOXorl8s1ZcoUST09PcFgUADwVxvrj5aurX1mX5cc3ikJa1YV/svsTMvSWRe07Vv/8Pp3tjfZtv7Wvq6hr/3h9bqO/u9/6EKP2xIAAEA4MBpPqampDz/8sKSpU6fqbYaHhyVNnjzZ7XYLAKS+kbFHtjU9tLWpZ8gvyWXpmoszy4u9BZPjFRp+vvfA97Y327be0U92tc7OTL7xymwBAACEA6PxtMKhd7Jp06Zt27ZJuuqqq4wxAjDh7dnfXVbtq65tlyMzOebuFQWfnpvlcbsUGgZHA997ujlg2zoOW3r06eZrL86cFOsRAABAyDM6gzZs2PDaa6/19vbu2bNny5YtfX19H/jAB26++Wa9q8OHDx85ckTHcezYsWAw6HK5/H7/6OioQoNt236/PxAIjI6O2rYtAO9qNBB84tkDD25uOtQ3IsfqovTyFfkXZybZgbHRgELEy229rxzq07vytQ8813psYU6qAESEQCDg9/styxodHXW5XAIQifyOYDA4OjpqWZZCg9/v1/gzOoN27txZXl4uh2VZ999//6c+9ank5GT9PcXFxd3d3XonSUlJkoLBYHt7u23bCg22bbe3tweDQUnGGAE4vsaukUd2Hf5DXbetv0iOdn/m0inXz54c5x48fHhQoeS1fb2jgaDeVdC2X9t3pCB2VAAiQjAY7OjokGQ5BCASjY2NdXR0uFwuSZZlKTR0dHQEg0GXy6XxZHQGpaenf+QjHzl69OiBAwcaGhruvvvuP/3pTz/84Q/PO+88vasMh97J2NhYe3u7JI9DocG2bY/HEwgEPB6PMUYA3olt6ze1xx7aeai5a1iOyzMTbluQeeXMRIWk2CijExAb7XmTAESEQCBgjLEsyxjjcrkEIBJZlmWMcbvdHo/HsiyFBo/Ho/FndAZ93iGpv7//97///S233LJjx45PfepTGzZsSEpK0nGkpKTs3r1bx3HkyJHLL79cUnp6ekZGhkKD7QgEAlOnTvV4PALwNm09w/dtrH9id6s/YEuK9bi/MD/7tqV5k+OjFKoudiUkRDf3j4zp+KKN65Lc6RkZyQIQEQKBgG3blmVlZGS4XC4BiER+v9+2bbfbnZGRYVmWQobL5dI4MzobEhISrr322oGBgc985jN79uzZunXrVVddpeOIjo7W8UVFRclhORQyrL8hAG/1pzeOlFX7nj/QI8cF05IqS7wfOD9Doc07JWFRbuqf32jX8c3NSrlgepJlWQIQEay3EoBIZL2VQoNlWRp/RuOps7NTkmVZKSkpeptly5bFxcUNDg6++uqrV111lQBMAF1D/m9tbvzO9qaB0YAkt8u67rKZpSsLZ6XEKuS5LOuOZQW79nV3Do7qnSRGm7tWFES5XQIAAAgHRuPGtu1rr712z549S5Yseeqpp/Q28fHxxhhJQ0NDAjABPN3cWVbt29xwVI6c1LjSVYWfvHSG22UpTCzMTX3kA+d99fevdfSP6q1SYj0P/MM5xd50AQAAhAmjcWNZVkZGRmdn5+uvvz4wMBAfH6+3am1tHRgYkDRr1iwBiGhD/sD3d7Q8uKnh6MCoHFdfOG1Nsff8jESFm09cOqMwPf7hrU2bG44dGxyVlBLrWZSbdvOinIW5aQIAAAgfRuNp2bJlP/3pT+vq6tavX/+BD3xAf8O27SeeeCIQCCQkJMybN08AItcrh3rLqn2/ffWwHFMSom9fln/j/OwY41J4mpuV8qtPXHqge/Clxjbbti/IzcxKjbcEAAAQZozG0+rVqwsLC+vq6m666aZAILBixYqkpKRAINDa2vr444//5Cc/kfSRj3zk3HPPFYBIFAjaT+7ZX7W+bl/XkBzLCyZXlhRdmZ2i8Dc9KcbKiLNte1pyjCUAAIDwYzSe0tPT77///uuuu66tre3DH/5wVlbW9OnTR0ZGmpqauru7JS1evPjee+8VgEjU3DlYta7uZ88dCARtSYnR5suLcr+6OHdSrEcAAAAIAUbj7Oqrr05MTKyqqtqzZ88+hySXyzVz5sxrrrnm9ttvT01NFYCI89TLh8prfK8d7pNjzsxJlSXe1UVTBAAAgJBhNP5WrVq1dOlSn8/X2Nh48ODB+Pj4nJycc889Ny0tTQAiTnv/yIObGh7b0TI8FpQU5XbdcEXWXSsKpifFCAAAAKHE6IzweDznOwQgom2sP1paXftMS5cc3vSE8uLCj87OtCwBAAAg1BgBwOnQNzL2nW1ND21t6h7yS7IsXXNx5ppV3oL0eAEAACAkGQHAKdu7v7us2re2tl2OzOSYu1cUfHpulsftEgAAAEKVEQCcgtFA8Me7Wu/fUH+wd1iO950zpbKk6NIZyQIAAEBoMwKA98rX0V9RU/erF9tsW29KifXcuiTvSwtzEqKNAAAAEPKMAODkBW398oW2inW++o4BOebnpFaVeJfmTxYAAADChBEAnKS2nuH7NtT/ZHerPxCUFOtx3zg/+/Zl+enxUQIAAED4MAKAk/HnN9rLqmufO9AjxwXTkiqKvR+8IEMAAAAIN0YAcGK6hvzf2tL43W3N/aNjktwu61/nzCxbVTgrJVYAAAAIQ0YAcAJ2NHeWVvs2NxyVIzs1rmxl4SfnzHC7LAEAACA8GQHAuxryBx7b0fLgpoaOgVE5PnTBtIoS7/kZiQIAAEA4MwKA43vlUG95je83rxyWIz0h6o5lBTdeOSvG4xYAAADCnBEAvJNA0H5yz/6q9XX7uobkWFYwuarEe2V2qgAAABARjADgbVo6ByvX1/1s74FA0JaUEG1uXpjz1SV5k2I9AgAAQKQwAoC3+vUrh8qrfa8e7pNjzsxJlSXe1UVTBAAAgMhiBAB/1dE/+vVN9Y/tbBn2ByVFuV03XJF114qC6UkxAgAAQMQxAgDHpvqjpdW1O1u65ChMT1hTXPjR2ZmWJQAAAEQkIwATXv/I2CPbmx/a0tg95JdkWbrm4szyVd7C9HgBAAAgchkBmNj27u8uq/atrW2XY3pyzN3LC264IsvjdgkAAAARzQjARDUaCP54V+v9G+oP9g7L8b5zplSWFF06I1kAAACYAIwATEh1Hf1raup+9WKbbetNk2I9ty7J+/LCnIRoIwAAAEwMRgAmGNvWL19oq1jnq+sYkGN+dmrlau+y/MkCAADARGIEYCI52DN838b6H+9q9QeCkmI97huvzL59WX56QpQAAAAwwRgBmDD+/EZ7WXXtcwd65LhgWmJFsfeDF0wTAAAAJiQjABNA95D/W1sav7O9uX9kTJLbZf3rnJmlKwuyU+MEAACAicoIQKTb0dJZtta3qeGoHNmpcaUrC/51zky3yxIAAAAmMCMAkWvIH3hsR8uDmxs6+kfl+OAF0yqLvedPSxQAAAAmPCMAEeqVQ33lNb7fvHJIjvSEqNuX5d94ZXasxy0AAABAMgIQcQJB+6d791etr2/pHJRjWf7kytXe+dmpAgAAAP7KCEBkaekcrFpf/9O9+wNBW1JCtPnywpxbl+RNivUIAAAA+BtGACLIr185VF7je/VQnxyXzkiuLCl63zlTBAAAALyNEYCI0NE/+uCmhu/vbBn2ByR53K4brsi6e3nB9OQYAQAAAO/ECED429RwtHStb2dLpxyF6fHlq7zXXJxpWQIAAACOxwhAOOsfGfvO9uZvbWnsHvJLsix9dHbmmuLCwvQEAQAAAO/KCEDYeu5AT1l17Z/faJdjelLMXSsKbrgiK8rtEgAAAPD3GAEIQ/5A8Me7Wu/bWH+wZ1iO1edMqSz2zpk5SQAAAMCJMQIQbuo6BirW+X75Qptt602TYj1fXZJ388KchGgjAAAA4IQZAQgftq1fvdi2pqaurqNfjiuzU6tKvMsKJgsAAAA4SUYAwsTB3uH7NtT/ZFfraCAoKcbjvvHKWXcsK0hPiBIAAABw8owAhIO1b7SXVvueO9Atx/kZiRUl3g9dME0AAADAe2UEILR1D/kf2tL4yPbm/pExSW6X9ck5M8pWFmanxgkAAAA4BUYAQtjOls7Sat+m+qNyzEqJK11VcN2cmW6XJQAAAODUGAEIScP+wGM7W76+qaGjf1SOD16QUVHsvWBakgAAAIDTwQhA6Hn1cF95te/XrxySIz0+6vZl+TfOz471uAUAAACcJkYAQkkgaP9s74HK9XUtnYNyLM2fXFXinZ+TKgAAAOC0MgIQMlq6BqvW1f907/5A0JaUEG2+tDDn1iV5KbEeAQAAAKebEYDQ8JtXDpfX+F451CvHpTOSK0uK3nfOFAEAAADjwwjA2dYxMPrgpobHdrQM+QOSPG7Xp+dm3b2iIDM5RgAAAMC4MQJwVm1uOFpa7dvR3ClHQXp8+SrvNRdnuiwBAAAA48oIwFnSPzL2ne3ND21p7BryS7IsfXR2ZnlxoTc9QQAAAMD4MwJwNjx3oKesuvbPb7TLMT0p5q4VBTdckRXldgkAAAA4I4wAnFn+QPDHu1vv31Df1jMsx+qiKZUl3jkzJwkAAAA4g4wAnEH1HQNr1vl++UKbbetNk2I9X12c++VFuYnRRgAAAMCZZQTgjLBt/erFtoqaOl9HvxzzslOqSoqWF0wWAAAAcDYYARh/B3uH799Q/+NdraOBoKQY47pxfvbty/KnJEQLAAAAOEuMAIyztbXtZdW+vfu75Tg/I3FNsffqC6cJAAAAOKuMAIyb7iH/Q1sbv7OtuW9kTJLbZX3y0hmlqwpzUuMEAAAAnG1GAMbHzpausurajfVH5ZiVElu6svC6y2a6XZYAAACAEGAE4HQbHgs+tqPlwU0N7f0jcnzg/IyKEu+F05IEAAAAhAwjAKfVq4f7ymt8v375kByT46NuX5b/hfnZsR63AAAAgFBiBOA0CQTtn+09ULW+rrlzUI6l+ZMrS7wLclIFAAAAhB4jAKfDvq6hqvV1T+7ZHwjakuKj3F9emHvr0ryUWI8AAACAkGQE4JT99tXDZdW+Vw71ynHJjOTKEu8/nDNVAAAAQAgzAnAKjg6MPrip4fs7Wob8AUket+vTc7PuXlGQmRwjAAAAILQZAXivNjccLa327WjulKNgcnx5ceE1F89wWQIAAABCnxGAk9c/Gvju9qZvbW7sGvJLsiz9y+zMNasKvVMSBAAAAIQJIwAn6fkDPWXVvj+9cUSOaUkxdy3P/8y8WVFulwAAAIDwYQTghPkDwZ/sbr1vQ31bz7AcJUVTKku8l82cJAAAACDcGAE4MfVHBypqfL98oS1o603JsZ6vLs69eVFuYrQRAAAAEIaMAPw9tq3/frFtzbo6X3u/HPNmpVSuLlpRMFkAAABA2DIC8K4O9Q7fv7H+R8+0jgaCkmKM6/NXZt+xPH9KQrQAAACAcGYE4Piqa9tLq31793fLcV5GYkWx9+oLpwkAAAAIf0YA3kn3kP/bW5se2dbUNzImyW1Zn5gzo2xVYU5qnAAAAICIYATgbZ5p6Sqtrt1Yf1SOWSmx96wsvO6ymcZlCQAAAIgURgD+xvBY8Ac7Wr6+qaG9f0SOD5yfUVHivXBakgAAAIDIYgTgr1473Fde43vq5UNyTI6Pum1p/k0LsmM9bgEAAAARxwiAFLDtvH9sCQAAHyJJREFUn+89ULmurrlzUI4leWlVq4sW5KQKAAAAiFBGwIS3r2uoan3dk3v2B4K2pPgo95cW5n5tSV5KnEcAAABA5DICJrbfvnq4vNr38qFeOS7JTK4o8f7juVMFAAAARDojYKI6OjD64KaG7+9oGfIHJHnc1r/Nzbp7ReGM5BgBAAAAE4ARMCFtaThWWl37dHOnHPmT48tXFV57SabLsgQAAABMDEbABDMwGvju9qZvbmnsGvRLsix95KLpa4q9RVMSBAAAAEwkRsBE8vyBnrIa359ePyLHtKToO5cXfHberCi3SwAAAMAEYwRMDP6A/cTuffduqG/rGZaj2DularX3spmTBAAAAExIRsAEUH90oGJd3S+fbwvatqTkGM9XluTesig3MdoIAAAAmKiMgIhm2/rvF9vWrKvztffLccWslKoS74rCdAEAAAATmxEQuQ71Dt+/seFHz+wbDQQlxRjX567MvmN5/tSEaAEAAAATnhEQoapr28uqfXv2d8tx7tTEihLv1RdOswQAAADgL4yAiNMz7H9oS9Mj25r6RsYkuS3r43NmlK0szE2LEwAAAIC/MgIiyzP7usrW1m6oPypHVkps6YrC6y6faVyWAAAAAPwNIyBSDI8Ff7Cz5esbG9r7R+T4p/MzKoq9F01PEgAAAIC3MQIiwmuH+9bU+J56+ZCtv0iLj7p9af4XFmTHedwCAAAA8E6MgDAXsO2f7z1Qua6uuXNQjsV5aVUlRQtzUwUAAADg+IyAcNbaNVS1vu7JPfvHgrak+Cj3FxfmfG1JfmqcRwAAAADelREQtn736uGyGt/LB3vluDgzubLE+4/nThUAAACAE2AEhKGjA6Pf2Nzw6NMtQ/6AJI/buv7yrHtWFM6YFCMAAAAAJ8YICDdbGo+Vrq19urlTjvzJ8eWrCq+9JNNlWQIAAABwwoyA8DEwGvju9uZvbWnoHPRLsix95KLpa4q9RVMSBAAAAOAkGQFh4oW2nrJq3x9fPyJHRmL0XSsKPnPFrGjjEgAAAICTZwSEPH/AfuLZ1vvW1x3oGZaj2JteWVJ0edYkAQAAAHivjIDQ1nB0oGJd3S+ebwvatqTkGPOVxXk3L8pNijECAAAAcAqMgFBl2/qflw6uqfHVtvfLccWslMoS78rCdAEAAAA4ZUZASDrUO/LAxvof7to3OhaUFG1cn78y+45l+VMTowUAAADgdDACQk+Nr7202rentVuOc6cmriku/OeLplsCAAAAcNoYAaGkZ9j/7a1ND29t6hsZk+SyrE9cOqNsVWFuWpwAAAAAnFZGQMjYta+rtNq3oa5DjqxJsfesLPjU5VnGZQkAAADA6WYEhICRseAPdrZ8fVPDkb4ROd5/XkZlifei6UkCAAAAMD6MgLPt9SN95TW+p146ZOsv0uKjbluad9OCnDiPWwAAAADGjRFw9gRt++d7D1Sur2s6NijH4ry0qhLvwtw0AQAAABhnRsBZ0to1dO+Guv94dv9Y0JYUH+X+4oKcry3NT43zCAAAAMD4MwLOht+9eri8xvfSwV45ZmcmV5Z4rzp3qgAAAACcKUbAmXVsYPQbmxsffbp50B+QZFzWv83NuntFwcxJsQIAAABwBhkBZ9DWxmOl1bXbmzrlyJscX76q8GOXZLosSwAAAADOLCPgjBgYDXzv6eZvbm7oHPRLsqQPz56+ZpX3nKkJAgAAAHA2GAHj74W2nrJq3x9fPyJHRmL0ncsLPjtvVrRxCQAAAMBZYgSMJ3/A/vdnW+/dUH+ge0iOVd70qpKiy7MmCQAAAMBZZQSMm4ajA5Xr6v7r+bagbUtKijFfWZx3y6LcpBgjAAAAAGebETAObOl/Xjy4psZX294vx9xZKVUl3pWF6QIAAAAQGoyA0+1w38j9G+t/9My+kbGgpGjj+ty8WXcuL5iaGC0AAAAAIcMIOK1qfB1l1bXPtnbLcc7UxIriwn++aLolAAAAAKHFCDhNeobHHt7a+PC2pt7hMUkuy/r4pZllq7x5aXECAAAAEHqMgNNh176usmrf+roOOWZOir1nZcH1l2cZlyUAAAAAIckIODUjY8HHd7Y8sKnhSN+IHO8/b2pFSdHs6UkCAAAAEMKMgFPw+pG+NTV1//fSQVt/kRYX9bWleV9ckBMX5RYAAACA0GYEvCdB2/75cwcq19U1HRuUY1FuWtVq76LcNAEAAAAIB0bAyWvtHrp3ff1/PNs6FrQlxUW5v7gg52tL89LiogQAAAAgTBgBJ+n3rx0uq/a9dLBXjtnTkypLiq46b6oAAAAAhBUj4IQdGxj9xubGR3c0D44GJBmXdf3lWfesLJg5KVYAAAAAwo0RcGK2Nh4rq/ZtazomR15afNmqwo9fmumyLAEAAAAIQ0bA3zMwGvje083f3NzYOTgqyZI+fNH0NcXec6YmCAAAAEDYMgLe1YttPWU1vj+8dkSOjMToO5YXfG7erGjjEgAAAIBwZgQcx1jQfmJ3630b6vd3D8mxqjC9crV3blaKAAAAAIQ/I+CdNB4bqFhX91/PtQVtW1JSjLllUe5XFuclxRgBAAAAiAhGwFvZ0v++eHDNOt8bR/rlmJuVUlniXeVNFwAAAIAIYgT8jcN9Iw9srP/hM/tGxoKSoo3rs/Nm3bm8ICMxWgAAAAAiixHwV+t8HWXVtbtbu+U4Z2rCmmLvhy+abgkAAABABDICpN7hsW9vbXx4W1Pv8Jgkl2V97NLM8lWFeWnxAgAAABChjDDh7W7tKl3rW1/XIcfMSbH3rCi4fm6WcVkCAAAAELmMMIGNjAUff2bfAxvrj/SNyHHVeVMri72zM5MFAAAAINIZYaJ640h/eY3v/146aOsvUuOiblua98UFOXFRbgEAAACYAIww8QRt+z+fa6tcV9d4bECORblplSXexXlpAgAAADBhGGGC2d89dO/6+n9/tnUsaEuKi3LfND/ntmV5aXFRAgAAADCRGGEi+f1rR8qra1882CvHRdOTKku87z8vQwAAAMD/1x68AFdZH3gf/z3n+R+SEAiJMeRAFLmGS1UUfBFRFjAILJhKpS1lXZx2rVVZqAItF1FupgiliC3qaAd2B996e9fx0lq5CCIolUbUICIkQLhoJMkJhITcSM55nnf2zDijg1jaeuDkeb6fD/zHCP5wvKF5+ZaDq9451NAclWQC1k8GdXnwpl6XpqcIAAAAgC8ZwQe2lR5/cF3xttLjiume2XbBqNx/H3hJwLIEAAAAwK+M4GkNzdFV7xxavuXg8YZmSZb0/f6dF47O7ZfdXgAAAAD8zQjeVfR57YL1+/64p0Ix2e2T5t7Y8+4hXZNMQAAAAAB8zwheFHHc/yo8WvDG/k9PNirmptysxWN6D74sQwAAAAAQYwTPOXi8YfHG4j+8X+a4rqS0ZDP9X7pPH9ajQ7IRAAAAAHzBCB7iSi/u+nzBhuK9FXWKGdQlffGYPqN7ZwkAAAAAvsoIXlFx6vTDm/c/+e6R0xFHUpIJ3HXdZXPzeoXaJwkAAAAAzmAET3ijJPzguuK/Hq1WTJ+O7RaN7v2DqzpbAgAAAICvZ4RWrrYpsnJb6SNbD9Y2RSQFLOu2ATnzR+X2vDhVAAAAAHB2RmjN/nr05Pz1+zYWhxVzSXrKAyN7/cegLkHbEgAAAAB8IyO0TqcjzlPvHnl48/7yU6cVk98ve9GY3lfndBAAAAAAnAMjtEJ7K+oWbiz+n6LPXf2vi9oGfzmi57QbuqW2sQUAAAAA58YIrYrjus+8X7bojZKDVfWKGdr9oofG9BnWI1MAAAAA8PcwQuvx6cnGX23av+avRyOOK6lt0J56Q7dZI3pkprYRAAAAAPydjNBK/GlPxfwNxUVlNYrp3zlt0ejet1weEgAAAAD8Q4yQ8E40NC/fcnDVO4fqm6OSTMD6yaBLHxiZ2yUjRQAAAADwjzJCYttWenz++uKtB48rpntm2/k35U6+5pKAZQkAAAAA/glGSFQNzdHHth/69ZaDx+ubJVnShP6dFo3u3S+7vQAAAADgn2aEhLTr89r564v/uKdcMdntk+bc2POeIV2TTEAAAAAA8G0wQoKJOO5/Fx4teGP/0ZONihmZm/XQmN6DL8sQAAAAAHx7jJBISo83LN5Y8n/f/8xxXUntk8z0Yd1nDOveITkoAAAAAPhWGSExuNKLuz5fuKHkk4pTihnUJX3xmD6je2cJAAAAAOLACAmg4tTph9888ORfDp+OOJLamMBdgy+bm9erU1qSAAAAACA+jHChvVESnr++eMeRasX06dhu4ejeP+zf2bIEAAAAAPFjhAuntiny6LbSR7YerGmKSApY1r8NyFkwKrfnxakCAAAAgDgzwgVSePTk/PX7NhSHFXNJh+R5N+XeMahL0LYEAAAAAPFnhPPudMT5/Y4jSzbtLz91WjE398tePKb31TkdBAAAAADnixHOr32VdQs3FP+/os9d/a+L2gZ/Mbznz4d2S21jCwAAAADOIyOcL47rPvNB2eKNJQeq6hUztNtFi/+1z/AemQIAAACA884I58VnJxsLNu3/r8KjLVFXUkrQnnpD11kjel6c2kYAAAAAcCEYIf5e+6Ri/vriD8tqFHNl57TFo3vfcnlIAAAAAHDhGCGeTjS0PLr9wKq3D9U3RyWZgPXj/3PpgzfldslIEQAAAABcUEaIm8Ky+t/98ei20hOK6ZbZdv5NuZOvucS2LAEAAADAhWaEOGhoiT7xXvkT71VUN0YkWdKEKzstHN37O6H2AgAAAIDEYIQ4aBu0e12U0hRxJHVslzQnr+c9Q7omm4AAAAAAIGEYIT5u6tHhJ1dl7auOFIzte91lGQIAAACABGOEuLl7YMdOoeyL26cIAAAAABKPEeImPdnukGwEAAAAAAnJCAAAAADgS0YAAAAAAF8yAgAAAAD4khEAAAAAwJeMAAAAAAC+ZAQAAAAA8CUjAAAAAIAvGQEAAAAAfMnovGhsbNy8efObb765f//+mpqanJycIUOGjBkzplevXgIAAAAAXAhG8bd79+5p06Zt27bNdV194fnnn8/MzPzlL385c+ZMY4wAAAAAAOeXUZyVl5fffvvtRUVFlmWNGDEiLy8vJSVl7969f/rTnyoqKubMmVNXV/fQQw8JAAAAAHB+GcXZU089VVRUJGnp0qXTp08PBoOK2bt37+TJk99///1HHnkkPz9/0KBB8gpXOlLdWFRW1xyJfsfU987uYAKWAAAAACDBGMVTU1PTiy++KOnaa6+dNm1aMBjUF/r27btq1aobb7yxoaHhhRdeGDRokDzhr0eql791cMuBqurGFrlKTTp8bZf0+/6l+839sgUAAAAAicQonsrKyg4dOiRp/PjxKSkp+qprrrmmT58+RUVFH3/8sTzhmQ/Kpr/6cbiuWV+oOx3ZvL9q++HqB0f2un9kLwEAAABAwjCKp/Lycklt2rS5/PLLdQbbtoPBoCTHcdT67ThSPf3Vj8N1zTpDU0t00caSbpltJ12dIwAAAABIDEbx1K1bt61bt0rKycnRGcrKyo4ePSqpa9euauVc6TdvHQzXNessmqPOr988cHO/7PZJRgAAAACQAIziqXOMvo7ruo888khFRYVt27feeqvOrq6uTmdXX1/vuq5lWW6MLpAj1Y1bDlTpG3107NR7R0+O6JkpAJ7gfpUAeJEbI8mNEQAvcr9ECcN1XcWf0YVw8uTJJUuW/O53v5P0/e9/f9SoUTq7urq6YcOG6SwikYgbU1lZ6bquLpCisrrqxhZ9I8d1dx4s65PaLACe4DhOZWWl67qSbNsWAC+KRqOVlZWWZUkKBAIC4EWRSKSystK2bUmWZSkxhMNhx3ECgYDiyej8ikQiL7300vLly3fu3Clp1KhRK1eutG1b36impqa+vl5fJyUlRTHRGF0gzZGoXP1NzREnGo0KgCc4jhONRl3XjUajAuBR0RjLsqLRqOu6AuBFkUgkGo1KikajlmUpMUSjUcWf0Xn0l7/8paCgYP369a7rpqam3nHHHQsXLszIyNDfsm3bNp1FVVXV+PHjA4FAx44ds7OzdYF8x9SnJh2uOx3RN7rysuxQKEsAPMFxHEmu64ZCIdu2BcCLotGoJMuyQqFQIBAQAC9qaWmxLMu27VAoZFmWEoNlWYFAQHFmdF5UV1cvXbr08ccfr6+vDwaDN99886xZswYPHqxzEIrRWaSlpQUCAUnGmGAwqAukd3aHa7ukb95fpbPrntl2cLfMYDAoAJ7gOI4xxnXdYDBo27YAeFEgEDDGWJYVDAYDgYAAeJQxxrbtYDBoWZYSgzFG8WcUfyUlJXfeeee2bdsk5eXlzZw5c8yYMZZlyUNMwLp3aPfth6ubWqI6i6nXd+vYLkkAAAAAkBiM4qyiomLy5MmFhYUdOnSYP3/+lClTkpOT5UX538l+cGSvRRtLmqOOzvAfg7r85w1dBQAAAAAJwyjOfvWrXxUWFqanpz/zzDNjx46Vp90/sle3zLa/fvPAR8dOOa6rmO6Zbf/z+m5Tb+jaxg4IAAAAABKGUTwdPnz4mWeekXTfffeNHTtWPjDp6pyb+2W/d/TkzoNlzRHnysuyB3fL7NguSQAAAACQYIzi6d133z1x4oRt23379n3nnXd0Fm3atBk0aJC8on2SGdEzs09qczQaDYWygsGgAAAAACDxGMXTrl27JEWj0YkTJ+rsbrvttj/84Q8CAAAAAJxHRvF09OhRy7Jc19XZWTECAAAAAJxfRvH085//fOrUqfpbkpKSBAAAAAA4v4ziafDgwQIAAAAAJCQjAAAAAIAvGQEAAAAAfMkIAAAAAOBLRgAAAAAAXzICAAAAAPiSEQAAAADAl4wAAAAAAL5kBAAAAADwJSMAAAAAgC8ZAQAAAAB8yQgAAAAA4EtGAAAAAABfMgIAAAAA+JIRAAAAAMCXjAAAAAAAvmQEAAAAAPAlIwAAAACALxkBAAAAAHzJCAAAAADgS0YAAAAAAF8yAgAAAAD4khEAAAAAwJeMWrlwOOw4jqRwOKyE4bpuOByORqOWZRljBMCLXNcNh8Ou6wZiBMCLHMcJh8OWZQUCAcuyBMCLIpFIOBy2bduKUWIIh8OO40gKh8OhUEjxYdT6HT9+XFJeXl4gEFDCcBxHUiAQEADvchxHUiAQEADvchxHUiAQEADvchxHUiAQUMJwHOf48eOKMyPEgeu6inEcJxAICIAXua6rGMdxAoGAAHiR4ziKcV3XsiwB8CLHcRTjuq5lWfITo9bvww8/lGRZVlZWlhJDfX39qFGjTp069corr3Tv3l0AvKi6ujovLy8SiWzYsKFTp04C4EXHjh0bPXq0MWbz5s0ZGRkC4EWlpaXjx49v3779xo0bU1NTlRjC4bDruoozo1buiiuuUOKpq6szxjQ2Nl588cWhUEgAvCgYDNq23dzcnJWVFQqFBMCLIpGI4zi2bXfs2DEzM1MAvKi2traxsTEjIyM7O7tdu3ZKDKFQSPFnBAAAAADwJSMAAAAAgC8ZAQAAAAB8yQgAAAAA4EtGAAAAAABfMgIAAAAA+JIRAAAAAMCXjBA3qampAuB1xhgB8DRjjAB4XWpqqnzJCPGxdetWAfC69957TwA8zRhTVFQkAJ6WlpZWVFQkXzJCHLSLEQBPy8zMFACvC4VCAuB1oVBIfmUEAAAAAPAlIwAAAACALxkBAAAAAHzJCAAAAADgS0YAAAAAAF8yAgAAAAD4khEAAAAAwJeMAAAAAAC+ZAQAAAAA8CUjxM2jjz5aUVExY8aMrKwsAfAQ13U//vjjnTt3HjlypKWl5dJLL7322muvvPJK27YFwCuqq6vffffdTz75pKqqKiMjo1evXoMHD+7cubMAeNeuXbuef/755OTkBQsWyB+MEB+nTp36/e9/f+TIkalTpwqAh+zfv3/u3Lmvv/56Y2OjvpCUlDR8+PAlS5YMGDBAAFq/tWvXLl26dN++ffqSUCh0zz33zJ49OykpSQA8p7a2dvr06Vu2bLnuuusWLFggfzBCfLzyyit79+5t27atAHjIZ599NmHChN27d0vKzc3t27ev4zgHDhzYu3fvhg0bPvrooxdeeGHo0KEC0JqtXbv2zjvvbGlpSUtLGzhwYHp6ekNDw/vvv19eXr5gwYKampoVK1YIgOcsWbJky5YtklzXlW8Y4dt24sSJ119/ffbs2QLgOcuXL9+9e7dlWfPnz58+fXqHDh0k1dfXr127dubMmceOHZsxY8Zbb72VmpoqAK1TOBwuKChoaWnp37//mjVrBgwYYFmWpJKSkp/+9Kdvv/32E088MWHChCFDhgiAh7z88suPPvqo/McI35JoNDp9+vQ9e/aUlJR89tlnAuA5lZWVL774oqTRo0c/8MADxhjFpKamTpky5eTJk/Pmzdu5c+emTZtuueUWAWidtm7deuDAAcuyCgoKBg4cqC/k5uYuW7ZsxIgRTU1Nr7322pAhQwTAK0pLS2fNmtXc3JyTk1NWViY/McK3xHGcTZs2FRcXu65rWZbrugLgLXv27Dl27JikyZMnG2P0VZMmTVq2bFltbe327dtvueUWAWidtm/fLqlz587XX3+9vurqq6/OyckpLS0tKSkRAK9obm6eNWvWgQMHJk6cWFdXV1ZWJj8xwrckGAw+99xzrusqZsOGDXPmzBEADzly5IjruklJSVdddZXOkJmZ2a5du9ra2ubmZgFotU6cONEzJi0tTV9lWZZibNsWAK9YtWrVSy+9lJubW1BQcN9998lnjPDt6d+/v77w9ttvC4C3XHrppY899phlWTk5OTrD4cOHT5w4ISkUCglAq7V69WrXdS3Lsm1bX7V3796KigpJgwcPFgBPeOeddwoKCpKTk3/zm9/07NlT/mMEADg3eTH6Oq7rPvXUU01NTcnJyXl5eQLQagWDQX1JU1NTQ0NDbW3tjh07li9fXl9ff9VVV02aNEkAWr9wOHzvvfeePHlyzpw5+fn58iUjAMA/5/Tp0ytWrHjyyScl/fCHP7zmmmsEwCt+8IMf7Nixo7Gxsb6+3rbt733ve0uXLg2FQgLQyrmu++CDD37wwQfDhg2bO3eu/MoIAPBP2Lp168MPP7xhwwZJN9xww7JlyyzLEgCviEQitbW1LS0tiqmpqTl06FBubq4AtHJPP/306tWrO3bsuGLFirS0NPmVEQDgH7Jv377ly5c/++yzTU1Ntm1PmjRpxYoVHTt2FAAPefzxxyORSFVV1QcffPDkk0+++eabhYWFq1evnjhxogC0Wrt3777//vslLVq0aODAgfIxIwDA36mxsXHVqlUrVqyorKyUdN11182ePTs/Pz8QCAiAt3Tv3l1Sbm7ukCFDvvvd7+bn53/00UeLFy8eN25cu3btBKAVqq+vnzlz5ueff3777bffcccd+jqu61qWJR8wAgD8PQ4fPjxlypR169ZJ6t+//7333vujH/0oJSVFALyuS5cuP/7xj2fMmFESM2DAAAFohQ4ePLh58+aUlJQ2bdpMnTpVX1JeXi7p1KlTd999t6Ts7OzFixfL04wAAOfs2LFjEydOLCwsTE5OnjFjxsyZMy+66CIB8Ipjx46tXLkyGo0OHTp0/PjxOkO/fv0kRSKRqqoqAWjNGhsbV69era+zJ0bS+PHj5XVGAIBzNm/evMLCwg4dOqxZs2bChAkC4C1t27Z99tlny8rKkpKSxo8frzNUV1dLsiwrLS1NAFqnQCCQn5/vOI7OUFxcXFJS0rVr1yuuuEJSjx495HVGAIBzs3Pnzueee07SwoULJ0yYIACek5aW1rdv37Kyss2bNzc1NSUnJ+ur3njjDUlZWVldunQRgNbp8ssvf+WVV3QG13Xz8/NLSkpCodDLL79s27Z8wAgAcG7WrVvX1NSUmZk5fPjwqqoqnYVt2xkZGQLQClmWdeutt27atKmwsPCxxx6bMWNGIBDQF55//vlnn31W0rhx4zp37iwA3mJZlr5g27b8wQgAcG4+/PBDScePHx8+fLjOwrKsefPm/eIXvxCA1mnSpElPP/30jh07Zs+evXXr1htvvPGSSy4pLy9/6623Xnvttebm5p49e86dO1cA4AlGAIBzEI1GP/30U8XU1NQIgEelp6evWbPmZz/72fbt21+L0ZcMGTLkt7/9ba9evQTAuyzLkm8YIT569OixcuVKy7KCwaAAtH6u695+++233Xab/pZOnToJQGvWr1+/devWvfrqq3/+859LS0tramrS09N79+49bty4sWPHtmvXTgA8Kj8/f+TIkZZlyTeMEB9jYwTAK4wx06ZNEwB/aN++/b/HuK4bjUZt27YsSwC87q677pLPGAEAAOAsLMsyxggAPMoIAAAAAOBLRgAAAAAAXzICAAAAAPiSEQAAAADAl4wAAAAAAL5kBAAAAADwJSMAAAAAgC8ZAQAAAAB8yQgAAAAA4EtGAAAAAABfMgIAAAAA+JIRAAAAAMCXjAAAAAAAvmQEAAAAAPAlIwAAAACALxkBAAAAAHzJCAAAAADgS0YAAAAAAF8yAgAAAAD4khEAAAAAwJeMAAAAAAC+ZAQAAAAA8CUjAAAAAIAvGQEAAAAAfMkIAAAAAOBLRgAAAAAAXzICAAAAAPiSEQAAAADAl4wAAAAAAL5kBAAAAADwJSMAAAAAgC8ZAQAAAAB8yQgAAAAA4Ev/H2Mj0Mk6wk4dAAAAAElFTkSuQmCC\"/>"
      ]
     },
     "metadata": {},
     "output_type": "display_data"
    }
   ],
   "source": [
    "scatter([2, 3, 5, 5])\n",
    "lines!([2.1\n",
    "3.2\n",
    "4.300000000000001\n",
    "5.4])\n",
    "current_figure()"
   ]
  },
  {
   "cell_type": "markdown",
   "metadata": {},
   "source": [
    "## Multiple Linear Regression"
   ]
  },
  {
   "cell_type": "code",
   "execution_count": 72,
   "metadata": {},
   "outputs": [
    {
     "data": {
      "text/html": [
       "[1 u[1] v[1] w[1]; 1 u[2] v[2] w[2]; 1 u[3] v[3] w[3]; 1 u[4] v[4] w[4]]"
      ],
      "text/latex": [
       "\\begin{array}{cccc}\n",
       "1 & \\mathop{\\mathrm{u[1]}} & \\mathop{\\mathrm{v[1]}} & \\mathop{\\mathrm{w[1]}} \\\\\n",
       "1 & \\mathop{\\mathrm{u[2]}} & \\mathop{\\mathrm{v[2]}} & \\mathop{\\mathrm{w[2]}} \\\\\n",
       "1 & \\mathop{\\mathrm{u[3]}} & \\mathop{\\mathrm{v[3]}} & \\mathop{\\mathrm{w[3]}} \\\\\n",
       "1 & \\mathop{\\mathrm{u[4]}} & \\mathop{\\mathrm{v[4]}} & \\mathop{\\mathrm{w[4]}}\n",
       "\\end{array}"
      ],
      "text/plain": [
       "[1   u[1]   v[1]   w[1]]\n",
       "[1   u[2]   v[2]   w[2]]\n",
       "[1   u[3]   v[3]   w[3]]\n",
       "[1   u[4]   v[4]   w[4]]"
      ]
     },
     "metadata": {},
     "output_type": "display_data"
    }
   ],
   "source": [
    "X = R[ones(1, 4)[:] u v w]"
   ]
  },
  {
   "cell_type": "code",
   "execution_count": 73,
   "metadata": {},
   "outputs": [
    {
     "data": {
      "text/html": [
       "[b b*u[1] b*v[1] b*w[1]]"
      ],
      "text/latex": [
       "\\begin{array}{cccc}\n",
       "b & b \\mathop{\\mathrm{u[1]}} & b \\mathop{\\mathrm{v[1]}} & b \\mathop{\\mathrm{w[1]}}\n",
       "\\end{array}"
      ],
      "text/plain": [
       "[b   b*u[1]   b*v[1]   b*w[1]]"
      ]
     },
     "metadata": {},
     "output_type": "display_data"
    }
   ],
   "source": [
    "β = R[b b*u[1] b*v[1] b*w[1]]"
   ]
  },
  {
   "cell_type": "markdown",
   "metadata": {},
   "source": [
    "We have then to add the residuals error to the product of X. \n",
    "Because this are vectors spaces we can use the associative property we will map the sum of β with ℇ.\n",
    "\n",
    "The reason to do this hear is that we can't broadcast β .+ ℇ..."
   ]
  },
  {
   "cell_type": "code",
   "execution_count": 74,
   "metadata": {},
   "outputs": [
    {
     "data": {
      "text/plain": [
       "4-element Vector{AbstractAlgebra.Generic.MPoly{AbstractAlgebra.Generic.MPoly{AbstractAlgebra.Generic.MPoly{AbstractAlgebra.Generic.MPoly{AbstractAlgebra.Generic.MPoly{AbstractAlgebra.Generic.MPoly{AbstractAlgebra.Generic.MPoly{BigFloat}}}}}}}}:\n",
       " ℇ[1] + b\n",
       " b*u[1] + ℇ[2]\n",
       " ℇ[3] + b*v[1]\n",
       " b*w[1] + ℇ[4]"
      ]
     },
     "metadata": {},
     "output_type": "display_data"
    }
   ],
   "source": [
    "map(x ->  (β[x] + ℇ[x]), 1:4)"
   ]
  },
  {
   "cell_type": "markdown",
   "metadata": {},
   "source": [
    "Having understood what is need for the computation of a multivariable regression, we have now the fallowing equation:\n",
    "$$\n",
    "    Y = Xβ + ℇ\n",
    "$$"
   ]
  },
  {
   "cell_type": "code",
   "execution_count": 75,
   "metadata": {},
   "outputs": [
    {
     "data": {
      "text/plain": [
       "[2.0 3.0 5.0 5.0] ~ AbstractAlgebra.Generic.MPoly{AbstractAlgebra.Generic.MPoly{AbstractAlgebra.Generic.MPoly{AbstractAlgebra.Generic.MPoly{AbstractAlgebra.Generic.MPoly{AbstractAlgebra.Generic.MPoly{AbstractAlgebra.Generic.MPoly{BigFloat}}}}}}}[b*w[1]^2 + ℇ[4]*w[1] + b*u[1]^2 + ℇ[2]*u[1] + ℇ[1] + v[1]*ℇ[3] + b*v[1]^2 + b, b*w[1]*w[2] + ℇ[4]*w[2] + b*u[1]*u[2] + ℇ[2]*u[2] + ℇ[1] + v[2]*ℇ[3] + b*v[1]*v[2] + b, b*w[1]*w[3] + ℇ[4]*w[3] + b*u[1]*u[3] + ℇ[2]*u[3] + ℇ[1] + v[3]*ℇ[3] + b*v[1]*v[3] + b, b*w[1]*w[4] + ℇ[4]*w[4] + b*u[1]*u[4] + ℇ[2]*u[4] + ℇ[1] + v[4]*ℇ[3] + b*v[1]*v[4] + b]"
      ]
     },
     "metadata": {},
     "output_type": "display_data"
    }
   ],
   "source": [
    "Y ~ X * map(x ->  (β[x] + ℇ[x]), 1:4)"
   ]
  },
  {
   "cell_type": "markdown",
   "metadata": {},
   "source": [
    "## How Good Is the Fit?"
   ]
  },
  {
   "cell_type": "code",
   "execution_count": 76,
   "metadata": {},
   "outputs": [
    {
     "data": {
      "text/html": [
       "[b b 1.767561366342004447460567462258040904998779296875*b 0.792361454414235222287743454216979444026947021484375*b]"
      ],
      "text/latex": [
       "\\begin{array}{cccc}\n",
       "b & b & 1.767561366342004447460567462258040904998779296875 b & 0.792361454414235222287743454216979444026947021484375 b\n",
       "\\end{array}"
      ],
      "text/plain": [
       "[b   b   1.767561366342004447460567462258040904998779296875*b   0.792361454414235222287743454216979444026947021484375*b]"
      ]
     },
     "metadata": {},
     "output_type": "display_data"
    }
   ],
   "source": [
    "u = map(x -> x, 1:4);\n",
    "v = map(x -> x + rand(), 1:4);\n",
    "w = map(x -> x * rand(), 1:4);\n",
    "X = [ones(1, 4)[:] u v w];\n",
    "Y = [2, 3, 5, 5];\n",
    "β = R[b b*u[1] b*v[1] b*w[1]]"
   ]
  },
  {
   "cell_type": "markdown",
   "metadata": {},
   "source": [
    "With the given values and chaged the fields our a normal equation to solve for β will give us a β̂ vector extimator:"
   ]
  },
  {
   "cell_type": "code",
   "execution_count": 77,
   "metadata": {},
   "outputs": [
    {
     "data": {
      "text/plain": [
       "β̂ ~ [58.16475026867718 -248.48341656186525 379.4020529523586 -165.4476157896469; 148.44718203460744 -694.6893993854596 1060.0829401840538 -457.42030356804975; -130.58451097110776 624.3848012893766 -965.8226107717144 419.75922850947; -186.16864001092952 822.5125579498065 -1234.2333210494523 529.6774188065272]"
      ]
     },
     "metadata": {},
     "output_type": "display_data"
    }
   ],
   "source": [
    "β̂ ~ inv(transpose(X)*X) * inv(X) .* Y"
   ]
  },
  {
   "cell_type": "code",
   "execution_count": 80,
   "metadata": {},
   "outputs": [
    {
     "data": {
      "text/plain": [
       "4×4 Matrix{Float64}:\n",
       "   58.1648  -248.483    379.402  -165.448\n",
       "  148.447   -694.689   1060.08   -457.42\n",
       " -130.585    624.385   -965.823   419.759\n",
       " -186.169    822.513  -1234.23    529.677"
      ]
     },
     "metadata": {},
     "output_type": "display_data"
    }
   ],
   "source": [
    "data = [58.16475026867718 -248.48341656186525 379.4020529523586 -165.4476157896469; 148.44718203460744 -694.6893993854596 1060.0829401840538 -457.42030356804975; -130.58451097110776 624.3848012893766 -965.8226107717144 419.75922850947; -186.16864001092952 822.5125579498065 -1234.2333210494523 529.6774188065272]"
   ]
  },
  {
   "cell_type": "code",
   "execution_count": 78,
   "metadata": {},
   "outputs": [
    {
     "data": {
      "text/plain": [
       "4×4 Matrix{Float64}:\n",
       "  2.0          -3.2864e-15    9.11283e-15   6.03772e-15\n",
       "  3.33277e-14   3.0          -8.42418e-14   8.79462e-14\n",
       " -1.87087e-15  -2.03626e-13   5.0          -7.9179e-14\n",
       " -1.1987e-13   -2.05306e-13  -5.25265e-13   5.0"
      ]
     },
     "metadata": {},
     "output_type": "display_data"
    }
   ],
   "source": [
    "ŷ = X*inv(transpose(X)*X) * transpose(X) .* Y"
   ]
  }
 ],
 "metadata": {
  "kernelspec": {
   "display_name": "Julia 1.11.2",
   "language": "julia",
   "name": "julia-1.11"
  },
  "language_info": {
   "file_extension": ".jl",
   "mimetype": "application/julia",
   "name": "julia",
   "version": "1.11.2"
  }
 },
 "nbformat": 4,
 "nbformat_minor": 2
}
