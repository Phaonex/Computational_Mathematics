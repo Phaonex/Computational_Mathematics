{
 "cells": [
  {
   "cell_type": "code",
   "execution_count": 339,
   "metadata": {},
   "outputs": [],
   "source": [
    "\n",
    "using Latexify\n",
    "using AbstractAlgebra\n",
    "using GLMakie"
   ]
  },
  {
   "cell_type": "code",
   "execution_count": 340,
   "metadata": {},
   "outputs": [
    {
     "name": "stderr",
     "output_type": "stream",
     "text": [
      "WARNING: replacing module linearUtils.\n"
     ]
    }
   ],
   "source": [
    "include(\"mdulos/liner_utils.jl\")\n",
    "using .linearUtils"
   ]
  },
  {
   "cell_type": "code",
   "execution_count": 341,
   "metadata": {},
   "outputs": [
    {
     "data": {
      "text/plain": [
       "true"
      ]
     },
     "metadata": {},
     "output_type": "display_data"
    }
   ],
   "source": [
    "Makie.inline!(true)"
   ]
  },
  {
   "cell_type": "markdown",
   "metadata": {},
   "source": [
    "# EIGENVECTORS AND EIGENVALUES: \n",
    "GEOMETRY"
   ]
  },
  {
   "cell_type": "code",
   "execution_count": 342,
   "metadata": {},
   "outputs": [
    {
     "data": {
      "text/plain": [
       "(Multivariate polynomial ring in 12 variables over floats, AbstractAlgebra.Generic.MPoly{BigFloat}[F, R, n, p, a, b, λ, A, I, x, y, k])"
      ]
     },
     "metadata": {},
     "output_type": "display_data"
    }
   ],
   "source": [
    "RR = RealField;\n",
    "RRs, (F, R, n, p, a, b, λ, A, I, x, y, k) = polynomial_ring(RR, [:F, :R, :n, :p, :a, :b, :λ, :A, :I, :x, :y, :k])"
   ]
  },
  {
   "cell_type": "code",
   "execution_count": 343,
   "metadata": {},
   "outputs": [
    {
     "data": {
      "text/plain": [
       "(Multivariate polynomial ring in 2 variables over multivariate polynomial ring, AbstractAlgebra.Generic.MPoly{AbstractAlgebra.Generic.MPoly{AbstractAlgebra.Generic.MPoly{BigFloat}}}[w[1], w[2]])"
      ]
     },
     "metadata": {},
     "output_type": "display_data"
    }
   ],
   "source": [
    "R, v = polynomial_ring(RRs, :v => (1:2))\n",
    "R, w = polynomial_ring(R, :w => (1:2))"
   ]
  },
  {
   "cell_type": "markdown",
   "metadata": {},
   "source": [
    "## The Geometry of Eigenvectors and Eigenvalues"
   ]
  },
  {
   "cell_type": "code",
   "execution_count": 344,
   "metadata": {},
   "outputs": [
    {
     "ename": "MethodError",
     "evalue": "MethodError: no method matching *(::AbstractAlgebra.Generic.MPoly{BigFloat}, ::Vector{AbstractAlgebra.Generic.MPoly{AbstractAlgebra.Generic.MPoly{BigFloat}}})\nThe function `*` exists, but no method is defined for this combination of argument types.\n\nClosest candidates are:\n  *(::Any, ::Any, !Matched::Any, !Matched::Any...)\n   @ Base operators.jl:596\n  *(!Matched::SciMLOperators.IdentityOperator, ::AbstractVecOrMat)\n   @ SciMLOperators ~/.julia/packages/SciMLOperators/KVzmP/src/basic.jl:41\n  *(!Matched::Symbolics.Differential, ::Any)\n   @ Symbolics ~/.julia/packages/Symbolics/YbNrd/src/diff.jl:53\n  ...\n",
     "output_type": "error",
     "traceback": [
      "MethodError: no method matching *(::AbstractAlgebra.Generic.MPoly{BigFloat}, ::Vector{AbstractAlgebra.Generic.MPoly{AbstractAlgebra.Generic.MPoly{BigFloat}}})\n",
      "The function `*` exists, but no method is defined for this combination of argument types.\n",
      "\n",
      "Closest candidates are:\n",
      "  *(::Any, ::Any, !Matched::Any, !Matched::Any...)\n",
      "   @ Base operators.jl:596\n",
      "  *(!Matched::SciMLOperators.IdentityOperator, ::AbstractVecOrMat)\n",
      "   @ SciMLOperators ~/.julia/packages/SciMLOperators/KVzmP/src/basic.jl:41\n",
      "  *(!Matched::Symbolics.Differential, ::Any)\n",
      "   @ Symbolics ~/.julia/packages/Symbolics/YbNrd/src/diff.jl:53\n",
      "  ...\n",
      "\n",
      "\n",
      "Stacktrace:\n",
      " [1] top-level scope\n",
      "   @ ~/Documents/linierAlgebra/julia/project_1/src/jl_notebook_cell_df34fa98e69747e1a8f8a730347b8e2f_Y134sZmlsZQ==.jl:1"
     ]
    }
   ],
   "source": [
    "A * v"
   ]
  },
  {
   "cell_type": "code",
   "execution_count": 345,
   "metadata": {},
   "outputs": [
    {
     "data": {
      "text/plain": [
       "2-element Vector{AbstractAlgebra.Generic.MPoly{AbstractAlgebra.Generic.MPoly{BigFloat}}}:\n",
       " v[1]\n",
       " v[2]"
      ]
     },
     "metadata": {},
     "output_type": "display_data"
    }
   ],
   "source": [
    "A = v"
   ]
  },
  {
   "cell_type": "markdown",
   "metadata": {},
   "source": [
    "## Verifying That a Vector Is an Eigenvector"
   ]
  },
  {
   "cell_type": "code",
   "execution_count": 346,
   "metadata": {},
   "outputs": [
    {
     "data": {
      "text/html": [
       "[1 2.0; 5.0 4.0]"
      ],
      "text/latex": [
       "\\begin{array}{cc}\n",
       "1 & 2.0 \\\\\n",
       "5.0 & 4.0\n",
       "\\end{array}"
      ],
      "text/plain": [
       "[  1   2.0]\n",
       "[5.0   4.0]"
      ]
     },
     "metadata": {},
     "output_type": "display_data"
    }
   ],
   "source": [
    "A = R[1 2; 5 4]"
   ]
  },
  {
   "cell_type": "code",
   "execution_count": 347,
   "metadata": {},
   "outputs": [
    {
     "data": {
      "text/plain": [
       "2-element Vector{AbstractAlgebra.Generic.MPoly{AbstractAlgebra.Generic.MPoly{AbstractAlgebra.Generic.MPoly{BigFloat}}}}:\n",
       " 12.0\n",
       " 30.0"
      ]
     },
     "metadata": {},
     "output_type": "display_data"
    }
   ],
   "source": [
    "A*[2; 5]"
   ]
  },
  {
   "cell_type": "code",
   "execution_count": 348,
   "metadata": {},
   "outputs": [
    {
     "data": {
      "text/plain": [
       "2-element Vector{Int64}:\n",
       " 12\n",
       " 30"
      ]
     },
     "metadata": {},
     "output_type": "display_data"
    }
   ],
   "source": [
    "6*[2; 5]"
   ]
  },
  {
   "cell_type": "code",
   "execution_count": 349,
   "metadata": {},
   "outputs": [
    {
     "data": {
      "text/plain": [
       "[12.0; 30.0] ~ [12, 30] ~ [12, 30]"
      ]
     },
     "metadata": {},
     "output_type": "display_data"
    }
   ],
   "source": [
    "A*R[2;5] ~ [12; 30] ~ 6*[2; 5]"
   ]
  },
  {
   "cell_type": "markdown",
   "metadata": {},
   "source": [
    "This mean that now we have all the elements for the equation:"
   ]
  },
  {
   "cell_type": "code",
   "execution_count": 350,
   "metadata": {},
   "outputs": [
    {
     "data": {
      "text/plain": [
       "AbstractAlgebra.Generic.MPoly{AbstractAlgebra.Generic.MPoly{AbstractAlgebra.Generic.MPoly{BigFloat}}}[v[1] + 2.0*v[2], 5.0*v[1] + 4.0*v[2]] ~ AbstractAlgebra.Generic.MPoly{AbstractAlgebra.Generic.MPoly{AbstractAlgebra.Generic.MPoly{BigFloat}}}[w[1], w[2]] ~ AbstractAlgebra.Generic.MPoly{AbstractAlgebra.Generic.MPoly{BigFloat}}[λ*v[1], λ*v[2]]"
      ]
     },
     "metadata": {},
     "output_type": "display_data"
    }
   ],
   "source": [
    "A * v ~ w ~ λ .* v"
   ]
  },
  {
   "cell_type": "markdown",
   "metadata": {},
   "source": [
    "We can then see that the eingenvectors corrisponde to an eingenspace.\n",
    "\n",
    "$$\n",
    "    A*(v + w) ~ A*v + A*w\n",
    "$$"
   ]
  },
  {
   "cell_type": "code",
   "execution_count": 351,
   "metadata": {},
   "outputs": [
    {
     "data": {
      "text/plain": [
       "expr (generic function with 2 methods)"
      ]
     },
     "metadata": {},
     "output_type": "display_data"
    }
   ],
   "source": [
    "expr(v, w, A = A) = A*(v + w) ~ A*v + A*w"
   ]
  },
  {
   "cell_type": "code",
   "execution_count": 352,
   "metadata": {},
   "outputs": [
    {
     "data": {
      "text/plain": [
       "2-element Vector{AbstractAlgebra.Generic.MPoly{AbstractAlgebra.Generic.MPoly{AbstractAlgebra.Generic.MPoly{BigFloat}}}}:\n",
       " w[1] + 2.0*w[2] + v[1] + 2.0*v[2]\n",
       " 5.0*w[1] + 4.0*w[2] + 5.0*v[1] + 4.0*v[2]"
      ]
     },
     "metadata": {},
     "output_type": "display_data"
    }
   ],
   "source": [
    "f = A*(v + w)"
   ]
  },
  {
   "cell_type": "code",
   "execution_count": 353,
   "metadata": {},
   "outputs": [
    {
     "data": {
      "text/plain": [
       "typeof(expr) (singleton type of function expr, subtype of Function)"
      ]
     },
     "metadata": {},
     "output_type": "display_data"
    }
   ],
   "source": [
    "typeof(expr)"
   ]
  },
  {
   "cell_type": "markdown",
   "metadata": {},
   "source": [
    "So by generic function substitution the equuation evaluates to truth1"
   ]
  },
  {
   "cell_type": "code",
   "execution_count": 354,
   "metadata": {},
   "outputs": [
    {
     "data": {
      "text/plain": [
       "[9.0; 27.0] ~ [9.0; 27.0]"
      ]
     },
     "metadata": {},
     "output_type": "display_data"
    }
   ],
   "source": [
    "expr(R[1; 2], RRs[2; 1])"
   ]
  },
  {
   "cell_type": "markdown",
   "metadata": {},
   "source": [
    "## Finding Eigenvectors and Eigenvalues"
   ]
  },
  {
   "cell_type": "markdown",
   "metadata": {},
   "source": [
    "To find it you must solve the eingenvector equation:\n",
    "\n",
    "$$\n",
    "    A*v = \\lambda*v\n",
    "$$"
   ]
  },
  {
   "cell_type": "markdown",
   "metadata": {},
   "source": [
    "By moving everything to the otherside we get:\n",
    "\n",
    "$$\n",
    "    (A*v - \\lambda*v)\n",
    "$$"
   ]
  },
  {
   "cell_type": "markdown",
   "metadata": {},
   "source": [
    "We can then also introducing the calculation using the I as identity of the matrix A so that we have this equation with out the v vector:\n",
    "\n",
    "$$\n",
    "    (A - \\lambda * I)\n",
    "$$\n"
   ]
  },
  {
   "cell_type": "markdown",
   "metadata": {},
   "source": [
    "The equation $$ \\lambda * I $$ is just a matrix with λ down in the main diagonal."
   ]
  },
  {
   "cell_type": "code",
   "execution_count": 355,
   "metadata": {},
   "outputs": [
    {
     "data": {
      "text/html": [
       "[1 0; 0 1]"
      ],
      "text/latex": [
       "\\begin{array}{cc}\n",
       "1 & 0 \\\\\n",
       "0 & 1\n",
       "\\end{array}"
      ],
      "text/plain": [
       "[1   0]\n",
       "[0   1]"
      ]
     },
     "metadata": {},
     "output_type": "display_data"
    }
   ],
   "source": [
    "I = R[1 0; 0 1]"
   ]
  },
  {
   "cell_type": "code",
   "execution_count": 356,
   "metadata": {},
   "outputs": [
    {
     "data": {
      "text/html": [
       "[λ 0; 0 λ]"
      ],
      "text/latex": [
       "\\begin{array}{cc}\n",
       "{\\lambda} & 0 \\\\\n",
       "0 & {\\lambda}\n",
       "\\end{array}"
      ],
      "text/plain": [
       "[λ   0]\n",
       "[0   λ]"
      ]
     },
     "metadata": {},
     "output_type": "display_data"
    }
   ],
   "source": [
    "λ * I"
   ]
  },
  {
   "cell_type": "markdown",
   "metadata": {},
   "source": [
    "So then we can take the determinant of that equation and get the eingenvalues.\n",
    "\n",
    "$$\n",
    "    Det(A - \\lambda * I)\n",
    "$$"
   ]
  },
  {
   "cell_type": "code",
   "execution_count": 357,
   "metadata": {},
   "outputs": [
    {
     "data": {
      "text/html": [
       "λ^2 - 5.0*λ - 6.0"
      ],
      "text/latex": [
       "{\\lambda}^{2} - 5.0 {\\lambda} - 6.0"
      ],
      "text/plain": [
       "λ^2 - 5.0*λ - 6.0"
      ]
     },
     "metadata": {},
     "output_type": "display_data"
    }
   ],
   "source": [
    "det(A - λ * I)"
   ]
  },
  {
   "cell_type": "code",
   "execution_count": 358,
   "metadata": {},
   "outputs": [
    {
     "data": {
      "text/plain": [
       "2-element Vector{AbstractAlgebra.Generic.MPoly{AbstractAlgebra.Generic.MPoly{AbstractAlgebra.Generic.MPoly{BigFloat}}}}:\n",
       " (λ^2 - 5.0*λ - 6.0)*v[1]\n",
       " (λ^2 - 5.0*λ - 6.0)*v[2]"
      ]
     },
     "metadata": {},
     "output_type": "display_data"
    }
   ],
   "source": [
    "det(A - λ * I) .* v"
   ]
  },
  {
   "cell_type": "markdown",
   "metadata": {},
   "source": [
    "So lets compute this with a matrix A as."
   ]
  },
  {
   "cell_type": "code",
   "execution_count": 359,
   "metadata": {},
   "outputs": [
    {
     "data": {
      "text/html": [
       "[1 2.0; 5.0 4.0]"
      ],
      "text/latex": [
       "\\begin{array}{cc}\n",
       "1 & 2.0 \\\\\n",
       "5.0 & 4.0\n",
       "\\end{array}"
      ],
      "text/plain": [
       "[  1   2.0]\n",
       "[5.0   4.0]"
      ]
     },
     "metadata": {},
     "output_type": "display_data"
    }
   ],
   "source": [
    "A = R[1 2; 5 4]"
   ]
  },
  {
   "cell_type": "markdown",
   "metadata": {},
   "source": [
    "So this equation then evaluates to truth."
   ]
  },
  {
   "cell_type": "code",
   "execution_count": 360,
   "metadata": {},
   "outputs": [
    {
     "data": {
      "text/plain": [
       "[-1.0*λ+1 2.0; 5.0 -1.0*λ+4.0] ~ [-1.0*λ+1 2.0; 5.0 -1.0*λ+4.0]"
      ]
     },
     "metadata": {},
     "output_type": "display_data"
    }
   ],
   "source": [
    "A - λ * I ~ R[1 - λ 2; 5 4 - λ]"
   ]
  },
  {
   "cell_type": "markdown",
   "metadata": {},
   "source": [
    "So here we see what the determinant of it is."
   ]
  },
  {
   "cell_type": "code",
   "execution_count": 361,
   "metadata": {},
   "outputs": [
    {
     "data": {
      "text/html": [
       "λ^2 - 5.0*λ - 6.0"
      ],
      "text/latex": [
       "{\\lambda}^{2} - 5.0 {\\lambda} - 6.0"
      ],
      "text/plain": [
       "λ^2 - 5.0*λ - 6.0"
      ]
     },
     "metadata": {},
     "output_type": "display_data"
    }
   ],
   "source": [
    "det(R[-1.0*λ+1 2.0; 5.0 -1.0*λ+4.0])"
   ]
  },
  {
   "cell_type": "code",
   "execution_count": 362,
   "metadata": {},
   "outputs": [
    {
     "data": {
      "text/html": [
       "λ^2 - 5.0*λ - 6.0"
      ],
      "text/latex": [
       "{\\lambda}^{2} - 5.0 {\\lambda} - 6.0"
      ],
      "text/plain": [
       "λ^2 - 5.0*λ - 6.0"
      ]
     },
     "metadata": {},
     "output_type": "display_data"
    }
   ],
   "source": [
    "(1 - λ) * (4 - λ) - 10"
   ]
  },
  {
   "cell_type": "code",
   "execution_count": 363,
   "metadata": {},
   "outputs": [
    {
     "data": {
      "text/html": [
       "λ^2 + 7.0*λ + 6.0"
      ],
      "text/latex": [
       "{\\lambda}^{2} + 7.0 {\\lambda} + 6.0"
      ],
      "text/plain": [
       "λ^2 + 7.0*λ + 6.0"
      ]
     },
     "metadata": {},
     "output_type": "display_data"
    }
   ],
   "source": [
    "(λ + 1) * (λ + 6)"
   ]
  },
  {
   "cell_type": "code",
   "execution_count": 364,
   "metadata": {},
   "outputs": [
    {
     "data": {
      "text/html": [
       "λ^2 - 5.0*λ - 6.0"
      ],
      "text/latex": [
       "{\\lambda}^{2} - 5.0 {\\lambda} - 6.0"
      ],
      "text/plain": [
       "λ^2 - 5.0*λ - 6.0"
      ]
     },
     "metadata": {},
     "output_type": "display_data"
    }
   ],
   "source": [
    "(λ + 1) * (λ - 6)"
   ]
  },
  {
   "cell_type": "markdown",
   "metadata": {},
   "source": [
    "This then would factory out to 2, 6 the eingevalues."
   ]
  },
  {
   "cell_type": "markdown",
   "metadata": {},
   "source": [
    "To find then the eingen space we can plug the λ = 2, λ = 6.\n",
    "\n",
    "$$\n",
    "    (A - 6I) = [0]\n",
    "$$"
   ]
  },
  {
   "cell_type": "markdown",
   "metadata": {},
   "source": [
    "We write it as a system of linear equation using an agumented matrix."
   ]
  },
  {
   "cell_type": "code",
   "execution_count": 365,
   "metadata": {},
   "outputs": [
    {
     "data": {
      "text/html": [
       "[-5.0 2.0 0; 5.0 -2.0 0]"
      ],
      "text/latex": [
       "\\begin{array}{ccc}\n",
       "-5.0 & 2.0 & 0 \\\\\n",
       "5.0 & -2.0 & 0\n",
       "\\end{array}"
      ],
      "text/plain": [
       "[-5.0    2.0   0]\n",
       "[ 5.0   -2.0   0]"
      ]
     },
     "metadata": {},
     "output_type": "display_data"
    }
   ],
   "source": [
    "R[1-6 2 0; 5 4-6 0]"
   ]
  },
  {
   "cell_type": "code",
   "execution_count": 366,
   "metadata": {},
   "outputs": [
    {
     "data": {
      "text/plain": [
       "Linear solving context of matrix\n",
       "  [-5.0    2.0   0]\n",
       "  [ 5.0   -2.0   0]"
      ]
     },
     "metadata": {},
     "output_type": "display_data"
    }
   ],
   "source": [
    "C = solve_init(R[1-6 2 0; 5 4-6 0])"
   ]
  },
  {
   "cell_type": "code",
   "execution_count": 367,
   "metadata": {},
   "outputs": [
    {
     "data": {
      "text/plain": [
       "2-element Vector{AbstractAlgebra.Generic.MPoly{AbstractAlgebra.Generic.MPoly{AbstractAlgebra.Generic.MPoly{BigFloat}}}}:\n",
       " 0\n",
       " 0"
      ]
     },
     "metadata": {},
     "output_type": "display_data"
    }
   ],
   "source": [
    "solve(C, [R(0), R(0), R(0)], side = :left)"
   ]
  },
  {
   "cell_type": "code",
   "execution_count": 368,
   "metadata": {},
   "outputs": [
    {
     "data": {
      "text/plain": [
       "[-5.0 2.0 0; 5.0 -2.0 0] ~ [-5.0 2.0 0; 0 0 0]"
      ]
     },
     "metadata": {},
     "output_type": "display_data"
    }
   ],
   "source": [
    "R[1-6 2 0; 5 4-6 0] ~ R[-5 2 0; 0 0 0]"
   ]
  },
  {
   "cell_type": "markdown",
   "metadata": {},
   "source": [
    "So (-5, 2) as cordiantes x, y given us the equation -5x + 2y = 0"
   ]
  },
  {
   "cell_type": "code",
   "execution_count": 369,
   "metadata": {},
   "outputs": [
    {
     "data": {
      "text/plain": [
       "[x; y] ~ [0.4000000000000000000000000000000000000000000000000000000000000000000000000000009*y; y] ~ [0.4000000000000000000000000000000000000000000000000000000000000000000000000000009*y; y]"
      ]
     },
     "metadata": {},
     "output_type": "display_data"
    }
   ],
   "source": [
    "R[x; y] ~ R[2//5*y; y] ~ y * R[2//5; 1]"
   ]
  },
  {
   "cell_type": "code",
   "execution_count": 370,
   "metadata": {},
   "outputs": [
    {
     "data": {
      "text/html": [
       "[0.4000000000000000000000000000000000000000000000000000000000000000000000000000009*y y -1.0; 0.4000000000000000000000000000000000000000000000000000000000000000000000000000009*y 1 1]"
      ],
      "text/latex": [
       "\\begin{array}{ccc}\n",
       "0.4000000000000000000000000000000000000000000000000000000000000000000000000000009 y & y & -1.0 \\\\\n",
       "0.4000000000000000000000000000000000000000000000000000000000000000000000000000009 y & 1 & 1\n",
       "\\end{array}"
      ],
      "text/plain": [
       "[0.4000000000000000000000000000000000000000000000000000000000000000000000000000009*y   y   -1.0]\n",
       "[0.4000000000000000000000000000000000000000000000000000000000000000000000000000009*y   1      1]"
      ]
     },
     "metadata": {},
     "output_type": "display_data"
    }
   ],
   "source": [
    "f = R[2//5*y y -1; y * 2//5 1 1]"
   ]
  },
  {
   "cell_type": "code",
   "execution_count": 371,
   "metadata": {},
   "outputs": [
    {
     "data": {
      "text/plain": [
       "Linear solving context of matrix\n",
       "  [0.4000000000000000000000000000000000000000000000000000000000000000000000000000009*y   y   -1.0]"
      ]
     },
     "metadata": {},
     "output_type": "display_data"
    }
   ],
   "source": [
    "C = solve_init(f[1:1, :])"
   ]
  },
  {
   "cell_type": "code",
   "execution_count": 372,
   "metadata": {},
   "outputs": [
    {
     "data": {
      "text/plain": [
       "3-element Vector{AbstractAlgebra.Generic.MPoly{AbstractAlgebra.Generic.MPoly{AbstractAlgebra.Generic.MPoly{BigFloat}}}}:\n",
       " 0\n",
       " 0\n",
       " -1.0"
      ]
     },
     "metadata": {},
     "output_type": "display_data"
    }
   ],
   "source": [
    "solve(C, [R(1)], side = :right)"
   ]
  },
  {
   "cell_type": "code",
   "execution_count": 373,
   "metadata": {},
   "outputs": [
    {
     "data": {
      "text/plain": [
       "Linear solving context of matrix\n",
       "  [0.4000000000000000000000000000000000000000000000000000000000000000000000000000009*y   1   1]"
      ]
     },
     "metadata": {},
     "output_type": "display_data"
    }
   ],
   "source": [
    "C = solve_init(f[2:2, :])"
   ]
  },
  {
   "cell_type": "code",
   "execution_count": 374,
   "metadata": {},
   "outputs": [
    {
     "data": {
      "text/plain": [
       "3-element Vector{AbstractAlgebra.Generic.MPoly{AbstractAlgebra.Generic.MPoly{AbstractAlgebra.Generic.MPoly{BigFloat}}}}:\n",
       " 0\n",
       " 0\n",
       " 1"
      ]
     },
     "metadata": {},
     "output_type": "display_data"
    }
   ],
   "source": [
    "solve(C, [R(1)], side = :right)"
   ]
  },
  {
   "cell_type": "markdown",
   "metadata": {},
   "source": [
    "So that is the E -1 = span[-1 1].\n",
    "\n",
    "We can now compute:\n",
    "\n",
    "$$\n",
    "    [x, y] = [-y, y] = y[-1, 1]\n",
    "$$"
   ]
  },
  {
   "cell_type": "code",
   "execution_count": 375,
   "metadata": {},
   "outputs": [
    {
     "data": {
      "text/html": [
       "[-1.0; 1]"
      ],
      "text/latex": [
       "\\begin{array}{c}\n",
       "-1.0 \\\\\n",
       "1\n",
       "\\end{array}"
      ],
      "text/plain": [
       "[-1.0]\n",
       "[   1]"
      ]
     },
     "metadata": {},
     "output_type": "display_data"
    }
   ],
   "source": [
    "e = R[-1; 1]"
   ]
  },
  {
   "cell_type": "markdown",
   "metadata": {},
   "source": [
    "Now we can check that e is the eingenvector of A.\n",
    "By evaluating this equation to truth."
   ]
  },
  {
   "cell_type": "code",
   "execution_count": 376,
   "metadata": {},
   "outputs": [
    {
     "data": {
      "text/plain": [
       "[1; -1.0] ~ [1; -1.0] ~ [1; -1.0]"
      ]
     },
     "metadata": {},
     "output_type": "display_data"
    }
   ],
   "source": [
    "f = A * e ~ R[1; -1] ~ (-1) * e"
   ]
  },
  {
   "cell_type": "markdown",
   "metadata": {},
   "source": [
    "## Matrix Powers\n",
    "\n",
    "We can also rapresnet this as a power of k using the eingenvector v as e = [2, 5] with the eingenvalue as λ = 6."
   ]
  },
  {
   "cell_type": "code",
   "execution_count": 377,
   "metadata": {},
   "outputs": [
    {
     "data": {
      "text/plain": [
       "2-element Vector{Int64}:\n",
       " 2\n",
       " 5"
      ]
     },
     "metadata": {},
     "output_type": "display_data"
    }
   ],
   "source": [
    "e = [2 ; 5]"
   ]
  },
  {
   "cell_type": "markdown",
   "metadata": {},
   "source": [
    "$$\n",
    "    A^k * e ~ 6^k * e\n",
    "$$\n",
    "when k = 50."
   ]
  },
  {
   "cell_type": "code",
   "execution_count": 383,
   "metadata": {},
   "outputs": [
    {
     "data": {
      "text/plain": [
       "50"
      ]
     },
     "metadata": {},
     "output_type": "display_data"
    }
   ],
   "source": [
    "k = 50"
   ]
  },
  {
   "cell_type": "code",
   "execution_count": 385,
   "metadata": {},
   "outputs": [
    {
     "data": {
      "text/plain": [
       "AbstractAlgebra.Generic.MPoly{AbstractAlgebra.Generic.MPoly{AbstractAlgebra.Generic.MPoly{BigFloat}}}[1.616562554929528121286279200913072586752e+39, 4.04140638732382030321569800228268146688e+39] ~ [2181994019461005312, -3768386988202262528]"
      ]
     },
     "metadata": {},
     "output_type": "display_data"
    }
   ],
   "source": [
    "A^k * e ~ 6^k * e"
   ]
  }
 ],
 "metadata": {
  "kernelspec": {
   "display_name": "Julia 1.11.2",
   "language": "julia",
   "name": "julia-1.11"
  },
  "language_info": {
   "file_extension": ".jl",
   "mimetype": "application/julia",
   "name": "julia",
   "version": "1.11.2"
  }
 },
 "nbformat": 4,
 "nbformat_minor": 2
}
