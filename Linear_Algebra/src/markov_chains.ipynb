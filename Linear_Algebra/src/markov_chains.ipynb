{
 "cells": [
  {
   "cell_type": "code",
   "execution_count": 2,
   "metadata": {},
   "outputs": [],
   "source": [
    "\n",
    "using Latexify\n",
    "using AbstractAlgebra\n",
    "using GLMakie\n"
   ]
  },
  {
   "cell_type": "code",
   "execution_count": 3,
   "metadata": {},
   "outputs": [],
   "source": [
    "include(\"mdulos/liner_utils.jl\")\n",
    "using .linearUtils"
   ]
  },
  {
   "cell_type": "code",
   "execution_count": 4,
   "metadata": {},
   "outputs": [
    {
     "data": {
      "text/plain": [
       "true"
      ]
     },
     "metadata": {},
     "output_type": "display_data"
    }
   ],
   "source": [
    "Makie.inline!(true)"
   ]
  },
  {
   "cell_type": "code",
   "execution_count": 5,
   "metadata": {},
   "outputs": [
    {
     "data": {
      "text/plain": [
       "(Multivariate polynomial ring in 10 variables over floats, AbstractAlgebra.Generic.MPoly{BigFloat}[a, b, r, A, C, I, λ, ϕ, e, t])"
      ]
     },
     "metadata": {},
     "output_type": "display_data"
    }
   ],
   "source": [
    "RR = RealField;\n",
    "RRs, (a, b, r, A, C, I, λ, ϕ, e, t) = polynomial_ring(RR, [:a, :b, :r, :A, :C, :I, :λ, :ϕ, :e, :t])"
   ]
  },
  {
   "cell_type": "code",
   "execution_count": 6,
   "metadata": {},
   "outputs": [
    {
     "data": {
      "text/plain": [
       "(Multivariate polynomial ring in 3 variables over multivariate polynomial ring, AbstractAlgebra.Generic.MPoly{AbstractAlgebra.Generic.MPoly{AbstractAlgebra.Generic.MPoly{AbstractAlgebra.Generic.MPoly{AbstractAlgebra.Generic.MPoly{BigFloat}}}}}[c[1], c[2], c[3]])"
      ]
     },
     "metadata": {},
     "output_type": "display_data"
    }
   ],
   "source": [
    "R, v = polynomial_ring(RRs, :v => (1:3))\n",
    "R, w = polynomial_ring(R, :w => (1:3))\n",
    "R, x = polynomial_ring(R, :x => (1:3))\n",
    "R, c = polynomial_ring(R, :c => (1:3))\n"
   ]
  },
  {
   "cell_type": "markdown",
   "metadata": {},
   "source": [
    "## MARKOV CHAINS:\n",
    "\n",
    "HOPPING AROUND"
   ]
  },
  {
   "cell_type": "markdown",
   "metadata": {},
   "source": [
    "## Markov Chains\n",
    "\n",
    "**DEFINITION**\n",
    "A Markov chain is a process with a finite number of\n",
    "states. It moves from state to state. At each step, the next\n",
    "state only depends on the current state—not on past\n",
    "states. The state of the process evolves according to some\n",
    "probabilities of transition.\n",
    "If pi is the probability of going from i to at any step of\n",
    "the process, then the transition matrix A is a matrix whose\n",
    "entries are the transition probabilities pi."
   ]
  },
  {
   "cell_type": "markdown",
   "metadata": {},
   "source": [
    "## Economic Mobility\n",
    "\n",
    "Lets say we have a economic mobility model like Matrix A where rows are rich, middle class and poor. Its columns will be rich middle class and poor."
   ]
  },
  {
   "cell_type": "code",
   "execution_count": 7,
   "metadata": {},
   "outputs": [
    {
     "data": {
      "text/html": [
       "[0.6999999999999999555910790149937383830547332763671875 0.299999999999999988897769753748434595763683319091796875 0; 0.0200000000000000004163336342344337026588618755340576171875 0.7800000000000000266453525910037569701671600341796875 0.200000000000000011102230246251565404236316680908203125; 0.01000000000000000020816681711721685132943093776702880859375 0.289999999999999980015985556747182272374629974365234375 0.6999999999999999555910790149937383830547332763671875]"
      ],
      "text/latex": [
       "\\begin{array}{ccc}\n",
       "0.6999999999999999555910790149937383830547332763671875 & 0.299999999999999988897769753748434595763683319091796875 & 0 \\\\\n",
       "0.0200000000000000004163336342344337026588618755340576171875 & 0.7800000000000000266453525910037569701671600341796875 & 0.200000000000000011102230246251565404236316680908203125 \\\\\n",
       "0.01000000000000000020816681711721685132943093776702880859375 & 0.289999999999999980015985556747182272374629974365234375 & 0.6999999999999999555910790149937383830547332763671875\n",
       "\\end{array}"
      ],
      "text/plain": [
       "[       0.6999999999999999555910790149937383830547332763671875   0.299999999999999988897769753748434595763683319091796875                                                          0]\n",
       "[ 0.0200000000000000004163336342344337026588618755340576171875     0.7800000000000000266453525910037569701671600341796875   0.200000000000000011102230246251565404236316680908203125]\n",
       "[0.01000000000000000020816681711721685132943093776702880859375   0.289999999999999980015985556747182272374629974365234375     0.6999999999999999555910790149937383830547332763671875]"
      ]
     },
     "metadata": {},
     "output_type": "display_data"
    }
   ],
   "source": [
    "A = R[0.7 0.3 0; \n",
    "      0.02 0.78 0.2 \n",
    "      0.01 0.29 0.7]"
   ]
  },
  {
   "cell_type": "markdown",
   "metadata": {},
   "source": [
    "## Theorems about Markov Chains"
   ]
  },
  {
   "cell_type": "markdown",
   "metadata": {},
   "source": [
    "A steady-state vector when the transition matrix is applied, it remains the same.\n",
    "\n",
    "**DEFINITION**\n",
    "\n",
    "A row vector w is a left eigenvector of A if wA = λw.\n",
    "\n",
    "Remember that the definition of a usual eigenvector is Av = λv."
   ]
  },
  {
   "cell_type": "markdown",
   "metadata": {},
   "source": [
    "**THEOREM**\n",
    "\n",
    "w is a left eigenvector and λ is a left eigenvalue of A if and only\n",
    "if wT is a (right) eigenvector and λ is a right eigenvalue of AT\n",
    "."
   ]
  },
  {
   "cell_type": "markdown",
   "metadata": {},
   "source": [
    "**THEOREM**\n",
    "\n",
    "A and AT have the same eigenvalues.\n",
    "\n",
    "This also mean that the sum of the rows of a is 1 ~ 100% probability."
   ]
  },
  {
   "cell_type": "code",
   "execution_count": 17,
   "metadata": {},
   "outputs": [
    {
     "data": {
      "text/plain": [
       "0.999999999999999944488848768742172978818416595458984375 ~ 1"
      ]
     },
     "metadata": {},
     "output_type": "display_data"
    }
   ],
   "source": [
    "sum(A[:1, :]) ~ 1"
   ]
  },
  {
   "cell_type": "code",
   "execution_count": 28,
   "metadata": {},
   "outputs": [
    {
     "data": {
      "text/plain": [
       "AbstractAlgebra.Generic.MPoly{AbstractAlgebra.Generic.MPoly{AbstractAlgebra.Generic.MPoly{AbstractAlgebra.Generic.MPoly{AbstractAlgebra.Generic.MPoly{BigFloat}}}}}[0.6999999999999999555910790149937383830547332763671875*v[1] + 0.299999999999999988897769753748434595763683319091796875*v[2], 0.0200000000000000004163336342344337026588618755340576171875*v[1] + 0.7800000000000000266453525910037569701671600341796875*v[2] + 0.200000000000000011102230246251565404236316680908203125*v[3], 0.01000000000000000020816681711721685132943093776702880859375*v[1] + 0.289999999999999980015985556747182272374629974365234375*v[2] + 0.6999999999999999555910790149937383830547332763671875*v[3]] ~ AbstractAlgebra.Generic.MPoly{AbstractAlgebra.Generic.MPoly{BigFloat}}[v[1] v[2] v[3]]"
      ]
     },
     "metadata": {},
     "output_type": "display_data"
    }
   ],
   "source": [
    "v * transpose(A) ~ transpose(v)"
   ]
  },
  {
   "cell_type": "markdown",
   "metadata": {},
   "source": [
    "The desirable stead-state vectors."
   ]
  },
  {
   "cell_type": "code",
   "execution_count": 29,
   "metadata": {},
   "outputs": [
    {
     "data": {
      "text/plain": [
       "AbstractAlgebra.Generic.MPoly{AbstractAlgebra.Generic.MPoly{AbstractAlgebra.Generic.MPoly{BigFloat}}}[w[1], w[2], w[3]] ~ AbstractAlgebra.Generic.MPoly{AbstractAlgebra.Generic.MPoly{BigFloat}}[v[1] v[2] v[3]]"
      ]
     },
     "metadata": {},
     "output_type": "display_data"
    }
   ],
   "source": [
    "w ~ transpose(v)"
   ]
  },
  {
   "cell_type": "markdown",
   "metadata": {},
   "source": [
    "And many steady-state vectors will be."
   ]
  },
  {
   "cell_type": "code",
   "execution_count": 31,
   "metadata": {},
   "outputs": [
    {
     "data": {
      "text/plain": [
       "AbstractAlgebra.Generic.MPoly{AbstractAlgebra.Generic.MPoly{AbstractAlgebra.Generic.MPoly{BigFloat}}}[w[1], w[2], w[3]] ~ AbstractAlgebra.Generic.MPoly{AbstractAlgebra.Generic.MPoly{AbstractAlgebra.Generic.MPoly{BigFloat}}}[I*w[1], I*w[2], I*w[3]]"
      ]
     },
     "metadata": {},
     "output_type": "display_data"
    }
   ],
   "source": [
    "w ~ w.*I"
   ]
  },
  {
   "cell_type": "markdown",
   "metadata": {},
   "source": [
    "**THE PERRON-FROBENIUS THEOREM**\n",
    "\n",
    "If A is the transition matrix of a regular Markov\n",
    "chain, then\n",
    "1 1 is an eigenvalue of A.\n",
    "2 The left eigenspace of A associated to the\n",
    "eigenvalue 1 is 1-dimensional.\n",
    "3 There’s a left eigenvector in that eigenspace with\n",
    "all positive coordinates.\n",
    "4 If λ is any other eigenvalue, then the absolute\n",
    "value of λ is strictly less than 1 (even for complex\n",
    "eigenvalues)."
   ]
  },
  {
   "cell_type": "markdown",
   "metadata": {},
   "source": []
  }
 ],
 "metadata": {
  "kernelspec": {
   "display_name": "Julia 1.11.2",
   "language": "julia",
   "name": "julia-1.11"
  },
  "language_info": {
   "file_extension": ".jl",
   "mimetype": "application/julia",
   "name": "julia",
   "version": "1.11.2"
  }
 },
 "nbformat": 4,
 "nbformat_minor": 2
}
