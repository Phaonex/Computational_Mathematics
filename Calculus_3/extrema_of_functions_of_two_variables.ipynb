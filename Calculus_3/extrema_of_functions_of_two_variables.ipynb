{
 "cells": [
  {
   "cell_type": "code",
   "execution_count": 1,
   "metadata": {},
   "outputs": [
    {
     "name": "stdout",
     "output_type": "stream",
     "text": [
      "\r"
     ]
    }
   ],
   "source": [
    "using Oscar\n",
    "using Symbolics\n",
    "using Makie\n",
    "using Latexify"
   ]
  },
  {
   "cell_type": "code",
   "execution_count": 2,
   "metadata": {},
   "outputs": [
    {
     "name": "stdout",
     "output_type": "stream",
     "text": [
      "OSCAR version 1.3.1\n",
      "  combining:\n",
      "    AbstractAlgebra.jl   v0.44.13\n",
      "    GAP.jl               v0.13.3\n",
      "    Hecke.jl             v0.35.19\n",
      "    Nemo.jl              v0.49.5\n",
      "    Polymake.jl          v0.11.29\n",
      "    Singular.jl          v0.25.3\n"
     ]
    }
   ],
   "source": [
    "Oscar.versioninfo()"
   ]
  },
  {
   "cell_type": "code",
   "execution_count": 3,
   "metadata": {},
   "outputs": [
    {
     "data": {
      "text/plain": [
       "true"
      ]
     },
     "metadata": {},
     "output_type": "display_data"
    }
   ],
   "source": [
    "Makie.inline!(true)"
   ]
  },
  {
   "cell_type": "code",
   "execution_count": 4,
   "metadata": {},
   "outputs": [],
   "source": [
    "include(\"src/Calculus_3.jl\")\n",
    "using .Calculus_3"
   ]
  },
  {
   "cell_type": "code",
   "execution_count": 206,
   "metadata": {},
   "outputs": [
    {
     "data": {
      "text/plain": [
       "(Multivariate polynomial ring in 16 variables over QQ, QQMPolyRingElem[a, b, c, d, x, y, z, ƒ, t, ∆x, ∆y, ∂x, ∂y, ∂z, ∂ƒ, ∞])"
      ]
     },
     "metadata": {},
     "output_type": "display_data"
    }
   ],
   "source": [
    "R, (a, b, c, d, x, y, z, t, ∫, ∆x, ∆y, ∂x, ∂y, ∂z, ∂ƒ, ∞) = polynomial_ring(QQ, [:a, :b, :c, :d, :x, :y, :z, :ƒ, :t, :∆x, :∆y, :∂x, :∂y, :∂z, :∂ƒ, :∞])"
   ]
  },
  {
   "cell_type": "code",
   "execution_count": 20,
   "metadata": {},
   "outputs": [
    {
     "data": {
      "text/plain": [
       "(Univariate polynomial ring in ∂ƒ_u over RR, ∂ƒ_u)"
      ]
     },
     "metadata": {},
     "output_type": "display_data"
    }
   ],
   "source": [
    "XU, x_u = polynomial_ring(RealField(), :x_u)\n",
    "RR, X = polynomial_ring(RealField(), :X)\n",
    "YU, y_u = polynomial_ring(RealField(), :y_u)\n",
    "ZU, z_u = polynomial_ring(RealField(), :z_u)\n",
    "TU, t_u = polynomial_ring(RealField(), :t_u)\n",
    "DXU, dx_u = polynomial_ring(RealField(), :dx_u)\n",
    "DYU, dy_u = polynomial_ring(RealField(), :dy_u)\n",
    "DXU, dx_u = polynomial_ring(RealField(), :dx_u)\n",
    "DTU, dt_u = polynomial_ring(RealField(), :dt_u)\n",
    "DWU, dw_u = polynomial_ring(RealField(), :dw_u)\n",
    "∆XU, ∆x_u = polynomial_ring(RealField(), :∆x_u)\n",
    "∆YU, ∆y_u = polynomial_ring(RealField(), :∆y_u)\n",
    "∂XU, ∂x_u = polynomial_ring(RealField(), :∂x_u)\n",
    "∂YU, ∂y_u = polynomial_ring(RealField(), :∂y_u)\n",
    "∂YU, ∂z_u = polynomial_ring(RealField(), :∂z_u)\n",
    "∂WU, ∂w_u = polynomial_ring(RealField(), :∂w_u)\n",
    "∂ƒU, ∂ƒ_u = polynomial_ring(RealField(), :∂ƒ_u)"
   ]
  },
  {
   "cell_type": "code",
   "execution_count": 21,
   "metadata": {},
   "outputs": [
    {
     "data": {
      "text/plain": [
       "3-element Vector{AbstractAlgebra.Generic.MPoly{QQMPolyRingElem}}:\n",
       " xs[1]\n",
       " xs[2]\n",
       " xs[3]"
      ]
     },
     "metadata": {},
     "output_type": "display_data"
    }
   ],
   "source": [
    "Rs, xs, ys  = polynomial_ring(R, (:xs => (1:3), :ys => (1:3)))\n",
    "xs"
   ]
  },
  {
   "cell_type": "code",
   "execution_count": 143,
   "metadata": {},
   "outputs": [
    {
     "data": {
      "text/plain": [
       "(x_s, y_s, α_s, β_s, ∂x, ∂y, ∂z, ∂ƒ)"
      ]
     },
     "metadata": {},
     "output_type": "display_data"
    }
   ],
   "source": [
    "@syms x_s y_s α_s::Real β_s::Real ∂x ∂y ∂z ∂ƒ # define variables with julia types for limit functions for numerical computation"
   ]
  },
  {
   "cell_type": "markdown",
   "metadata": {},
   "source": [
    "# Extrema of Functions of Two Variables"
   ]
  },
  {
   "cell_type": "markdown",
   "metadata": {},
   "source": [
    "## Topics:\n",
    "\n",
    "- first.\n",
    "- second.\n",
    "- third."
   ]
  },
  {
   "cell_type": "markdown",
   "metadata": {},
   "source": [
    "## Definitions and Theorems:"
   ]
  },
  {
   "cell_type": "markdown",
   "metadata": {},
   "source": [
    "- **maximum and minimum values:** Let $z = ƒ(x,y)$ be continuuous on the closed and bounded region R in the plane. The values $ƒ(a,b)$ and $ƒ(c,d)$ satisfying $ƒ(a,b) ≤ ƒ(x,y) ≤ ƒ(c,d)$ are the maximum and minimum values of ƒ on R.\n"
   ]
  },
  {
   "cell_type": "markdown",
   "metadata": {},
   "source": [
    "- **extreme value theorem:** The extreme value theorem says that if $z= ƒ(x,y)$ is continuous on the closed and bounded region R in the plane, then there is at least one point in R at which ƒ takes on minimum value and at least one point in R which ƒ takes on a maximum value."
   ]
  },
  {
   "cell_type": "markdown",
   "metadata": {},
   "source": [
    "- **relative minimun and maximum:** Let ƒ be a function defined on the region R containing the point $(x_0,y_0)$. The function ƒ has a relative minimum at $(x_0, y_0)$ if $ƒ(x,y) ≥ ƒ(x_0,y_0)$ for all $(x,y)$ in some open disk containing $(x_0,y_0)$. The definition of relative maximum is similiar.\n"
   ]
  },
  {
   "cell_type": "markdown",
   "metadata": {},
   "source": [
    "- **critical point:** Let ƒ be defined on open region R containing $(x_0,y_0)$. The point $(x_0,y_0)$ is critical point if either $(1) ƒ_x(x_0, y_0) = 0$ and $ƒ(x_0, y_0) = 0$ or $(2) ƒ_x(x_0, y_0)$ or $ƒ_x(x_0, y_0)$ do not exist."
   ]
  },
  {
   "cell_type": "markdown",
   "metadata": {},
   "source": [
    "- **relative maxima and relative minima** Relative extrema occur at critical points. In other words, the critical points are the candidates for relative minima.\n"
   ]
  },
  {
   "cell_type": "markdown",
   "metadata": {},
   "source": [
    "- **second partials test:** Let $(a,b)$ be a critical point of ƒ.\n",
    "    \n",
    "    Define the quantity $d = ƒ_xx(a,b) ƒ_yy(a,b) - [ƒ_xy(a,b)]^2$. Then, we have the following.\n",
    "\n",
    "    1. $d > 0, ƒ_xx(a,b) > 0 =>$ relative minimum.\n",
    "\n",
    "    2. $d > 0, ƒ_xx(a,b) < 0 =>$ relative maximum.\n",
    "\n",
    "    3. $d < 0, =>$ saddle point.\n",
    "\n",
    "    4. $d = 0:$ Test is inconclusive.\n"
   ]
  },
  {
   "cell_type": "markdown",
   "metadata": {},
   "source": [
    "## Summary\n",
    "\n",
    "In this leasson, we develop techniques for finding maximum and minimum values of functions of two variables.\n",
    "We will see that the critical points of a function are the candidates for relative extrema, just as in elementary\n",
    "calculus. The second partials test can be used to determine the exact nature of these critical points. Finally, we\n",
    "close with an application from a previous lesson."
   ]
  },
  {
   "cell_type": "markdown",
   "metadata": {},
   "source": [
    "## Example 1:\n",
    "\n",
    "If possible, find the highest and lowest points on the graph of the function $ƒ(x,y) = 2x + 4y - x^2 - y^2$\n",
    "\n",
    "We set the partial derivatives."
   ]
  },
  {
   "cell_type": "code",
   "execution_count": 33,
   "metadata": {},
   "outputs": [
    {
     "data": {
      "text/plain": [
       "ƒ (generic function with 1 method)"
      ]
     },
     "metadata": {},
     "output_type": "display_data"
    }
   ],
   "source": [
    "ƒ(x,y) = 2x + 4y - x^2 - y^2"
   ]
  },
  {
   "cell_type": "code",
   "execution_count": 114,
   "metadata": {},
   "outputs": [
    {
     "data": {
      "text/latex": [
       "$~\\left( \\frac{{\\partial}ƒ}{{\\partial}y}, =, -2 \\cdot y + 4; \\frac{{\\partial}ƒ}{{\\partial}x}, =, -2 \\cdot x + 2 \\right)$"
      ],
      "text/plain": [
       "L\"$~\\left( \\frac{{\\partial}ƒ}{{\\partial}y}, =, -2 \\cdot y + 4; \\frac{{\\partial}ƒ}{{\\partial}x}, =, -2 \\cdot x + 2 \\right)$\""
      ]
     },
     "metadata": {},
     "output_type": "display_data"
    }
   ],
   "source": [
    "latexify(string((∂ƒ//∂x, \"=\", 2 - 2x) ~ (∂ƒ//∂y, \"=\", 4 - 2y) ))"
   ]
  },
  {
   "cell_type": "code",
   "execution_count": 70,
   "metadata": {},
   "outputs": [
    {
     "data": {
      "text/plain": [
       "true"
      ]
     },
     "metadata": {},
     "output_type": "display_data"
    }
   ],
   "source": [
    "(∂ƒ//∂x == 2 - 2x) == (∂ƒ//∂y == 4 - 2y)"
   ]
  },
  {
   "cell_type": "code",
   "execution_count": 78,
   "metadata": {},
   "outputs": [
    {
     "data": {
      "text/latex": [
       "$~\\left( -2 \\cdot x + 2, -2 \\cdot y + 4 \\right)$"
      ],
      "text/plain": [
       "L\"$~\\left( -2 \\cdot x + 2, -2 \\cdot y + 4 \\right)$\""
      ]
     },
     "metadata": {},
     "output_type": "display_data"
    }
   ],
   "source": [
    "latexify(string(derivative(ƒ(x,y), x) ~ derivative(ƒ(x,y), y)))"
   ]
  },
  {
   "cell_type": "markdown",
   "metadata": {},
   "source": [
    "By completing the square, we see that this point is a maximum and that there is no minimum value."
   ]
  },
  {
   "cell_type": "code",
   "execution_count": 87,
   "metadata": {},
   "outputs": [
    {
     "data": {
      "text/latex": [
       "$ - x^{2} + 2 \\cdot x - y^{2} + 4 \\cdot y =  - x^{2} + 2 \\cdot x - y^{2} + 4 \\cdot y =  - x^{2} + 2 \\cdot x - y^{2} + 4 \\cdot y$"
      ],
      "text/plain": [
       "L\"$ - x^{2} + 2 \\cdot x - y^{2} + 4 \\cdot y =  - x^{2} + 2 \\cdot x - y^{2} + 4 \\cdot y =  - x^{2} + 2 \\cdot x - y^{2} + 4 \\cdot y$\""
      ]
     },
     "metadata": {},
     "output_type": "display_data"
    }
   ],
   "source": [
    "latexify(string(ƒ(x,y), \"=\", -(x^2 - 2x + 1) - (y^2 - 4y + 4) + 5, \"=\", 5 - (x - 1)^2 - (y - 2)^2))"
   ]
  },
  {
   "cell_type": "markdown",
   "metadata": {},
   "source": [
    "## Example 2:\n",
    "\n",
    "Determine the relative extrema of $ƒ(x,y) = 2x^2 + y^2 + 8x - 6y + 20$.\n",
    "\n",
    "solution text."
   ]
  },
  {
   "cell_type": "code",
   "execution_count": 158,
   "metadata": {},
   "outputs": [
    {
     "data": {
      "text/plain": [
       "ƒ (generic function with 3 methods)"
      ]
     },
     "metadata": {},
     "output_type": "display_data"
    }
   ],
   "source": [
    "ƒ(x,y) = 2x^2 + y^2 + 8x - 6y + 20"
   ]
  },
  {
   "cell_type": "code",
   "execution_count": 131,
   "metadata": {},
   "outputs": [
    {
     "data": {
      "text/latex": [
       "$~\\left( 4 \\cdot x + 8, 2 \\cdot y - 6 \\right)$"
      ],
      "text/plain": [
       "L\"$~\\left( 4 \\cdot x + 8, 2 \\cdot y - 6 \\right)$\""
      ]
     },
     "metadata": {},
     "output_type": "display_data"
    }
   ],
   "source": [
    "latexify(string(derivative(ƒ(x,y), x) ~ derivative(ƒ(x,y), y)))"
   ]
  },
  {
   "cell_type": "markdown",
   "metadata": {},
   "source": [
    "By completing the square"
   ]
  },
  {
   "cell_type": "code",
   "execution_count": 197,
   "metadata": {},
   "outputs": [
    {
     "data": {
      "text/latex": [
       "$4 \\cdot x + 2 \\cdot y + 2 = 2 \\cdot x^{2} + 8 \\cdot x + y^{2} - 6 \\cdot y + 20$"
      ],
      "text/plain": [
       "L\"$4 \\cdot x + 2 \\cdot y + 2 = 2 \\cdot x^{2} + 8 \\cdot x + y^{2} - 6 \\cdot y + 20$\""
      ]
     },
     "metadata": {},
     "output_type": "display_data"
    }
   ],
   "source": [
    "latexify(string((derivative(ƒ(x,y), x) / 2) * 2 + (derivative(ƒ(x,y), y) / 2) * 2, \"=\", 2(x + 2)^2 + (y - 3)^2 + 3))"
   ]
  },
  {
   "cell_type": "markdown",
   "metadata": {},
   "source": [
    "## Example 3:\n",
    "\n",
    "Use the second partials test on Example 2 given the critical point $(-2, 3)$.\n",
    "\n",
    "We first calculate the partial derivatives $ƒ_x = 4x + 8, ƒ_xx = 4, ƒ_y = 2y - 6, ƒ_yy = 2, ƒ_xy = 0$. So we have"
   ]
  },
  {
   "cell_type": "code",
   "execution_count": 216,
   "metadata": {},
   "outputs": [
    {
     "data": {
      "text/latex": [
       "$~\\left( 4 \\cdot x + 8, 4 \\right)$"
      ],
      "text/plain": [
       "L\"$~\\left( 4 \\cdot x + 8, 4 \\right)$\""
      ]
     },
     "metadata": {},
     "output_type": "display_data"
    }
   ],
   "source": [
    "ƒ_x = derivative(ƒ(x,y), x);\n",
    "ƒ_xx = derivative(derivative(ƒ(x,y), x), x);\n",
    "latexify(string(ƒ_x ~ ƒ_xx))"
   ]
  },
  {
   "cell_type": "code",
   "execution_count": 215,
   "metadata": {},
   "outputs": [
    {
     "data": {
      "text/latex": [
       "$~\\left( 2 \\cdot y - 6, 0 \\right)$"
      ],
      "text/plain": [
       "L\"$~\\left( 2 \\cdot y - 6, 0 \\right)$\""
      ]
     },
     "metadata": {},
     "output_type": "display_data"
    }
   ],
   "source": [
    "ƒ_yy = derivative(derivative(ƒ(x,y), x), y)\n",
    "ƒ_y = derivative(ƒ(x,y), y);\n",
    "latexify(string(ƒ_y ~ ƒ_yy))"
   ]
  },
  {
   "cell_type": "code",
   "execution_count": 213,
   "metadata": {},
   "outputs": [
    {
     "data": {
      "text/latex": [
       "$0$"
      ],
      "text/plain": [
       "L\"$0$\""
      ]
     },
     "metadata": {},
     "output_type": "display_data"
    }
   ],
   "source": [
    "ƒ_xy = derivative(derivative(ƒ(x,y), x), y)\n",
    "latexify(string(ƒ_xy))"
   ]
  },
  {
   "cell_type": "code",
   "execution_count": 222,
   "metadata": {},
   "outputs": [
    {
     "data": {
      "text/latex": [
       "$~\\left( d, ~\\left( 0, ~\\left( 0, 8 = 8 > 0 \\right) \\right) \\right)$"
      ],
      "text/plain": [
       "L\"$~\\left( d, ~\\left( 0, ~\\left( 0, 8 = 8 > 0 \\right) \\right) \\right)$\""
      ]
     },
     "metadata": {},
     "output_type": "display_data"
    }
   ],
   "source": [
    "latexify(string(d ~ ƒ_xx * ƒ_yy ~ ƒ_xy^2 ~ 4(2) - 0, \"=\", 8, \">\", 0))"
   ]
  },
  {
   "cell_type": "markdown",
   "metadata": {},
   "source": [
    "and $f_{xx} > 0$. Thus, by the second partials test, the point is a relative minimum."
   ]
  }
 ],
 "metadata": {
  "kernelspec": {
   "display_name": "Julia 1.10.9",
   "language": "julia",
   "name": "julia-1.10"
  },
  "language_info": {
   "file_extension": ".jl",
   "mimetype": "application/julia",
   "name": "julia",
   "version": "1.10.9"
  }
 },
 "nbformat": 4,
 "nbformat_minor": 2
}
