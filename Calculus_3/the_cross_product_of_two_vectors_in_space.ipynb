{
 "cells": [
  {
   "cell_type": "code",
   "execution_count": 2,
   "metadata": {},
   "outputs": [
    {
     "name": "stdout",
     "output_type": "stream",
     "text": [
      "\r"
     ]
    }
   ],
   "source": [
    "using Oscar\n",
    "using Symbolics\n",
    "using Makie\n",
    "import CairoMakie\n",
    "using Latexify"
   ]
  },
  {
   "cell_type": "code",
   "execution_count": 3,
   "metadata": {},
   "outputs": [
    {
     "name": "stdout",
     "output_type": "stream",
     "text": [
      "OSCAR version 1.3.1\n",
      "  combining:\n",
      "    AbstractAlgebra.jl   v0.44.13\n",
      "    GAP.jl               v0.13.3\n",
      "    Hecke.jl             v0.35.19\n",
      "    Nemo.jl              v0.49.5\n",
      "    Polymake.jl          v0.11.29\n",
      "    Singular.jl          v0.25.3\n"
     ]
    }
   ],
   "source": [
    "Oscar.versioninfo()"
   ]
  },
  {
   "cell_type": "code",
   "execution_count": 4,
   "metadata": {},
   "outputs": [
    {
     "data": {
      "text/plain": [
       "true"
      ]
     },
     "metadata": {},
     "output_type": "display_data"
    }
   ],
   "source": [
    "Makie.inline!(true)"
   ]
  },
  {
   "cell_type": "code",
   "execution_count": 5,
   "metadata": {},
   "outputs": [],
   "source": [
    "include(\"src/Calculus_3.jl\")\n",
    "using .Calculus_3"
   ]
  },
  {
   "cell_type": "code",
   "execution_count": 46,
   "metadata": {},
   "outputs": [
    {
     "data": {
      "text/plain": [
       "(Multivariate polynomial ring in 24 variables over QQ, QQMPolyRingElem[a, b, c, d, i, v, j, u, k, x  …  t, ∫, θ, ∆x, ∆y, ∂x, ∂y, ∂z, ∂ƒ, ∞])"
      ]
     },
     "metadata": {},
     "output_type": "display_data"
    }
   ],
   "source": [
    "R, (a, b, c, d, i, v, j, u, k, x, y, w, z, ƒ, t, ∫, θ, ∆x, ∆y, ∂x, ∂y, ∂z, ∂ƒ, ∞) = polynomial_ring(QQ, [:a, :b, :c, :d, :i, :v, :j, :u, :k, :x, :y, :w, :z, :ƒ, :t, :∫, :θ, :∆x, :∆y, :∂x, :∂y, :∂z, :∂ƒ, :∞])"
   ]
  },
  {
   "cell_type": "code",
   "execution_count": 7,
   "metadata": {},
   "outputs": [
    {
     "data": {
      "text/plain": [
       "(Univariate polynomial ring in ∂ƒ_u over RR, ∂ƒ_u)"
      ]
     },
     "metadata": {},
     "output_type": "display_data"
    }
   ],
   "source": [
    "XU, x_u = polynomial_ring(RealField(), :x_u)\n",
    "RR, X = polynomial_ring(RealField(), :X)\n",
    "YU, y_u = polynomial_ring(RealField(), :y_u)\n",
    "ZU, z_u = polynomial_ring(RealField(), :z_u)\n",
    "TU, t_u = polynomial_ring(RealField(), :t_u)\n",
    "DXU, dx_u = polynomial_ring(RealField(), :dx_u)\n",
    "DYU, dy_u = polynomial_ring(RealField(), :dy_u)\n",
    "DXU, dx_u = polynomial_ring(RealField(), :dx_u)\n",
    "DTU, dt_u = polynomial_ring(RealField(), :dt_u)\n",
    "DWU, dw_u = polynomial_ring(RealField(), :dw_u)\n",
    "∆XU, ∆x_u = polynomial_ring(RealField(), :∆x_u)\n",
    "∆YU, ∆y_u = polynomial_ring(RealField(), :∆y_u)\n",
    "∂XU, ∂x_u = polynomial_ring(RealField(), :∂x_u)\n",
    "∂YU, ∂y_u = polynomial_ring(RealField(), :∂y_u)\n",
    "∂YU, ∂z_u = polynomial_ring(RealField(), :∂z_u)\n",
    "∂WU, ∂w_u = polynomial_ring(RealField(), :∂w_u)\n",
    "∂ƒU, ∂ƒ_u = polynomial_ring(RealField(), :∂ƒ_u)"
   ]
  },
  {
   "cell_type": "code",
   "execution_count": 48,
   "metadata": {},
   "outputs": [
    {
     "data": {
      "text/plain": [
       "Matrix space of 3 rows and 3 columns\n",
       "  over multivariate polynomial ring in 24 variables over QQ"
      ]
     },
     "metadata": {},
     "output_type": "display_data"
    }
   ],
   "source": [
    "M = matrix_space(R, 3, 3)"
   ]
  },
  {
   "cell_type": "code",
   "execution_count": 8,
   "metadata": {},
   "outputs": [
    {
     "data": {
      "text/plain": [
       "3-element Vector{AbstractAlgebra.Generic.MPoly{QQMPolyRingElem}}:\n",
       " xs[1]\n",
       " xs[2]\n",
       " xs[3]"
      ]
     },
     "metadata": {},
     "output_type": "display_data"
    }
   ],
   "source": [
    "Rs, xs, ys, zs  = polynomial_ring(R, (:xs => (1:3), :ys => (1:3), :zs => (1:3)))\n",
    "xs"
   ]
  },
  {
   "cell_type": "markdown",
   "metadata": {},
   "source": [
    "# The Cross Product of Two Vectors in Space"
   ]
  },
  {
   "cell_type": "markdown",
   "metadata": {},
   "source": [
    "## Topics:\n",
    "\n",
    "- The cros product of two vectors in space.\n",
    "- Properties of the cross product.\n",
    "- The tripe scalar product."
   ]
  },
  {
   "cell_type": "markdown",
   "metadata": {},
   "source": [
    "## Definitions and Theorems:"
   ]
  },
  {
   "cell_type": "markdown",
   "metadata": {},
   "source": [
    "- **Cross product:** The cross product of the vectors $\\bold u = u_1 \\bold i + u_2 \\bold j + u_3 \\bold k = < u_1, u_2, u_3>$ and $v = v_1 \\bold i + v_1 \\bold j + v_1 \\bold k = < v_1, v_2, v_3>$. is \n",
    "$$\\bold u \\times \\bold v = \\begin{bmatrix} \n",
    "\\bold i, \\bold j, \\bold k \\\\\n",
    "u_1 u_2 u_3 \\\\\n",
    "v_1 v_2 u_3 \\\\ \n",
    "\\end{bmatrix} = (u_2 v_3 - u_3 v_2 ) \\bold i  - (u_1 v_3 - u_3 v_1 ) \\bold j + (u_1 v_2 - u_2 v_1 ) \\bold k$$\n"
   ]
  },
  {
   "cell_type": "markdown",
   "metadata": {},
   "source": [
    "- **Orthogonal u x v:** The cross product $\\bold u \\times v$ is orthogonal to  $\\bold u$ and to $\\bold v$. That is,\n",
    "\n",
    "    $(\\bold u \\times v)\\cdot \\bold u = 0$ and $(\\bold u \\times v) \\cdot \\bold v = 0$.\n"
   ]
  },
  {
   "cell_type": "markdown",
   "metadata": {},
   "source": [
    "- **propeties:** Additional properties of the cross product:\n",
    "    \n",
    "    $\\bold u \\times \\bold u = 0, \\bold u \\times \\bold v = -(\\bold u \\times \\bold v)$, and $\\bold u \\times (\\bold v + \\bold w) = (\\bold u \\times \\bold v) + (\\bold u \\times \\bold w)$.\n"
   ]
  },
  {
   "cell_type": "markdown",
   "metadata": {},
   "source": [
    "- **parallelogram:** The are  of the parallelogram having the vectors $\\bold u$ and $\\bold v$ as adjacent sides is $||\\bold u \\times \\bold v|| = ||\\bold u|| ||\\bold v|| \\sin{\\theta}$."
   ]
  },
  {
   "cell_type": "markdown",
   "metadata": {},
   "source": [
    "- **tripe scalar product:** The triple scalar product is the scalar .\n",
    "    \n",
    "    $$ \\bold u \\cdot (\\bold v \\times \\bold w) = \\begin{bmatrix} \n",
    "    u_1 u_2 u_3 \\\\\n",
    "    v_1 v_2 u_3 \\\\\n",
    "    w_1 w_2 w_3 \\\\ \n",
    "    \\end{bmatrix}$$\n"
   ]
  },
  {
   "cell_type": "markdown",
   "metadata": {},
   "source": [
    "- **parallelepieped:** The volume of the parallelepiped with $\\bold u, \\bold v$ and $\\bold w$. as adjacent sides is $V = |\\bold u \\cdot (\\bold v \\times \\bold w)|$\n"
   ]
  },
  {
   "cell_type": "markdown",
   "metadata": {},
   "source": [
    "## Summary:\n",
    "\n",
    "The cross product of two vectors in space is a vector, not a scalar. We calculate cross products using a\n",
    "determinant formula. One of the most important properties states that the cross product of two nonzero vectors\n",
    "is a vector orthogonal (perpendicular) to both of the original vectors. I other words, the cross product is orthogonal to the plane determined by the original vectors. We present some of the basic properties of the cross product."
   ]
  },
  {
   "cell_type": "markdown",
   "metadata": {},
   "source": [
    "## Example 1:\n",
    "\n",
    "Calculate the cross product of the vectors $\\bold u = \\bold i - 2 \\bold{j + k}$ and $\\bold v = 3\\bold{i + j - 2k}$.\n",
    "\n",
    "We evaluate the cross product by expanding the determinat along the first row."
   ]
  },
  {
   "cell_type": "code",
   "execution_count": 40,
   "metadata": {},
   "outputs": [
    {
     "data": {
      "text/latex": [
       "$~\\left( v \\cdot u, ~\\left( \\left[\n",
       "\\begin{array}{ccc}\n",
       "i & j & k \\\\\n",
       "1 & -2 & 1 \\\\\n",
       "3 & 1 & -2 \\\\\n",
       "\\end{array}\n",
       "\\right], ~\\left( \\left[\n",
       "\\begin{array}{cc}\n",
       "-2 \\cdot i - j + k & i - j - 2 \\cdot k \\\\\n",
       "i - 3 \\cdot j + 3 \\cdot k & -2 \\cdot i + 2 \\cdot j + k \\\\\n",
       "\\end{array}\n",
       "\\right], ~\\left( 3 \\cdot i + 5 \\cdot j + 7 \\cdot k, 3 \\cdot i + 5 \\cdot j + 7 \\cdot k \\right) \\right) \\right) \\right)$"
      ],
      "text/plain": [
       "L\"$~\\left( v \\cdot u, ~\\left( \\left[\n",
       "\\begin{array}{ccc}\n",
       "i & j & k \\\\\n",
       "1 & -2 & 1 \\\\\n",
       "3 & 1 & -2 \\\\\n",
       "\\end{array}\n",
       "\\right], ~\\left( \\left[\n",
       "\\begin{array}{cc}\n",
       "-2 \\cdot i - j + k & i - j - 2 \\cdot k \\\\\n",
       "i - 3 \\cdot j + 3 \\cdot k & -2 \\cdot i + 2 \\cdot j + k \\\\\n",
       "\\end{array}\n",
       "\\right], ~\\left( 3 \\cdot i + 5 \\cdot j + 7 \\cdot k, 3 \\cdot i + 5 \\cdot j + 7 \\cdot k \\right) \\right) \\right) \\right)$\""
      ]
     },
     "metadata": {},
     "output_type": "display_data"
    }
   ],
   "source": [
    "latexify(string(u * v ~ M([i j k; 1 -2 1; 3 1 -2]) ~ R[-2 1; 1 -2] * i - R[1 1; 3 -2] * j + R[1 -2;3 1] * k ~ (4 -1)i - (-2 -3)j + (1 + 6)k ~3i + 5j + 7k))"
   ]
  },
  {
   "cell_type": "markdown",
   "metadata": {},
   "source": [
    "## Example 2:\n",
    "\n",
    "Find the area of the parallelogram having adjacent sides\n",
    "\n",
    "The cross product of the two vectors is  $\\bold {u * v = -j + k}$, and the area is therefore the length of this vector, $||\\bold{u * v}||$ therefore the length of this vector $||\\bold{u *v}|| = √2$"
   ]
  },
  {
   "cell_type": "code",
   "execution_count": 44,
   "metadata": {},
   "outputs": [
    {
     "data": {
      "text/latex": [
       "$$ \\begin{equation}\n",
       "1.4142135623730951\n",
       "\\end{equation}\n",
       " $$"
      ],
      "text/plain": [
       "v*u ~ -j + k ~ 1.4142135623730951"
      ]
     },
     "metadata": {},
     "output_type": "display_data"
    }
   ],
   "source": [
    "u * v ~ -j + k ~ √(2)"
   ]
  },
  {
   "cell_type": "markdown",
   "metadata": {},
   "source": [
    "## Example 3:\n",
    "\n",
    "Find the volume of the parallelepiped with adjacent sides $\\bold{u = i + j, v = j + k}$, and $\\bold{w = i + k}$.\n",
    "\n",
    "The triple scalar product is"
   ]
  },
  {
   "cell_type": "code",
   "execution_count": 53,
   "metadata": {},
   "outputs": [
    {
     "data": {
      "text/latex": [
       "$v \\cdot u \\cdot w = \\left[\n",
       "\\begin{array}{ccc}\n",
       "1 & 1 & 0 \\\\\n",
       "0 & 1 & 1 \\\\\n",
       "1 & 0 & 1 \\\\\n",
       "\\end{array}\n",
       "\\right] = 2$"
      ],
      "text/plain": [
       "L\"$v \\cdot u \\cdot w = \\left[\n",
       "\\begin{array}{ccc}\n",
       "1 & 1 & 0 \\\\\n",
       "0 & 1 & 1 \\\\\n",
       "1 & 0 & 1 \\\\\n",
       "\\end{array}\n",
       "\\right] = 2$\""
      ]
     },
     "metadata": {},
     "output_type": "display_data"
    }
   ],
   "source": [
    "latexify(string(u * (v * w), \"=\", M([1 1 0; 0 1 1; 1 0 1]), \"=\", 2))"
   ]
  },
  {
   "cell_type": "markdown",
   "metadata": {},
   "source": [
    "which implies that the volume is 2."
   ]
  }
 ],
 "metadata": {
  "kernelspec": {
   "display_name": "Julia 1.10.9",
   "language": "julia",
   "name": "julia-1.10"
  },
  "language_info": {
   "file_extension": ".jl",
   "mimetype": "application/julia",
   "name": "julia",
   "version": "1.10.9"
  }
 },
 "nbformat": 4,
 "nbformat_minor": 2
}
