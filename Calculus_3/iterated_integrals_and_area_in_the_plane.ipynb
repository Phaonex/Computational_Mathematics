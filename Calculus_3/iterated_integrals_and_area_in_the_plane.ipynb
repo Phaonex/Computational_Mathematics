{
 "cells": [
  {
   "cell_type": "code",
   "execution_count": 1,
   "metadata": {},
   "outputs": [
    {
     "name": "stdout",
     "output_type": "stream",
     "text": [
      "\r"
     ]
    }
   ],
   "source": [
    "using Oscar\n",
    "using Symbolics\n",
    "using SymbolicNumericIntegration\n",
    "using Makie\n",
    "using CairoMakie\n",
    "using Latexify"
   ]
  },
  {
   "cell_type": "code",
   "execution_count": 2,
   "metadata": {},
   "outputs": [
    {
     "name": "stdout",
     "output_type": "stream",
     "text": [
      "OSCAR version 1.4.1\n",
      "  combining:\n",
      "    AbstractAlgebra.jl   v0.45.1\n",
      "    GAP.jl               v0.13.4\n",
      "    Hecke.jl             v0.36.0\n",
      "    Nemo.jl              v0.50.0\n",
      "    Polymake.jl          v0.12.1\n",
      "    Singular.jl          v0.25.4\n"
     ]
    }
   ],
   "source": [
    "Oscar.versioninfo()"
   ]
  },
  {
   "cell_type": "code",
   "execution_count": 3,
   "metadata": {},
   "outputs": [
    {
     "ename": "UndefVarError",
     "evalue": "UndefVarError: `set_html_as_latex` not defined",
     "output_type": "error",
     "traceback": [
      "UndefVarError: `set_html_as_latex` not defined\n",
      "\n",
      "Stacktrace:\n",
      " [1] getproperty(x::Module, f::Symbol)\n",
      "   @ Base ./Base.jl:31\n",
      " [2] top-level scope\n",
      "   @ ~/Documents/computation mathematics/julia/Calculus_3/jl_notebook_cell_df34fa98e69747e1a8f8a730347b8e2f_W2sZmlsZQ==.jl:2"
     ]
    }
   ],
   "source": [
    "Makie.inline!(true)\n",
    "Oscar.set_html_as_latex(true)"
   ]
  },
  {
   "cell_type": "code",
   "execution_count": 4,
   "metadata": {},
   "outputs": [],
   "source": [
    "include(\"src/Calculus_3.jl\")\n",
    "import .Calculus_3: to_number, to_ringElem, get_integrals, precision_integral"
   ]
  },
  {
   "cell_type": "code",
   "execution_count": 5,
   "metadata": {},
   "outputs": [
    {
     "data": {
      "text/plain": [
       "Real field"
      ]
     },
     "metadata": {},
     "output_type": "display_data"
    }
   ],
   "source": [
    "RR = RealField()"
   ]
  },
  {
   "cell_type": "code",
   "execution_count": 6,
   "metadata": {},
   "outputs": [
    {
     "data": {
      "text/plain": [
       "(Multivariate polynomial ring in 8 variables over QQ, QQMPolyRingElem[a, b, c, d, dt, x, y, z])"
      ]
     },
     "metadata": {},
     "output_type": "display_data"
    }
   ],
   "source": [
    "R, (a, b, c, d, dt, x, y, z) = polynomial_ring(QQ, [:a, :b, :c, :d, :dt, :x, :y, :z])"
   ]
  },
  {
   "cell_type": "code",
   "execution_count": 7,
   "metadata": {},
   "outputs": [
    {
     "data": {
      "text/plain": [
       "(Univariate polynomial ring in dy over RR, dy)"
      ]
     },
     "metadata": {},
     "output_type": "display_data"
    }
   ],
   "source": [
    "RU, x_u = polynomial_ring(RR, :x)\n",
    "RU, y_u = polynomial_ring(RR, :y)\n",
    "RU, z_u = polynomial_ring(RR, :z)\n",
    "RU, dx_u = polynomial_ring(RR, :dx)\n",
    "RU, dy_u = polynomial_ring(RR, :dy)"
   ]
  },
  {
   "cell_type": "code",
   "execution_count": 8,
   "metadata": {},
   "outputs": [
    {
     "data": {
      "text/html": [
       "x^2"
      ],
      "text/latex": [
       "x^{2}"
      ],
      "text/plain": [
       "x^2"
      ]
     },
     "metadata": {},
     "output_type": "display_data"
    }
   ],
   "source": [
    "x_u * y_u"
   ]
  },
  {
   "cell_type": "code",
   "execution_count": 9,
   "metadata": {},
   "outputs": [
    {
     "data": {
      "text/plain": [
       "(Multivariate polynomial ring in 9 variables over R, AbstractAlgebra.Generic.MPoly{QQMPolyRingElem}[xs[1], xs[2], xs[3]], AbstractAlgebra.Generic.MPoly{QQMPolyRingElem}[ys[1], ys[2], ys[3]], AbstractAlgebra.Generic.MPoly{QQMPolyRingElem}[zs[1], zs[2], zs[3]])"
      ]
     },
     "metadata": {},
     "output_type": "display_data"
    }
   ],
   "source": [
    "Rs, xs, ys, zs  = polynomial_ring(R, (:xs => (1:3), :ys => (1:3), :zs => (1:3)))"
   ]
  },
  {
   "cell_type": "markdown",
   "metadata": {},
   "source": [
    "# Iterated Integrals and Area in the Plane"
   ]
  },
  {
   "cell_type": "markdown",
   "metadata": {},
   "source": [
    "## Topics:\n",
    "\n",
    "- Iterated integrals.\n",
    "- Iterated integrals and area.\n",
    "- Reversing the order of integration."
   ]
  },
  {
   "cell_type": "markdown",
   "metadata": {},
   "source": [
    "## Definitions and Theorems:"
   ]
  },
  {
   "cell_type": "markdown",
   "metadata": {},
   "source": [
    "- **Iterated integrals:** Iterated integrals are of the form $∫_c^d [∫_{h_1(y)}^{h_1(y)} ƒ(x,y) dx]dy$ and  $∫_a^b [∫_{g_1(x)}^{g_1(x)} ƒ(x,y) dy]dx$.\n",
    "\n"
   ]
  },
  {
   "cell_type": "markdown",
   "metadata": {},
   "source": [
    "- **second:** Let some text.\n",
    "    - sub points.\n"
   ]
  },
  {
   "cell_type": "markdown",
   "metadata": {},
   "source": [
    "- **third:** Let some text.\n",
    "    - sub points.\n"
   ]
  },
  {
   "cell_type": "markdown",
   "metadata": {},
   "source": [
    "## Properties:\n",
    "\n",
    "- $$.\n",
    "-"
   ]
  },
  {
   "cell_type": "markdown",
   "metadata": {},
   "source": [
    "## Example 1:\n",
    "\n",
    "Calculate the iterated integral $\\int_{2}^4 [\\int_{1}^x 2xy dy] dx$.\n",
    "\n",
    "First, we evaluate the integral in the brackets with respect to y, and then we integrate the result with respect to x."
   ]
  },
  {
   "cell_type": "code",
   "execution_count": 10,
   "metadata": {},
   "outputs": [
    {
     "data": {
      "text/plain": [
       "([0.08333333333333333333 +/- 7.97e-21]*x^6, [0.2000000000000000000 +/- 2.44e-20]*x^5)"
      ]
     },
     "metadata": {},
     "output_type": "display_data"
    }
   ],
   "source": [
    "integral(integral(2x_u*y_u*dy_u) * dx_u), integral((x_u*y_u)^2)"
   ]
  },
  {
   "cell_type": "code",
   "execution_count": 11,
   "metadata": {},
   "outputs": [
    {
     "data": {
      "text/html": [
       "[0.6666666666666666666 +/- 8.48e-20]*x^3"
      ],
      "text/latex": [
       "[0.6666666666666666666 +/- 8.48e-20] x^{3}"
      ],
      "text/plain": [
       "[0.6666666666666666666 +/- 8.48e-20]*x^3"
      ]
     },
     "metadata": {},
     "output_type": "display_data"
    }
   ],
   "source": [
    "integral(2x_u*y_u)"
   ]
  },
  {
   "cell_type": "code",
   "execution_count": 44,
   "metadata": {},
   "outputs": [
    {
     "data": {
      "text/plain": [
       "2-element Vector{String}:\n",
       " \"050000000000000000000\"\n",
       " \"4\""
      ]
     },
     "metadata": {},
     "output_type": "display_data"
    }
   ],
   "source": [
    "get_integrals(integral(2x_u*y_u*dy_u))"
   ]
  },
  {
   "cell_type": "code",
   "execution_count": 93,
   "metadata": {},
   "outputs": [
    {
     "data": {
      "text/html": [
       "15*x^4"
      ],
      "text/latex": [
       "15 x^{4}"
      ],
      "text/plain": [
       "15*x^4"
      ]
     },
     "metadata": {},
     "output_type": "display_data"
    }
   ],
   "source": [
    "precision_integral(get_integrals(integral(precision_integral(get_integrals(integral(2x_u*y_u)), y_u))),x)"
   ]
  },
  {
   "cell_type": "code",
   "execution_count": 110,
   "metadata": {},
   "outputs": [
    {
     "ename": "MethodError",
     "evalue": "MethodError: no method matching findnext(::RealPolyRingElem, ::String, ::Int64)\n\nClosest candidates are:\n  findnext(!Matched::Regex, ::Union{String, SubString}, ::Integer)\n   @ Base regex.jl:431\n  findnext(!Matched::Regex, ::AbstractString, ::Integer)\n   @ Base regex.jl:456\n  findnext(!Matched::Base.RegexAndMatchData, ::Any, ::Any)\n   @ Base regex.jl:586\n  ...\n",
     "output_type": "error",
     "traceback": [
      "MethodError: no method matching findnext(::RealPolyRingElem, ::String, ::Int64)\n",
      "\n",
      "Closest candidates are:\n",
      "  findnext(!Matched::Regex, ::Union{String, SubString}, ::Integer)\n",
      "   @ Base regex.jl:431\n",
      "  findnext(!Matched::Regex, ::AbstractString, ::Integer)\n",
      "   @ Base regex.jl:456\n",
      "  findnext(!Matched::Base.RegexAndMatchData, ::Any, ::Any)\n",
      "   @ Base regex.jl:586\n",
      "  ...\n",
      "\n",
      "\n",
      "Stacktrace:\n",
      " [1] iterate\n",
      "   @ ./strings/util.jl:556 [inlined]\n",
      " [2] iterate\n",
      "   @ ./strings/util.jl:555 [inlined]\n",
      " [3] _collect\n",
      "   @ ./array.jl:770 [inlined]\n",
      " [4] collect\n",
      "   @ ./array.jl:759 [inlined]\n",
      " [5] #split#487\n",
      "   @ ./strings/util.jl:628 [inlined]\n",
      " [6] split\n",
      "   @ ./strings/util.jl:626 [inlined]\n",
      " [7] get_integrals(expr::RealPolyRingElem, oper_vars::RealPolyRingElem)\n",
      "   @ Main.Calculus_3 ~/Documents/computation mathematics/julia/Calculus_3/src/Calculus_3.jl:30\n",
      " [8] top-level scope\n",
      "   @ ~/Documents/computation mathematics/julia/Calculus_3/jl_notebook_cell_df34fa98e69747e1a8f8a730347b8e2f_Y114sZmlsZQ==.jl:1"
     ]
    }
   ],
   "source": [
    "precision_integral(get_integrals(integral(15y_u^4),y_u), y)"
   ]
  },
  {
   "cell_type": "code",
   "execution_count": 67,
   "metadata": {},
   "outputs": [
    {
     "ename": "MethodError",
     "evalue": "MethodError: no method matching getindex(::RealPolyRingElem, ::Int64)",
     "output_type": "error",
     "traceback": [
      "MethodError: no method matching getindex(::RealPolyRingElem, ::Int64)\n",
      "\n",
      "Stacktrace:\n",
      " [1] precision_integral(get_integrals::RealPolyRingElem, variable::QQMPolyRingElem, precision::Int64)\n",
      "   @ Main.Calculus_3 ~/Documents/computation mathematics/julia/Calculus_3/src/Calculus_3.jl:32\n",
      " [2] top-level scope\n",
      "   @ ~/Documents/computation mathematics/julia/Calculus_3/jl_notebook_cell_df34fa98e69747e1a8f8a730347b8e2f_Y112sZmlsZQ==.jl:1"
     ]
    }
   ],
   "source": [
    "precision_integral(integral(precision_integral(get_integrals(integral(2x_u*y_u)), y_u)), y)"
   ]
  },
  {
   "cell_type": "code",
   "execution_count": 60,
   "metadata": {},
   "outputs": [
    {
     "ename": "UndefVarError",
     "evalue": "UndefVarError: `calc_integral` not defined",
     "output_type": "error",
     "traceback": [
      "UndefVarError: `calc_integral` not defined\n",
      "\n",
      "Stacktrace:\n",
      " [1] top-level scope\n",
      "   @ ~/Documents/computation mathematics/julia/Calculus_3/jl_notebook_cell_df34fa98e69747e1a8f8a730347b8e2f_X30sZmlsZQ==.jl:1"
     ]
    }
   ],
   "source": [
    "precision_integral(integral(calc_integral(integral(2x_u*y_u), y_u)), x_u)"
   ]
  },
  {
   "cell_type": "code",
   "execution_count": 47,
   "metadata": {},
   "outputs": [
    {
     "ename": "MethodError",
     "evalue": "MethodError: no method matching getindex(::RealPolyRingElem, ::Int64)",
     "output_type": "error",
     "traceback": [
      "MethodError: no method matching getindex(::RealPolyRingElem, ::Int64)\n",
      "\n",
      "Stacktrace:\n",
      " [1] precision_integral(get_integrals::RealPolyRingElem, variable::QQMPolyRingElem, precision::Int64)\n",
      "   @ Main.Calculus_3 ~/Documents/computation mathematics/julia/Calculus_3/src/Calculus_3.jl:32\n",
      " [2] top-level scope\n",
      "   @ ~/Documents/computation mathematics/julia/Calculus_3/jl_notebook_cell_df34fa98e69747e1a8f8a730347b8e2f_X31sZmlsZQ==.jl:1"
     ]
    }
   ],
   "source": [
    "precision_integral(6y_u^3, x)"
   ]
  },
  {
   "cell_type": "code",
   "execution_count": 16,
   "metadata": {},
   "outputs": [
    {
     "data": {
      "text/plain": [
       "(x_s, y_s, α_s, β_s, ∂x_s, ∂y_s, ∂z_s, ∂ƒ_s, ƒ_s)"
      ]
     },
     "metadata": {},
     "output_type": "display_data"
    }
   ],
   "source": [
    "@syms x_s y_s α_s::Real β_s::Real ∂x_s ∂y_s ∂z_s ∂ƒ_s ƒ_s(..) # define variables with julia types for limit functions for numerical computation"
   ]
  },
  {
   "cell_type": "code",
   "execution_count": 17,
   "metadata": {},
   "outputs": [
    {
     "data": {
      "text/plain": [
       "54//1"
      ]
     },
     "metadata": {},
     "output_type": "display_data"
    }
   ],
   "source": [
    "SymbolicNumericIntegration.integrate(SymbolicNumericIntegration.integrate(2x_s*y_s, (y_s, 1, x_s); symbolic = true, detailed=false), (x_s, 2, 4); symbolic = true, detailed=false)"
   ]
  },
  {
   "cell_type": "code",
   "execution_count": 18,
   "metadata": {},
   "outputs": [
    {
     "ename": "UndefVarError",
     "evalue": "UndefVarError: `calc_integral` not defined",
     "output_type": "error",
     "traceback": [
      "UndefVarError: `calc_integral` not defined\n",
      "\n",
      "Stacktrace:\n",
      " [1] top-level scope\n",
      "   @ ~/Documents/computation mathematics/julia/Calculus_3/jl_notebook_cell_df34fa98e69747e1a8f8a730347b8e2f_X34sZmlsZQ==.jl:1"
     ]
    }
   ],
   "source": [
    "subst(calc_integral(6y_u^3, x), [x],[2])"
   ]
  },
  {
   "cell_type": "code",
   "execution_count": 104,
   "metadata": {},
   "outputs": [
    {
     "data": {
      "text/html": [
       "3333333330*z^5"
      ],
      "text/latex": [
       "3333333330 z^{5}"
      ],
      "text/plain": [
       "3333333330*z^5"
      ]
     },
     "metadata": {},
     "output_type": "display_data"
    }
   ],
   "source": [
    "reduce((acc, cur) -> precision_integral(get_integrals(integral(acc)), cur, 10), [x_u, y_u, z]; init=2x_u*y_u)"
   ]
  },
  {
   "cell_type": "markdown",
   "metadata": {},
   "source": [
    "## Example 2:\n",
    "\n",
    "Use an interated integral to find the area of the region bounded by the graphs of $ƒ(x) = \\sin{x}$ and $g(x)\\cos{x}$.\n",
    "\n",
    "between $x = \\dfrac{π}{4}$ and $x = \\dfrac{5π}{4}$.\n",
    "\n",
    "we have the following:"
   ]
  },
  {
   "cell_type": "code",
   "execution_count": 120,
   "metadata": {},
   "outputs": [
    {
     "data": {
      "text/html": [
       "2*x^4"
      ],
      "text/latex": [
       "2 x^{4}"
      ],
      "text/plain": [
       "2*x^4"
      ]
     },
     "metadata": {},
     "output_type": "display_data"
    }
   ],
   "source": [
    "A = precision_integral(get_integrals(integral(precision_integral(get_integrals(integral(integral(y_u))), y_u))), x)"
   ]
  },
  {
   "cell_type": "code",
   "execution_count": 154,
   "metadata": {},
   "outputs": [
    {
     "data": {
      "text/plain": [
       "2-element Vector{RealFieldElem}:\n",
       " [0.0807455121882807714 +/- 4.95e-20]\n",
       " [10.09318902353509628 +/- 3.38e-18]"
      ]
     },
     "metadata": {},
     "output_type": "display_data"
    }
   ],
   "source": [
    "map(l -> subst(integral(integral(y_u)), l), [π/4, 5π/4])"
   ]
  },
  {
   "cell_type": "code",
   "execution_count": 164,
   "metadata": {},
   "outputs": [
    {
     "data": {
      "text/latex": [
       "\\begin{equation}\n",
       "\\left[\n",
       "\\begin{array}{c}\n",
       "-1.1102230246251565e-16 \\\\\n",
       "2.220446049250313e-16 \\\\\n",
       "\\end{array}\n",
       "\\right]\n",
       "\\end{equation}\n"
      ],
      "text/plain": [
       "L\"\\begin{equation}\n",
       "\\left[\n",
       "\\begin{array}{c}\n",
       "-1.1102230246251565e-16 \\\\\n",
       "2.220446049250313e-16 \\\\\n",
       "\\end{array}\n",
       "\\right]\n",
       "\\end{equation}\n",
       "\""
      ]
     },
     "metadata": {},
     "output_type": "display_data"
    }
   ],
   "source": [
    "latexify([sin(x) - cos(x) for x in [π/4, 5π/4]])"
   ]
  },
  {
   "cell_type": "code",
   "execution_count": 145,
   "metadata": {},
   "outputs": [
    {
     "data": {
      "text/latex": [
       "$$ \\begin{equation}\n",
       "1.4142 = 2.8284\n",
       "\\end{equation}\n",
       " $$"
      ],
      "text/plain": [
       "1.4142135623730951 ~ 2.8284271247461903"
      ]
     },
     "metadata": {},
     "output_type": "display_data"
    }
   ],
   "source": [
    "sin(π/4) - cos(5π/4) ~ 2√(2)"
   ]
  },
  {
   "cell_type": "code",
   "execution_count": 162,
   "metadata": {},
   "outputs": [
    {
     "data": {
      "text/latex": [
       "$$ \\begin{equation}\n",
       "-3.3307 \\cdot 10^{-16} = 2.8284\n",
       "\\end{equation}\n",
       " $$"
      ],
      "text/plain": [
       "-3.3306690738754696e-16 ~ 2.8284271247461903"
      ]
     },
     "metadata": {},
     "output_type": "display_data"
    }
   ],
   "source": [
    "SymbolicNumericIntegration.integrate(-cos(x_s) - sin(x_s), (x_s, π/4, 5π/4); symbolic = true, detailed=false) ~ 2√(2)"
   ]
  },
  {
   "cell_type": "markdown",
   "metadata": {},
   "source": [
    "## Example 3:\n",
    "\n",
    "Sketch he region whose area is represented by the interated integral $\\int_{0}^2 \\int_{y^2}^4 dx dy$.\n",
    "\n",
    "we know that y^2 ≤ x ≤ 4. So, the region is bounded on the left by $x = y^2 <=> y = \\sqrt{x}$ and on the right by $x = 4$."
   ]
  },
  {
   "cell_type": "code",
   "execution_count": null,
   "metadata": {},
   "outputs": [],
   "source": []
  },
  {
   "cell_type": "markdown",
   "metadata": {},
   "source": [
    "## Example 4:\n",
    "\n",
    "Sketch the region of integration represented by the intereted integral $\\int_{0}^2 \\int_{x}^2 e^{-y^2} dx dy$ Then, evaluate the integral by reversing the order if integration.\n",
    "\n",
    "The region if integration is shown.\n",
    "\n",
    "Reversing the order, we have"
   ]
  },
  {
   "cell_type": "code",
   "execution_count": 182,
   "metadata": {},
   "outputs": [
    {
     "data": {
      "text/latex": [
       "$$ \\begin{equation}\n",
       "\\mathscr{e}^{ - y_{s}^{2}}\n",
       "\\end{equation}\n",
       " $$"
      ],
      "text/plain": [
       "ℯ^(-(y_s^2))"
      ]
     },
     "metadata": {},
     "output_type": "display_data"
    }
   ],
   "source": [
    "ℯ^(-y_s^2)"
   ]
  },
  {
   "cell_type": "code",
   "execution_count": 174,
   "metadata": {},
   "outputs": [
    {
     "ename": "MethodError",
     "evalue": "MethodError: no method matching ^(::Irrational{:ℯ}, ::RealPolyRingElem)\n\nClosest candidates are:\n  ^(::Irrational{:ℯ}, !Matched::Num)\n   @ Symbolics ~/.julia/packages/Symbolics/kX3XY/src/num.jl:66\n  ^(::Irrational{:ℯ}, !Matched::Rational)\n   @ Base mathconstants.jl:139\n  ^(::Irrational{:ℯ}, !Matched::SparseConnectivityTracer.HessianTracer)\n   @ SparseConnectivityTracer ~/.julia/packages/SparseConnectivityTracer/QhSNJ/src/overloads/hessian_tracer.jl:290\n  ...\n",
     "output_type": "error",
     "traceback": [
      "MethodError: no method matching ^(::Irrational{:ℯ}, ::RealPolyRingElem)\n",
      "\n",
      "Closest candidates are:\n",
      "  ^(::Irrational{:ℯ}, !Matched::Num)\n",
      "   @ Symbolics ~/.julia/packages/Symbolics/kX3XY/src/num.jl:66\n",
      "  ^(::Irrational{:ℯ}, !Matched::Rational)\n",
      "   @ Base mathconstants.jl:139\n",
      "  ^(::Irrational{:ℯ}, !Matched::SparseConnectivityTracer.HessianTracer)\n",
      "   @ SparseConnectivityTracer ~/.julia/packages/SparseConnectivityTracer/QhSNJ/src/overloads/hessian_tracer.jl:290\n",
      "  ...\n",
      "\n",
      "\n",
      "Stacktrace:\n",
      " [1] top-level scope\n",
      "   @ ~/Documents/computation mathematics/julia/Calculus_3/jl_notebook_cell_df34fa98e69747e1a8f8a730347b8e2f_Y125sZmlsZQ==.jl:1"
     ]
    }
   ],
   "source": [
    "integral(integral(ℯ^(-y_u^2)))"
   ]
  },
  {
   "cell_type": "code",
   "execution_count": null,
   "metadata": {},
   "outputs": [
    {
     "ename": "MethodError",
     "evalue": "MethodError: objects of type Module are not callable",
     "output_type": "error",
     "traceback": [
      "MethodError: objects of type Module are not callable\n",
      "\n",
      "Stacktrace:\n",
      " [1] top-level scope\n",
      "   @ ~/Documents/computation mathematics/julia/Calculus_3/jl_notebook_cell_df34fa98e69747e1a8f8a730347b8e2f_Y126sZmlsZQ==.jl:1"
     ]
    }
   ],
   "source": [
    "SymbolicNumericIntegration(SymbolicNumericIntegration(ℯ^(-y_s^2), y_s))"
   ]
  },
  {
   "cell_type": "markdown",
   "metadata": {},
   "source": [
    "Although the original integral could not be evaluated using the fundamental of calculus, the new integral can easilybe evaluated using substitution.\n",
    "\n",
    "The answer is"
   ]
  },
  {
   "cell_type": "code",
   "execution_count": 185,
   "metadata": {},
   "outputs": [
    {
     "data": {
      "text/plain": [
       "0.509328680181887"
      ]
     },
     "metadata": {},
     "output_type": "display_data"
    }
   ],
   "source": [
    "1/2(1 - 1/ℯ^4)"
   ]
  }
 ],
 "metadata": {
  "kernelspec": {
   "display_name": "Julia 1.10.9",
   "language": "julia",
   "name": "julia-1.10"
  },
  "language_info": {
   "file_extension": ".jl",
   "mimetype": "application/julia",
   "name": "julia",
   "version": "1.10.9"
  }
 },
 "nbformat": 4,
 "nbformat_minor": 2
}
