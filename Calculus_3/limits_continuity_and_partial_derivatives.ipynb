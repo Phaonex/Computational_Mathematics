{
 "cells": [
  {
   "cell_type": "code",
   "execution_count": 50,
   "metadata": {},
   "outputs": [],
   "source": [
    "using Oscar\n",
    "using Symbolics\n",
    "using SymbolicUtils\n",
    "using Makie\n",
    "using Latexify"
   ]
  },
  {
   "cell_type": "code",
   "execution_count": 35,
   "metadata": {},
   "outputs": [
    {
     "name": "stdout",
     "output_type": "stream",
     "text": [
      "OSCAR version 1.4.1\n",
      "  combining:\n",
      "    AbstractAlgebra.jl   v0.45.1\n",
      "    GAP.jl               v0.13.4\n",
      "    Hecke.jl             v0.36.0\n",
      "    Nemo.jl              v0.50.0\n",
      "    Polymake.jl          v0.12.1\n",
      "    Singular.jl          v0.25.4\n"
     ]
    }
   ],
   "source": [
    "Oscar.versioninfo()"
   ]
  },
  {
   "cell_type": "code",
   "execution_count": 36,
   "metadata": {},
   "outputs": [
    {
     "data": {
      "text/plain": [
       "true"
      ]
     },
     "metadata": {},
     "output_type": "display_data"
    }
   ],
   "source": [
    "Makie.inline!(true)"
   ]
  },
  {
   "cell_type": "code",
   "execution_count": 37,
   "metadata": {},
   "outputs": [
    {
     "data": {
      "text/plain": [
       "(Multivariate polynomial ring in 12 variables over QQ, QQMPolyRingElem[a, b, c, x, x_0, y, y_0, z, ∂, ∆x, ∆y, ∞])"
      ]
     },
     "metadata": {},
     "output_type": "display_data"
    }
   ],
   "source": [
    "R, (a, b, c, x, x_0, y, y_0, z, ∂, ∆x, ∆y, ∞) = polynomial_ring(QQ, [:a, :b, :c, :x, :x_0, :y, :y_0, :z, :∂, :∆x, :∆y, :∞])"
   ]
  },
  {
   "cell_type": "code",
   "execution_count": 38,
   "metadata": {},
   "outputs": [
    {
     "data": {
      "text/plain": [
       "(x_sym, y_sym, α_sym, β_sym, ∂x, ∂y, ∂ƒ)"
      ]
     },
     "metadata": {},
     "output_type": "display_data"
    }
   ],
   "source": [
    "@syms x_sym y_sym α_sym::Real β_sym::Real ∂x ∂y ∂ƒ "
   ]
  },
  {
   "cell_type": "markdown",
   "metadata": {},
   "source": [
    "# Limits, Continuity, and Partial Derivatives"
   ]
  },
  {
   "cell_type": "markdown",
   "metadata": {},
   "source": [
    "## Topics:\n",
    "\n",
    "- Limits of functions of two variable.\n",
    "- Disks in the plane.\n",
    "- The formal definition of limit.\n",
    "- Continuity of functions of two variables.\n",
    "- Patial derivatives."
   ]
  },
  {
   "cell_type": "markdown",
   "metadata": {},
   "source": [
    "## Definitions and Theorems:"
   ]
  },
  {
   "cell_type": "markdown",
   "metadata": {},
   "source": [
    "- **The open disk centered:** Let $(x_0, y_0) be a point in the plane$.\n",
    "    \n",
    "    - Then open disk centered at (x_0, y_0) with radius $𝛿$ is the set of points\n",
    "\n",
    "    ${(x,y): \\sqrt{(x - x_0)^2 + (y - y_0)^2} < 𝛿}$.\n"
   ]
  },
  {
   "cell_type": "markdown",
   "metadata": {},
   "source": [
    "- **Limit function:** Let ƒ be a function of two variables defined, exvept possibly at $(x_0, y_0)$, on an open disk centered at $(x_0, y_0)$, and let $L$ be a real number.\n",
    "    \n",
    "    Then,\n",
    "\n",
    "    $lim_{(x,y) \\to (x_0, y_0)} ƒ(x,y) = L$\n",
    "    \n",
    "    if, for every $𝜀 > 0$, there exist 𝛿 > 0 such that\n",
    "\n",
    "    $|ƒ(x,y) - L| < 𝜀$ whenever $0 > \\sqrt{(x -x_0)^2 + (y - y_0)^2} < 𝛿$.\n"
   ]
  },
  {
   "cell_type": "markdown",
   "metadata": {},
   "source": [
    "- **Continuous:** A function of two variables is continuous at a point $(x_0, y_0)$ if $(x_0, y_0)$ is defined and\n",
    "    \n",
    "     $lim_{(x,y) \\to (x_0, y_0)} ƒ(x,y) = ƒ(x_0,y_0)$.\n"
   ]
  },
  {
   "cell_type": "markdown",
   "metadata": {},
   "source": [
    "- **partial derivatives:** Definition of partial derivatives\n",
    "    \n",
    "    $\\dfrac{∂ƒ}{∂x} = ƒ_x(x,y) = lim_{∆x \\to 0} \\dfrac{ƒ(x + ∆x, y) - ƒ(x,y)}{∆x}$.\n",
    "\n",
    "    $\\dfrac{∂ƒ}{∂y} = ƒ_y(x,y) = lim_{∆y \\to 0} \\dfrac{ƒ(x, y + ∆y) - ƒ(x,y)}{∆y}$."
   ]
  },
  {
   "cell_type": "markdown",
   "metadata": {},
   "source": [
    "## Summary:\n",
    "\n",
    "In this lesson, we continue to study the fundamental concepts of limits and continuity for functions of two\n",
    "variables. We will see that limits in multivariable calculus are more complicated, but we won’t dwell on the\n",
    "theoretical aspects. We then present partial derivatives, the generalization of derivatives from elementary\n",
    "calculus. We will learn how to calculate partial derivatives and discover their geometric significance."
   ]
  },
  {
   "cell_type": "code",
   "execution_count": 39,
   "metadata": {},
   "outputs": [
    {
     "data": {
      "text/plain": [
       "((x, y), x - x_0 + y - y_0, <, ∂)"
      ]
     },
     "metadata": {},
     "output_type": "display_data"
    }
   ],
   "source": [
    "(x, y), sqrt((x - x_0)^2) + sqrt((y - y_0)^2), <, ∂"
   ]
  },
  {
   "cell_type": "markdown",
   "metadata": {},
   "source": [
    "## Example 1:\n",
    "\n",
    "**title.**\n",
    "\n",
    "Calculate the limit.\n",
    "\n",
    "The limit is easy to evaluate:"
   ]
  },
  {
   "cell_type": "code",
   "execution_count": 40,
   "metadata": {},
   "outputs": [
    {
     "data": {
      "text/plain": [
       "2-element Vector{AbstractAlgebra.Generic.FracFieldElem{QQMPolyRingElem}}:\n",
       " y^2 + 5*y\n",
       " y^2 + 5*y"
      ]
     },
     "metadata": {},
     "output_type": "display_data"
    }
   ],
   "source": [
    "map(x -> 5*x^2*y//x^2 + y^2, [1,2])"
   ]
  },
  {
   "cell_type": "code",
   "execution_count": 41,
   "metadata": {},
   "outputs": [
    {
     "data": {
      "text/plain": [
       "14//1"
      ]
     },
     "metadata": {},
     "output_type": "display_data"
    }
   ],
   "source": [
    "reduce((x,y) -> 5*x^2*y//x^2 + y^2, 1:2)"
   ]
  },
  {
   "cell_type": "markdown",
   "metadata": {},
   "source": [
    "We were able to just plug in the point (1, 2) in this example. The next example is more interesting."
   ]
  },
  {
   "cell_type": "markdown",
   "metadata": {},
   "source": [
    "## Example 2:\n",
    "\n",
    "Show that the limit.\n",
    "\n",
    "We approach the point (0, 0) along two different paths.\n",
    "\n",
    "Along the path $y = 0$"
   ]
  },
  {
   "cell_type": "code",
   "execution_count": 42,
   "metadata": {},
   "outputs": [
    {
     "data": {
      "text/plain": [
       "1.0"
      ]
     },
     "metadata": {},
     "output_type": "display_data"
    }
   ],
   "source": [
    "reduce((x,y) -> (x^2 - y^2/x^2 + y^2)^2, [1,0])"
   ]
  },
  {
   "cell_type": "code",
   "execution_count": 51,
   "metadata": {},
   "outputs": [
    {
     "data": {
      "text/plain": [
       "1"
      ]
     },
     "metadata": {},
     "output_type": "display_data"
    }
   ],
   "source": [
    "limit((x_sym^2 - y_sym^2/x_sym^2 + y_sym^2)^2, x_sym, 1)"
   ]
  },
  {
   "cell_type": "markdown",
   "metadata": {},
   "source": [
    "And along the path $ y = x,"
   ]
  },
  {
   "cell_type": "code",
   "execution_count": 44,
   "metadata": {},
   "outputs": [
    {
     "data": {
      "text/plain": [
       "1.0"
      ]
     },
     "metadata": {},
     "output_type": "display_data"
    }
   ],
   "source": [
    "reduce((x,y) -> (x^2 - y^2/x^2 + y^2)^2, [1,1])"
   ]
  },
  {
   "cell_type": "code",
   "execution_count": 45,
   "metadata": {},
   "outputs": [],
   "source": [
    "#limit((x_sym^2 - y_sym^2/x_sym^2 + y_sym^2)^2, y_sym, 1) Error reason bellow."
   ]
  },
  {
   "cell_type": "markdown",
   "metadata": {},
   "source": [
    "Because these values do not agree, the limit does not exist."
   ]
  },
  {
   "cell_type": "markdown",
   "metadata": {},
   "source": [
    "## Example 3:\n",
    "\n",
    "Calculate the partial derivatives of the function $ƒ(x, y) = x^3 + \\sin{y}$.\n",
    "\n",
    "We calculate the partial derivative with respect to x by holding the variable y constant and differentiating with\n",
    "respect to $x: \\dfrac{∂ƒ}{∂x} = 3x^2$."
   ]
  },
  {
   "cell_type": "code",
   "execution_count": 52,
   "metadata": {},
   "outputs": [
    {
     "data": {
      "text/latex": [
       "$$ \\begin{equation}\n",
       "\\sin\\left( y_{sym} \\right) + x_{sym}^{3}\n",
       "\\end{equation}\n",
       " $$"
      ],
      "text/plain": [
       "sin(y_sym) + x_sym^3"
      ]
     },
     "metadata": {},
     "output_type": "display_data"
    }
   ],
   "source": [
    "ƒ = x_sym^3 + sin(y_sym)"
   ]
  },
  {
   "cell_type": "code",
   "execution_count": 53,
   "metadata": {},
   "outputs": [
    {
     "data": {
      "text/latex": [
       "$$ \\begin{equation}\n",
       "\\frac{{\\partial}ƒ}{{\\partial}x} = 3 x_{sym}^{2}\n",
       "\\end{equation}\n",
       " $$"
      ],
      "text/plain": [
       "(∂ƒ / ∂x) == 3(x_sym^2)"
      ]
     },
     "metadata": {},
     "output_type": "display_data"
    }
   ],
   "source": [
    "∂ƒ/∂x == Symbolics.derivative(ƒ, x_sym)"
   ]
  },
  {
   "cell_type": "code",
   "execution_count": 54,
   "metadata": {},
   "outputs": [
    {
     "data": {
      "text/latex": [
       "$$ \\begin{equation}\n",
       "\\frac{{\\partial}ƒ}{{\\partial}y} = \\cos\\left( y_{sym} \\right)\n",
       "\\end{equation}\n",
       " $$"
      ],
      "text/plain": [
       "(∂ƒ / ∂y) == cos(y_sym)"
      ]
     },
     "metadata": {},
     "output_type": "display_data"
    }
   ],
   "source": [
    "∂ƒ/∂y == Symbolics.derivative(ƒ, y_sym)"
   ]
  },
  {
   "cell_type": "markdown",
   "metadata": {},
   "source": [
    "Similarly, the partial derivative with respect to y is calculated by holding the variable x constant:"
   ]
  }
 ],
 "metadata": {
  "kernelspec": {
   "display_name": "Julia 1.10.9",
   "language": "julia",
   "name": "julia-1.10"
  },
  "language_info": {
   "file_extension": ".jl",
   "mimetype": "application/julia",
   "name": "julia",
   "version": "1.10.9"
  }
 },
 "nbformat": 4,
 "nbformat_minor": 2
}
