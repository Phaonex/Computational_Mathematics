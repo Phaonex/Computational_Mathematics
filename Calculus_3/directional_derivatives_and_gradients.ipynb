{
 "cells": [
  {
   "cell_type": "code",
   "execution_count": 1,
   "metadata": {},
   "outputs": [
    {
     "name": "stdout",
     "output_type": "stream",
     "text": [
      "\r"
     ]
    }
   ],
   "source": [
    "using Oscar\n",
    "using Makie\n",
    "import CairoMakie\n",
    "using Latexify"
   ]
  },
  {
   "cell_type": "code",
   "execution_count": 2,
   "metadata": {},
   "outputs": [
    {
     "name": "stdout",
     "output_type": "stream",
     "text": [
      "OSCAR version 1.3.1\n",
      "  combining:\n",
      "    AbstractAlgebra.jl   v0.44.13\n",
      "    GAP.jl               v0.13.3\n",
      "    Hecke.jl             v0.35.19\n",
      "    Nemo.jl              v0.49.5\n",
      "    Polymake.jl          v0.11.29\n",
      "    Singular.jl          v0.25.3\n"
     ]
    }
   ],
   "source": [
    "Oscar.versioninfo()"
   ]
  },
  {
   "cell_type": "code",
   "execution_count": 3,
   "metadata": {},
   "outputs": [
    {
     "ename": "UndefVarError",
     "evalue": "UndefVarError: `set_html_as_latex` not defined",
     "output_type": "error",
     "traceback": [
      "UndefVarError: `set_html_as_latex` not defined\n",
      "\n",
      "Stacktrace:\n",
      " [1] getproperty(x::Module, f::Symbol)\n",
      "   @ Base ./Base.jl:31\n",
      " [2] top-level scope\n",
      "   @ ~/Documents/computation mathematics/julia/Calculus_3/jl_notebook_cell_df34fa98e69747e1a8f8a730347b8e2f_W2sZmlsZQ==.jl:2"
     ]
    }
   ],
   "source": [
    "Makie.inline!(true)\n",
    "Oscar.set_html_as_latex(true)"
   ]
  },
  {
   "cell_type": "code",
   "execution_count": 4,
   "metadata": {},
   "outputs": [],
   "source": [
    "include(\"src/Calculus_3.jl\")\n",
    "import  .Calculus_3.to_ringElem\n",
    "import  .Calculus_3.to_number"
   ]
  },
  {
   "cell_type": "code",
   "execution_count": 5,
   "metadata": {},
   "outputs": [
    {
     "data": {
      "text/plain": [
       "Real field"
      ]
     },
     "metadata": {},
     "output_type": "display_data"
    }
   ],
   "source": [
    "RR = RealField()"
   ]
  },
  {
   "cell_type": "code",
   "execution_count": 6,
   "metadata": {},
   "outputs": [
    {
     "data": {
      "text/plain": [
       "(Universal Polynomial Ring over Rational field, AbstractAlgebra.Generic.UnivPoly{QQFieldElem}[a, A, b, c, C, d, dt, F, G, m  …  ∫, θ, ∇, ∆x, ∆y, ∂x, ∂y, ∂z, ∂ƒ, ∞])"
      ]
     },
     "metadata": {},
     "output_type": "display_data"
    }
   ],
   "source": [
    "U, (a, A, b, c, C, d, dt, F, G, m, M, r, R, I, L, v, u, J, K, x, y, z, t, ∫, θ, ∇, ∆x, ∆y, ∂x, ∂y, ∂z, ∂ƒ, ∞) = universal_polynomial_ring(QQ, [:a, :A, :b, :c, :C, :d, :dt, :F, :G, :m, :M, :r, :R, :I, :L, :v, :u, :J, :K, :x, :y, :z, :t, :∫, :θ, :∇, :∆x, :∆y, :∂x, :∂y, :∂z, :∂ƒ, :∞])"
   ]
  },
  {
   "cell_type": "code",
   "execution_count": 7,
   "metadata": {},
   "outputs": [
    {
     "data": {
      "text/plain": [
       "(Univariate polynomial ring in z over QQ, z)"
      ]
     },
     "metadata": {},
     "output_type": "display_data"
    }
   ],
   "source": [
    "XU, x_u = polynomial_ring(QQ, :x)\n",
    "YU, y_u = polynomial_ring(QQ, :y)\n",
    "ZU, z_u = polynomial_ring(QQ, :z)"
   ]
  },
  {
   "cell_type": "code",
   "execution_count": 8,
   "metadata": {},
   "outputs": [
    {
     "data": {
      "text/plain": [
       "3-element Vector{AbstractAlgebra.Generic.UnivPoly{AbstractAlgebra.Generic.UnivPoly{QQFieldElem}}}:\n",
       " xs[1]\n",
       " xs[2]\n",
       " xs[3]"
      ]
     },
     "metadata": {},
     "output_type": "display_data"
    }
   ],
   "source": [
    "Rs, xs, ys  = universal_polynomial_ring(U, (:xs => (1:3), :ys => (1:3)))\n",
    "xs"
   ]
  },
  {
   "cell_type": "markdown",
   "metadata": {},
   "source": [
    "# Directional Derivatives and Gradients"
   ]
  },
  {
   "cell_type": "markdown",
   "metadata": {},
   "source": [
    "## Topics:\n",
    "\n",
    "- Directional derivatives.\n",
    "- The gradient of a function of two or more variables.\n",
    "- Properties of the gradient.\n",
    "- Gradients and level curves.\n",
    "- Gradients and level surfaces."
   ]
  },
  {
   "cell_type": "markdown",
   "metadata": {},
   "source": [
    "## Definitions and Theorems:"
   ]
  },
  {
   "cell_type": "markdown",
   "metadata": {},
   "source": [
    "- **directional derivatives:** Let $bold u = \\cos{\\theta \\bold i} + \\sin{\\theta \\bold j}$ be a unit vector in the plane, and let ƒ be a differentiable function of x and y.\n",
    "    The directional derivative of ƒ in the direction of $\\bold u$ is.\n",
    "\n",
    "    $D_u ƒ(x,y) =f_x(x,y)\\cos{\\theta} + ƒ_y(x,y)\\sin{\\theta}$.\n"
   ]
  },
  {
   "cell_type": "markdown",
   "metadata": {},
   "source": [
    "- **grad:** Let $z = ƒ(x,y)$ be a function whose partial derivatives exist. The gradient of ƒ is the vector grad $ ƒ(x,y) = ∇ƒ(x,y) = ƒ_x(x,y) \\bold i + ƒ_y(x,y)\\bold j$."
   ]
  },
  {
   "cell_type": "markdown",
   "metadata": {},
   "source": [
    "- **Theorem:** $D_u ƒ(x,y) = ∇ƒ(x,y)\\cdot \\bold u$."
   ]
  },
  {
   "cell_type": "markdown",
   "metadata": {},
   "source": [
    "- **Theorem:** $D_u ƒ(x,y) = ||∇ƒ(x,y)||\\cos{\\phi}$. Where $\\phi$ is the angle between the gradient and the unit vector $\\bold u$. The directional derivative is a maximum when $\\cos{\\phi} = 1$ and a minimum when $\\cos{\\phi} = -1$."
   ]
  },
  {
   "cell_type": "markdown",
   "metadata": {},
   "source": [
    "- **Theorem orthogonal ƒ:** If ƒ is differentiable at the point $(x_0, y_0)$ and $∇ƒ(x_0,y_0) ≠ \\bold 0$, then $∇ƒ(x_0,y_0)$ is orthogonal to the level curve through the point $(x_0,y_0)$. In a siliar manner, gradients of functions of three vatiables are orthogonal to level surfaces."
   ]
  },
  {
   "cell_type": "markdown",
   "metadata": {},
   "source": [
    "## Summary:\n",
    "\n",
    "In this lesson, we continue our study of functions of two or more independent variables. We first generalize the concept of partial derivative to the so-called directional derivative. This leads to the definition of the gradient of a function of two (or more) variables. We will see that the gradient is a verctor that points in the derection of maximum increase (steepest ascent). Finally, we discover that the gradient vector in the plane is orthogonal to level curves surfaces. This will be a key result when we develop tangent planes to surfaces in the next lesson."
   ]
  },
  {
   "cell_type": "markdown",
   "metadata": {},
   "source": [
    "## Example 1:\n",
    "\n",
    "Find the directional derivative of $ƒ(x,y) = 4 - x^2 -\\dfrac{1}{4}y^2$ in the direction of $\\bold u = (\\cos{\\dfrac{π}{3}})\\bold i + (\\sin{\\dfrac{π}{3}})\\bold j$."
   ]
  },
  {
   "cell_type": "code",
   "execution_count": 9,
   "metadata": {},
   "outputs": [
    {
     "data": {
      "text/plain": [
       "ƒ (generic function with 3 methods)"
      ]
     },
     "metadata": {},
     "output_type": "display_data"
    }
   ],
   "source": [
    "ƒ(x=1,y=1) = 4 - x^2 - (1//4)y^2"
   ]
  },
  {
   "cell_type": "code",
   "execution_count": 10,
   "metadata": {},
   "outputs": [
    {
     "data": {
      "text/plain": [
       "1.3660254037844388"
      ]
     },
     "metadata": {},
     "output_type": "display_data"
    }
   ],
   "source": [
    "u = cos(π/3)*to_number(I, 1) + sin(π/3)*to_number(J, 1)"
   ]
  },
  {
   "cell_type": "code",
   "execution_count": 11,
   "metadata": {},
   "outputs": [
    {
     "data": {
      "text/html": [
       "-1216652631687587//1125899906842624*x - 3789648413623927//9007199254740992*y"
      ],
      "text/latex": [
       "-\\frac{1216652631687587}{1125899906842624} x - \\frac{3789648413623927}{9007199254740992} y"
      ],
      "text/plain": [
       "-1216652631687587//1125899906842624*x - 3789648413623927//9007199254740992*y"
      ]
     },
     "metadata": {},
     "output_type": "display_data"
    }
   ],
   "source": [
    "D_uƒ = derivative(ƒ(x,y), x) * Rational(cos(to_number(θ, 1))) + derivative(ƒ(x,y), y) * Rational(sin(to_number(θ, 1)))"
   ]
  },
  {
   "cell_type": "markdown",
   "metadata": {},
   "source": [
    "We have"
   ]
  },
  {
   "cell_type": "code",
   "execution_count": 12,
   "metadata": {},
   "outputs": [
    {
     "data": {
      "text/latex": [
       "$\\theta = 1.0471975511965976 - \\frac{8656258940374275}{4503599627370496} = -1.8660254037844386$"
      ],
      "text/plain": [
       "L\"$\\theta = 1.0471975511965976 - \\frac{8656258940374275}{4503599627370496} = -1.8660254037844386$\""
      ]
     },
     "metadata": {},
     "output_type": "display_data"
    }
   ],
   "source": [
    "latexify(string(θ, \"=\", π/3, to_number(x, 1), to_number(y, 2), evaluate(D_uƒ, [x, y],[1,2]), \"=\", (-2)*(1/2) + (-1)*(√(3)/2)))"
   ]
  },
  {
   "cell_type": "markdown",
   "metadata": {},
   "source": [
    "## Example 2:\n",
    "\n",
    "find the gradient of the function $ƒ(x,y) = y\\log{x} + xy^2$ at point (1, 2).\n",
    "\n",
    "The partial derivatives are."
   ]
  },
  {
   "cell_type": "code",
   "execution_count": 13,
   "metadata": {},
   "outputs": [
    {
     "data": {
      "text/html": [
       "0"
      ],
      "text/latex": [
       "0"
      ],
      "text/plain": [
       "0"
      ]
     },
     "metadata": {},
     "output_type": "display_data"
    }
   ],
   "source": [
    "U(to_number(log(1)));\n",
    "to_ringElem(x,ZZ, log(1)) * y"
   ]
  },
  {
   "cell_type": "code",
   "execution_count": 14,
   "metadata": {},
   "outputs": [
    {
     "data": {
      "text/html": [
       "x*y^2"
      ],
      "text/latex": [
       "x y^{2}"
      ],
      "text/plain": [
       "x*y^2"
      ]
     },
     "metadata": {},
     "output_type": "display_data"
    }
   ],
   "source": [
    "y*to_ringElem(x, ZZ, log(1)) + x*y^2"
   ]
  },
  {
   "cell_type": "code",
   "execution_count": 56,
   "metadata": {},
   "outputs": [],
   "source": [
    "ƒ(x=x,y=y) = y*Rational(log(to_number(x, 1))) + x*y^2;"
   ]
  },
  {
   "cell_type": "code",
   "execution_count": 16,
   "metadata": {},
   "outputs": [
    {
     "data": {
      "text/latex": [
       "$y^{22} \\cdot x \\cdot y$"
      ],
      "text/plain": [
       "L\"$y^{22} \\cdot x \\cdot y$\""
      ]
     },
     "metadata": {},
     "output_type": "display_data"
    }
   ],
   "source": [
    "ƒ_x(x=x) = derivative(ƒ(x,y), x); ƒ_y(y=y) = derivative(ƒ(x,y), y);\n",
    "\n",
    "latexify(string(ƒ_x(), ƒ_y()))"
   ]
  },
  {
   "cell_type": "code",
   "execution_count": 57,
   "metadata": {},
   "outputs": [],
   "source": [
    "∇ƒ(x, y) = ƒ_x(x) + ƒ_y(y);"
   ]
  },
  {
   "cell_type": "code",
   "execution_count": 28,
   "metadata": {},
   "outputs": [
    {
     "data": {
      "text/latex": [
       "$2 \\cdot x \\cdot y + y^{2} = I \\cdot y^{2} + 2 \\cdot J \\cdot x \\cdot y = \\frac{I \\cdot x \\cdot y^{2} + I \\cdot y + 2 \\cdot J \\cdot x^{2} \\cdot y}{x}$"
      ],
      "text/plain": [
       "L\"$2 \\cdot x \\cdot y + y^{2} = I \\cdot y^{2} + 2 \\cdot J \\cdot x \\cdot y = \\frac{I \\cdot x \\cdot y^{2} + I \\cdot y + 2 \\cdot J \\cdot x^{2} \\cdot y}{x}$\""
      ]
     },
     "metadata": {},
     "output_type": "display_data"
    }
   ],
   "source": [
    "latexify(string(∇ƒ(x,y), \"=\", ƒ_x(x) * I + ƒ_y(y)* J, \"=\", ((y//x) + y^2)I + (Rational(log(to_number(x, 1))) + 2x*y)*J))"
   ]
  },
  {
   "cell_type": "code",
   "execution_count": 31,
   "metadata": {},
   "outputs": [
    {
     "data": {
      "text/latex": [
       "$0 = 0 = 6 \\cdot I + 4 \\cdot J$"
      ],
      "text/plain": [
       "L\"$0 = 0 = 6 \\cdot I + 4 \\cdot J$\""
      ]
     },
     "metadata": {},
     "output_type": "display_data"
    }
   ],
   "source": [
    "latexify(string(∇ƒ(1,2), \"=\", ƒ_x(1) * I + ƒ_y(2)* J, \"=\", ((2//1) + 2^2)I + (Rational(log(to_number(x, 1))) + 2*1*2)*J))"
   ]
  },
  {
   "cell_type": "markdown",
   "metadata": {},
   "source": [
    "## Example 3:\n",
    "\n",
    "The gradient of the function of three variables $ƒ(x, y, z) = x^2 + y^2 - 4z$ is"
   ]
  },
  {
   "cell_type": "code",
   "execution_count": 58,
   "metadata": {},
   "outputs": [],
   "source": [
    "ƒ(x, y, z) = x^2 + y^2 - 4z;"
   ]
  },
  {
   "cell_type": "code",
   "execution_count": 35,
   "metadata": {},
   "outputs": [],
   "source": [
    "ƒ_x(x) = ƒ(x, y, z);\n",
    "ƒ_y(y) = ƒ(x, y, z);\n",
    "ƒ_z(z) = ƒ(x, y, z);"
   ]
  },
  {
   "cell_type": "code",
   "execution_count": 59,
   "metadata": {},
   "outputs": [],
   "source": [
    "∇ƒ(x, y, z) = ƒ_x(x)*I + ƒ_y(y)*J + ƒ_z(z)*K;"
   ]
  },
  {
   "cell_type": "markdown",
   "metadata": {},
   "source": [
    "At a point (2,-1,1),"
   ]
  },
  {
   "cell_type": "code",
   "execution_count": 43,
   "metadata": {},
   "outputs": [
    {
     "data": {
      "text/latex": [
       "$I \\cdot x^{2} + I \\cdot y^{2} - 4 \\cdot I \\cdot z + J \\cdot x^{2} + J \\cdot y^{2} - 4 \\cdot J \\cdot z + K \\cdot x^{2} + K \\cdot y^{2} - 4 \\cdot K \\cdot z = I \\cdot y^{2} - 4 \\cdot I \\cdot z + 4 \\cdot I + J \\cdot x^{2} - 4 \\cdot J \\cdot z + J + K \\cdot x^{2} + K \\cdot y^{2} - 4 \\cdot K$"
      ],
      "text/plain": [
       "L\"$I \\cdot x^{2} + I \\cdot y^{2} - 4 \\cdot I \\cdot z + J \\cdot x^{2} + J \\cdot y^{2} - 4 \\cdot J \\cdot z + K \\cdot x^{2} + K \\cdot y^{2} - 4 \\cdot K \\cdot z = I \\cdot y^{2} - 4 \\cdot I \\cdot z + 4 \\cdot I + J \\cdot x^{2} - 4 \\cdot J \\cdot z + J + K \\cdot x^{2} + K \\cdot y^{2} - 4 \\cdot K$\""
      ]
     },
     "metadata": {},
     "output_type": "display_data"
    }
   ],
   "source": [
    "latexify(string(∇ƒ(x,y,z), \"=\", ∇ƒ(2,-1,1)))"
   ]
  },
  {
   "cell_type": "markdown",
   "metadata": {},
   "source": [
    "Consider a level surface through this point"
   ]
  },
  {
   "cell_type": "code",
   "execution_count": 45,
   "metadata": {},
   "outputs": [
    {
     "data": {
      "text/latex": [
       "$1 = 1$"
      ],
      "text/plain": [
       "L\"$1 = 1$\""
      ]
     },
     "metadata": {},
     "output_type": "display_data"
    }
   ],
   "source": [
    "latexify(string(ƒ(2,-1,1), \"=\", 2^2 + (-1)^2 - 4(1)))"
   ]
  },
  {
   "cell_type": "markdown",
   "metadata": {},
   "source": [
    "The gradient vector is orthogonal to the level surface through the point"
   ]
  },
  {
   "cell_type": "code",
   "execution_count": 55,
   "metadata": {},
   "outputs": [
    {
     "data": {
      "text/latex": [
       "$x^{2} + y^{2} - 4 \\cdot z = 1 \\Rightarrow z = \\frac{\\frac{1}{4}}{x^{2} + y^{2} - 1}$"
      ],
      "text/plain": [
       "L\"$x^{2} + y^{2} - 4 \\cdot z = 1 \\Rightarrow z = \\frac{\\frac{1}{4}}{x^{2} + y^{2} - 1}$\""
      ]
     },
     "metadata": {},
     "output_type": "display_data"
    }
   ],
   "source": [
    "latexify(string(x^2 + y^2 - 4z, \"=\", 1, \"=>\", z, \"=\", 1//4(x^2 + y^2 - 1)))"
   ]
  },
  {
   "cell_type": "markdown",
   "metadata": {},
   "source": [
    "In this case, the gradient is pointing downward at the point $(2, -1, 1)$ on the paraboloid."
   ]
  }
 ],
 "metadata": {
  "kernelspec": {
   "display_name": "Julia 1.10.9",
   "language": "julia",
   "name": "julia-1.10"
  },
  "language_info": {
   "file_extension": ".jl",
   "mimetype": "application/julia",
   "name": "julia",
   "version": "1.10.9"
  }
 },
 "nbformat": 4,
 "nbformat_minor": 2
}
