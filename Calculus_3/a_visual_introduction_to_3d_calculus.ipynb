{
 "cells": [
  {
   "cell_type": "code",
   "execution_count": 24,
   "metadata": {},
   "outputs": [],
   "source": [
    "using Oscar\n",
    "using Makie\n",
    "import CairoMakie\n",
    "using Latexify"
   ]
  },
  {
   "cell_type": "code",
   "execution_count": 2,
   "metadata": {},
   "outputs": [
    {
     "name": "stdout",
     "output_type": "stream",
     "text": [
      "OSCAR version 1.2.2\n",
      "  combining:\n",
      "    AbstractAlgebra.jl   v0.43.12\n",
      "    GAP.jl               v0.12.3\n",
      "    Hecke.jl             v0.34.9\n",
      "    Nemo.jl              v0.47.5\n",
      "    Polymake.jl          v0.11.29\n",
      "    Singular.jl          v0.23.10\n"
     ]
    }
   ],
   "source": [
    "Oscar.versioninfo()"
   ]
  },
  {
   "cell_type": "code",
   "execution_count": 3,
   "metadata": {},
   "outputs": [
    {
     "data": {
      "text/plain": [
       "true"
      ]
     },
     "metadata": {},
     "output_type": "display_data"
    }
   ],
   "source": [
    "Makie.inline!(true)"
   ]
  },
  {
   "cell_type": "code",
   "execution_count": 93,
   "metadata": {},
   "outputs": [
    {
     "data": {
      "text/plain": [
       "(Multivariate polynomial ring in 12 variables over QQ, QQMPolyRingElem[a, b, c, d, r, x, y, z, ∫, ∆x, ∆y, ∞])"
      ]
     },
     "metadata": {},
     "output_type": "display_data"
    }
   ],
   "source": [
    "R, (a, b, c, d, r, x, y, z, ∫, Δx, Δy, ∞) = polynomial_ring(QQ, [:a, :b, :c, :d, :r, :x, :y, :z, :∫, :∆x, :∆y, :∞])\n"
   ]
  },
  {
   "cell_type": "code",
   "execution_count": 94,
   "metadata": {},
   "outputs": [],
   "source": [
    "ƒ(..);"
   ]
  },
  {
   "cell_type": "code",
   "execution_count": 6,
   "metadata": {},
   "outputs": [
    {
     "data": {
      "text/plain": [
       "3-element Vector{ZZMPolyRingElem}:\n",
       " v[1]\n",
       " v[2]\n",
       " v[3]"
      ]
     },
     "metadata": {},
     "output_type": "display_data"
    }
   ],
   "source": [
    "R, v = polynomial_ring(ZZ, :v => (1:3))\n",
    "v"
   ]
  },
  {
   "cell_type": "code",
   "execution_count": 7,
   "metadata": {},
   "outputs": [
    {
     "data": {
      "text/latex": [
       "$x^{10} + 10 \\cdot x^{9} \\cdot y + 45 \\cdot x^{8} \\cdot y^{2} + 120 \\cdot x^{7} \\cdot y^{3} + 210 \\cdot x^{6} \\cdot y^{4} + 252 \\cdot x^{5} \\cdot y^{5} + 210 \\cdot x^{4} \\cdot y^{6} + 120 \\cdot x^{3} \\cdot y^{7} + 45 \\cdot x^{2} \\cdot y^{8} + 10 \\cdot x \\cdot y^{9} + y^{10}$"
      ],
      "text/plain": [
       "L\"$x^{10} + 10 \\cdot x^{9} \\cdot y + 45 \\cdot x^{8} \\cdot y^{2} + 120 \\cdot x^{7} \\cdot y^{3} + 210 \\cdot x^{6} \\cdot y^{4} + 252 \\cdot x^{5} \\cdot y^{5} + 210 \\cdot x^{4} \\cdot y^{6} + 120 \\cdot x^{3} \\cdot y^{7} + 45 \\cdot x^{2} \\cdot y^{8} + 10 \\cdot x \\cdot y^{9} + y^{10}$\""
      ]
     },
     "metadata": {},
     "output_type": "display_data"
    }
   ],
   "source": [
    "latexify(string(p))"
   ]
  },
  {
   "cell_type": "code",
   "execution_count": 8,
   "metadata": {},
   "outputs": [
    {
     "data": {
      "text/html": [
       "3*x^3 + x + 2"
      ],
      "text/latex": [
       "3 x^{3} + x + 2"
      ],
      "text/plain": [
       "3*x^3 + x + 2"
      ]
     },
     "metadata": {},
     "output_type": "display_data"
    }
   ],
   "source": [
    "f = 2 + x + 3x^3"
   ]
  },
  {
   "cell_type": "code",
   "execution_count": 9,
   "metadata": {},
   "outputs": [
    {
     "data": {
      "text/plain": [
       "g (generic function with 1 method)"
      ]
     },
     "metadata": {},
     "output_type": "display_data"
    }
   ],
   "source": [
    "g(x) = 2 + x + 3x^3"
   ]
  },
  {
   "cell_type": "code",
   "execution_count": 10,
   "metadata": {},
   "outputs": [
    {
     "data": {
      "text/html": [
       "2 + dx + 3*dx^3 + O(dx^10)"
      ],
      "text/latex": [
       "2 + \\mathop{\\mathrm{dx}} + 3 \\mathop{\\mathrm{dx}}^{3} + O\\left(\\mathop{\\mathrm{dx}}^{10}\\right)"
      ],
      "text/plain": [
       "2 + dx + 3*dx^3 + O(dx^10)"
      ]
     },
     "metadata": {},
     "output_type": "display_data"
    }
   ],
   "source": [
    "S, dx = power_series_ring(QQ, 10, :dx)\n",
    "h = 2 + dx + 3dx^3"
   ]
  },
  {
   "cell_type": "code",
   "execution_count": 11,
   "metadata": {},
   "outputs": [
    {
     "data": {
      "text/latex": [
       "$\\frac{1}{2} \\cdot dx^{2} + O\\left( dx^{12} \\right)$"
      ],
      "text/plain": [
       "L\"$\\frac{1}{2} \\cdot dx^{2} + O\\left( dx^{12} \\right)$\""
      ]
     },
     "metadata": {},
     "output_type": "display_data"
    }
   ],
   "source": [
    "latexify(string(integral(dx)))"
   ]
  },
  {
   "cell_type": "markdown",
   "metadata": {},
   "source": [
    "# A Visual Introduction to 3-D Calculus"
   ]
  },
  {
   "cell_type": "markdown",
   "metadata": {},
   "source": [
    "## Topics:\n",
    "\n",
    "- Introduction to multivariable calculus.\n",
    "- Generalizing elementary calculus to three dimensions.\n",
    "- The three-dimensional coordinate system.\n",
    "- Distance and midpoint formulas.\n",
    "- Introduction to functions of two variable"
   ]
  },
  {
   "cell_type": "markdown",
   "metadata": {},
   "source": [
    "## Definitions and Theorems:"
   ]
  },
  {
   "cell_type": "markdown",
   "metadata": {},
   "source": [
    "- **three-dimentional coordinate system:** In the three-dimentional coordinate system, points are represented by ordered triples, $(x,y,z)$ for example, the origin is $(0, 0, 0)$."
   ]
  },
  {
   "cell_type": "markdown",
   "metadata": {},
   "source": [
    "- **distance:** The distance between the points $(x_1, y_1, z_1)$ and $(x_2, y_2, z_2)$ is given by the formula.\n",
    "    \n",
    "    - $d = \\sqrt{(x_2 - x_1)^2 + (y_2 - y_1)^2 + (z_2 - z_1)^2}$.\n"
   ]
  },
  {
   "cell_type": "markdown",
   "metadata": {},
   "source": [
    "- **sphere:** with center $(x_0, y_0, z_0)$ and radius r is the set of all points $(x,y,z)$ such that the distance between $(x,y,z)$ and $(x_0, y_0, z_0)$ is $r$. That is\n",
    "    \n",
    "    - $d = \\sqrt{(x - x_0)^2 + (y - y_0)^2 + (z - z_0)^2} = r$.\n"
   ]
  },
  {
   "cell_type": "markdown",
   "metadata": {},
   "source": [
    "- **sphere equation:** This simplifies to the equation of a sphere, $(x - x_0)^2 + (y - x_0)^2 + (z - z_0)^2 = r^2$."
   ]
  },
  {
   "cell_type": "markdown",
   "metadata": {},
   "source": [
    "- **midpoint:** between the points $(x_1, y_1, z_1)$ and $(x_2,y_2,z_2)$ is given by the formula\n",
    "    \n",
    "    - $(\\dfrac{x_1 + x_2}{2}, \\dfrac{y_1 + y_2}{2}, \\dfrac{x_1 + x_2}{2})$.\n"
   ]
  },
  {
   "cell_type": "markdown",
   "metadata": {},
   "source": [
    "- **function of two variables:** If $z = ƒ(x,y)$ is a function of two variables, the $x$ adn $y$ are called the independent variables, and z is the dependent variables."
   ]
  },
  {
   "cell_type": "markdown",
   "metadata": {},
   "source": [
    "## Example 1:\n",
    "\n",
    "Find the distance between the points $(2, -1, 3)$ and $(1, 0, -2)$.\n",
    "\n",
    "Using the distance formula, we have."
   ]
  },
  {
   "cell_type": "code",
   "execution_count": 12,
   "metadata": {},
   "outputs": [
    {
     "data": {
      "text/plain": [
       "(d, true)"
      ]
     },
     "metadata": {},
     "output_type": "display_data"
    }
   ],
   "source": [
    "d, √((1 - 2)^2 + (0 + 1)^2 + (-2 -3)^2) == √(1 + 1 + 25) == √(27) == 3*√(3)"
   ]
  },
  {
   "cell_type": "markdown",
   "metadata": {},
   "source": [
    "## Example 2:\n",
    "\n",
    "Find the equation of the sphere having $(4, -2, 3)$ and $(0, 4, 3)$ as endpoints of a diameter.\n",
    "\n",
    "The center of the sphere is the midpoint, $\\left ( \\dfrac{4 + 0}{2}, \\dfrac{-2 + 4}{2}, \\dfrac{3 - 3}{2} \\right ) = (2, 1, 0)$"
   ]
  },
  {
   "cell_type": "code",
   "execution_count": 14,
   "metadata": {},
   "outputs": [
    {
     "data": {
      "text/latex": [
       "$r \\Rightarrow 4.69041575982343 \\Rightarrow 4.69041575982343 \\Rightarrow 4.69041575982343$"
      ],
      "text/plain": [
       "L\"$r \\Rightarrow 4.69041575982343 \\Rightarrow 4.69041575982343 \\Rightarrow 4.69041575982343$\""
      ]
     },
     "metadata": {},
     "output_type": "display_data"
    }
   ],
   "source": [
    "latexify(string(r => √((0 -2)^2 + (4 - 1)^2 + (-3 - 0)^2) => √(4 + 9 + 9) => √(22)))"
   ]
  },
  {
   "cell_type": "markdown",
   "metadata": {},
   "source": [
    "The equation of the sphere is"
   ]
  },
  {
   "cell_type": "code",
   "execution_count": 15,
   "metadata": {},
   "outputs": [
    {
     "data": {
      "text/latex": [
       "$x^{2} - 4 \\cdot x + y^{2} - 2 \\cdot y + z^{2} + 5 \\Rightarrow 22.0$"
      ],
      "text/plain": [
       "L\"$x^{2} - 4 \\cdot x + y^{2} - 2 \\cdot y + z^{2} + 5 \\Rightarrow 22.0$\""
      ]
     },
     "metadata": {},
     "output_type": "display_data"
    }
   ],
   "source": [
    "latexify(string((x - 2)^2 + (y - 1)^2 + (z - 0)^2 => (√(22))^2))"
   ]
  },
  {
   "cell_type": "markdown",
   "metadata": {},
   "source": [
    "which simplifies to"
   ]
  },
  {
   "cell_type": "code",
   "execution_count": 76,
   "metadata": {},
   "outputs": [
    {
     "data": {
      "text/latex": [
       "$x^{2} - 4 \\cdot x + y^{2} - 2 \\cdot y + z^{2} + 5 \\Rightarrow 22$"
      ],
      "text/plain": [
       "L\"$x^{2} - 4 \\cdot x + y^{2} - 2 \\cdot y + z^{2} + 5 \\Rightarrow 22$\""
      ]
     },
     "metadata": {},
     "output_type": "display_data"
    }
   ],
   "source": [
    "latexify(string((x - 2)^2 + (y - 1)^2 + z^2 => 22))"
   ]
  },
  {
   "cell_type": "markdown",
   "metadata": {},
   "source": [
    "## Example 3:\n",
    "\n",
    "For the function of two variables."
   ]
  },
  {
   "cell_type": "code",
   "execution_count": 109,
   "metadata": {},
   "outputs": [
    {
     "data": {
      "text/plain": [
       "true"
      ]
     },
     "metadata": {},
     "output_type": "display_data"
    }
   ],
   "source": [
    "ƒ(..) = x^2 + x*y\n",
    "z == ƒ"
   ]
  },
  {
   "cell_type": "code",
   "execution_count": 118,
   "metadata": {},
   "outputs": [
    {
     "data": {
      "text/plain": [
       "(true, true)"
      ]
     },
     "metadata": {},
     "output_type": "display_data"
    }
   ],
   "source": [
    "ƒ(0,0) == 0, ƒ(2, 1) == 2^2 + 2(1)"
   ]
  }
 ],
 "metadata": {
  "kernelspec": {
   "display_name": "Julia 1.10.9",
   "language": "julia",
   "name": "julia-1.10"
  },
  "language_info": {
   "file_extension": ".jl",
   "mimetype": "application/julia",
   "name": "julia",
   "version": "1.11.4"
  }
 },
 "nbformat": 4,
 "nbformat_minor": 2
}
