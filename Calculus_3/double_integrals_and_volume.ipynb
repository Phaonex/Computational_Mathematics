{
 "cells": [
  {
   "cell_type": "code",
   "execution_count": null,
   "metadata": {},
   "outputs": [],
   "source": [
    "using Oscar\n",
    "using Symbolics\n",
    "using Makie\n",
    "using Latexify\n",
    "import CairoMakie\n",
    "import SymbolicNumericIntegration.integrate"
   ]
  },
  {
   "cell_type": "code",
   "execution_count": 2,
   "metadata": {},
   "outputs": [
    {
     "name": "stdout",
     "output_type": "stream",
     "text": [
      "OSCAR version 1.4.1\n",
      "  combining:\n",
      "    AbstractAlgebra.jl   v0.45.1\n",
      "    GAP.jl               v0.13.4\n",
      "    Hecke.jl             v0.36.0\n",
      "    Nemo.jl              v0.50.0\n",
      "    Polymake.jl          v0.12.1\n",
      "    Singular.jl          v0.25.4\n"
     ]
    }
   ],
   "source": [
    "Oscar.versioninfo()"
   ]
  },
  {
   "cell_type": "code",
   "execution_count": 3,
   "metadata": {},
   "outputs": [
    {
     "ename": "UndefVarError",
     "evalue": "UndefVarError: `set_html_as_latex` not defined",
     "output_type": "error",
     "traceback": [
      "UndefVarError: `set_html_as_latex` not defined\n",
      "\n",
      "Stacktrace:\n",
      " [1] getproperty(x::Module, f::Symbol)\n",
      "   @ Base ./Base.jl:31\n",
      " [2] top-level scope\n",
      "   @ ~/Documents/computation mathematics/julia/Calculus_3/jl_notebook_cell_df34fa98e69747e1a8f8a730347b8e2f_W2sZmlsZQ==.jl:2"
     ]
    }
   ],
   "source": [
    "Makie.inline!(true)\n",
    "Oscar.set_html_as_latex(true)"
   ]
  },
  {
   "cell_type": "code",
   "execution_count": 4,
   "metadata": {},
   "outputs": [],
   "source": [
    "include(\"src/Calculus_3.jl\")\n",
    "import .Calculus_3: to_number, to_ringElem, get_integrals, precision_integral"
   ]
  },
  {
   "cell_type": "code",
   "execution_count": 5,
   "metadata": {},
   "outputs": [
    {
     "data": {
      "text/plain": [
       "Real field"
      ]
     },
     "metadata": {},
     "output_type": "display_data"
    }
   ],
   "source": [
    "RR = RealField()"
   ]
  },
  {
   "cell_type": "code",
   "execution_count": 6,
   "metadata": {},
   "outputs": [
    {
     "data": {
      "text/plain": [
       "(Multivariate polynomial ring in 18 variables over QQ, QQMPolyRingElem[a, A, b, c, d, dt, x, y, z, ∫, θ, ∆x, ∆y, ∂x, ∂y, ∂z, ∂ƒ, ∞])"
      ]
     },
     "metadata": {},
     "output_type": "display_data"
    }
   ],
   "source": [
    "R, (a, A, b, c, d, dt, x, y, z, ∫, θ, ∆x, ∆y, ∂x, ∂y, ∂z, ∂ƒ, ∞) = polynomial_ring(QQ, [:a, :A, :b, :c, :d, :dt, :x, :y, :z, :∫, :θ, :∆x, :∆y, :∂x, :∂y, :∂z, :∂ƒ, :∞])"
   ]
  },
  {
   "cell_type": "code",
   "execution_count": 7,
   "metadata": {},
   "outputs": [
    {
     "data": {
      "text/plain": [
       "(Univariate polynomial ring in dy over RR, dy)"
      ]
     },
     "metadata": {},
     "output_type": "display_data"
    }
   ],
   "source": [
    "RU,_ = polynomial_ring(RR)\n",
    "_, x_u = RR[:x]\n",
    "_, y_u = RR[:y]\n",
    "_, z_u = RR[:z]\n",
    "_, dx_u = RR[:dx]\n",
    "_, dy_u = RR[:dy]"
   ]
  },
  {
   "cell_type": "code",
   "execution_count": 8,
   "metadata": {},
   "outputs": [
    {
     "data": {
      "text/plain": [
       "(x_s, y_s, z_s, ∂x_s, ∂y_s, ∂z_s, ∂ƒ_s, ƒ_s)"
      ]
     },
     "metadata": {},
     "output_type": "display_data"
    }
   ],
   "source": [
    "@syms x_s y_s z_s ∂x_s ∂y_s ∂z_s ∂ƒ_s ƒ_s(..) # define variables with julia types for limit functions for numerical computation"
   ]
  },
  {
   "cell_type": "markdown",
   "metadata": {},
   "source": [
    "# Double Integrals and Volume"
   ]
  },
  {
   "cell_type": "markdown",
   "metadata": {},
   "source": [
    "## Topics:\n",
    "\n",
    "- Double integrals and volume.\n",
    "- Properties of double integrals.\n",
    "- Average value."
   ]
  },
  {
   "cell_type": "markdown",
   "metadata": {},
   "source": [
    "## Definitions and Theorems:"
   ]
  },
  {
   "cell_type": "markdown",
   "metadata": {},
   "source": [
    "- **Properties of double integrals:**\n",
    "    \n",
    "    $∫∫_R{cƒ(x,y)dA} = c∫∫_R{ƒ(x,y)dA}$\n",
    "\n",
    "    $∫∫_R{[ƒ(x,y)+g(x,y)]dA} = ∫∫_R{ƒ(x,y)dA} + ∫∫_R{g(x,y)dA}$.\n"
   ]
  },
  {
   "cell_type": "markdown",
   "metadata": {},
   "source": [
    "- **Average value:** Let ƒ be integrable over the plane region R of area A. The average value of ƒ over R is\n",
    "    \n",
    "    $\\dfrac{1}{A} ∫∫_R{ƒ(x,y)dA}$.\n"
   ]
  },
  {
   "cell_type": "markdown",
   "metadata": {},
   "source": [
    "## Summary:\n",
    "\n",
    " We continue our study of integration of function of two variables. We show that the volume of a solid can be rapresented by a double integral. These double integrals have many of the same properties as single integrals. Although the motivation for double integrals was area and volume, we will see in upcoming lessons that there are many more applications of such integrals. We end the lesson with the familiar topic of average value."
   ]
  },
  {
   "cell_type": "markdown",
   "metadata": {},
   "source": [
    "## Example 1:\n",
    "\n",
    "Calculate the volume below the surface $z = 6 - 2y$ and above the rectangle given by $0 ≤ x ≤ 4, 0 ≤ y ≤ 2$.\n",
    "\n",
    "The volume is given by the double integral."
   ]
  },
  {
   "cell_type": "code",
   "execution_count": 9,
   "metadata": {},
   "outputs": [
    {
     "data": {
      "text/plain": [
       "ƒ (generic function with 1 method)"
      ]
     },
     "metadata": {},
     "output_type": "display_data"
    }
   ],
   "source": [
    "ƒ(x,y) = 6 - 2y"
   ]
  },
  {
   "cell_type": "code",
   "execution_count": 10,
   "metadata": {},
   "outputs": [
    {
     "data": {
      "text/html": [
       "32.000000000000000000*dx"
      ],
      "text/latex": [
       "32.000000000000000000 \\mathop{\\mathrm{dx}}"
      ],
      "text/plain": [
       "32.000000000000000000*dx"
      ]
     },
     "metadata": {},
     "output_type": "display_data"
    }
   ],
   "source": [
    "subst(integral(ƒ(x_u, y_u)), 2) * dx_u * 4"
   ]
  },
  {
   "cell_type": "code",
   "execution_count": 11,
   "metadata": {},
   "outputs": [
    {
     "data": {
      "text/html": [
       "[-0.2666666666666666667 +/- 6.95e-20]*y^5 + 1.5000000000000000000*y^4"
      ],
      "text/latex": [
       "[-0.2666666666666666667 +/- 6.95e-20] y^{5} + 1.5000000000000000000 y^{4}"
      ],
      "text/plain": [
       "[-0.2666666666666666667 +/- 6.95e-20]*y^5 + 1.5000000000000000000*y^4"
      ]
     },
     "metadata": {},
     "output_type": "display_data"
    }
   ],
   "source": [
    "integral(integral(ƒ(x_u, y_u) * dy_u * 2) * dx_u)"
   ]
  },
  {
   "cell_type": "code",
   "execution_count": 12,
   "metadata": {},
   "outputs": [
    {
     "data": {
      "text/html": [
       "32.000000000000000000"
      ],
      "text/latex": [
       "32.000000000000000000"
      ],
      "text/plain": [
       "32.000000000000000000"
      ]
     },
     "metadata": {},
     "output_type": "display_data"
    }
   ],
   "source": [
    "subst(integral(subst(integral(ƒ(x_u, y_u)), 2) * dx_u), 2) * 2"
   ]
  },
  {
   "cell_type": "markdown",
   "metadata": {},
   "source": [
    "## Example 2:\n",
    "\n",
    "The double integral for the volume under the surface $z = \\sin{y^2} = \\sin{(y^2)}$ and above region bounded by $y =\\dfrac{x}{2}, x = 0$ and $y = 1$ is $V = \\int_{0}^2 \\int_{x/2}^1 \\sin{y^2} dy dx$. Reverse the order integration.\n",
    "\n",
    "The vertical region of integration is a triangle and given the integral uses vertical rapresentative retangles.\n",
    "\n",
    "If instead we use Horizontal rapresentative retangles we obtain the integral."
   ]
  },
  {
   "cell_type": "code",
   "execution_count": 13,
   "metadata": {},
   "outputs": [
    {
     "data": {
      "text/plain": [
       "ƒ (generic function with 3 methods)"
      ]
     },
     "metadata": {},
     "output_type": "display_data"
    }
   ],
   "source": [
    "ƒ(y=1) = sin(y^2)"
   ]
  },
  {
   "cell_type": "markdown",
   "metadata": {},
   "source": [
    "Notice that the first integral cannot be done easily, wheres the second integral is straightfoward."
   ]
  },
  {
   "cell_type": "code",
   "execution_count": 14,
   "metadata": {},
   "outputs": [
    {
     "data": {
      "text/plain": [
       "[0.42073549240394825244 +/- 2.18e-21] ~ 0.45969769413186023"
      ]
     },
     "metadata": {},
     "output_type": "display_data"
    }
   ],
   "source": [
    "subst(integral(subst(integral(ƒ() * dy_u), 2y_u) * dx_u), 1) ~ -cos(1) + 1"
   ]
  },
  {
   "cell_type": "code",
   "execution_count": 15,
   "metadata": {},
   "outputs": [],
   "source": [
    "#Symbolics can't find this integral, Sagemath was also tested, given a long gen_uni_polynomials\n",
    "integrate(ƒ(y_s), (y_s, 0, 2y_s))"
   ]
  },
  {
   "cell_type": "markdown",
   "metadata": {},
   "source": [
    "Sagemath test for the first integral:\n",
    " \n",
    "$-1/16*sqrt(pi)*((I + 1)*sqrt(2)*erf((1/4*I + 1/4)*sqrt(2)*x) + (I - 1)*sqrt(2)*erf((1/4*I - 1/4)*sqrt(2)*x) - (I - 1)*sqrt(2)*erf(1/2*sqrt(-I)*x) + (I + 1)*sqrt(2)*erf(1/2*(-1)^(1/4)*x)) + 1/16*sqrt(pi)*((I + 1)*sqrt(2)*erf((1/2*I + 1/2)*sqrt(2)) + (I - 1)*sqrt(2)*erf((1/2*I - 1/2)*sqrt(2)) - (I - 1)*sqrt(2)*erf(sqrt(-I)) + (I + 1)*sqrt(2)*erf((-1)^(1/4)))$"
   ]
  },
  {
   "cell_type": "markdown",
   "metadata": {},
   "source": [
    "## Example 3:\n",
    "\n",
    "Find the average value of $ƒ(x,y) = \\dfrac{1}{2} xy$ over the retangular region $R$ with vertices (0, 0), (4, 0), (4, 3), and (0, 3).\n",
    "\n",
    "The area of the region is 4 X 3 = 12 the average value is."
   ]
  },
  {
   "cell_type": "code",
   "execution_count": 16,
   "metadata": {},
   "outputs": [
    {
     "data": {
      "text/plain": [
       "ƒ (generic function with 3 methods)"
      ]
     },
     "metadata": {},
     "output_type": "display_data"
    }
   ],
   "source": [
    "ƒ(x=x,y=y) = 1//2 * x*y"
   ]
  },
  {
   "cell_type": "code",
   "execution_count": 17,
   "metadata": {},
   "outputs": [
    {
     "data": {
      "text/html": [
       "10.125000000000000000"
      ],
      "text/latex": [
       "10.125000000000000000"
      ],
      "text/plain": [
       "10.125000000000000000"
      ]
     },
     "metadata": {},
     "output_type": "display_data"
    }
   ],
   "source": [
    "subst(integral(ƒ(x_u,y_u) * dy_u), 3)"
   ]
  },
  {
   "cell_type": "code",
   "execution_count": 18,
   "metadata": {},
   "outputs": [
    {
     "data": {
      "text/html": [
       "[6.75000000000000000 +/- 1.42e-18]"
      ],
      "text/latex": [
       "[6.75000000000000000 +/- 1.42e-18]"
      ],
      "text/plain": [
       "[6.75000000000000000 +/- 1.42e-18]"
      ]
     },
     "metadata": {},
     "output_type": "display_data"
    }
   ],
   "source": [
    "1//12 * subst(integral(subst(integral(ƒ(x_u,y_u) * dy_u), 3) * dx_u), 4)"
   ]
  },
  {
   "cell_type": "markdown",
   "metadata": {},
   "source": [
    "The integral is easy to evaluate, and the final answer is:"
   ]
  },
  {
   "cell_type": "code",
   "execution_count": 19,
   "metadata": {},
   "outputs": [
    {
     "data": {
      "text/latex": [
       "$\\frac{27}{4} = \\frac{3}{2}$"
      ],
      "text/plain": [
       "L\"$\\frac{27}{4} = \\frac{3}{2}$\""
      ]
     },
     "metadata": {},
     "output_type": "display_data"
    }
   ],
   "source": [
    "latexify(\"$(Rational(6.75000000000000000)) = $(Rational(6.75000000000000000) / 9//2)\")"
   ]
  }
 ],
 "metadata": {
  "kernelspec": {
   "display_name": "Julia 1.10.9",
   "language": "julia",
   "name": "julia-1.10"
  },
  "language_info": {
   "file_extension": ".jl",
   "mimetype": "application/julia",
   "name": "julia",
   "version": "1.10.9"
  }
 },
 "nbformat": 4,
 "nbformat_minor": 2
}
