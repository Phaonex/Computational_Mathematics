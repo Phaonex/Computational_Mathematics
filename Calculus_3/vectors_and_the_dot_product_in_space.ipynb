{
 "cells": [
  {
   "cell_type": "code",
   "execution_count": 1,
   "metadata": {},
   "outputs": [
    {
     "name": "stdout",
     "output_type": "stream",
     "text": [
      "\r"
     ]
    }
   ],
   "source": [
    "using Oscar\n",
    "using Symbolics\n",
    "using Makie\n",
    "import CairoMakie\n",
    "using Latexify"
   ]
  },
  {
   "cell_type": "code",
   "execution_count": 2,
   "metadata": {},
   "outputs": [
    {
     "name": "stdout",
     "output_type": "stream",
     "text": [
      "OSCAR version 1.4.1\n",
      "  combining:\n",
      "    AbstractAlgebra.jl   v0.45.1\n",
      "    GAP.jl               v0.13.4\n",
      "    Hecke.jl             v0.36.0\n",
      "    Nemo.jl              v0.50.0\n",
      "    Polymake.jl          v0.12.1\n",
      "    Singular.jl          v0.25.4\n"
     ]
    }
   ],
   "source": [
    "Oscar.versioninfo()"
   ]
  },
  {
   "cell_type": "code",
   "execution_count": 3,
   "metadata": {},
   "outputs": [
    {
     "data": {
      "text/plain": [
       "true"
      ]
     },
     "metadata": {},
     "output_type": "display_data"
    }
   ],
   "source": [
    "Makie.inline!(true)"
   ]
  },
  {
   "cell_type": "code",
   "execution_count": 4,
   "metadata": {},
   "outputs": [],
   "source": [
    "include(\"src/Calculus_3.jl\")\n",
    "using .Calculus_3"
   ]
  },
  {
   "cell_type": "code",
   "execution_count": 5,
   "metadata": {},
   "outputs": [
    {
     "data": {
      "text/plain": [
       "(Multivariate polynomial ring in 21 variables over QQ, QQMPolyRingElem[a, b, c, d, x, x_1, y, y_1, z, z_1  …  t, ∫, θ, ∆x, ∆y, ∂x, ∂y, ∂z, ∂ƒ, ∞])"
      ]
     },
     "metadata": {},
     "output_type": "display_data"
    }
   ],
   "source": [
    "R, (a, b, c, d, x, x_1, y, y_1, z, z_1, ƒ, t, ∫, θ, ∆x, ∆y, ∂x, ∂y, ∂z, ∂ƒ, ∞) = polynomial_ring(QQ, [:a, :b, :c, :d, :x, :x_1, :y, :y_1, :z, :z_1, :ƒ, :t, :∫, :θ, :∆x, :∆y, :∂x, :∂y, :∂z, :∂ƒ, :∞])"
   ]
  },
  {
   "cell_type": "code",
   "execution_count": 6,
   "metadata": {},
   "outputs": [
    {
     "data": {
      "text/plain": [
       "(Univariate polynomial ring in ∂ƒ_u over RR, ∂ƒ_u)"
      ]
     },
     "metadata": {},
     "output_type": "display_data"
    }
   ],
   "source": [
    "RR, X = polynomial_ring(RealField(), :X)\n",
    "XU, x_u = polynomial_ring(RealField(), :x_u)\n",
    "YU, y_u = polynomial_ring(RealField(), :y_u)\n",
    "ZU, z_u = polynomial_ring(RealField(), :z_u)\n",
    "TU, t_u = polynomial_ring(RealField(), :t_u)\n",
    "DXU, dx_u = polynomial_ring(RealField(), :dx_u)\n",
    "DYU, dy_u = polynomial_ring(RealField(), :dy_u)\n",
    "DXU, dx_u = polynomial_ring(RealField(), :dx_u)\n",
    "DTU, dt_u = polynomial_ring(RealField(), :dt_u)\n",
    "DWU, dw_u = polynomial_ring(RealField(), :dw_u)\n",
    "∆XU, ∆x_u = polynomial_ring(RealField(), :∆x_u)\n",
    "∆YU, ∆y_u = polynomial_ring(RealField(), :∆y_u)\n",
    "∂XU, ∂x_u = polynomial_ring(RealField(), :∂x_u)\n",
    "∂YU, ∂y_u = polynomial_ring(RealField(), :∂y_u)\n",
    "∂YU, ∂z_u = polynomial_ring(RealField(), :∂z_u)\n",
    "∂WU, ∂w_u = polynomial_ring(RealField(), :∂w_u)\n",
    "∂ƒU, ∂ƒ_u = polynomial_ring(RealField(), :∂ƒ_u)"
   ]
  },
  {
   "cell_type": "code",
   "execution_count": 7,
   "metadata": {},
   "outputs": [
    {
     "data": {
      "text/plain": [
       "3-element Vector{AbstractAlgebra.Generic.MPoly{QQMPolyRingElem}}:\n",
       " xs[1]\n",
       " xs[2]\n",
       " xs[3]"
      ]
     },
     "metadata": {},
     "output_type": "display_data"
    }
   ],
   "source": [
    "Rs, xs, ys  = polynomial_ring(R, (:xs => (1:3), :ys => (1:3)))\n",
    "xs"
   ]
  },
  {
   "cell_type": "code",
   "execution_count": 8,
   "metadata": {},
   "outputs": [
    {
     "data": {
      "text/plain": [
       "(x_s, y_s, α_s, β_s, ∂x_s, ∂y_s, ∂z_s, ∂ƒ_s)"
      ]
     },
     "metadata": {},
     "output_type": "display_data"
    }
   ],
   "source": [
    "@syms x_s y_s α_s::Real β_s::Real ∂x_s ∂y_s ∂z_s ∂ƒ_s # define variables with julia types for limit functions for numerical computation"
   ]
  },
  {
   "cell_type": "markdown",
   "metadata": {},
   "source": [
    "# Vectors and the Dot Product in Space"
   ]
  },
  {
   "cell_type": "markdown",
   "metadata": {},
   "source": [
    "## Topics:\n",
    "\n",
    "- Vectors in space.\n",
    "- The dot product of two vectors.\n",
    "- The angle between two nonzero vectors.\n",
    "- Lines in space."
   ]
  },
  {
   "cell_type": "markdown",
   "metadata": {},
   "source": [
    "## Definitions and Theorems:"
   ]
  },
  {
   "cell_type": "markdown",
   "metadata": {},
   "source": [
    "- **Vectors in space are denoted by:** Vectors in space are denoted by \n",
    "$\\bold v = <v_1, v_2, v_3>$ where $v_1, v_2,$ and $v_3$ are the components of the\n",
    "vector. The zero vector is $0 = <0, 0, 0>$,  and the standard unit vectors are $i = <1, 0, 0>, j = <0, 1, 0>, k = <0, 0, 1>$."
   ]
  },
  {
   "cell_type": "markdown",
   "metadata": {},
   "source": [
    "- **length or magnitude:** The length or magnitude of the vector is $\\bold v$ is $||\\bold v|| = \\sqrt{{v_1}^2 + {v_2}^2} + {v_3}^2$."
   ]
  },
  {
   "cell_type": "markdown",
   "metadata": {},
   "source": [
    "- **equal:** Two vectors are equal if they have the same components---that is, id they have the same length and direction.\n"
   ]
  },
  {
   "cell_type": "markdown",
   "metadata": {},
   "source": [
    "- **parallel:** Two nonzero vectors $\\bold u$ and $\\bold v$ are parallel if $\\bold u = c \\bold v$ for some nonzero scalar c.\n",
    "\n"
   ]
  },
  {
   "cell_type": "markdown",
   "metadata": {},
   "source": [
    "- **dot product:** The dot product of $\\bold u = <u_1, u_2, u_3>$ and $\\bold v = <v_1, v_2, v_3>$ is $\\bold u \\times \\bold v = u_1 v_1 + u_2 v_2 + u_3 v_3$.\n"
   ]
  },
  {
   "cell_type": "markdown",
   "metadata": {},
   "source": [
    "- **orthogonal:** Two vectors are orthogonal (perpendicular) if their dot product is zero.\n"
   ]
  },
  {
   "cell_type": "markdown",
   "metadata": {},
   "source": [
    "- **if $\\theta$ is the angle:** between the two nonzero vectors $\\bold u$ and $\\bold v$, then $\\cos{\\theta} \\dfrac{\\bold u \\times \\bold v}{||\\bold u|| ||\\bold v||}$.\n"
   ]
  },
  {
   "cell_type": "markdown",
   "metadata": {},
   "source": [
    "- **Lines in space:** Consider the line $L$ trough the point $P(x_1, y_1, z_1)$ and parallel to the direction vector $\\bold v = <a,b,c>$. The line $L$ consist of all points $Q(x,y,z)$ for which $P^\\to Q$ is parallel to $\\bold v, P^\\to Q = <x - x_1, y - y_1, z - z_1> = t<a,b,c> = t\\bold v$. The parametric equations for the line are  \n",
    "    \n",
    "    $x = x_1 + at$\n",
    "\n",
    "    $y = y_1 + bt$\n",
    "\n",
    "    $z = z_1 + ct$\n"
   ]
  },
  {
   "cell_type": "markdown",
   "metadata": {},
   "source": [
    "## Summary:\n",
    "\n",
    "We extend our knowledge of vectors in the plane to vectors in space. The formulas for length, dot product, and angle are easy generalizations of the corresponding definations from elementary calculus. We then show how to define lines in space using vectors. We develop the parametric equations for lines in space and illustrate this new idea examples."
   ]
  },
  {
   "cell_type": "markdown",
   "metadata": {},
   "source": [
    "## Example 1:\n",
    "\n",
    "Determine if the points $P(1, -2, 3), Q(2, 1, 0)$ and $R(4, 7, -6)$ are collinear.\n",
    "\n",
    "There are at least two ways to solve this problem. You could from the vectors $\\dfrac{\\to}{PQ}$ and $\\dfrac{\\to}{PR}$ and see if they are parallel. Or , you could see if the sum of the distances between two points equals the distance between the third pair. To this end, notice that"
   ]
  },
  {
   "cell_type": "code",
   "execution_count": 9,
   "metadata": {},
   "outputs": [
    {
     "data": {
      "text/plain": [
       "(4, 7, -6)"
      ]
     },
     "metadata": {},
     "output_type": "display_data"
    }
   ],
   "source": [
    "P = (1, -2, 3); Q = (2, 1, 0); R = (4, 7, -6)"
   ]
  },
  {
   "cell_type": "code",
   "execution_count": 10,
   "metadata": {},
   "outputs": [
    {
     "data": {
      "text/plain": [
       "D (generic function with 1 method)"
      ]
     },
     "metadata": {},
     "output_type": "display_data"
    }
   ],
   "source": [
    "D(P,Q) = P,Q"
   ]
  },
  {
   "cell_type": "code",
   "execution_count": 11,
   "metadata": {},
   "outputs": [
    {
     "data": {
      "text/latex": [
       "$$ \\begin{equation}\n",
       "\\left[\n",
       "\\begin{array}{cc}\n",
       "1 & 2 \\\\\n",
       "-2 & 1 \\\\\n",
       "3 & 0 \\\\\n",
       "\\end{array}\n",
       "\\right] = 4.3589 = 4.3589 = 4.3589\n",
       "\\end{equation}\n",
       " $$"
      ],
      "text/plain": [
       "((1, -2, 3), (2, 1, 0)) ~ 4.358898943540674 ~ 4.358898943540674 ~ 4.358898943540674"
      ]
     },
     "metadata": {},
     "output_type": "display_data"
    }
   ],
   "source": [
    "D(P,Q) ~ √((2-1)^2 + (1+2)^2 + (0-3)^2) ~ √(sum((P .- Q).^2)) ~ √(19)"
   ]
  },
  {
   "cell_type": "code",
   "execution_count": 12,
   "metadata": {},
   "outputs": [
    {
     "data": {
      "text/latex": [
       "$$ \\begin{equation}\n",
       "\\left[\n",
       "\\begin{array}{cc}\n",
       "1 & 4 \\\\\n",
       "-2 & 7 \\\\\n",
       "3 & -6 \\\\\n",
       "\\end{array}\n",
       "\\right] = 13.077 = 13.077 = 13.077\n",
       "\\end{equation}\n",
       " $$"
      ],
      "text/plain": [
       "((1, -2, 3), (4, 7, -6)) ~ 13.076696830622021 ~ 13.076696830622021 ~ 13.076696830622021"
      ]
     },
     "metadata": {},
     "output_type": "display_data"
    }
   ],
   "source": [
    "D(P,R) ~ √((4-1)^2 + (7+2)^2 + (-6-3)^2) ~ √(sum((P .- R).^2)) ~ √(171)"
   ]
  },
  {
   "cell_type": "code",
   "execution_count": 13,
   "metadata": {},
   "outputs": [
    {
     "data": {
      "text/latex": [
       "$$ \\begin{equation}\n",
       "\\left[\n",
       "\\begin{array}{cc}\n",
       "2 & 4 \\\\\n",
       "1 & 7 \\\\\n",
       "0 & -6 \\\\\n",
       "\\end{array}\n",
       "\\right] = 8.7178 = 8.7178 = 8.7178\n",
       "\\end{equation}\n",
       " $$"
      ],
      "text/plain": [
       "((2, 1, 0), (4, 7, -6)) ~ 8.717797887081348 ~ 8.717797887081348 ~ 8.717797887081348"
      ]
     },
     "metadata": {},
     "output_type": "display_data"
    }
   ],
   "source": [
    "D(Q,R) ~ √((4-2)^2 + (7-1)^2 + (-6-0)^2) ~ √(sum((Q .- R).^2)) ~ √(76)"
   ]
  },
  {
   "cell_type": "markdown",
   "metadata": {},
   "source": [
    "So, we have"
   ]
  },
  {
   "cell_type": "code",
   "execution_count": 14,
   "metadata": {},
   "outputs": [
    {
     "data": {
      "text/plain": [
       "536"
      ]
     },
     "metadata": {},
     "output_type": "display_data"
    }
   ],
   "source": [
    "sum((P .* R).^2)"
   ]
  },
  {
   "cell_type": "code",
   "execution_count": 15,
   "metadata": {},
   "outputs": [
    {
     "data": {
      "text/latex": [
       "$$ \\begin{equation}\n",
       "-13 = 13.077 = 13.077 = 13.077 = 13.077\n",
       "\\end{equation}\n",
       " $$"
      ],
      "text/plain": [
       "-13 ~ 13.076696830622023 ~ 13.076696830622023 ~ 13.076696830622023 ~ 13.076696830622021"
      ]
     },
     "metadata": {},
     "output_type": "display_data"
    }
   ],
   "source": [
    "sum((P .* R) .+ (Q .* R)) ~ √(19) + √(76) ~ √(19) + 2*√(19) ~ 3√(19) ~ √(171)"
   ]
  },
  {
   "cell_type": "markdown",
   "metadata": {},
   "source": [
    "## Example 2:\n",
    "\n",
    "Consider the three vectors $\\bold u = [3, -1, 2], \\bold v = [-4, 0, 2]$ and $ \\bold w = [1, -1, -2]$. We have\n"
   ]
  },
  {
   "cell_type": "code",
   "execution_count": 16,
   "metadata": {},
   "outputs": [],
   "source": [
    "u = Rs[3 -1 2]; v = Rs[-4 0 2]; w = Rs[1 -1 -2];"
   ]
  },
  {
   "cell_type": "code",
   "execution_count": 17,
   "metadata": {},
   "outputs": [
    {
     "data": {
      "text/plain": [
       "[-12 0 4] ~ -8"
      ]
     },
     "metadata": {},
     "output_type": "display_data"
    }
   ],
   "source": [
    "u .* v ~ sum(u .* v)"
   ]
  },
  {
   "cell_type": "code",
   "execution_count": 18,
   "metadata": {},
   "outputs": [
    {
     "data": {
      "text/plain": [
       "[3 1 -4] ~ 0"
      ]
     },
     "metadata": {},
     "output_type": "display_data"
    }
   ],
   "source": [
    "u .* w ~ sum(u .* w)"
   ]
  },
  {
   "cell_type": "markdown",
   "metadata": {},
   "source": [
    "This implies that hte vectors $\\bold u$ and $\\bold w$ are orthogonal."
   ]
  },
  {
   "cell_type": "markdown",
   "metadata": {},
   "source": [
    "## Example 3:\n",
    "\n",
    "\n",
    "Find the angle between the vectors $\\bold u = [3, -1, 2]$ and $\\bold v = [-4, 0, 2]$.\n",
    "\n",
    "The cosine of the angle is $cos(θ)$ ="
   ]
  },
  {
   "cell_type": "code",
   "execution_count": 19,
   "metadata": {},
   "outputs": [],
   "source": [
    "u = Rs[3 -1 2]; v = Rs[-4 0 2];"
   ]
  },
  {
   "cell_type": "code",
   "execution_count": 20,
   "metadata": {},
   "outputs": [
    {
     "data": {
      "text/html": [
       "-8"
      ],
      "text/latex": [
       "-8"
      ],
      "text/plain": [
       "-8"
      ]
     },
     "metadata": {},
     "output_type": "display_data"
    }
   ],
   "source": [
    "sum(u .* v)"
   ]
  },
  {
   "cell_type": "code",
   "execution_count": 21,
   "metadata": {},
   "outputs": [
    {
     "data": {
      "text/plain": [
       "(14, 20)"
      ]
     },
     "metadata": {},
     "output_type": "display_data"
    }
   ],
   "source": [
    "sum(u.^2), sum(v.^2)"
   ]
  },
  {
   "cell_type": "code",
   "execution_count": 22,
   "metadata": {},
   "outputs": [
    {
     "data": {
      "text/plain": [
       "-0.47809144373375745"
      ]
     },
     "metadata": {},
     "output_type": "display_data"
    }
   ],
   "source": [
    "-8 / (√(14) * √(20))"
   ]
  },
  {
   "cell_type": "code",
   "execution_count": 23,
   "metadata": {},
   "outputs": [
    {
     "data": {
      "text/plain": [
       "-0.02857142857142857"
      ]
     },
     "metadata": {},
     "output_type": "display_data"
    }
   ],
   "source": [
    "-8 / (√(14)^2 * √(20)^2)"
   ]
  },
  {
   "cell_type": "code",
   "execution_count": 24,
   "metadata": {},
   "outputs": [
    {
     "data": {
      "text/latex": [
       "$$ \\begin{equation}\n",
       "-0.47809 = -0.47809\n",
       "\\end{equation}\n",
       " $$"
      ],
      "text/plain": [
       "-0.47809144373375745 ~ -0.47809144373375745"
      ]
     },
     "metadata": {},
     "output_type": "display_data"
    }
   ],
   "source": [
    "-8 / (√(14) * √(20)) ~ -4 / √(70)"
   ]
  },
  {
   "cell_type": "code",
   "execution_count": 32,
   "metadata": {},
   "outputs": [
    {
     "ename": "DomainError",
     "evalue": "DomainError with -0.47809144373375745:\nacosh(x) is only defined for x ≥ 1.",
     "output_type": "error",
     "traceback": [
      "DomainError with -0.47809144373375745:\n",
      "acosh(x) is only defined for x ≥ 1.\n",
      "\n",
      "Stacktrace:\n",
      " [1] acosh_domain_error(x::Float64)\n",
      "   @ Base.Math ./special/hyperbolic.jl:202\n",
      " [2] acosh(x::Float64)\n",
      "   @ Base.Math ./special/hyperbolic.jl:221\n",
      " [3] top-level scope\n",
      "   @ ~/Documents/computation mathematics/git_repo/Computational_Mathematics/Calculus_3/jl_notebook_cell_df34fa98e69747e1a8f8a730347b8e2f_X56sZmlsZQ==.jl:1"
     ]
    }
   ],
   "source": [
    "latexify(\"$(θ) ≈ $(acosh(-4 / √(70))) ≈ $( 2.069) ≈ $(118.56)\")"
   ]
  },
  {
   "cell_type": "markdown",
   "metadata": {},
   "source": [
    "## Example 4:\n",
    "\n",
    "Find the paremetric equation of the line that passes through the point $(1, -2, 4)$ and its parallel to the point $\\bold v = [2, 4, -4]$\n",
    "\n",
    "Using the formula for parametric equations, we have $x = x_1 + at = 1 + 2t, y = y_1 + bt = -2 + 4t$ and $z = z_1 + ct = 4 - 4t$."
   ]
  },
  {
   "cell_type": "code",
   "execution_count": 26,
   "metadata": {},
   "outputs": [],
   "source": [
    "P = Rs[1 -2 4]; v = Rs[2 4 -4];"
   ]
  },
  {
   "cell_type": "code",
   "execution_count": 27,
   "metadata": {},
   "outputs": [
    {
     "data": {
      "text/latex": [
       "$~\\left( x, ~\\left( a \\cdot t + x_{1}, ~\\left( 2 \\cdot t + 1 \\cdot y, ~\\left( b \\cdot t + y_{1}, 4 \\cdot t - 2 \\right) \\right) \\right) \\right)$"
      ],
      "text/plain": [
       "L\"$~\\left( x, ~\\left( a \\cdot t + x_{1}, ~\\left( 2 \\cdot t + 1 \\cdot y, ~\\left( b \\cdot t + y_{1}, 4 \\cdot t - 2 \\right) \\right) \\right) \\right)$\""
      ]
     },
     "metadata": {},
     "output_type": "display_data"
    }
   ],
   "source": [
    "latexify(string(x ~ x_1 + a*t ~ 1 + 2t, y ~ y_1 + b*t ~ -2 + 4t))"
   ]
  },
  {
   "cell_type": "code",
   "execution_count": 28,
   "metadata": {},
   "outputs": [
    {
     "data": {
      "text/latex": [
       "$~\\left( z, ~\\left(  - c \\cdot t + z_{1}, -4 \\cdot t + 4 \\right) \\right)$"
      ],
      "text/plain": [
       "L\"$~\\left( z, ~\\left(  - c \\cdot t + z_{1}, -4 \\cdot t + 4 \\right) \\right)$\""
      ]
     },
     "metadata": {},
     "output_type": "display_data"
    }
   ],
   "source": [
    "latexify(string(z ~ z_1 - c*t ~ 4 - 4t))"
   ]
  }
 ],
 "metadata": {
  "kernelspec": {
   "display_name": "Julia 1.10.9",
   "language": "julia",
   "name": "julia-1.10"
  },
  "language_info": {
   "file_extension": ".jl",
   "mimetype": "application/julia",
   "name": "julia",
   "version": "1.10.9"
  }
 },
 "nbformat": 4,
 "nbformat_minor": 2
}
