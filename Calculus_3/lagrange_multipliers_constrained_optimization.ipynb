{
 "cells": [
  {
   "cell_type": "code",
   "execution_count": 1,
   "metadata": {},
   "outputs": [
    {
     "name": "stdout",
     "output_type": "stream",
     "text": [
      "\r"
     ]
    }
   ],
   "source": [
    "using Oscar\n",
    "using Makie\n",
    "import CairoMakie\n",
    "using Latexify"
   ]
  },
  {
   "cell_type": "code",
   "execution_count": 2,
   "metadata": {},
   "outputs": [
    {
     "name": "stdout",
     "output_type": "stream",
     "text": [
      "OSCAR version 1.3.1\n",
      "  combining:\n",
      "    AbstractAlgebra.jl   v0.44.13\n",
      "    GAP.jl               v0.13.3\n",
      "    Hecke.jl             v0.35.19\n",
      "    Nemo.jl              v0.49.5\n",
      "    Polymake.jl          v0.11.29\n",
      "    Singular.jl          v0.25.3\n"
     ]
    }
   ],
   "source": [
    "Oscar.versioninfo()"
   ]
  },
  {
   "cell_type": "code",
   "execution_count": null,
   "metadata": {},
   "outputs": [
    {
     "ename": "UndefVarError",
     "evalue": "UndefVarError: `set_html_as_latex` not defined",
     "output_type": "error",
     "traceback": [
      "UndefVarError: `set_html_as_latex` not defined\n",
      "\n",
      "Stacktrace:\n",
      " [1] getproperty(x::Module, f::Symbol)\n",
      "   @ Base ./Base.jl:31\n",
      " [2] top-level scope\n",
      "   @ ~/Documents/computation mathematics/julia/Calculus_3/jl_notebook_cell_df34fa98e69747e1a8f8a730347b8e2f_W2sZmlsZQ==.jl:2"
     ]
    }
   ],
   "source": [
    "Makie.inline!(true)\n",
    "set_html_as_latex(true)"
   ]
  },
  {
   "cell_type": "code",
   "execution_count": 4,
   "metadata": {},
   "outputs": [],
   "source": [
    "include(\"src/Calculus_3.jl\")\n",
    "using .Calculus_3"
   ]
  },
  {
   "cell_type": "code",
   "execution_count": 5,
   "metadata": {},
   "outputs": [
    {
     "data": {
      "text/plain": [
       "Real field"
      ]
     },
     "metadata": {},
     "output_type": "display_data"
    }
   ],
   "source": [
    "RR = RealField()"
   ]
  },
  {
   "cell_type": "code",
   "execution_count": 29,
   "metadata": {},
   "outputs": [
    {
     "data": {
      "text/plain": [
       "(Universal Polynomial Ring over Rational field, AbstractAlgebra.Generic.UnivPoly{QQFieldElem}[a, A, b, c, d, dt, x, y, z, t, λ, ∫, θ, ∆x, ∆y, ∂x, ∂y, ∂z, ∂ƒ, ∞])"
      ]
     },
     "metadata": {},
     "output_type": "display_data"
    }
   ],
   "source": [
    "U, (a, A, b, c, d, dt, x, y, z, t, λ, ∫, θ, ∆x, ∆y, ∂x, ∂y, ∂z, ∂ƒ, ∞) = universal_polynomial_ring(QQ, [:a, :A, :b, :c, :d, :dt, :x, :y, :z, :t, :λ, :∫, :θ, :∆x, :∆y, :∂x, :∂y, :∂z, :∂ƒ, :∞])"
   ]
  },
  {
   "cell_type": "code",
   "execution_count": 7,
   "metadata": {},
   "outputs": [
    {
     "data": {
      "text/plain": [
       "(Univariate polynomial ring in z over RR, z)"
      ]
     },
     "metadata": {},
     "output_type": "display_data"
    }
   ],
   "source": [
    "XU, x_u = polynomial_ring(RR, :x)\n",
    "YU, y_u = polynomial_ring(RR, :y)\n",
    "ZU, z_u = polynomial_ring(RR, :z)"
   ]
  },
  {
   "cell_type": "code",
   "execution_count": 42,
   "metadata": {},
   "outputs": [
    {
     "data": {
      "text/plain": [
       "(Universal Polynomial Ring over Universal Polynomial Ring over Rational field, AbstractAlgebra.Generic.UnivPoly{AbstractAlgebra.Generic.UnivPoly{QQFieldElem}}[xs[1], xs[2], xs[3]], AbstractAlgebra.Generic.UnivPoly{AbstractAlgebra.Generic.UnivPoly{QQFieldElem}}[ys[1], ys[2], ys[3]], AbstractAlgebra.Generic.UnivPoly{AbstractAlgebra.Generic.UnivPoly{QQFieldElem}}[zs[1], zs[2], zs[3]], AbstractAlgebra.Generic.UnivPoly{AbstractAlgebra.Generic.UnivPoly{QQFieldElem}}[I[1]], AbstractAlgebra.Generic.UnivPoly{AbstractAlgebra.Generic.UnivPoly{QQFieldElem}}[J[1]], AbstractAlgebra.Generic.UnivPoly{AbstractAlgebra.Generic.UnivPoly{QQFieldElem}}[K[1]])"
      ]
     },
     "metadata": {},
     "output_type": "display_data"
    }
   ],
   "source": [
    "Rs, xs, ys, zs, I, J, K  = universal_polynomial_ring(U, (:xs => (1:3), :ys => (1:3), :zs => (1:3), :I => (1:1), :J => (1:1), :K => (1:1)))\n"
   ]
  },
  {
   "cell_type": "markdown",
   "metadata": {},
   "source": [
    "# Lagrange Multipliers -- Constrained Optimization"
   ]
  },
  {
   "cell_type": "markdown",
   "metadata": {},
   "source": [
    "## Topics:\n",
    "\n",
    "- Lagrange multipliers.\n",
    "- Applications to optimization problems with constraints."
   ]
  },
  {
   "cell_type": "markdown",
   "metadata": {},
   "source": [
    "## Definitions and Theorems:"
   ]
  },
  {
   "cell_type": "markdown",
   "metadata": {},
   "source": [
    "- **Lagrange's theorem:** Let $ƒ$ and $g$ have continuous first partial derivatives such that $ƒ$ has an extremum at $(x_0, y_0)$ on the smooth constraint curve $(x,y) = k$. if $∆g(x_0, y_0) ≠ 0$, then there is a real number $\\lambda$ such that $∇ƒ(x_0, y_0) = \\lambda ∇g(x_0, y_0)$. The number $\\lambda$ is called a Lagrange multiplier.\n"
   ]
  },
  {
   "cell_type": "markdown",
   "metadata": {},
   "source": [
    "## Summary:\n",
    "\n",
    "The method of Lagrange multipliers is a poweful technique for solving optimization problems that have have constrains. For instance, you might want to find the mayimun volume of a box with the constrain that the cost of the material for the box is fixed. We begin this lesson with a simple example of maximizing the value of of a function of two variables given a certain constraint on those variables. Then, we solve the same box problem we saw in our lesson on maximum/minimum applicatiions."
   ]
  },
  {
   "cell_type": "markdown",
   "metadata": {},
   "source": [
    "## Example 1:\n",
    "\n",
    "Find the maximum value of the function $ƒ(x, y) = 4x*y$ where $x,y > 0$, subject to the constraint."
   ]
  },
  {
   "cell_type": "code",
   "execution_count": 9,
   "metadata": {},
   "outputs": [
    {
     "data": {
      "text/plain": [
       "ƒ (generic function with 1 method)"
      ]
     },
     "metadata": {},
     "output_type": "display_data"
    }
   ],
   "source": [
    "ƒ(x, y) = 4x*y"
   ]
  },
  {
   "cell_type": "code",
   "execution_count": 10,
   "metadata": {},
   "outputs": [
    {
     "data": {
      "text/plain": [
       "g (generic function with 1 method)"
      ]
     },
     "metadata": {},
     "output_type": "display_data"
    }
   ],
   "source": [
    "g(x,y) = x^2//3^2 + y^2//4^2"
   ]
  },
  {
   "cell_type": "code",
   "execution_count": 13,
   "metadata": {},
   "outputs": [
    {
     "data": {
      "text/latex": [
       "$\\frac{1}{9} \\cdot x^{2} + \\frac{1}{16} \\cdot y^{2} = 1$"
      ],
      "text/plain": [
       "L\"$\\frac{1}{9} \\cdot x^{2} + \\frac{1}{16} \\cdot y^{2} = 1$\""
      ]
     },
     "metadata": {},
     "output_type": "display_data"
    }
   ],
   "source": [
    "latexify(\"$(g(x,y)) = 1\")"
   ]
  },
  {
   "cell_type": "markdown",
   "metadata": {},
   "source": [
    "The gradients are"
   ]
  },
  {
   "cell_type": "code",
   "execution_count": 44,
   "metadata": {},
   "outputs": [],
   "source": [
    "∇ƒ(x,y) = 4y.*I + 4x.*J; ∇g(x,y) = 2x/9 .* I + y/8 .* J;"
   ]
  },
  {
   "cell_type": "markdown",
   "metadata": {},
   "source": [
    "We solve the equation"
   ]
  },
  {
   "cell_type": "code",
   "execution_count": 102,
   "metadata": {},
   "outputs": [
    {
     "data": {
      "text/latex": [
       "$4 \\cdot y \\cdot I\\left[1\\right] + 4 \\cdot x \\cdot J\\left[1\\right], \\frac{2}{9} \\cdot x \\cdot I\\left[1\\right] + \\frac{1}{8} \\cdot y \\cdot J\\left[1\\right]$"
      ],
      "text/plain": [
       "L\"$4 \\cdot y \\cdot I\\left[1\\right] + 4 \\cdot x \\cdot J\\left[1\\right], \\frac{2}{9} \\cdot x \\cdot I\\left[1\\right] + \\frac{1}{8} \\cdot y \\cdot J\\left[1\\right]$\""
      ]
     },
     "metadata": {},
     "output_type": "display_data"
    }
   ],
   "source": [
    "latexify(\"$( ∇ƒ(x,y)[1] ), $( ∇g(x,y)[1] )\")"
   ]
  },
  {
   "cell_type": "markdown",
   "metadata": {},
   "source": [
    "which implies that"
   ]
  },
  {
   "cell_type": "code",
   "execution_count": 103,
   "metadata": {},
   "outputs": [
    {
     "data": {
      "text/latex": [
       "$4 \\cdot y \\cdot \\lambda \\cdot I\\left[1\\right] + 4 \\cdot x \\cdot \\lambda \\cdot J\\left[1\\right] = \\frac{2}{9} \\cdot x \\cdot I\\left[1\\right] + \\frac{1}{8} \\cdot y \\cdot J\\left[1\\right]$"
      ],
      "text/plain": [
       "L\"$4 \\cdot y \\cdot \\lambda \\cdot I\\left[1\\right] + 4 \\cdot x \\cdot \\lambda \\cdot J\\left[1\\right] = \\frac{2}{9} \\cdot x \\cdot I\\left[1\\right] + \\frac{1}{8} \\cdot y \\cdot J\\left[1\\right]$\""
      ]
     },
     "metadata": {},
     "output_type": "display_data"
    }
   ],
   "source": [
    "latexify(\"$( λ.* ∇ƒ(x,y)[1] ) = $( ∇g(x,y)[1] )\")"
   ]
  },
  {
   "cell_type": "markdown",
   "metadata": {},
   "source": [
    "Hence, we have the three equations"
   ]
  },
  {
   "cell_type": "code",
   "execution_count": 104,
   "metadata": {},
   "outputs": [
    {
     "data": {
      "text/latex": [
       "$4 \\cdot y = \\frac{2}{9} \\cdot x \\cdot \\lambda, 4 \\cdot x = \\frac{1}{8} \\cdot y \\cdot \\lambda, \\frac{1}{9} \\cdot x^{2} + \\frac{1}{16} \\cdot y^{2} = 1$"
      ],
      "text/plain": [
       "L\"$4 \\cdot y = \\frac{2}{9} \\cdot x \\cdot \\lambda, 4 \\cdot x = \\frac{1}{8} \\cdot y \\cdot \\lambda, \\frac{1}{9} \\cdot x^{2} + \\frac{1}{16} \\cdot y^{2} = 1$\""
      ]
     },
     "metadata": {},
     "output_type": "display_data"
    }
   ],
   "source": [
    "latexify(\"$(4y)=$( λ*2x//9 ), $(4x)=$( λ*y//8 ), $( x^2//3^2 + y^2//4^ 2) = 1\")"
   ]
  },
  {
   "cell_type": "markdown",
   "metadata": {},
   "source": [
    "We now use our algebra skills to solve these equations. From the first equation $\\lambda = \\dfrac{18y}{x}$."
   ]
  },
  {
   "cell_type": "markdown",
   "metadata": {},
   "source": [
    "Substitute this into the second equation:"
   ]
  },
  {
   "cell_type": "code",
   "execution_count": 105,
   "metadata": {},
   "outputs": [
    {
     "data": {
      "text/latex": [
       "$4 \\cdot x = \\frac{1}{8} \\cdot y \\cdot \\lambda = \\frac{\\frac{9}{4} \\cdot y^{2}}{x} \\Rightarrow 4 \\cdot x = \\frac{\\frac{9}{4} \\cdot y^{2}}{x} \\Rightarrow \\frac{1}{9} \\cdot x^{2} = \\frac{1}{16} \\cdot y^{2}$"
      ],
      "text/plain": [
       "L\"$4 \\cdot x = \\frac{1}{8} \\cdot y \\cdot \\lambda = \\frac{\\frac{9}{4} \\cdot y^{2}}{x} \\Rightarrow 4 \\cdot x = \\frac{\\frac{9}{4} \\cdot y^{2}}{x} \\Rightarrow \\frac{1}{9} \\cdot x^{2} = \\frac{1}{16} \\cdot y^{2}$\""
      ]
     },
     "metadata": {},
     "output_type": "display_data"
    }
   ],
   "source": [
    "latexify(\"$(4x) = $( λ*y//8 ) = $( (18y//x)y//8 => 4x ) = $( 9y^2//4x => x^2//9 ) = $( y^2//16 )\")"
   ]
  },
  {
   "cell_type": "markdown",
   "metadata": {},
   "source": [
    "Next, we use the contstraint equation"
   ]
  },
  {
   "cell_type": "code",
   "execution_count": 106,
   "metadata": {},
   "outputs": [
    {
     "data": {
      "text/latex": [
       "$\\frac{1}{9} \\cdot x^{2} + \\frac{1}{16} \\cdot y^{2} = 1 \\Rightarrow \\frac{1}{8} \\cdot y^{2} = 1 \\Rightarrow 2 \\cdot y^{2} = 16 \\Rightarrow y^{2} = 8$"
      ],
      "text/plain": [
       "L\"$\\frac{1}{9} \\cdot x^{2} + \\frac{1}{16} \\cdot y^{2} = 1 \\Rightarrow \\frac{1}{8} \\cdot y^{2} = 1 \\Rightarrow 2 \\cdot y^{2} = 16 \\Rightarrow y^{2} = 8$\""
      ]
     },
     "metadata": {},
     "output_type": "display_data"
    }
   ],
   "source": [
    "latexify(\"$( x^2//3^2 + y^2//4^2 ) = $( 1 => y^2//16 + y^2//16 ) = $( 1 => 2y^2 ) = $( 16 => y^2 ) = 8\")"
   ]
  },
  {
   "cell_type": "markdown",
   "metadata": {},
   "source": [
    "Thus, we have"
   ]
  },
  {
   "cell_type": "code",
   "execution_count": 107,
   "metadata": {},
   "outputs": [
    {
     "data": {
      "text/latex": [
       "$x^{2} = \\frac{9}{16} \\cdot y^{2} = \\frac{9}{2} = \\frac{9}{2} \\Rightarrow x = 2.121320343559643$"
      ],
      "text/plain": [
       "L\"$x^{2} = \\frac{9}{16} \\cdot y^{2} = \\frac{9}{2} = \\frac{9}{2} \\Rightarrow x = 2.121320343559643$\""
      ]
     },
     "metadata": {},
     "output_type": "display_data"
    }
   ],
   "source": [
    "latexify(\"$( x^2 )= $( 9//16 * y^2 ) = $( 9//16 * (8) ) = $( 9//2 => x ) = $( 3√(2)/2 )\")"
   ]
  },
  {
   "cell_type": "markdown",
   "metadata": {},
   "source": [
    "with these values of x and y, the maximum value is"
   ]
  },
  {
   "cell_type": "code",
   "execution_count": 110,
   "metadata": {},
   "outputs": [
    {
     "data": {
      "text/latex": [
       "$24.000000000000004 = \\frac{6755399441055745}{281474976710656} = 24$"
      ],
      "text/plain": [
       "L\"$24.000000000000004 = \\frac{6755399441055745}{281474976710656} = 24$\""
      ]
     },
     "metadata": {},
     "output_type": "display_data"
    }
   ],
   "source": [
    "latexify(\"$( ƒ(3√(2)/2,2√(2)) ) = $( Rational(4 .* (3√(2)/2 * 2√(2))) ) = 24\")"
   ]
  },
  {
   "cell_type": "markdown",
   "metadata": {},
   "source": [
    "## Example 2:\n",
    "\n",
    "The material for constucting the base of an open box cost $3 per square foot, and the material for constructing the sides cost \\$2 per square foot. For a fixed amount of money $C = \\$12986$, find the dimensions of the box o largest volume that can be made.\n",
    "\n",
    "We want to maximize the volume of the box, $ƒ(x, y, z) = xyz$"
   ]
  },
  {
   "cell_type": "code",
   "execution_count": 113,
   "metadata": {},
   "outputs": [],
   "source": [
    "ƒ(x, y, z) = x*y*z;"
   ]
  },
  {
   "cell_type": "markdown",
   "metadata": {},
   "source": [
    "subject to the constraint"
   ]
  },
  {
   "cell_type": "code",
   "execution_count": 149,
   "metadata": {},
   "outputs": [
    {
     "data": {
      "text/html": [
       "y*z*I[1] + x*z*J[1] + x*y*K[1]"
      ],
      "text/latex": [
       "y z \\mathop{\\mathrm{I[1]}} + x z \\mathop{\\mathrm{J[1]}} + x y \\mathop{\\mathrm{K[1]}}"
      ],
      "text/plain": [
       "y*z*I[1] + x*z*J[1] + x*y*K[1]"
      ]
     },
     "metadata": {},
     "output_type": "display_data"
    }
   ],
   "source": [
    "∇ƒ(x, y, z) = derivative(ƒ(x, y, z), x)*I[1] +derivative(ƒ(x, y, z), y)*J[1] + derivative(ƒ(x, y, z), z)*K[1];\n",
    "∇ƒ(x, y, z)"
   ]
  },
  {
   "cell_type": "code",
   "execution_count": 139,
   "metadata": {},
   "outputs": [
    {
     "data": {
      "text/latex": [
       "$3 \\cdot x \\cdot y + 4 \\cdot x \\cdot z + 4 \\cdot y \\cdot z = 1296$"
      ],
      "text/plain": [
       "L\"$3 \\cdot x \\cdot y + 4 \\cdot x \\cdot z + 4 \\cdot y \\cdot z = 1296$\""
      ]
     },
     "metadata": {},
     "output_type": "display_data"
    }
   ],
   "source": [
    "g(x,y,z) = 3x*y + 4x*z + 4y*z;\n",
    "latexify(\"$(g(x,y,z)) = 1296\")"
   ]
  },
  {
   "cell_type": "markdown",
   "metadata": {},
   "source": [
    "Using Lagrange multipliers, we have"
   ]
  },
  {
   "cell_type": "code",
   "execution_count": 151,
   "metadata": {},
   "outputs": [
    {
     "data": {
      "text/html": [
       "(3*y + 4*z)*I[1] + (3*x + 4*z)*J[1] + (4*x + 4*y)*K[1]"
      ],
      "text/latex": [
       "\\left(3 y + 4 z\\right) \\mathop{\\mathrm{I[1]}} + \\left(3 x + 4 z\\right) \\mathop{\\mathrm{J[1]}} + \\left(4 x + 4 y\\right) \\mathop{\\mathrm{K[1]}}"
      ],
      "text/plain": [
       "(3*y + 4*z)*I[1] + (3*x + 4*z)*J[1] + (4*x + 4*y)*K[1]"
      ]
     },
     "metadata": {},
     "output_type": "display_data"
    }
   ],
   "source": [
    "∇g(x,y,z) = derivative(g(x,y,z), x)*I[1] + derivative(g(x,y,z), y)*J[1] + derivative(g(x,y,z), z)*K[1];\n",
    "∇g(x,y,z)"
   ]
  },
  {
   "cell_type": "code",
   "execution_count": 152,
   "metadata": {},
   "outputs": [
    {
     "data": {
      "text/plain": [
       "∇ƒ (generic function with 2 methods)"
      ]
     },
     "metadata": {},
     "output_type": "display_data"
    }
   ],
   "source": [
    "∇ƒ(x,y,z) = λ*∇g(x,y,z)"
   ]
  },
  {
   "cell_type": "code",
   "execution_count": 153,
   "metadata": {},
   "outputs": [
    {
     "data": {
      "text/html": [
       "(3*y*λ + 4*z*λ)*I[1] + (3*x*λ + 4*z*λ)*J[1] + (4*x*λ + 4*y*λ)*K[1]"
      ],
      "text/latex": [
       "\\left(3 y {\\lambda} + 4 z {\\lambda}\\right) \\mathop{\\mathrm{I[1]}} + \\left(3 x {\\lambda} + 4 z {\\lambda}\\right) \\mathop{\\mathrm{J[1]}} + \\left(4 x {\\lambda} + 4 y {\\lambda}\\right) \\mathop{\\mathrm{K[1]}}"
      ],
      "text/plain": [
       "(3*y*λ + 4*z*λ)*I[1] + (3*x*λ + 4*z*λ)*J[1] + (4*x*λ + 4*y*λ)*K[1]"
      ]
     },
     "metadata": {},
     "output_type": "display_data"
    }
   ],
   "source": [
    "∇ƒ(x,y,z)"
   ]
  },
  {
   "cell_type": "markdown",
   "metadata": {},
   "source": [
    "So we, must solve the  following four equations in four unknowns:"
   ]
  },
  {
   "cell_type": "code",
   "execution_count": 159,
   "metadata": {},
   "outputs": [
    {
     "data": {
      "text/latex": [
       "$y \\cdot z = 3 \\cdot y \\cdot \\lambda + 4 \\cdot z \\cdot \\lambda, x \\cdot z = 3 \\cdot x \\cdot \\lambda + 4 \\cdot z \\cdot \\lambda, x \\cdot y = 4 \\cdot x \\cdot \\lambda + 4 \\cdot y \\cdot \\lambda, 3 \\cdot x \\cdot y + 4 \\cdot x \\cdot z + 4 \\cdot y \\cdot z = 1296$"
      ],
      "text/plain": [
       "L\"$y \\cdot z = 3 \\cdot y \\cdot \\lambda + 4 \\cdot z \\cdot \\lambda, x \\cdot z = 3 \\cdot x \\cdot \\lambda + 4 \\cdot z \\cdot \\lambda, x \\cdot y = 4 \\cdot x \\cdot \\lambda + 4 \\cdot y \\cdot \\lambda, 3 \\cdot x \\cdot y + 4 \\cdot x \\cdot z + 4 \\cdot y \\cdot z = 1296$\""
      ]
     },
     "metadata": {},
     "output_type": "display_data"
    }
   ],
   "source": [
    "latexify(\"$(y*z) = $( λ.*(3y + 4z) ), $(x*z) = $( λ.*(3x + 4z) ), $(x*y) = $( λ.*(4x + 4y) ), $(g(x,y,z)) = 1296\")"
   ]
  },
  {
   "cell_type": "markdown",
   "metadata": {},
   "source": [
    "This requires a lot of algebra, and the final solution is $x = y = 12, z = 9$ and $\\lambda = \\dfrac{3}{2}$ The volume is"
   ]
  },
  {
   "cell_type": "code",
   "execution_count": 162,
   "metadata": {},
   "outputs": [
    {
     "data": {
      "text/latex": [
       "$x \\cdot y \\cdot z = 1296$"
      ],
      "text/plain": [
       "L\"$x \\cdot y \\cdot z = 1296$\""
      ]
     },
     "metadata": {},
     "output_type": "display_data"
    }
   ],
   "source": [
    "latexify(\"$( ƒ(x,y,z) ) = $(ƒ(12, 12, 9))\")"
   ]
  }
 ],
 "metadata": {
  "kernelspec": {
   "display_name": "Julia 1.10.9",
   "language": "julia",
   "name": "julia-1.10"
  },
  "language_info": {
   "file_extension": ".jl",
   "mimetype": "application/julia",
   "name": "julia",
   "version": "1.10.9"
  }
 },
 "nbformat": 4,
 "nbformat_minor": 2
}
