{
 "cells": [
  {
   "cell_type": "code",
   "execution_count": 1,
   "metadata": {},
   "outputs": [],
   "source": [
    "from sage.all import *"
   ]
  },
  {
   "cell_type": "code",
   "execution_count": 80,
   "metadata": {},
   "outputs": [
    {
     "data": {
      "text/html": [
       "<html>\\(\\displaystyle \\left(a, b, c, s, x, y, z, o, \\mathit{dx}, \\mathit{dy}, \\mathit{do}, C\\right)\\)</html>"
      ],
      "text/latex": [
       "$\\displaystyle \\left(a, b, c, s, x, y, z, o, \\mathit{dx}, \\mathit{dy}, \\mathit{do}, C\\right)$"
      ],
      "text/plain": [
       "(a, b, c, s, x, y, z, o, dx, dy, do, C)"
      ]
     },
     "execution_count": 80,
     "metadata": {},
     "output_type": "execute_result"
    }
   ],
   "source": [
    "%display latex\n",
    "\n",
    "var('a, b, c, s, x, y, z, o, dx, dy, do, C')"
   ]
  },
  {
   "cell_type": "markdown",
   "metadata": {},
   "source": [
    "# Integration by Trigonometric Substitution"
   ]
  },
  {
   "cell_type": "markdown",
   "metadata": {},
   "source": [
    "## Topics:\n",
    "\n",
    "- Integrals involving terms like $\\sqrt{a^2 - x^2}, \\sqrt{a^2 + x^2}, \\sqrt{x^2 - a^2}$ and $a > 0$.\n",
    "- Definite integrals and conversion of limits of integration."
   ]
  },
  {
   "cell_type": "markdown",
   "metadata": {},
   "source": [
    "## Definitions and Theorems:"
   ]
  },
  {
   "cell_type": "markdown",
   "metadata": {},
   "source": [
    "- **inverse trigonometric formulas:** Let $a > 0$.\n",
    "\n",
    "    $\\int \\dfrac{dx}{\\sqrt{a^2 - x^2}} = arcsin \\dfrac{x}{a}  + C$.\n",
    "\n",
    "    $\\int \\dfrac{dx}{\\sqrt{a^2 + x^2}} = \\dfrac{1}{a} arctan \\dfrac{x}{a}  + C$.\n",
    "\n",
    "    $\\int \\dfrac{dx}{\\sqrt{x^2 - a^2}} = \\dfrac{1}{a} arcsec \\dfrac{|x|}{a}  + C$."
   ]
  },
  {
   "cell_type": "markdown",
   "metadata": {},
   "source": [
    "- **sine substitution:** $x = a sin \\theta$ for integrands involving $\\sqrt{a^2 - x^2}$."
   ]
  },
  {
   "cell_type": "markdown",
   "metadata": {},
   "source": [
    "- **tangent substitution:** $x = a tan \\theta$ for integrands involving $\\sqrt{a^2 + x^2}$."
   ]
  },
  {
   "cell_type": "markdown",
   "metadata": {},
   "source": [
    "- **secant substitution:** $x = a sec \\theta$ for integrands involving $\\sqrt{x^2 - a^2}$"
   ]
  },
  {
   "cell_type": "markdown",
   "metadata": {},
   "source": [
    "## Example 1:\n",
    "\n",
    "A Sine Substitution.\n",
    "\n",
    "Evaluate the integral $\\int \\dfrac{dx}{x^2 \\sqrt{9 - x^2}}$."
   ]
  },
  {
   "cell_type": "code",
   "execution_count": 6,
   "metadata": {},
   "outputs": [
    {
     "data": {
      "text/html": [
       "<html>\\(\\displaystyle x = 3 \\, \\sin\\left(o\\right)\\)</html>"
      ],
      "text/latex": [
       "$\\displaystyle x = 3 \\, \\sin\\left(o\\right)$"
      ],
      "text/plain": [
       "x == 3*sin(o)"
      ]
     },
     "execution_count": 6,
     "metadata": {},
     "output_type": "execute_result"
    }
   ],
   "source": [
    "x == 3*sin(o)"
   ]
  },
  {
   "cell_type": "code",
   "execution_count": 17,
   "metadata": {},
   "outputs": [
    {
     "data": {
      "text/html": [
       "<html>\\(\\displaystyle x^{2} = 9 \\, \\sin\\left(o\\right)^{2}\\)</html>"
      ],
      "text/latex": [
       "$\\displaystyle x^{2} = 9 \\, \\sin\\left(o\\right)^{2}$"
      ],
      "text/plain": [
       "x^2 == 9*sin(o)^2"
      ]
     },
     "execution_count": 17,
     "metadata": {},
     "output_type": "execute_result"
    }
   ],
   "source": [
    "x^2 == 9*sin(o)^2"
   ]
  },
  {
   "cell_type": "code",
   "execution_count": 31,
   "metadata": {},
   "outputs": [
    {
     "data": {
      "text/html": [
       "<html>\\(\\displaystyle \\left(\\mathit{dx} = 3 \\, \\cos\\left(o\\right), \\sqrt{-x^{2} + 9} = 3, 3 \\, \\sqrt{-\\sin\\left(o\\right)^{2} + 1} = 3 \\, \\sqrt{\\cos\\left(o\\right)^{2}}, 3 \\, \\cos\\left(o\\right)\\right)\\)</html>"
      ],
      "text/latex": [
       "$\\displaystyle \\left(\\mathit{dx} = 3 \\, \\cos\\left(o\\right), \\sqrt{-x^{2} + 9} = 3, 3 \\, \\sqrt{-\\sin\\left(o\\right)^{2} + 1} = 3 \\, \\sqrt{\\cos\\left(o\\right)^{2}}, 3 \\, \\cos\\left(o\\right)\\right)$"
      ],
      "text/plain": [
       "(dx == 3*cos(o),\n",
       " sqrt(-x^2 + 9) == 3,\n",
       " 3*sqrt(-sin(o)^2 + 1) == 3*sqrt(cos(o)^2),\n",
       " 3*cos(o))"
      ]
     },
     "execution_count": 31,
     "metadata": {},
     "output_type": "execute_result"
    }
   ],
   "source": [
    "dx == derivative(3*sin(o), o), sqrt(9 - x^2) == sqrt(9 - 9*sin(0)^2), 3*sqrt(1 - sin(o)^2) == 3*sqrt(cos(o)^2), 3*cos(o)"
   ]
  },
  {
   "cell_type": "code",
   "execution_count": 45,
   "metadata": {},
   "outputs": [
    {
     "data": {
      "text/html": [
       "<html>\\(\\displaystyle \\left(-\\frac{\\sqrt{-x^{2} + 9}}{x} - \\arcsin\\left(\\frac{1}{3} \\, x\\right) = -o - \\frac{1}{\\tan\\left(o\\right)}, -\\frac{1}{9 \\, \\tan\\left(o\\right)} = -\\frac{1}{9 \\, \\tan\\left(o\\right)}, C - \\frac{1}{9} \\, \\cot\\left(o\\right)\\right)\\)</html>"
      ],
      "text/latex": [
       "$\\displaystyle \\left(-\\frac{\\sqrt{-x^{2} + 9}}{x} - \\arcsin\\left(\\frac{1}{3} \\, x\\right) = -o - \\frac{1}{\\tan\\left(o\\right)}, -\\frac{1}{9 \\, \\tan\\left(o\\right)} = -\\frac{1}{9 \\, \\tan\\left(o\\right)}, C - \\frac{1}{9} \\, \\cot\\left(o\\right)\\right)$"
      ],
      "text/plain": [
       "(-sqrt(-x^2 + 9)/x - arcsin(1/3*x) == -o - 1/tan(o),\n",
       " -1/9/tan(o) == -1/9/tan(o),\n",
       " C - 1/9*cot(o))"
      ]
     },
     "execution_count": 45,
     "metadata": {},
     "output_type": "execute_result"
    }
   ],
   "source": [
    "integral(derivative(x, x)/x^2*sqrt(9 - x^2), x) == integral(3*cos(o)*derivative(o, o)/(9 * sin(o)^2)*(3*cos(o)), o), 1/9 * integral(1/sin(o)^2, o) == 1/9 * integral(csc(o)^2, o), -1/9 * cot(o) + C"
   ]
  },
  {
   "cell_type": "code",
   "execution_count": 46,
   "metadata": {},
   "outputs": [
    {
     "data": {
      "text/html": [
       "<html>\\(\\displaystyle \\left(x = -\\frac{1}{9} \\, \\cot\\left(o\\right), -\\frac{1}{9} \\, \\cot\\left(o\\right) = C - \\frac{\\sqrt{-x^{2} + 9}}{9 \\, x}\\right)\\)</html>"
      ],
      "text/latex": [
       "$\\displaystyle \\left(x = -\\frac{1}{9} \\, \\cot\\left(o\\right), -\\frac{1}{9} \\, \\cot\\left(o\\right) = C - \\frac{\\sqrt{-x^{2} + 9}}{9 \\, x}\\right)$"
      ],
      "text/plain": [
       "(x == -1/9*cot(o), -1/9*cot(o) == C - 1/9*sqrt(-x^2 + 9)/x)"
      ]
     },
     "execution_count": 46,
     "metadata": {},
     "output_type": "execute_result"
    }
   ],
   "source": [
    "# original variable x:\n",
    "x == - 1/9 *cot(o), -1/9 * cot(o) == -1/9 * sqrt(9 - x^2)/x + C"
   ]
  },
  {
   "cell_type": "code",
   "execution_count": 48,
   "metadata": {},
   "outputs": [
    {
     "data": {
      "text/html": [
       "<html>\\(\\displaystyle -\\frac{1}{4} \\, {\\left(-x^{2} + 9\\right)}^{\\frac{3}{2}} x + \\frac{9}{8} \\, \\sqrt{-x^{2} + 9} x + \\frac{81}{8} \\, \\arcsin\\left(\\frac{1}{3} \\, x\\right) = -\\frac{1}{9} \\, \\sqrt{-x^{2} + 9} x + C\\)</html>"
      ],
      "text/latex": [
       "$\\displaystyle -\\frac{1}{4} \\, {\\left(-x^{2} + 9\\right)}^{\\frac{3}{2}} x + \\frac{9}{8} \\, \\sqrt{-x^{2} + 9} x + \\frac{81}{8} \\, \\arcsin\\left(\\frac{1}{3} \\, x\\right) = -\\frac{1}{9} \\, \\sqrt{-x^{2} + 9} x + C$"
      ],
      "text/plain": [
       "-1/4*(-x^2 + 9)^(3/2)*x + 9/8*sqrt(-x^2 + 9)*x + 81/8*arcsin(1/3*x) == -1/9*sqrt(-x^2 + 9)*x + C"
      ]
     },
     "execution_count": 48,
     "metadata": {},
     "output_type": "execute_result"
    }
   ],
   "source": [
    "integral(derivative(x, x) * x^2 * sqrt(9 - x^2), x) == -sqrt(9 - x^2)/9*x + C"
   ]
  },
  {
   "cell_type": "markdown",
   "metadata": {},
   "source": [
    "## Example 2:\n",
    "\n",
    "A Tangent Substitution.\n",
    "\n",
    "Evaluate the integral $\\int \\dfrac{dx}{x^2 \\sqrt{(x^2 + 1)^3/2}}$."
   ]
  },
  {
   "cell_type": "code",
   "execution_count": 50,
   "metadata": {},
   "outputs": [
    {
     "data": {
      "text/html": [
       "<html>\\(\\displaystyle \\left(x = a \\tan\\left(o\\right), \\tan\\left(o\\right)\\right)\\)</html>"
      ],
      "text/latex": [
       "$\\displaystyle \\left(x = a \\tan\\left(o\\right), \\tan\\left(o\\right)\\right)$"
      ],
      "text/plain": [
       "(x == a*tan(o), tan(o))"
      ]
     },
     "execution_count": 50,
     "metadata": {},
     "output_type": "execute_result"
    }
   ],
   "source": [
    "x == a*tan(o), tan(o)"
   ]
  },
  {
   "cell_type": "code",
   "execution_count": 52,
   "metadata": {},
   "outputs": [
    {
     "data": {
      "text/html": [
       "<html>\\(\\displaystyle \\left(\\mathit{dx} = \\sec\\left(o\\right)^{2}, x^{2} + 1 = \\tan\\left(o\\right), \\sec\\left(o\\right)^{2}, \\frac{1}{2} \\, {\\left(x^{2} + 1\\right)}^{3} = \\sec\\left(o\\right)^{3}\\right)\\)</html>"
      ],
      "text/latex": [
       "$\\displaystyle \\left(\\mathit{dx} = \\sec\\left(o\\right)^{2}, x^{2} + 1 = \\tan\\left(o\\right), \\sec\\left(o\\right)^{2}, \\frac{1}{2} \\, {\\left(x^{2} + 1\\right)}^{3} = \\sec\\left(o\\right)^{3}\\right)$"
      ],
      "text/plain": [
       "(dx == sec(o)^2, x^2 + 1 == tan(o), sec(o)^2, 1/2*(x^2 + 1)^3 == sec(o)^3)"
      ]
     },
     "execution_count": 52,
     "metadata": {},
     "output_type": "execute_result"
    }
   ],
   "source": [
    "dx == sec(o)^2 * derivative(o,o), x^2 + 1 == tan(o)^ + 1, sec(o)^2, (x^2 + 1)^3/2 == sec(o)^3"
   ]
  },
  {
   "cell_type": "code",
   "execution_count": 60,
   "metadata": {},
   "outputs": [
    {
     "data": {
      "text/html": [
       "<html>\\(\\displaystyle \\left(\\frac{3 \\, x^{3} + 5 \\, x}{16 \\, {\\left(x^{4} + 2 \\, x^{2} + 1\\right)}} + \\frac{3}{16} \\, \\arctan\\left(x\\right) = \\sin\\left(o\\right), \\sin\\left(o\\right) = C + \\sin\\left(o\\right)\\right)\\)</html>"
      ],
      "text/latex": [
       "$\\displaystyle \\left(\\frac{3 \\, x^{3} + 5 \\, x}{16 \\, {\\left(x^{4} + 2 \\, x^{2} + 1\\right)}} + \\frac{3}{16} \\, \\arctan\\left(x\\right) = \\sin\\left(o\\right), \\sin\\left(o\\right) = C + \\sin\\left(o\\right)\\right)$"
      ],
      "text/plain": [
       "(1/16*(3*x^3 + 5*x)/(x^4 + 2*x^2 + 1) + 3/16*arctan(x) == sin(o),\n",
       " sin(o) == C + sin(o))"
      ]
     },
     "execution_count": 60,
     "metadata": {},
     "output_type": "execute_result"
    }
   ],
   "source": [
    "# moving to new var:\n",
    "integral(derivative(x,x)/(x^2 + 1)^3/2, x) == integral(sec(o)^2 * derivative(o, o)/sec(o)^3, o), integral(derivative(o,o)/sec(o), o) == integral(cos(o), o) + C"
   ]
  },
  {
   "cell_type": "code",
   "execution_count": 61,
   "metadata": {},
   "outputs": [
    {
     "data": {
      "text/html": [
       "<html>\\(\\displaystyle C + \\sin\\left(o\\right) = \\frac{x}{\\sqrt{x^{2} + 1}}\\)</html>"
      ],
      "text/latex": [
       "$\\displaystyle C + \\sin\\left(o\\right) = \\frac{x}{\\sqrt{x^{2} + 1}}$"
      ],
      "text/plain": [
       "C + sin(o) == x/sqrt(x^2 + 1)"
      ]
     },
     "execution_count": 61,
     "metadata": {},
     "output_type": "execute_result"
    }
   ],
   "source": [
    "sin(o) + C == x/sqrt(x^2 + 1)"
   ]
  },
  {
   "cell_type": "code",
   "execution_count": 62,
   "metadata": {},
   "outputs": [
    {
     "data": {
      "text/html": [
       "<html>\\(\\displaystyle \\frac{1}{16} \\, \\mathit{dx} {\\left(\\frac{3 \\, x^{3} + 5 \\, x}{x^{4} + 2 \\, x^{2} + 1} + 3 \\, \\arctan\\left(x\\right)\\right)} = C + \\frac{x}{\\sqrt{x^{2} + 1}}\\)</html>"
      ],
      "text/latex": [
       "$\\displaystyle \\frac{1}{16} \\, \\mathit{dx} {\\left(\\frac{3 \\, x^{3} + 5 \\, x}{x^{4} + 2 \\, x^{2} + 1} + 3 \\, \\arctan\\left(x\\right)\\right)} = C + \\frac{x}{\\sqrt{x^{2} + 1}}$"
      ],
      "text/plain": [
       "1/16*dx*((3*x^3 + 5*x)/(x^4 + 2*x^2 + 1) + 3*arctan(x)) == C + x/sqrt(x^2 + 1)"
      ]
     },
     "execution_count": 62,
     "metadata": {},
     "output_type": "execute_result"
    }
   ],
   "source": [
    "integral(dx/(x^2 + 1)^3/2, x) == x/sqrt(x^2 + 1) + C"
   ]
  },
  {
   "cell_type": "markdown",
   "metadata": {},
   "source": [
    "## Example 3:\n",
    "\n",
    "A Secant Substitution.\n",
    "\n",
    "Evaluate the integral $\\int \\dfrac{dx}{x^2 \\sqrt{x^2 - 25}}$."
   ]
  },
  {
   "cell_type": "code",
   "execution_count": 63,
   "metadata": {},
   "outputs": [
    {
     "data": {
      "text/html": [
       "<html>\\(\\displaystyle x = 5 \\, \\sec\\left(o\\right)\\)</html>"
      ],
      "text/latex": [
       "$\\displaystyle x = 5 \\, \\sec\\left(o\\right)$"
      ],
      "text/plain": [
       "x == 5*sec(o)"
      ]
     },
     "execution_count": 63,
     "metadata": {},
     "output_type": "execute_result"
    }
   ],
   "source": [
    "x == 5*sec(o)"
   ]
  },
  {
   "cell_type": "code",
   "execution_count": 68,
   "metadata": {},
   "outputs": [
    {
     "data": {
      "text/html": [
       "<html>\\(\\displaystyle \\left(\\mathit{dx} = 5 \\, \\sec\\left(o\\right) \\tan\\left(o\\right), \\sqrt{x^{2} - 25}, 5 \\, \\sqrt{\\sec\\left(o\\right)^{2} - 1} = 5 \\, \\sqrt{\\sec\\left(o\\right)^{2} - 1}, 5 \\, \\tan\\left(o\\right)\\right)\\)</html>"
      ],
      "text/latex": [
       "$\\displaystyle \\left(\\mathit{dx} = 5 \\, \\sec\\left(o\\right) \\tan\\left(o\\right), \\sqrt{x^{2} - 25}, 5 \\, \\sqrt{\\sec\\left(o\\right)^{2} - 1} = 5 \\, \\sqrt{\\sec\\left(o\\right)^{2} - 1}, 5 \\, \\tan\\left(o\\right)\\right)$"
      ],
      "text/plain": [
       "(dx == 5*sec(o)*tan(o),\n",
       " sqrt(x^2 - 25),\n",
       " 5*sqrt(sec(o)^2 - 1) == 5*sqrt(sec(o)^2 - 1),\n",
       " 5*tan(o))"
      ]
     },
     "execution_count": 68,
     "metadata": {},
     "output_type": "execute_result"
    }
   ],
   "source": [
    "dx == 5*sec(o)*tan(o) * derivative(o, o), sqrt(x^2 - 25), sqrt(25*sec(o)^2 - 25) == 5*sqrt(sec(o)^2 - 1), 5*tan(o)"
   ]
  },
  {
   "cell_type": "code",
   "execution_count": 73,
   "metadata": {},
   "outputs": [
    {
     "data": {
      "text/html": [
       "<html>\\(\\displaystyle \\left(\\log\\left(2 \\, x + 2 \\, \\sqrt{x^{2} - 25}\\right) = -\\frac{\\sin\\left(o\\right)}{2 \\, {\\left(\\sin\\left(o\\right)^{2} - 1\\right)}} - \\frac{1}{4} \\, \\log\\left(\\sin\\left(o\\right) + 1\\right) + \\frac{1}{4} \\, \\log\\left(\\sin\\left(o\\right) - 1\\right), \\log\\left(\\sec\\left(o\\right) + \\tan\\left(o\\right)\\right) = \\log\\left({\\left| C + \\sec\\left(o\\right) + \\tan\\left(o\\right) \\right|}\\right)\\right)\\)</html>"
      ],
      "text/latex": [
       "$\\displaystyle \\left(\\log\\left(2 \\, x + 2 \\, \\sqrt{x^{2} - 25}\\right) = -\\frac{\\sin\\left(o\\right)}{2 \\, {\\left(\\sin\\left(o\\right)^{2} - 1\\right)}} - \\frac{1}{4} \\, \\log\\left(\\sin\\left(o\\right) + 1\\right) + \\frac{1}{4} \\, \\log\\left(\\sin\\left(o\\right) - 1\\right), \\log\\left(\\sec\\left(o\\right) + \\tan\\left(o\\right)\\right) = \\log\\left({\\left| C + \\sec\\left(o\\right) + \\tan\\left(o\\right) \\right|}\\right)\\right)$"
      ],
      "text/plain": [
       "(log(2*x + 2*sqrt(x^2 - 25)) == -1/2*sin(o)/(sin(o)^2 - 1) - 1/4*log(sin(o) + 1) + 1/4*log(sin(o) - 1),\n",
       " log(sec(o) + tan(o)) == log(abs(C + sec(o) + tan(o))))"
      ]
     },
     "execution_count": 73,
     "metadata": {},
     "output_type": "execute_result"
    }
   ],
   "source": [
    "integral(derivative(x,x)/ sqrt(x^2 - 25), x) == integral(5*sec(o)*tan(o)*derivative(o,o)/5*tan(o), o), integral(sec(o), o) == log(abs(sec(o) + tan(o) + C)) == log(abst(x/5 + sqrt(x^2 - 25)/5)) + C"
   ]
  },
  {
   "cell_type": "markdown",
   "metadata": {},
   "source": [
    "## Example 4:\n",
    "\n",
    "An Application of Arc Length.\n",
    "\n",
    "A thin wire is in the shape of the parabola $y = \\dfrac{1}{2}x^2, 0 ≤ x ≤ 1$. What is the length of the wire?"
   ]
  },
  {
   "cell_type": "code",
   "execution_count": 79,
   "metadata": {},
   "outputs": [
    {
     "data": {
      "text/html": [
       "<html>\\(\\displaystyle \\left(s = 2, \\frac{1}{4} \\, \\sqrt{2} {\\left(\\sqrt{2} \\operatorname{arsinh}\\left(1\\right) + 2\\right)}\\right)\\)</html>"
      ],
      "text/latex": [
       "$\\displaystyle \\left(s = 2, \\frac{1}{4} \\, \\sqrt{2} {\\left(\\sqrt{2} \\operatorname{arsinh}\\left(1\\right) + 2\\right)}\\right)$"
      ],
      "text/plain": [
       "(s == 2, 1/4*sqrt(2)*(sqrt(2)*arcsinh(1) + 2))"
      ]
     },
     "execution_count": 79,
     "metadata": {},
     "output_type": "execute_result"
    }
   ],
   "source": [
    "s == limit(integral(1 + sqrt(derivative(y, y)), x), x=1), limit(integral(sqrt(1 + x^2),x), x=1)"
   ]
  },
  {
   "cell_type": "code",
   "execution_count": 84,
   "metadata": {},
   "outputs": [
    {
     "data": {
      "text/html": [
       "<html>\\(\\displaystyle \\left(x = \\tan\\left(o\\right), \\mathit{dx} = -\\frac{\\sin\\left(o\\right)}{2 \\, {\\left(\\sin\\left(o\\right)^{2} - 1\\right)}} + \\frac{1}{4} \\, \\log\\left(\\sin\\left(o\\right) + 1\\right) - \\frac{1}{4} \\, \\log\\left(\\sin\\left(o\\right) - 1\\right), -\\frac{\\sin\\left(o\\right)}{2 \\, {\\left(\\sin\\left(o\\right)^{2} - 1\\right)}} + \\frac{1}{4} \\, \\log\\left(\\sin\\left(o\\right) + 1\\right) - \\frac{1}{4} \\, \\log\\left(\\sin\\left(o\\right) - 1\\right)\\right)\\)</html>"
      ],
      "text/latex": [
       "$\\displaystyle \\left(x = \\tan\\left(o\\right), \\mathit{dx} = -\\frac{\\sin\\left(o\\right)}{2 \\, {\\left(\\sin\\left(o\\right)^{2} - 1\\right)}} + \\frac{1}{4} \\, \\log\\left(\\sin\\left(o\\right) + 1\\right) - \\frac{1}{4} \\, \\log\\left(\\sin\\left(o\\right) - 1\\right), -\\frac{\\sin\\left(o\\right)}{2 \\, {\\left(\\sin\\left(o\\right)^{2} - 1\\right)}} + \\frac{1}{4} \\, \\log\\left(\\sin\\left(o\\right) + 1\\right) - \\frac{1}{4} \\, \\log\\left(\\sin\\left(o\\right) - 1\\right)\\right)$"
      ],
      "text/plain": [
       "(x == tan(o),\n",
       " dx == -1/2*sin(o)/(sin(o)^2 - 1) + 1/4*log(sin(o) + 1) - 1/4*log(sin(o) - 1),\n",
       " -1/2*sin(o)/(sin(o)^2 - 1) + 1/4*log(sin(o) + 1) - 1/4*log(sin(o) - 1))"
      ]
     },
     "execution_count": 84,
     "metadata": {},
     "output_type": "execute_result"
    }
   ],
   "source": [
    "x == tan(o), dx == integral(sec(o)*(sec(o)^2), o), integral(sec(o)^3, o)"
   ]
  },
  {
   "cell_type": "code",
   "execution_count": 86,
   "metadata": {},
   "outputs": [
    {
     "data": {
      "text/html": [
       "<html>\\(\\displaystyle \\left(x = \\tan\\left(o\\right), 1, o = \\frac{1}{4} \\, \\pi\\right)\\)</html>"
      ],
      "text/latex": [
       "$\\displaystyle \\left(x = \\tan\\left(o\\right), 1, o = \\frac{1}{4} \\, \\pi\\right)$"
      ],
      "text/plain": [
       "(x == tan(o), 1, o == 1/4*pi)"
      ]
     },
     "execution_count": 86,
     "metadata": {},
     "output_type": "execute_result"
    }
   ],
   "source": [
    "x == tan(o), 1, o == π/4"
   ]
  },
  {
   "cell_type": "code",
   "execution_count": 88,
   "metadata": {},
   "outputs": [
    {
     "data": {
      "text/html": [
       "<html>\\(\\displaystyle \\left(s = \\frac{1}{4} \\, \\sqrt{2} {\\left(\\sqrt{2} \\operatorname{arsinh}\\left(1\\right) + 2\\right)}, \\frac{1}{2} \\, \\sqrt{2} + \\frac{1}{4} \\, \\log\\left(\\sqrt{2} + 2\\right) - \\frac{1}{4} \\, \\log\\left(\\sqrt{2} - 2\\right) = 1.14800000000000\\right)\\)</html>"
      ],
      "text/latex": [
       "$\\displaystyle \\left(s = \\frac{1}{4} \\, \\sqrt{2} {\\left(\\sqrt{2} \\operatorname{arsinh}\\left(1\\right) + 2\\right)}, \\frac{1}{2} \\, \\sqrt{2} + \\frac{1}{4} \\, \\log\\left(\\sqrt{2} + 2\\right) - \\frac{1}{4} \\, \\log\\left(\\sqrt{2} - 2\\right) = 1.14800000000000\\right)$"
      ],
      "text/plain": [
       "(s == 1/4*sqrt(2)*(sqrt(2)*arcsinh(1) + 2),\n",
       " 1/2*sqrt(2) + 1/4*log(sqrt(2) + 2) - 1/4*log(sqrt(2) - 2) == 1.14800000000000)"
      ]
     },
     "execution_count": 88,
     "metadata": {},
     "output_type": "execute_result"
    }
   ],
   "source": [
    "s == limit(integral(sqrt(1 + x^2), x), x=1), limit(integral(sec(o)^3, o),o=π/4) == 1.148"
   ]
  }
 ],
 "metadata": {
  "kernelspec": {
   "display_name": "SageMath 10.5",
   "language": "sage",
   "name": "SageMath-10.5"
  },
  "language_info": {
   "codemirror_mode": {
    "name": "ipython",
    "version": 3
   },
   "file_extension": ".py",
   "mimetype": "text/x-python",
   "name": "python",
   "nbconvert_exporter": "python",
   "pygments_lexer": "ipython3",
   "version": "3.12.5"
  }
 },
 "nbformat": 4,
 "nbformat_minor": 2
}
