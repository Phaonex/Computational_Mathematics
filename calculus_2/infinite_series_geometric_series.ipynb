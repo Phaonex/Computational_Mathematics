{
 "cells": [
  {
   "cell_type": "code",
   "execution_count": 12,
   "metadata": {},
   "outputs": [],
   "source": [
    "from sage.all import *"
   ]
  },
  {
   "cell_type": "code",
   "execution_count": 176,
   "metadata": {},
   "outputs": [
    {
     "data": {
      "text/html": [
       "<html>\\(\\displaystyle \\left(a, b, c, n, r, S, S_{n}, x, y, z, \\mathit{dx}, \\mathit{dy}, \\Sigma\\right)\\)</html>"
      ],
      "text/latex": [
       "$\\displaystyle \\left(a, b, c, n, r, S, S_{n}, x, y, z, \\mathit{dx}, \\mathit{dy}, \\Sigma\\right)$"
      ],
      "text/plain": [
       "(a, b, c, n, r, S, S_n, x, y, z, dx, dy, Sigma)"
      ]
     },
     "execution_count": 176,
     "metadata": {},
     "output_type": "execute_result"
    }
   ],
   "source": [
    "%display latex\n",
    "\n",
    "var('a, b, c, n, r, S, S_n, x, y, z, dx, dy, Sigma')"
   ]
  },
  {
   "cell_type": "markdown",
   "metadata": {},
   "source": [
    "# Infinite Series—Geometric Series"
   ]
  },
  {
   "cell_type": "markdown",
   "metadata": {},
   "source": [
    "## Topics:\n",
    "\n",
    "- Infinite series.\n",
    "- The sequence of partial sums.\n",
    "- Convergent and divergent series.\n",
    "- Telescoping series.\n",
    "- Geometric series.\n",
    "- Repeating decimals."
   ]
  },
  {
   "cell_type": "markdown",
   "metadata": {},
   "source": [
    "## Definitions and Theorems:"
   ]
  },
  {
   "cell_type": "markdown",
   "metadata": {},
   "source": [
    "- **For the infinite series:** $\\Sigma_{n=1} a_n = a_1 + a_2 + a_3 + ...$, the n^{th}$ partial sum is given by $S_n = a_1 + a_2 + a_3 + ... + a_n$."
   ]
  },
  {
   "cell_type": "markdown",
   "metadata": {},
   "source": [
    "- **If the sequence of partial sums:** If the sequence of partial sums converges to S, then the series converges to S. The limit S is called the.\n",
    "sum of the series, $\\Sigma_{n=1} a_n = lim_{n \\to ∞} S_n = S$. If the sequence of partial sums diverges, then the series diverges."
   ]
  },
  {
   "cell_type": "markdown",
   "metadata": {},
   "source": [
    "- **Let a be a nonzero constant:**  The geometric series with common ratio $r$ is $\\Sigma_{n=0}^∞ ar^k = a + ar + ar^2 + ar^3 +...$. The series converges to $\\frac{a}{1 - r}$ if $|r| < 1$. The geometric series diverges if $|r| ≥ 1.$"
   ]
  },
  {
   "cell_type": "markdown",
   "metadata": {},
   "source": [
    "## Example 1:\n",
    "\n",
    "A Convergent Series.\n",
    "\n",
    "Show that the series $\\Sigma_{n=1} 1/2^n = \\frac{1}{2} + \\frac{1}{4} + \\frac{1}{8} + \\frac{1}{16} + ...$ converges."
   ]
  },
  {
   "cell_type": "code",
   "execution_count": 37,
   "metadata": {},
   "outputs": [],
   "source": [
    "S_n = 1/2^n"
   ]
  },
  {
   "cell_type": "code",
   "execution_count": 38,
   "metadata": {},
   "outputs": [
    {
     "data": {
      "text/html": [
       "<html>\\(\\displaystyle \\left[\\frac{1}{2}, \\frac{1}{4}, \\frac{1}{8}, \\frac{1}{16}, \\frac{1}{32}, \\frac{1}{64}, \\frac{1}{128}, \\frac{1}{256}, \\frac{1}{512}\\right]\\)</html>"
      ],
      "text/latex": [
       "$\\displaystyle \\left[\\frac{1}{2}, \\frac{1}{4}, \\frac{1}{8}, \\frac{1}{16}, \\frac{1}{32}, \\frac{1}{64}, \\frac{1}{128}, \\frac{1}{256}, \\frac{1}{512}\\right]$"
      ],
      "text/plain": [
       "[1/2, 1/4, 1/8, 1/16, 1/32, 1/64, 1/128, 1/256, 1/512]"
      ]
     },
     "execution_count": 38,
     "metadata": {},
     "output_type": "execute_result"
    }
   ],
   "source": [
    "[*map(lambda i: S_n(n=i), range(1,10))]"
   ]
  },
  {
   "cell_type": "code",
   "execution_count": 39,
   "metadata": {},
   "outputs": [],
   "source": [
    "S_ns = sum([S_n(n=i) for i in range(1,10)])"
   ]
  },
  {
   "cell_type": "code",
   "execution_count": 41,
   "metadata": {},
   "outputs": [
    {
     "data": {
      "text/html": [
       "<html>\\(\\displaystyle \\left(1 = 2^{n} - \\frac{1}{2^{n}}, \\left(\\frac{511}{512}\\right) = \\left(\\frac{511}{512}\\right)\\right)\\)</html>"
      ],
      "text/latex": [
       "$\\displaystyle \\left(1 = 2^{n} - \\frac{1}{2^{n}}, \\left(\\frac{511}{512}\\right) = \\left(\\frac{511}{512}\\right)\\right)$"
      ],
      "text/plain": [
       "(1 == 2^n - 1/2^n, (511/512) == (511/512))"
      ]
     },
     "execution_count": 41,
     "metadata": {},
     "output_type": "execute_result"
    }
   ],
   "source": [
    "1 == 2^n - 1/2^n, S_ns == limit(S_ns, n=oo)"
   ]
  },
  {
   "cell_type": "markdown",
   "metadata": {},
   "source": [
    "## Example 2:\n",
    "\n",
    "Divergent Series.\n",
    "\n",
    "Show that the series $\\Sigma_{n=1} 1 = 1 + 1 + 1 + ...$ diverges."
   ]
  },
  {
   "cell_type": "code",
   "execution_count": 62,
   "metadata": {},
   "outputs": [],
   "source": [
    "S_n = n + 1"
   ]
  },
  {
   "cell_type": "code",
   "execution_count": null,
   "metadata": {},
   "outputs": [
    {
     "data": {
      "text/html": [
       "<html>\\(\\displaystyle \\left[2, 3, 4, 5, 6, 7, 8, 9, 10\\right]\\)</html>"
      ],
      "text/latex": [
       "$\\displaystyle \\left[2, 3, 4, 5, 6, 7, 8, 9, 10\\right]$"
      ],
      "text/plain": [
       "[2, 3, 4, 5, 6, 7, 8, 9, 10]"
      ]
     },
     "execution_count": 50,
     "metadata": {},
     "output_type": "execute_result"
    }
   ],
   "source": [
    "# it constantly increase \n",
    "[S_n(n=i) for i in range(1, 10)]"
   ]
  },
  {
   "cell_type": "code",
   "execution_count": 57,
   "metadata": {},
   "outputs": [
    {
     "data": {
      "text/html": [
       "<html>\\(\\displaystyle 55\\)</html>"
      ],
      "text/latex": [
       "$\\displaystyle 55$"
      ],
      "text/plain": [
       "55"
      ]
     },
     "execution_count": 57,
     "metadata": {},
     "output_type": "execute_result"
    }
   ],
   "source": [
    "sum([S_n(n=i) for i in range(0, 10)])"
   ]
  },
  {
   "cell_type": "code",
   "execution_count": 65,
   "metadata": {},
   "outputs": [
    {
     "data": {
      "text/html": [
       "<html>\\(\\displaystyle 1 = +\\infty\\)</html>"
      ],
      "text/latex": [
       "$\\displaystyle 1 = +\\infty$"
      ],
      "text/plain": [
       "1 == +Infinity"
      ]
     },
     "execution_count": 65,
     "metadata": {},
     "output_type": "execute_result"
    }
   ],
   "source": [
    "# it diverges.\n",
    "sum([S_n(n=0)]) == limit(S_n, n=oo)"
   ]
  },
  {
   "cell_type": "markdown",
   "metadata": {},
   "source": [
    "## Example 3:\n",
    "\n",
    "A Telescoping Series.\n",
    "\n",
    "Determine the convergence or divergence of the telescoping series. $\\Sigma_{n=1} \\frac{1}{n(n + 1)}$."
   ]
  },
  {
   "cell_type": "code",
   "execution_count": 148,
   "metadata": {},
   "outputs": [],
   "source": [
    "S_n = 1/n*(n + 1)"
   ]
  },
  {
   "cell_type": "code",
   "execution_count": 149,
   "metadata": {},
   "outputs": [
    {
     "data": {
      "text/html": [
       "<html>\\(\\displaystyle \\left[2, \\frac{3}{2}, \\frac{4}{3}, \\frac{5}{4}, \\frac{6}{5}, \\frac{7}{6}, \\frac{8}{7}, \\frac{9}{8}, \\frac{10}{9}\\right]\\)</html>"
      ],
      "text/latex": [
       "$\\displaystyle \\left[2, \\frac{3}{2}, \\frac{4}{3}, \\frac{5}{4}, \\frac{6}{5}, \\frac{7}{6}, \\frac{8}{7}, \\frac{9}{8}, \\frac{10}{9}\\right]$"
      ],
      "text/plain": [
       "[2, 3/2, 4/3, 5/4, 6/5, 7/6, 8/7, 9/8, 10/9]"
      ]
     },
     "execution_count": 149,
     "metadata": {},
     "output_type": "execute_result"
    }
   ],
   "source": [
    "[*map(lambda i:  sum(S_n, n, i, i), range(1,10))]"
   ]
  },
  {
   "cell_type": "code",
   "execution_count": 150,
   "metadata": {},
   "outputs": [
    {
     "data": {
      "text/html": [
       "<html>\\(\\displaystyle \\left[-1, -\\frac{1}{2}, -\\frac{1}{3}, -\\frac{1}{4}, -\\frac{1}{5}, -\\frac{1}{6}, -\\frac{1}{7}, -\\frac{1}{8}, -\\frac{1}{9}\\right]\\)</html>"
      ],
      "text/latex": [
       "$\\displaystyle \\left[-1, -\\frac{1}{2}, -\\frac{1}{3}, -\\frac{1}{4}, -\\frac{1}{5}, -\\frac{1}{6}, -\\frac{1}{7}, -\\frac{1}{8}, -\\frac{1}{9}\\right]$"
      ],
      "text/plain": [
       "[-1, -1/2, -1/3, -1/4, -1/5, -1/6, -1/7, -1/8, -1/9]"
      ]
     },
     "execution_count": 150,
     "metadata": {},
     "output_type": "execute_result"
    }
   ],
   "source": [
    "[*map(lambda i: 1 - sum(S_n, n, i, i), range(1,10))]"
   ]
  },
  {
   "cell_type": "code",
   "execution_count": 151,
   "metadata": {},
   "outputs": [
    {
     "data": {
      "text/html": [
       "<html>\\(\\displaystyle \\left[\\left(-1\\right), \\left(-\\frac{1}{2}\\right), \\left(-\\frac{1}{3}\\right), \\left(-\\frac{1}{4}\\right), \\left(-\\frac{1}{5}\\right), \\left(-\\frac{1}{6}\\right), \\left(-\\frac{1}{7}\\right), \\left(-\\frac{1}{8}\\right), \\left(-\\frac{1}{9}\\right)\\right]\\)</html>"
      ],
      "text/latex": [
       "$\\displaystyle \\left[\\left(-1\\right), \\left(-\\frac{1}{2}\\right), \\left(-\\frac{1}{3}\\right), \\left(-\\frac{1}{4}\\right), \\left(-\\frac{1}{5}\\right), \\left(-\\frac{1}{6}\\right), \\left(-\\frac{1}{7}\\right), \\left(-\\frac{1}{8}\\right), \\left(-\\frac{1}{9}\\right)\\right]$"
      ],
      "text/plain": [
       "[(-1,), (-1/2,), (-1/3,), (-1/4,), (-1/5,), (-1/6,), (-1/7,), (-1/8,), (-1/9,)]"
      ]
     },
     "execution_count": 151,
     "metadata": {},
     "output_type": "execute_result"
    }
   ],
   "source": [
    "[*zip([*map(lambda i: 1 - sum(S_n, n, i, i), range(1,10))])]"
   ]
  },
  {
   "cell_type": "code",
   "execution_count": 152,
   "metadata": {},
   "outputs": [
    {
     "data": {
      "text/html": [
       "<html>\\(\\displaystyle \\left(-\\frac{n + 1}{n} + 1, \\left[-1, -\\frac{1}{2}, -\\frac{1}{3}, -\\frac{1}{4}, -\\frac{1}{5}, -\\frac{1}{6}, -\\frac{1}{7}, -\\frac{1}{8}, -\\frac{1}{9}\\right]\\right)\\)</html>"
      ],
      "text/latex": [
       "$\\displaystyle \\left(-\\frac{n + 1}{n} + 1, \\left[-1, -\\frac{1}{2}, -\\frac{1}{3}, -\\frac{1}{4}, -\\frac{1}{5}, -\\frac{1}{6}, -\\frac{1}{7}, -\\frac{1}{8}, -\\frac{1}{9}\\right]\\right)$"
      ],
      "text/plain": [
       "(-(n + 1)/n + 1, [-1, -1/2, -1/3, -1/4, -1/5, -1/6, -1/7, -1/8, -1/9])"
      ]
     },
     "execution_count": 152,
     "metadata": {},
     "output_type": "execute_result"
    }
   ],
   "source": [
    "1 - (1/n*(n + 1)), [ 1 - S_n(n=i) for i in range(1,10)]"
   ]
  },
  {
   "cell_type": "code",
   "execution_count": 167,
   "metadata": {},
   "outputs": [
    {
     "data": {
      "text/html": [
       "<html>\\(\\displaystyle \\left(\\Sigma = \\frac{n + 1}{n}, \\Sigma = 1, 1 = 1\\right)\\)</html>"
      ],
      "text/latex": [
       "$\\displaystyle \\left(\\Sigma = \\frac{n + 1}{n}, \\Sigma = 1, 1 = 1\\right)$"
      ],
      "text/plain": [
       "(Sigma == (n + 1)/n, Sigma == 1, 1 == 1)"
      ]
     },
     "execution_count": 167,
     "metadata": {},
     "output_type": "execute_result"
    }
   ],
   "source": [
    "Sigma == S_n, Sigma*(1/n - 1/n + 1) == limit(S_n, n=oo), limit(S_n, n=oo) == 1"
   ]
  },
  {
   "cell_type": "markdown",
   "metadata": {},
   "source": [
    "## Example 4:\n",
    "\n",
    "A Geometric Series.\n",
    "\n",
    "Determine the convergence or divergence of the geometric series $\\Sigma_{n=0}^∞ \\frac{3}{2^n} = \\Sigma_{n=0}^∞ 3 (1/2)^n$."
   ]
  },
  {
   "cell_type": "code",
   "execution_count": 175,
   "metadata": {},
   "outputs": [],
   "source": [
    "assume(a == 3)\n",
    "assume(r == 1/2)"
   ]
  },
  {
   "cell_type": "code",
   "execution_count": 181,
   "metadata": {},
   "outputs": [
    {
     "data": {
      "text/html": [
       "<html>\\(\\displaystyle \\left(S = a - r, 6\\right)\\)</html>"
      ],
      "text/latex": [
       "$\\displaystyle \\left(S = a - r, 6\\right)$"
      ],
      "text/plain": [
       "(S == a - r, 6)"
      ]
     },
     "execution_count": 181,
     "metadata": {},
     "output_type": "execute_result"
    }
   ],
   "source": [
    "S == a/1 - r, 3/(1 - (1/2))"
   ]
  },
  {
   "cell_type": "markdown",
   "metadata": {},
   "source": [
    "## Example 5:\n",
    "\n",
    "A Repeating Decimal.\n",
    "\n",
    "Use a geometric series to write the repeating decimal $0.\\bar{08} = 0.080808...$ as a fraction."
   ]
  },
  {
   "cell_type": "code",
   "execution_count": 187,
   "metadata": {},
   "outputs": [
    {
     "data": {
      "text/html": [
       "<html>\\(\\displaystyle \\left(\\Sigma, \\left(\\frac{4}{625}\\right)^{n}\\right)\\)</html>"
      ],
      "text/latex": [
       "$\\displaystyle \\left(\\Sigma, \\left(\\frac{4}{625}\\right)^{n}\\right)$"
      ],
      "text/plain": [
       "(Sigma, (4/625)^n)"
      ]
     },
     "execution_count": 187,
     "metadata": {},
     "output_type": "execute_result"
    }
   ],
   "source": [
    "Sigma, ((8/10^2)*(8/10^2))^n"
   ]
  },
  {
   "cell_type": "code",
   "execution_count": 192,
   "metadata": {},
   "outputs": [],
   "source": [
    "a_n = (8/10^2)\n",
    "r_n = (1/10^2)"
   ]
  },
  {
   "cell_type": "code",
   "execution_count": 190,
   "metadata": {},
   "outputs": [
    {
     "data": {
      "text/html": [
       "<html>\\(\\displaystyle \\left(\\frac{1}{1250}\\right)^{n}\\)</html>"
      ],
      "text/latex": [
       "$\\displaystyle \\left(\\frac{1}{1250}\\right)^{n}$"
      ],
      "text/plain": [
       "(1/1250)^n"
      ]
     },
     "execution_count": 190,
     "metadata": {},
     "output_type": "execute_result"
    }
   ],
   "source": [
    "S_n = ((8/10^2)*(1/10^2))^n\n",
    "S_n"
   ]
  },
  {
   "cell_type": "code",
   "execution_count": 221,
   "metadata": {},
   "outputs": [
    {
     "data": {
      "text/html": [
       "<html>\\(\\displaystyle \\frac{40}{99}\\)</html>"
      ],
      "text/latex": [
       "$\\displaystyle \\frac{40}{99}$"
      ],
      "text/plain": [
       "40/99"
      ]
     },
     "execution_count": 221,
     "metadata": {},
     "output_type": "execute_result"
    }
   ],
   "source": [
    "sum(a_n/(1-r_n), x, 1,5)"
   ]
  },
  {
   "cell_type": "code",
   "execution_count": 208,
   "metadata": {},
   "outputs": [
    {
     "data": {
      "text/html": [
       "<html>\\(\\displaystyle \\left(0.0800000000000000 = -\\frac{a}{r - 1}, \\frac{8}{11}, \\left[\\frac{8}{99}, \\frac{8}{99}, \\frac{8}{99}, \\frac{8}{99}, \\frac{8}{99}, \\frac{8}{99}, \\frac{8}{99}, \\frac{8}{99}, \\frac{8}{99}\\right], \\frac{8}{99}\\right)\\)</html>"
      ],
      "text/latex": [
       "$\\displaystyle \\left(0.0800000000000000 = -\\frac{a}{r - 1}, \\frac{8}{11}, \\left[\\frac{8}{99}, \\frac{8}{99}, \\frac{8}{99}, \\frac{8}{99}, \\frac{8}{99}, \\frac{8}{99}, \\frac{8}{99}, \\frac{8}{99}, \\frac{8}{99}\\right], \\frac{8}{99}\\right)$"
      ],
      "text/plain": [
       "(0.0800000000000000 == -a/(r - 1),\n",
       " 8/11,\n",
       " [8/99, 8/99, 8/99, 8/99, 8/99, 8/99, 8/99, 8/99, 8/99],\n",
       " 8/99)"
      ]
     },
     "execution_count": 208,
     "metadata": {},
     "output_type": "execute_result"
    }
   ],
   "source": [
    "# is geometry series:\n",
    "0.08 == a/(1-r), sum([a_n/(1-r_n) for i in range(1,10)]), [a_n/(1-r_n) for i in range(1,10)], 8/99"
   ]
  }
 ],
 "metadata": {
  "kernelspec": {
   "display_name": "SageMath 10.5",
   "language": "sage",
   "name": "SageMath-10.5"
  },
  "language_info": {
   "codemirror_mode": {
    "name": "ipython",
    "version": 3
   },
   "file_extension": ".py",
   "mimetype": "text/x-python",
   "name": "python",
   "nbconvert_exporter": "python",
   "pygments_lexer": "ipython3",
   "version": "3.12.5"
  }
 },
 "nbformat": 4,
 "nbformat_minor": 2
}
