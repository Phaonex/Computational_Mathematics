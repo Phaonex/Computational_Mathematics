{
 "cells": [
  {
   "cell_type": "code",
   "execution_count": 6,
   "metadata": {},
   "outputs": [],
   "source": [
    "from sage.all import *"
   ]
  },
  {
   "cell_type": "code",
   "execution_count": 12,
   "metadata": {},
   "outputs": [
    {
     "data": {
      "text/html": [
       "<html>\\(\\displaystyle \\left(a, b, c, n, x, y, z, \\mathit{dx}, \\mathit{dy}\\right)\\)</html>"
      ],
      "text/latex": [
       "$\\displaystyle \\left(a, b, c, n, x, y, z, \\mathit{dx}, \\mathit{dy}\\right)$"
      ],
      "text/plain": [
       "(a, b, c, n, x, y, z, dx, dy)"
      ]
     },
     "execution_count": 12,
     "metadata": {},
     "output_type": "execute_result"
    }
   ],
   "source": [
    "%display latex\n",
    "\n",
    "var('a, b, c, n, x, y, z, dx, dy')"
   ]
  },
  {
   "cell_type": "markdown",
   "metadata": {},
   "source": [
    "# Sequences and Limits"
   ]
  },
  {
   "cell_type": "markdown",
   "metadata": {},
   "source": [
    "## Topics:\n",
    "\n",
    "- Sequences.\n",
    "- Limits of sequences.\n",
    "- Monotonic sequences.\n",
    "- Bounded sequences.\n",
    "- The sequence of partial sums."
   ]
  },
  {
   "cell_type": "markdown",
   "metadata": {},
   "source": [
    "## Definitions and Theorems:"
   ]
  },
  {
   "cell_type": "markdown",
   "metadata": {},
   "source": [
    "- **sequence:** $\\{a_n\\} = \\{a_1, a_2, ...\\}$ is a function whose domain is the set of positive integers. That is, a sequence is an infinite list of real numbers."
   ]
  },
  {
   "cell_type": "markdown",
   "metadata": {},
   "source": [
    "- **limit, converges and diverges:**\n",
    " Let L be a real number. The limit of the sequence $\\{a_n\\}$ is L if for all $ε > 0$ there exists  $M > 0$ such that $|a_n - L| > ε$ wherenever $n > M$ We say that the sequence converges to L and write $lim_{n \\to ∞} a_n = L$. If the limit does not exist, then the sequence diverges."
   ]
  },
  {
   "cell_type": "markdown",
   "metadata": {},
   "source": [
    "- **theorem:** If $|r| < 1$, then $lim_{n \\to ∞} r^n = 0$. "
   ]
  },
  {
   "cell_type": "markdown",
   "metadata": {},
   "source": [
    "- **monotonic:** A sequence is monotonic if its terms are nondecreasing, $a_1 ≤ a_2 ≤ a_3 ≤ ...$, or nonincreasing, $a_1 ≥ a_2 ≥ a_3 ≥ ...$.\n",
    "a a a"
   ]
  },
  {
   "cell_type": "markdown",
   "metadata": {},
   "source": [
    "- **bounded above:** A sequence is bounded above if there is a real number $M$ such that $a_n ≤ M$ for all $n$. $M$ is an upper\n",
    "bound of the sequence."
   ]
  },
  {
   "cell_type": "markdown",
   "metadata": {},
   "source": [
    "- **bounded below:** A sequence is bounded below if there is a real number $N$ $a_n ≥ N$ for all $n$. $N$ is a lower bound of the sequence."
   ]
  },
  {
   "cell_type": "markdown",
   "metadata": {},
   "source": [
    "- **bounded:** A sequence is bounded if it is both bounded above and bounded below."
   ]
  },
  {
   "cell_type": "markdown",
   "metadata": {},
   "source": [
    "- **Theorem converge:** If a sequence is bounded and monotonic, then it converges."
   ]
  },
  {
   "cell_type": "markdown",
   "metadata": {},
   "source": [
    "## Example 1:\n",
    "\n",
    "The Terms of a Sequence.\n",
    "\n",
    "Write out the first five terms of the sequences $\\{a_n\\} = \\frac{n}{n  + 1}$ and $\\{b_n\\} = \\{3 + (- 1)^n\\}$.\n",
    "\n"
   ]
  },
  {
   "cell_type": "code",
   "execution_count": 29,
   "metadata": {},
   "outputs": [
    {
     "data": {
      "text/html": [
       "<html>\\(\\displaystyle \\left(2 = 2, \\frac{1}{2}, 2, \\frac{2}{3}, 2, \\frac{3}{4}, 2, \\frac{4}{5}, 2, \\frac{5}{6}\\right)\\)</html>"
      ],
      "text/latex": [
       "$\\displaystyle \\left(2 = 2, \\frac{1}{2}, 2, \\frac{2}{3}, 2, \\frac{3}{4}, 2, \\frac{4}{5}, 2, \\frac{5}{6}\\right)$"
      ],
      "text/plain": [
       "(2 == 2, 1/2, 2, 2/3, 2, 3/4, 2, 4/5, 2, 5/6)"
      ]
     },
     "execution_count": 29,
     "metadata": {},
     "output_type": "execute_result"
    }
   ],
   "source": [
    "n/n + 1 == 1/1 + 1, 1/2, 2/2 + 1, 2/3, 3/3 + 1,3/4, 4/4 + 1, 4/5, 5/ 5+ 1, 5/6 "
   ]
  },
  {
   "cell_type": "code",
   "execution_count": 22,
   "metadata": {},
   "outputs": [],
   "source": [
    "a_n = n/n + 1\n",
    "b_n = 3 + (-1)^n"
   ]
  },
  {
   "cell_type": "code",
   "execution_count": 30,
   "metadata": {},
   "outputs": [
    {
     "data": {
      "text/html": [
       "<html>\\(\\displaystyle \\left[2, 2, 2, 2, 2\\right]\\)</html>"
      ],
      "text/latex": [
       "$\\displaystyle \\left[2, 2, 2, 2, 2\\right]$"
      ],
      "text/plain": [
       "[2, 2, 2, 2, 2]"
      ]
     },
     "execution_count": 30,
     "metadata": {},
     "output_type": "execute_result"
    }
   ],
   "source": [
    "[a_n(n=n) for n  in range(1,6)]"
   ]
  },
  {
   "cell_type": "code",
   "execution_count": 37,
   "metadata": {},
   "outputs": [
    {
     "data": {
      "text/html": [
       "<html>\\(\\displaystyle \\left[2, 4, 2, 4, 2\\right]\\)</html>"
      ],
      "text/latex": [
       "$\\displaystyle \\left[2, 4, 2, 4, 2\\right]$"
      ],
      "text/plain": [
       "[2, 4, 2, 4, 2]"
      ]
     },
     "execution_count": 37,
     "metadata": {},
     "output_type": "execute_result"
    }
   ],
   "source": [
    "[*map(lambda n: b_n(n=n), range(1,6))]"
   ]
  },
  {
   "cell_type": "markdown",
   "metadata": {},
   "source": [
    "## Example 2:\n",
    "\n",
    "Limits of Sequences.\n"
   ]
  },
  {
   "cell_type": "code",
   "execution_count": null,
   "metadata": {},
   "outputs": [
    {
     "data": {
      "text/html": [
       "<html>\\(\\displaystyle \\mathit{ind}\\)</html>"
      ],
      "text/latex": [
       "$\\displaystyle \\mathit{ind}$"
      ],
      "text/plain": [
       "ind"
      ]
     },
     "execution_count": 38,
     "metadata": {},
     "output_type": "execute_result"
    }
   ],
   "source": [
    "#does no exist.\n",
    "limit(3 + (-1)^n, n=oo)"
   ]
  },
  {
   "cell_type": "code",
   "execution_count": 40,
   "metadata": {},
   "outputs": [
    {
     "data": {
      "text/html": [
       "<html>\\(\\displaystyle 5\\)</html>"
      ],
      "text/latex": [
       "$\\displaystyle 5$"
      ],
      "text/plain": [
       "5"
      ]
     },
     "execution_count": 40,
     "metadata": {},
     "output_type": "execute_result"
    }
   ],
   "source": [
    "limit(5-(1/n^2), n=oo)"
   ]
  },
  {
   "cell_type": "code",
   "execution_count": 41,
   "metadata": {},
   "outputs": [
    {
     "data": {
      "text/html": [
       "<html>\\(\\displaystyle 0\\)</html>"
      ],
      "text/latex": [
       "$\\displaystyle 0$"
      ],
      "text/plain": [
       "0"
      ]
     },
     "execution_count": 41,
     "metadata": {},
     "output_type": "execute_result"
    }
   ],
   "source": [
    "limit(sin(1/n), n=oo)"
   ]
  },
  {
   "cell_type": "code",
   "execution_count": 48,
   "metadata": {},
   "outputs": [
    {
     "data": {
      "text/html": [
       "<html>\\(\\displaystyle \\left(1 = 1, 1\\right)\\)</html>"
      ],
      "text/latex": [
       "$\\displaystyle \\left(1 = 1, 1\\right)$"
      ],
      "text/plain": [
       "(1 == 1, 1)"
      ]
     },
     "execution_count": 48,
     "metadata": {},
     "output_type": "execute_result"
    }
   ],
   "source": [
    "limit(n*sin(1/n), n=oo) == limit(sin(1/n)/(1/n), n=oo), limit(sin(x)/x, x=0)"
   ]
  },
  {
   "cell_type": "markdown",
   "metadata": {},
   "source": [
    "## Example 3:\n",
    "\n",
    "Bounded and Monotonic Sequences."
   ]
  },
  {
   "cell_type": "code",
   "execution_count": null,
   "metadata": {},
   "outputs": [
    {
     "data": {
      "text/html": [
       "<html>\\(\\displaystyle \\left[\\frac{1}{2}, \\frac{2}{3}, \\frac{3}{4}, \\frac{4}{5}\\right]\\)</html>"
      ],
      "text/latex": [
       "$\\displaystyle \\left[\\frac{1}{2}, \\frac{2}{3}, \\frac{3}{4}, \\frac{4}{5}\\right]$"
      ],
      "text/plain": [
       "[1/2, 2/3, 3/4, 4/5]"
      ]
     },
     "execution_count": 52,
     "metadata": {},
     "output_type": "execute_result"
    }
   ],
   "source": [
    "# is bounded and monotonic.\n",
    "[1/2, 2/3, 3/4, 4/5]"
   ]
  },
  {
   "cell_type": "code",
   "execution_count": null,
   "metadata": {},
   "outputs": [],
   "source": [
    "[2, 4, 2, 4, 2]"
   ]
  },
  {
   "cell_type": "markdown",
   "metadata": {},
   "source": [
    "## Example 4:\n",
    "\n",
    "The Partial Sums of an Infinite Series.\n",
    "\n",
    "Write out the first three partial sums of the infinite series $\\frac{1}{2} + \\frac{1}{4} + \\frac{1}{8} + \\frac{1}{16}$."
   ]
  },
  {
   "cell_type": "code",
   "execution_count": 223,
   "metadata": {},
   "outputs": [],
   "source": [
    "S_n = 1/2^n"
   ]
  },
  {
   "cell_type": "code",
   "execution_count": 224,
   "metadata": {},
   "outputs": [],
   "source": [
    "S_ns = [*map(lambda n: S_n(n=n), range(1,10))]"
   ]
  },
  {
   "cell_type": "code",
   "execution_count": 225,
   "metadata": {},
   "outputs": [
    {
     "data": {
      "text/html": [
       "<html>\\(\\displaystyle \\frac{1}{2}\\)</html>"
      ],
      "text/latex": [
       "$\\displaystyle \\frac{1}{2}$"
      ],
      "text/plain": [
       "1/2"
      ]
     },
     "execution_count": 225,
     "metadata": {},
     "output_type": "execute_result"
    }
   ],
   "source": [
    "sum(S_ns[0:1])"
   ]
  },
  {
   "cell_type": "code",
   "execution_count": 226,
   "metadata": {},
   "outputs": [
    {
     "data": {
      "text/html": [
       "<html>\\(\\displaystyle \\frac{3}{4}\\)</html>"
      ],
      "text/latex": [
       "$\\displaystyle \\frac{3}{4}$"
      ],
      "text/plain": [
       "3/4"
      ]
     },
     "execution_count": 226,
     "metadata": {},
     "output_type": "execute_result"
    }
   ],
   "source": [
    "sum(S_ns[0:2])"
   ]
  },
  {
   "cell_type": "code",
   "execution_count": 227,
   "metadata": {},
   "outputs": [
    {
     "data": {
      "text/html": [
       "<html>\\(\\displaystyle \\frac{7}{8}\\)</html>"
      ],
      "text/latex": [
       "$\\displaystyle \\frac{7}{8}$"
      ],
      "text/plain": [
       "7/8"
      ]
     },
     "execution_count": 227,
     "metadata": {},
     "output_type": "execute_result"
    }
   ],
   "source": [
    "sum(S_ns[0:3])"
   ]
  },
  {
   "cell_type": "code",
   "execution_count": 228,
   "metadata": {},
   "outputs": [
    {
     "data": {
      "text/html": [
       "<html>\\(\\displaystyle \\left(\\frac{511}{512}\\right) = 1\\)</html>"
      ],
      "text/latex": [
       "$\\displaystyle \\left(\\frac{511}{512}\\right) = 1$"
      ],
      "text/plain": [
       "(511/512) == 1"
      ]
     },
     "execution_count": 228,
     "metadata": {},
     "output_type": "execute_result"
    }
   ],
   "source": [
    "sum(S_ns) == 1"
   ]
  },
  {
   "cell_type": "markdown",
   "metadata": {},
   "source": [
    "## Problems:"
   ]
  },
  {
   "cell_type": "markdown",
   "metadata": {},
   "source": [
    "- 1"
   ]
  },
  {
   "cell_type": "markdown",
   "metadata": {},
   "source": [
    "- 2"
   ]
  },
  {
   "cell_type": "markdown",
   "metadata": {},
   "source": [
    "- 3"
   ]
  }
 ],
 "metadata": {
  "kernelspec": {
   "display_name": "SageMath 10.5",
   "language": "sage",
   "name": "SageMath-10.5"
  },
  "language_info": {
   "codemirror_mode": {
    "name": "ipython",
    "version": 3
   },
   "file_extension": ".py",
   "mimetype": "text/x-python",
   "name": "python",
   "nbconvert_exporter": "python",
   "pygments_lexer": "ipython3",
   "version": "3.12.5"
  }
 },
 "nbformat": 4,
 "nbformat_minor": 2
}
