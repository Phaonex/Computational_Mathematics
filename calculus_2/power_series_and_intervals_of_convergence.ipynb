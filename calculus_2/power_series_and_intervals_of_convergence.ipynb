{
 "cells": [
  {
   "cell_type": "code",
   "execution_count": 9,
   "metadata": {
    "vscode": {
     "languageId": "sage"
    }
   },
   "outputs": [],
   "source": [
    "from sage.all import *"
   ]
  },
  {
   "cell_type": "code",
   "execution_count": 26,
   "metadata": {
    "vscode": {
     "languageId": "sage"
    }
   },
   "outputs": [
    {
     "data": {
      "text/html": [
       "<html>\\(\\displaystyle \\left(a, a_{n}, b, c, n, x, y, z, \\mathit{dx}, \\mathit{dy}\\right)\\)</html>"
      ],
      "text/latex": [
       "$\\displaystyle \\left(a, a_{n}, b, c, n, x, y, z, \\mathit{dx}, \\mathit{dy}\\right)$"
      ],
      "text/plain": [
       "(a, a_n, b, c, n, x, y, z, dx, dy)"
      ]
     },
     "execution_count": 26,
     "metadata": {},
     "output_type": "execute_result"
    }
   ],
   "source": [
    "%display latex\n",
    "\n",
    "var('a, a_n, b, c, n, x, y, z, dx, dy')"
   ]
  },
  {
   "cell_type": "code",
   "execution_count": 112,
   "metadata": {
    "vscode": {
     "languageId": "sage"
    }
   },
   "outputs": [],
   "source": [
    "f(x) = x"
   ]
  },
  {
   "cell_type": "code",
   "execution_count": 11,
   "metadata": {
    "vscode": {
     "languageId": "sage"
    }
   },
   "outputs": [],
   "source": [
    "def series(expr, limit=(1,10)): return [*map(lambda n: expr, range(limit[0], limit[1]) )]"
   ]
  },
  {
   "cell_type": "code",
   "execution_count": 61,
   "metadata": {
    "vscode": {
     "languageId": "sage"
    }
   },
   "outputs": [],
   "source": [
    "assume(n == 1)\n",
    "assume(x == 1)"
   ]
  },
  {
   "cell_type": "markdown",
   "metadata": {},
   "source": [
    "# Power Series and Intervals of Convergence"
   ]
  },
  {
   "cell_type": "markdown",
   "metadata": {},
   "source": [
    "## Topics:\n",
    "\n",
    "- Power series.\n",
    "- The radius of convergence of a power series.\n",
    "- The interval of convergence of a power serie.\n",
    "- Differentiation and integration of power series."
   ]
  },
  {
   "cell_type": "markdown",
   "metadata": {},
   "source": [
    "## Definitions and Theorems:"
   ]
  },
  {
   "cell_type": "markdown",
   "metadata": {},
   "source": [
    "- **power series:** Let some text.\n",
    "    - $\\Sigma_{n=0}^∞ b_n x^n = b_0 + b_1 x + b_2 x^2 +... $.\n",
    "    \n",
    "    - $\\Sigma_{n=0}^∞ b_n (x - c)^n = b_0 + b_1 (x - c) + b_2 (x - c)^2 +... $.\n",
    "    \n",
    "    The first series is centered at 0, and the second is centered at $c$.\n"
   ]
  },
  {
   "cell_type": "markdown",
   "metadata": {},
   "source": [
    "- **For a power series centered:** at $c$, one of the following is true.\n",
    "    - a. The series converges only at $c$. The radius of convergence is $R = 0$.\n",
    "    - b. The series converges absolutely for all $x$. The radius of convergence is $R = ∞$.\n",
    "    - c. There exists a real number $R > 0$, the radius of convergence, such that the series converges absolutely for $|x - c| < R$ and diverges for $|x - c|> R$. \n"
   ]
  },
  {
   "cell_type": "markdown",
   "metadata": {},
   "source": [
    "## Example 1:\n",
    "\n",
    "**Some Power Series Examples.**\n",
    "\n",
    "$\\Sigma_{n=0}^∞ \\frac{x^n}{n!} = 1 + x + \\frac{x^2}{2}+ \\frac{x^3}{3!}+$ ... is a power series centered at 0.\n",
    "\n",
    "$\\Sigma_{n=0}^∞ (-1)^n = 1 - (x + 1)+(x +1)^2 -$ ... is a power series centered at -1.\n"
   ]
  },
  {
   "cell_type": "markdown",
   "metadata": {},
   "source": [
    "## Example 2:\n",
    "\n",
    "**The Interval of Convergence.**\n",
    "\n",
    "Find the interval of convergence of the power series $\\Sigma_{n=0}^∞ \\frac{x^n}{n!} = 1 + x + \\frac{x^2}{2!} + \\frac{x^3}{3!}+...+ \\frac{x^n}{n!} +...$.\n",
    "\n",
    "We compute the limit of the quotient of successive terms."
   ]
  },
  {
   "cell_type": "code",
   "execution_count": 21,
   "metadata": {
    "vscode": {
     "languageId": "sage"
    }
   },
   "outputs": [
    {
     "data": {
      "text/html": [
       "<html>\\(\\displaystyle e^{x}\\)</html>"
      ],
      "text/latex": [
       "$\\displaystyle e^{x}$"
      ],
      "text/plain": [
       "e^x"
      ]
     },
     "execution_count": 21,
     "metadata": {},
     "output_type": "execute_result"
    }
   ],
   "source": [
    "sum(x^n/factorial(n), n, 0, oo)"
   ]
  },
  {
   "cell_type": "code",
   "execution_count": 39,
   "metadata": {
    "vscode": {
     "languageId": "sage"
    }
   },
   "outputs": [
    {
     "data": {
      "text/html": [
       "<html>\\(\\displaystyle {\\left| a_{n} + \\frac{1}{a_{n}} \\right|} = 0\\)</html>"
      ],
      "text/latex": [
       "$\\displaystyle {\\left| a_{n} + \\frac{1}{a_{n}} \\right|} = 0$"
      ],
      "text/plain": [
       "abs(a_n + 1/a_n) == 0"
      ]
     },
     "execution_count": 39,
     "metadata": {},
     "output_type": "execute_result"
    }
   ],
   "source": [
    "limit(abs(a_n + 1 / a_n), n=oo) == limit(abs(x^(n+1) / factorial(n + 1) / x^n / factorial(n)), n=oo) == limit(abs(x/(n + 1)), n=oo)"
   ]
  },
  {
   "cell_type": "markdown",
   "metadata": {},
   "source": [
    "The ratio test says that the series converges if this limit is less than 1"
   ]
  },
  {
   "cell_type": "markdown",
   "metadata": {},
   "source": [
    "Hence, the power series converges for all is x. The radius of convergence is $R = ∞$. The interval of convergence $(-∞, ∞)$."
   ]
  },
  {
   "cell_type": "markdown",
   "metadata": {},
   "source": [
    "## Example 3:\n",
    "\n",
    "**Geometric Series.**\n",
    "\n",
    "The geometric series $\\Sigma_{n=0}{∞} x^n = 1 + x + x^2 + x^3 + ... = \\frac{1}{1 -x}$. is a power series centered at 0. Use the ratio test to confirm that this series converges for $|x| > 1$.\n",
    "\n",
    "We compute the limit of the quotient of successive terms."
   ]
  },
  {
   "cell_type": "code",
   "execution_count": 103,
   "metadata": {
    "vscode": {
     "languageId": "sage"
    }
   },
   "outputs": [
    {
     "data": {
      "text/html": [
       "<html>\\(\\displaystyle {\\left| a_{n} + \\frac{1}{a_{n}} \\right|} = x\\)</html>"
      ],
      "text/latex": [
       "$\\displaystyle {\\left| a_{n} + \\frac{1}{a_{n}} \\right|} = x$"
      ],
      "text/plain": [
       "abs(a_n + 1/a_n) == x"
      ]
     },
     "execution_count": 103,
     "metadata": {},
     "output_type": "execute_result"
    }
   ],
   "source": [
    "limit(abs(a_n + 1 / a_n), n=oo) == limit(abs(x^(n+1) / x^n), n=oo) == limit(abs(x), n=oo)"
   ]
  },
  {
   "cell_type": "code",
   "execution_count": 100,
   "metadata": {
    "vscode": {
     "languageId": "sage"
    }
   },
   "outputs": [
    {
     "data": {
      "text/html": [
       "<html>\\(\\displaystyle x \\leq 1\\)</html>"
      ],
      "text/latex": [
       "$\\displaystyle x \\leq 1$"
      ],
      "text/plain": [
       "x <= 1"
      ]
     },
     "execution_count": 100,
     "metadata": {},
     "output_type": "execute_result"
    }
   ],
   "source": [
    "limit(abs(x), n=oo) <= 1"
   ]
  },
  {
   "cell_type": "markdown",
   "metadata": {},
   "source": [
    "The ratio test says that the series converges if this limit is less than 1. That is, the geometric series converges for\n",
    "$|x| < 1$. The radius of convergence of the series is 1. Furthermore, the series diverges at $x = 1$ and $x = -1$, so its\n",
    "interval of convergence is $-1 < x < 1$. "
   ]
  },
  {
   "cell_type": "markdown",
   "metadata": {},
   "source": [
    "## Example 4:\n",
    "\n",
    "**The Interval of Convergence of a Power Series.**\n",
    "\n",
    "Find the interval of convergence of the power series $\\Sigma_{n=0}^∞ n!x^n = 1 + x + 2x^2 + 6x^3 + ...$.\n",
    "\n",
    "We use the ratio test:"
   ]
  },
  {
   "cell_type": "code",
   "execution_count": 110,
   "metadata": {
    "vscode": {
     "languageId": "sage"
    }
   },
   "outputs": [
    {
     "data": {
      "text/html": [
       "<html>\\(\\displaystyle \\left({\\left| a_{n} + \\frac{1}{a_{n}} \\right|} = +\\infty, +\\infty\\right)\\)</html>"
      ],
      "text/latex": [
       "$\\displaystyle \\left({\\left| a_{n} + \\frac{1}{a_{n}} \\right|} = +\\infty, +\\infty\\right)$"
      ],
      "text/plain": [
       "(abs(a_n + 1/a_n) == +Infinity, +Infinity)"
      ]
     },
     "execution_count": 110,
     "metadata": {},
     "output_type": "execute_result"
    }
   ],
   "source": [
    "limit(abs(a_n + 1/a_n), n=oo) == limit(abs(factorial(n + 1) * x^(n+1) / (factorial(n)*x^n)), n=oo), limit(abs((n + 1)*x), n=oo)"
   ]
  },
  {
   "cell_type": "markdown",
   "metadata": {},
   "source": [
    "Hence, the series only converges at 0. The radius of convergence is 0."
   ]
  },
  {
   "cell_type": "markdown",
   "metadata": {},
   "source": [
    "## Example 5:\n",
    "\n",
    "**Differentiation of a Power Series.**\n",
    "\n",
    "The interval of convergence of the power series $ f(x) = \\Sigma_{n=1}^∞ x + \\frac{x^2}{2} + \\frac{x^3}{3} + ...$. is the half-open interval $[-1,1)$,\n",
    "\n",
    "whereas the interval of convergence of its derivative,"
   ]
  },
  {
   "cell_type": "code",
   "execution_count": 126,
   "metadata": {
    "vscode": {
     "languageId": "sage"
    }
   },
   "outputs": [
    {
     "data": {
      "text/html": [
       "<html>\\(\\displaystyle \\left(1 = \\frac{1}{x^{2} - 2 \\, x + 1}, \\left(-1, 1\\right)\\right)\\)</html>"
      ],
      "text/latex": [
       "$\\displaystyle \\left(1 = \\frac{1}{x^{2} - 2 \\, x + 1}, \\left(-1, 1\\right)\\right)$"
      ],
      "text/plain": [
       "(1 == (1/(x^2 - 2*x + 1)), (-1, 1))"
      ]
     },
     "execution_count": 126,
     "metadata": {},
     "output_type": "execute_result"
    }
   ],
   "source": [
    "derivative(f(x)) == sum(n*x^(n-1)/(n), n,1,1) == sum(n*x^(n-1), n,1,oo), (-1, 1)"
   ]
  },
  {
   "cell_type": "markdown",
   "metadata": {},
   "source": [
    "Notice how we lost an endpoint."
   ]
  }
 ],
 "metadata": {
  "kernelspec": {
   "display_name": "SageMath 10.5",
   "language": "sage",
   "name": "SageMath-10.5"
  },
  "language_info": {
   "codemirror_mode": {
    "name": "ipython",
    "version": 3
   },
   "file_extension": ".py",
   "mimetype": "text/x-python",
   "name": "python",
   "nbconvert_exporter": "python",
   "pygments_lexer": "ipython3",
   "version": "3.12.5"
  }
 },
 "nbformat": 4,
 "nbformat_minor": 2
}
