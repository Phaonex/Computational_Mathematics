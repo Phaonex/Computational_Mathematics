{
 "cells": [
  {
   "cell_type": "code",
   "execution_count": 1,
   "metadata": {
    "vscode": {
     "languageId": "sage"
    }
   },
   "outputs": [],
   "source": [
    "from sage.all import *"
   ]
  },
  {
   "cell_type": "code",
   "execution_count": 2,
   "metadata": {
    "vscode": {
     "languageId": "sage"
    }
   },
   "outputs": [
    {
     "data": {
      "text/html": [
       "<html>\\(\\displaystyle \\left(a, a_{n}, b, c, n, x, y, z, \\mathit{dx}, \\mathit{dy}\\right)\\)</html>"
      ],
      "text/latex": [
       "$\\displaystyle \\left(a, a_{n}, b, c, n, x, y, z, \\mathit{dx}, \\mathit{dy}\\right)$"
      ],
      "text/plain": [
       "(a, a_n, b, c, n, x, y, z, dx, dy)"
      ]
     },
     "execution_count": 2,
     "metadata": {},
     "output_type": "execute_result"
    }
   ],
   "source": [
    "%display latex\n",
    "\n",
    "var('a, a_n, b, c, n, x, y, z, dx, dy')"
   ]
  },
  {
   "cell_type": "markdown",
   "metadata": {},
   "source": [
    "# The Ratio and Root Tests"
   ]
  },
  {
   "cell_type": "markdown",
   "metadata": {},
   "source": [
    "## Topics:\n",
    "\n",
    "- The ratio test.\n",
    "- The root test.\n",
    "- Functions represented by series."
   ]
  },
  {
   "cell_type": "markdown",
   "metadata": {},
   "source": [
    "## Definitions and Theorems:"
   ]
  },
  {
   "cell_type": "markdown",
   "metadata": {},
   "source": [
    "- **The ratio test:** Let $\\Sigma a_n$ be a series with nonzero terms.\n",
    "    - If $lim_{n \\to ∞} \\left | \\frac{a_n + 1}{a_n} \\right | < 1$, then the series converges absolutely.\n",
    "\n",
    "    - If $lim_{n \\to ∞} \\left | \\frac{a_n + 1}{a_n} \\right | > 1$, then the series diverges.\n",
    "\n",
    "        The test is inconclusive if $lim_{n \\to ∞} \\left | \\frac{a_n + 1}{a_n} \\right | = 1$.\n"
   ]
  },
  {
   "cell_type": "markdown",
   "metadata": {},
   "source": [
    "## Example 1:\n",
    "\n",
    "Using the Ratio Test.\n",
    "\n",
    "Determine the convergence or divergence of the series $\\Sigma_{n=1}^∞ \\frac{2}{n!}$.\n",
    "\n",
    "We form the absolute value of the quotient of successive terms and take the limit."
   ]
  },
  {
   "cell_type": "code",
   "execution_count": 3,
   "metadata": {
    "vscode": {
     "languageId": "sage"
    }
   },
   "outputs": [
    {
     "data": {
      "text/html": [
       "<html>\\(\\displaystyle \\frac{{\\left| a_{n} + 1 \\right|}}{a_{n}} = 0\\)</html>"
      ],
      "text/latex": [
       "$\\displaystyle \\frac{{\\left| a_{n} + 1 \\right|}}{a_{n}} = 0$"
      ],
      "text/plain": [
       "abs(a_n + 1)/a_n == 0"
      ]
     },
     "execution_count": 3,
     "metadata": {},
     "output_type": "execute_result"
    }
   ],
   "source": [
    "limit(abs(a_n + 1)/a_n, n=oo) == limit(abs(2^(n + 1)/factorial(n + 1)/2^n/factorial(n)), n=oo)== limit(abs(2^n+1 / factorial(n + 1) * 2^n), n=oo) == limit(2/(n + 1), n=oo)"
   ]
  },
  {
   "cell_type": "code",
   "execution_count": 49,
   "metadata": {
    "vscode": {
     "languageId": "sage"
    }
   },
   "outputs": [
    {
     "data": {
      "text/html": [
       "<html>\\(\\displaystyle a_{n} n\\)</html>"
      ],
      "text/latex": [
       "$\\displaystyle a_{n} n$"
      ],
      "text/plain": [
       "a_n*n"
      ]
     },
     "execution_count": 49,
     "metadata": {},
     "output_type": "execute_result"
    }
   ],
   "source": [
    "integrate(a_n, n)"
   ]
  },
  {
   "cell_type": "markdown",
   "metadata": {},
   "source": [
    "Because the limit is $L = 0 < 1$, the series converges by the ratio test."
   ]
  },
  {
   "cell_type": "markdown",
   "metadata": {},
   "source": [
    "## Example 2:\n",
    "\n",
    "Using the Ratio Test.\n",
    "\n",
    "Determine the convergence or divergence of the series $\\Sigma_{n=1}^∞ \\frac{n^n}{n!}$."
   ]
  },
  {
   "cell_type": "code",
   "execution_count": 4,
   "metadata": {
    "vscode": {
     "languageId": "sage"
    }
   },
   "outputs": [
    {
     "data": {
      "text/html": [
       "<html>\\(\\displaystyle \\left(\\frac{{\\left| a_{n} + 1 \\right|}}{a_{n}} = 0, e = +\\infty\\right)\\)</html>"
      ],
      "text/latex": [
       "$\\displaystyle \\left(\\frac{{\\left| a_{n} + 1 \\right|}}{a_{n}} = 0, e = +\\infty\\right)$"
      ],
      "text/plain": [
       "(abs(a_n + 1)/a_n == 0, e == +Infinity)"
      ]
     },
     "execution_count": 4,
     "metadata": {},
     "output_type": "execute_result"
    }
   ],
   "source": [
    "limit(abs(a_n + 1)/a_n, n=oo) == limit(abs((n+1)^(n+1)/factorial(n + 1) / n^n/factorial(n)), n=oo), limit(abs((n + 1)^(n +1) / n^n * (n + 1)), n=oo) == limit(abs((n + 1)^n / n^n), n=oo)"
   ]
  },
  {
   "cell_type": "markdown",
   "metadata": {},
   "source": [
    "To evaluate this limit, we do the following."
   ]
  },
  {
   "cell_type": "code",
   "execution_count": 5,
   "metadata": {
    "vscode": {
     "languageId": "sage"
    }
   },
   "outputs": [
    {
     "data": {
      "text/html": [
       "<html>\\(\\displaystyle e > 1\\)</html>"
      ],
      "text/latex": [
       "$\\displaystyle e > 1$"
      ],
      "text/plain": [
       "e > 1"
      ]
     },
     "execution_count": 5,
     "metadata": {},
     "output_type": "execute_result"
    }
   ],
   "source": [
    "limit(abs((n + 1)^n / n^n), n=oo) == limit(abs((n + 1)/ n)^n, n=oo) == limit((1 + 1/n)^n, n=oo) > 1"
   ]
  },
  {
   "cell_type": "markdown",
   "metadata": {},
   "source": [
    "Because $L = e > 1$, the series diverges by the ratio test."
   ]
  },
  {
   "cell_type": "markdown",
   "metadata": {},
   "source": [
    "## Example 3:\n",
    "\n",
    "Using the Root Test.\n",
    "\n",
    "Determine the convergence or divergence of the series $\\Sigma_{n=1}^∞ \\frac{e^{2n}}{n^n}$.\n",
    "\n",
    "We form the nth root of the absolute value of the nth term and take the limit."
   ]
  },
  {
   "cell_type": "code",
   "execution_count": 26,
   "metadata": {
    "vscode": {
     "languageId": "sage"
    }
   },
   "outputs": [
    {
     "data": {
      "text/html": [
       "<html>\\(\\displaystyle \\left(\\sqrt{{\\left| a_{n} \\right|}} = 0, 0 = 0\\right)\\)</html>"
      ],
      "text/latex": [
       "$\\displaystyle \\left(\\sqrt{{\\left| a_{n} \\right|}} = 0, 0 = 0\\right)$"
      ],
      "text/plain": [
       "(sqrt(abs(a_n)) == 0, 0 == 0)"
      ]
     },
     "execution_count": 26,
     "metadata": {},
     "output_type": "execute_result"
    }
   ],
   "source": [
    "limit((sqrt(abs(a_n))), n=oo) == limit(sqrt(e^(2*n) / n^n), n=oo), limit((e^(2*n) / n^n)^(1/n), n=oo) == limit(e^(2*n/n) / (n^(n/n)), n=oo) == limit(e^2/n, n=oo)"
   ]
  },
  {
   "cell_type": "markdown",
   "metadata": {
    "vscode": {
     "languageId": "sage"
    }
   },
   "source": [
    "Because $L = 0 < 1$, the series converges by the root test."
   ]
  },
  {
   "cell_type": "markdown",
   "metadata": {},
   "source": [
    "## Example 4:\n",
    "\n",
    "A Series with a Variable\n",
    "\n",
    "Find all values of x for which the series $\\Sigma_{n=0}^∞ \\frac{x^n}{n!} = 1 + x + \\frac{x^2}{2!} + \\frac{x^3}{3!} +...$ converges.\n",
    "\n",
    "We consider x fixed and use the ratio test, as follows."
   ]
  },
  {
   "cell_type": "code",
   "execution_count": 40,
   "metadata": {
    "vscode": {
     "languageId": "sage"
    }
   },
   "outputs": [
    {
     "data": {
      "text/html": [
       "<html>\\(\\displaystyle a_{n} + \\frac{1}{a_{n}} = 0\\)</html>"
      ],
      "text/latex": [
       "$\\displaystyle a_{n} + \\frac{1}{a_{n}} = 0$"
      ],
      "text/plain": [
       "a_n + 1/a_n == 0"
      ]
     },
     "execution_count": 40,
     "metadata": {},
     "output_type": "execute_result"
    }
   ],
   "source": [
    "limit(a_n + 1 / a_n, n=oo) == limit(x^(n +1) / factorial(n + 1) / x^n / factorial(n), n=oo) == limit((x^(n + 1) / factorial(n + 1) * x^n) * (factorial(n) / x^n), n=oo) == limit(x/(n + 1))"
   ]
  },
  {
   "cell_type": "markdown",
   "metadata": {},
   "source": [
    "Hence, the series converges for all values of $x$. Furthermore, this series equals its derivative, and hence, the\n",
    "series represents the exponential function, $f(x) = e^x$."
   ]
  },
  {
   "cell_type": "markdown",
   "metadata": {},
   "source": [
    "## Problems:"
   ]
  },
  {
   "cell_type": "markdown",
   "metadata": {},
   "source": [
    "- 1"
   ]
  },
  {
   "cell_type": "markdown",
   "metadata": {},
   "source": [
    "- 2"
   ]
  },
  {
   "cell_type": "markdown",
   "metadata": {},
   "source": [
    "- 3"
   ]
  }
 ],
 "metadata": {
  "kernelspec": {
   "display_name": "SageMath 10.5",
   "language": "sage",
   "name": "SageMath-10.5"
  },
  "language_info": {
   "codemirror_mode": {
    "name": "ipython",
    "version": 3
   },
   "file_extension": ".py",
   "mimetype": "text/x-python",
   "name": "python",
   "nbconvert_exporter": "python",
   "pygments_lexer": "ipython3",
   "version": "3.12.5"
  }
 },
 "nbformat": 4,
 "nbformat_minor": 2
}
