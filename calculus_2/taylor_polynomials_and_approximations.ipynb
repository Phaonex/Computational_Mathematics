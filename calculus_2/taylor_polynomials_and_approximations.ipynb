{
 "cells": [
  {
   "cell_type": "code",
   "execution_count": 110,
   "metadata": {
    "vscode": {
     "languageId": "sage"
    }
   },
   "outputs": [],
   "source": [
    "from sage.all import *"
   ]
  },
  {
   "cell_type": "code",
   "execution_count": 111,
   "metadata": {
    "vscode": {
     "languageId": "sage"
    }
   },
   "outputs": [
    {
     "data": {
      "text/html": [
       "<html>\\(\\displaystyle \\left(a, b, c, n, P, x, y, z, \\mathit{dx}, \\mathit{dy}\\right)\\)</html>"
      ],
      "text/latex": [
       "$\\displaystyle \\left(a, b, c, n, P, x, y, z, \\mathit{dx}, \\mathit{dy}\\right)$"
      ],
      "text/plain": [
       "(a, b, c, n, P, x, y, z, dx, dy)"
      ]
     },
     "execution_count": 111,
     "metadata": {},
     "output_type": "execute_result"
    }
   ],
   "source": [
    "%display latex\n",
    "\n",
    "var('a, b, c, n, P, x, y, z, dx, dy')"
   ]
  },
  {
   "cell_type": "code",
   "execution_count": 112,
   "metadata": {
    "vscode": {
     "languageId": "sage"
    }
   },
   "outputs": [
    {
     "data": {
      "text/html": [
       "<html>\\(\\displaystyle \\left(a_{0}, a_{1}, a_{2}, a_{3}, a_{4}\\right)\\)</html>"
      ],
      "text/latex": [
       "$\\displaystyle \\left(a_{0}, a_{1}, a_{2}, a_{3}, a_{4}\\right)$"
      ],
      "text/plain": [
       "(a0, a1, a2, a3, a4)"
      ]
     },
     "execution_count": 112,
     "metadata": {},
     "output_type": "execute_result"
    }
   ],
   "source": [
    "a_n = SR.var('a', 5)\n",
    "a_n"
   ]
  },
  {
   "cell_type": "code",
   "execution_count": 149,
   "metadata": {
    "vscode": {
     "languageId": "sage"
    }
   },
   "outputs": [
    {
     "data": {
      "text/html": [
       "<html>\\(\\displaystyle \\left(R_{0}, R_{1}, R_{2}, R_{3}, R_{4}\\right)\\)</html>"
      ],
      "text/latex": [
       "$\\displaystyle \\left(R_{0}, R_{1}, R_{2}, R_{3}, R_{4}\\right)$"
      ],
      "text/plain": [
       "(R0, R1, R2, R3, R4)"
      ]
     },
     "execution_count": 149,
     "metadata": {},
     "output_type": "execute_result"
    }
   ],
   "source": [
    "R_n = SR.var('R', 5)\n",
    "R_n"
   ]
  },
  {
   "cell_type": "code",
   "execution_count": 113,
   "metadata": {
    "vscode": {
     "languageId": "sage"
    }
   },
   "outputs": [],
   "source": [
    "def series(expr, limit=(1,10)): return [*map(lambda n: expr, range(limit[0], limit[1]) )]"
   ]
  },
  {
   "cell_type": "markdown",
   "metadata": {},
   "source": [
    "# Taylor Polynomials and Approximations."
   ]
  },
  {
   "cell_type": "markdown",
   "metadata": {},
   "source": [
    "## Topics:\n",
    "\n",
    "- Maclaurin and Taylor polynomials.\n",
    "- Taylor’s theorem with remainder."
   ]
  },
  {
   "cell_type": "markdown",
   "metadata": {},
   "source": [
    "## Definitions and Theorems:"
   ]
  },
  {
   "cell_type": "markdown",
   "metadata": {},
   "source": [
    "- **Maclaurin polynomial:** Let $f$ have n derivatives at 0. The $n^{th}$-degree Maclaurin polynomial for $f$ is \n",
    "\n",
    "$P_n(x) = f(0) + f’(0)x + \\frac{f’’(0)}{2!} x^2 +...+ \\frac{f(n)(0)}{n!} x^n$.\n"
   ]
  },
  {
   "cell_type": "markdown",
   "metadata": {},
   "source": [
    "- **Taylor polynomial:** Let $f$ have n derivatives at c. The $n^{th}$-degree Taylor polynomial for $f$ at c is\n",
    "\n",
    "    $P_n(x) = f(c) + f’(c)(x - c) + \\frac{f’’(0)}{2!}(x - c)^2 +...+ \\frac{f^{(n)} (c)}{n!} (x- c)^n$.\n",
    "\n"
   ]
  },
  {
   "cell_type": "markdown",
   "metadata": {},
   "source": [
    "- **Taylor’s theorem:** Let $f$ be differentiable through order n + 1 on an interval containing c. Then, there exist a number z between x and c such that\n",
    "\n",
    "    $f(x) = f(c) + f‘(c)(x - c) + \\frac{f‘‘(c)}{2!}(x- c)^2 +...+ \\frac{f^{(n)} (c)}{n!}(x - c)^n + R_n (x)$,\n",
    "\n",
    "    wehere $R_n(x) = \\frac{f^{(n+1) (z)}}{(n+1)!}(x - c)^{n+1}$. That is $|R_n(x)| ≤ \\frac|x -c|^{n+1}{(n + 1)!}$ $max|f^{n+1} (z)|$."
   ]
  },
  {
   "cell_type": "markdown",
   "metadata": {},
   "source": [
    "## Example 1:\n",
    "\n",
    "Finding a Maclaurin Polynomial.\n",
    "\n",
    "Find the first-degree Maclaurin polynomial for $f(x) = e^x$.\n",
    "\n",
    "The polynomial $P_1(x) = a_0 + a_1 x$. satisfies $a_0 = f(0) = e^0 = 1 and a_1 = f’(0) = e^0 = 1$. Hence, $P_1(x) = 1 + x$.\n",
    "\n",
    "This polynomial agrees with $f(x) = e^x$ at the point (0,1) and agrees with the derivative at that point. Notice\n",
    "that this polynomial is nothing more than the tangent line to the curve at the point $x = 0$."
   ]
  },
  {
   "cell_type": "code",
   "execution_count": 225,
   "metadata": {
    "vscode": {
     "languageId": "sage"
    }
   },
   "outputs": [
    {
     "data": {
      "image/png": "[encoded data removed]",
      "text/plain": [
       "Graphics object consisting of 3 graphics primitives"
      ]
     },
     "execution_count": 225,
     "metadata": {},
     "output_type": "execute_result"
    }
   ],
   "source": [
    "plot(e^x)+plot([0,1])\n"
   ]
  },
  {
   "cell_type": "markdown",
   "metadata": {},
   "source": [
    "## Example 2:\n",
    "\n",
    "Finding a Taylor Polynomial.\n",
    "\n",
    "Find the third-degree Taylor polynomial for $f(x = lnx)$ centered at $c = 1$.\n",
    "\n",
    "We evaluate the function and its derivatives at 1."
   ]
  },
  {
   "cell_type": "code",
   "execution_count": 115,
   "metadata": {
    "vscode": {
     "languageId": "sage"
    }
   },
   "outputs": [],
   "source": [
    "c = 1"
   ]
  },
  {
   "cell_type": "code",
   "execution_count": 116,
   "metadata": {
    "vscode": {
     "languageId": "sage"
    }
   },
   "outputs": [],
   "source": [
    "f(x) = log(x)"
   ]
  },
  {
   "cell_type": "code",
   "execution_count": 117,
   "metadata": {
    "vscode": {
     "languageId": "sage"
    }
   },
   "outputs": [
    {
     "data": {
      "text/html": [
       "<html>\\(\\displaystyle \\left(\\log\\left(x\\right) = -\\frac{1}{x^{2}}, 0\\right)\\)</html>"
      ],
      "text/latex": [
       "$\\displaystyle \\left(\\log\\left(x\\right) = -\\frac{1}{x^{2}}, 0\\right)$"
      ],
      "text/plain": [
       "(log(x) == -1/x^2, 0)"
      ]
     },
     "execution_count": 117,
     "metadata": {},
     "output_type": "execute_result"
    }
   ],
   "source": [
    "f(x) == derivative(1/x), derivative(log(1))"
   ]
  },
  {
   "cell_type": "code",
   "execution_count": 118,
   "metadata": {
    "vscode": {
     "languageId": "sage"
    }
   },
   "outputs": [
    {
     "data": {
      "text/html": [
       "<html>\\(\\displaystyle \\left(\\log\\left(x\\right) = \\frac{2}{x^{3}}, \\frac{1}{x^{2} \\log\\left(x\\right)^{2}} + \\frac{2}{x^{2} \\log\\left(x\\right)^{3}}\\right)\\)</html>"
      ],
      "text/latex": [
       "$\\displaystyle \\left(\\log\\left(x\\right) = \\frac{2}{x^{3}}, \\frac{1}{x^{2} \\log\\left(x\\right)^{2}} + \\frac{2}{x^{2} \\log\\left(x\\right)^{3}}\\right)$"
      ],
      "text/plain": [
       "(log(x) == 2/x^3, 1/(x^2*log(x)^2) + 2/(x^2*log(x)^3))"
      ]
     },
     "execution_count": 118,
     "metadata": {},
     "output_type": "execute_result"
    }
   ],
   "source": [
    "f(x) == derivative(derivative(1/x)), derivative(derivative(1/log(x), x, 1))"
   ]
  },
  {
   "cell_type": "code",
   "execution_count": 119,
   "metadata": {
    "vscode": {
     "languageId": "sage"
    }
   },
   "outputs": [
    {
     "data": {
      "text/html": [
       "<html>\\(\\displaystyle \\left(\\log\\left(x\\right) = -\\frac{6}{x^{4}}, -\\frac{2}{x^{3} \\log\\left(x\\right)^{2}} - \\frac{6}{x^{3} \\log\\left(x\\right)^{3}} - \\frac{6}{x^{3} \\log\\left(x\\right)^{4}}\\right)\\)</html>"
      ],
      "text/latex": [
       "$\\displaystyle \\left(\\log\\left(x\\right) = -\\frac{6}{x^{4}}, -\\frac{2}{x^{3} \\log\\left(x\\right)^{2}} - \\frac{6}{x^{3} \\log\\left(x\\right)^{3}} - \\frac{6}{x^{3} \\log\\left(x\\right)^{4}}\\right)$"
      ],
      "text/plain": [
       "(log(x) == -6/x^4, -2/(x^3*log(x)^2) - 6/(x^3*log(x)^3) - 6/(x^3*log(x)^4))"
      ]
     },
     "execution_count": 119,
     "metadata": {},
     "output_type": "execute_result"
    }
   ],
   "source": [
    "f(x) == derivative(derivative(derivative(1/x))), derivative(derivative(derivative(1/log(x)), x, 1))"
   ]
  },
  {
   "cell_type": "code",
   "execution_count": 120,
   "metadata": {
    "vscode": {
     "languageId": "sage"
    }
   },
   "outputs": [],
   "source": [
    "fn(x) = derivative(derivative(derivative(1/log(x)), x, 1))"
   ]
  },
  {
   "cell_type": "code",
   "execution_count": 121,
   "metadata": {
    "vscode": {
     "languageId": "sage"
    }
   },
   "outputs": [
    {
     "data": {
      "text/html": [
       "<html>\\(\\displaystyle -\\frac{1}{4 \\, \\log\\left(2\\right)^{2}} - \\frac{3}{4 \\, \\log\\left(2\\right)^{3}} - \\frac{3}{4 \\, \\log\\left(2\\right)^{4}}\\)</html>"
      ],
      "text/latex": [
       "$\\displaystyle -\\frac{1}{4 \\, \\log\\left(2\\right)^{2}} - \\frac{3}{4 \\, \\log\\left(2\\right)^{3}} - \\frac{3}{4 \\, \\log\\left(2\\right)^{4}}$"
      ],
      "text/plain": [
       "-1/4/log(2)^2 - 3/4/log(2)^3 - 3/4/log(2)^4"
      ]
     },
     "execution_count": 121,
     "metadata": {},
     "output_type": "execute_result"
    }
   ],
   "source": [
    "fn(2)"
   ]
  },
  {
   "cell_type": "markdown",
   "metadata": {},
   "source": [
    "Next, we apply the definition of the Taylor polynomial."
   ]
  },
  {
   "cell_type": "code",
   "execution_count": 128,
   "metadata": {
    "vscode": {
     "languageId": "sage"
    }
   },
   "outputs": [],
   "source": [
    "P(x) = f(c) + derivative(f(c)*(x - c)) + (derivative(derivative(f(c))) / factorial(2)) * (x - c)^2 + (derivative(derivative(derivative(f(c)))) / factorial(3)) * (x - c)^2"
   ]
  },
  {
   "cell_type": "code",
   "execution_count": 130,
   "metadata": {
    "vscode": {
     "languageId": "sage"
    }
   },
   "outputs": [
    {
     "data": {
      "text/html": [
       "<html>\\(\\displaystyle 0 = 0\\)</html>"
      ],
      "text/latex": [
       "$\\displaystyle 0 = 0$"
      ],
      "text/plain": [
       "0 == 0"
      ]
     },
     "execution_count": 130,
     "metadata": {},
     "output_type": "execute_result"
    }
   ],
   "source": [
    "P(x) == P(1)"
   ]
  },
  {
   "cell_type": "markdown",
   "metadata": {},
   "source": [
    "From the graph, you can see that the polynomial is a good approximation of the function near the point $c = 1$."
   ]
  },
  {
   "cell_type": "code",
   "execution_count": 226,
   "metadata": {
    "vscode": {
     "languageId": "sage"
    }
   },
   "outputs": [
    {
     "name": "stdout",
     "output_type": "stream",
     "text": [
      "verbose 0 (3954: plot.py, generate_plot_points) WARNING: When plotting, failed to evaluate function at 100 points.\n",
      "verbose 0 (3954: plot.py, generate_plot_points) Last error message: 'Unable to compute f(-0.009000909751483103)'\n"
     ]
    },
    {
     "data": {
      "image/png": "[encoded data removed]",
      "text/plain": [
       "Graphics object consisting of 3 graphics primitives"
      ]
     },
     "execution_count": 226,
     "metadata": {},
     "output_type": "execute_result"
    }
   ],
   "source": [
    "plot(f(x))+plot([0,1])"
   ]
  },
  {
   "cell_type": "code",
   "execution_count": 131,
   "metadata": {
    "vscode": {
     "languageId": "sage"
    }
   },
   "outputs": [
    {
     "data": {
      "text/html": [
       "<html>\\(\\displaystyle \\left(0 = 0, \\frac{1}{3} \\, {\\left(x - 1\\right)}^{3} - \\frac{1}{2} \\, {\\left(x - 1\\right)}^{2} + x - 1\\right)\\)</html>"
      ],
      "text/latex": [
       "$\\displaystyle \\left(0 = 0, \\frac{1}{3} \\, {\\left(x - 1\\right)}^{3} - \\frac{1}{2} \\, {\\left(x - 1\\right)}^{2} + x - 1\\right)$"
      ],
      "text/plain": [
       "(0 == 0, 1/3*(x - 1)^3 - 1/2*(x - 1)^2 + x - 1)"
      ]
     },
     "execution_count": 131,
     "metadata": {},
     "output_type": "execute_result"
    }
   ],
   "source": [
    "P(x) == P(1), (x - 1) - 1/2 * (x -1)^2 + 1/3 * (x -1)^3"
   ]
  },
  {
   "cell_type": "markdown",
   "metadata": {},
   "source": [
    "## Example 3:\n",
    "\n",
    "Using Taylor’s Theorem.\n",
    "\n",
    "The third-degree Maclaurin polynomial for $ f(x) = sin x$ is $P(x) = x - \\frac{x^3}{3!}$. Use this polynomial to approximate $sin(0.1)$.\n",
    "Then, use Taylor’s theorem to estimate the accuracy of this approximation. \n",
    "\n",
    "Substituting $x = 0.1$ into the polynomial, the approximation is $sin(0.1) ≈ P_3(0.1) = 0.1 - \\frac{(0.1)^3}{3!} ≈ 0.099833$."
   ]
  },
  {
   "cell_type": "markdown",
   "metadata": {},
   "source": [
    "Taylor’s theorem says that,"
   ]
  },
  {
   "cell_type": "code",
   "execution_count": 151,
   "metadata": {
    "vscode": {
     "languageId": "sage"
    }
   },
   "outputs": [],
   "source": [
    "assume(R_n[3] == 0.1)"
   ]
  },
  {
   "cell_type": "markdown",
   "metadata": {},
   "source": [
    "we have the following error bound:"
   ]
  },
  {
   "cell_type": "code",
   "execution_count": 159,
   "metadata": {
    "vscode": {
     "languageId": "sage"
    }
   },
   "outputs": [
    {
     "data": {
      "text/html": [
       "<html>\\(\\displaystyle \\left({\\left| R_{3} \\right|} = \\left(4.16666666666667 \\times 10^{-6}\\right) \\, {\\left| \\sin\\left(z\\right) \\right|}, 4.00000000000000 \\times 10^{-6}\\right)\\)</html>"
      ],
      "text/latex": [
       "$\\displaystyle \\left({\\left| R_{3} \\right|} = \\left(4.16666666666667 \\times 10^{-6}\\right) \\, {\\left| \\sin\\left(z\\right) \\right|}, 4.00000000000000 \\times 10^{-6}\\right)$"
      ],
      "text/plain": [
       "(abs(R3) == (4.16666666666667e-6)*abs(sin(z)), 4.00000000000000e-6)"
      ]
     },
     "execution_count": 159,
     "metadata": {},
     "output_type": "execute_result"
    }
   ],
   "source": [
    "abs(R_n[3]) == abs((sin(z) / factorial(4))*(0.1)^4) <= (1/factorial(4)) * (0.1)^4 == (0.0001)/factorial(4), 0.000004"
   ]
  },
  {
   "cell_type": "markdown",
   "metadata": {},
   "source": [
    "You can verify that the actual error is"
   ]
  },
  {
   "cell_type": "code",
   "execution_count": 166,
   "metadata": {
    "vscode": {
     "languageId": "sage"
    }
   },
   "outputs": [
    {
     "data": {
      "text/html": [
       "<html>\\(\\displaystyle {\\left| \\sin\\left(x\\right) \\right|} = \\left(4.20000000000000 \\times 10^{-7}\\right)\\)</html>"
      ],
      "text/latex": [
       "$\\displaystyle {\\left| \\sin\\left(x\\right) \\right|} = \\left(4.20000000000000 \\times 10^{-7}\\right)$"
      ],
      "text/plain": [
       "abs(sin(x)) == (4.20000000000000e-7)"
      ]
     },
     "execution_count": 166,
     "metadata": {},
     "output_type": "execute_result"
    }
   ],
   "source": [
    "abs(P(0.1) - sin(x)) == 0.00000042"
   ]
  },
  {
   "cell_type": "code",
   "execution_count": 251,
   "metadata": {
    "vscode": {
     "languageId": "sage"
    }
   },
   "outputs": [
    {
     "data": {
      "text/html": [
       "<html>\\(\\displaystyle \\left[x - 1, -\\frac{1}{2} \\, x^{2} + 2 \\, x - 1, -\\frac{1}{6} \\, x^{3} - \\frac{1}{2} \\, x^{2} + 3 \\, x - 1, -\\frac{1}{24} \\, x^{4} - \\frac{1}{6} \\, x^{3} - \\frac{1}{2} \\, x^{2} + 4 \\, x - 1, -\\frac{1}{120} \\, x^{5} - \\frac{1}{24} \\, x^{4} - \\frac{1}{6} \\, x^{3} - \\frac{1}{2} \\, x^{2} + 5 \\, x - 1, -\\frac{1}{720} \\, x^{6} - \\frac{1}{120} \\, x^{5} - \\frac{1}{24} \\, x^{4} - \\frac{1}{6} \\, x^{3} - \\frac{1}{2} \\, x^{2} + 6 \\, x - 1, -\\frac{1}{5040} \\, x^{7} - \\frac{1}{720} \\, x^{6} - \\frac{1}{120} \\, x^{5} - \\frac{1}{24} \\, x^{4} - \\frac{1}{6} \\, x^{3} - \\frac{1}{2} \\, x^{2} + 7 \\, x - 1, -\\frac{1}{40320} \\, x^{8} - \\frac{1}{5040} \\, x^{7} - \\frac{1}{720} \\, x^{6} - \\frac{1}{120} \\, x^{5} - \\frac{1}{24} \\, x^{4} - \\frac{1}{6} \\, x^{3} - \\frac{1}{2} \\, x^{2} + 8 \\, x - 1, -\\frac{1}{362880} \\, x^{9} - \\frac{1}{40320} \\, x^{8} - \\frac{1}{5040} \\, x^{7} - \\frac{1}{720} \\, x^{6} - \\frac{1}{120} \\, x^{5} - \\frac{1}{24} \\, x^{4} - \\frac{1}{6} \\, x^{3} - \\frac{1}{2} \\, x^{2} + 9 \\, x - 1\\right]\\)</html>"
      ],
      "text/latex": [
       "$\\displaystyle \\left[x - 1, -\\frac{1}{2} \\, x^{2} + 2 \\, x - 1, -\\frac{1}{6} \\, x^{3} - \\frac{1}{2} \\, x^{2} + 3 \\, x - 1, -\\frac{1}{24} \\, x^{4} - \\frac{1}{6} \\, x^{3} - \\frac{1}{2} \\, x^{2} + 4 \\, x - 1, -\\frac{1}{120} \\, x^{5} - \\frac{1}{24} \\, x^{4} - \\frac{1}{6} \\, x^{3} - \\frac{1}{2} \\, x^{2} + 5 \\, x - 1, -\\frac{1}{720} \\, x^{6} - \\frac{1}{120} \\, x^{5} - \\frac{1}{24} \\, x^{4} - \\frac{1}{6} \\, x^{3} - \\frac{1}{2} \\, x^{2} + 6 \\, x - 1, -\\frac{1}{5040} \\, x^{7} - \\frac{1}{720} \\, x^{6} - \\frac{1}{120} \\, x^{5} - \\frac{1}{24} \\, x^{4} - \\frac{1}{6} \\, x^{3} - \\frac{1}{2} \\, x^{2} + 7 \\, x - 1, -\\frac{1}{40320} \\, x^{8} - \\frac{1}{5040} \\, x^{7} - \\frac{1}{720} \\, x^{6} - \\frac{1}{120} \\, x^{5} - \\frac{1}{24} \\, x^{4} - \\frac{1}{6} \\, x^{3} - \\frac{1}{2} \\, x^{2} + 8 \\, x - 1, -\\frac{1}{362880} \\, x^{9} - \\frac{1}{40320} \\, x^{8} - \\frac{1}{5040} \\, x^{7} - \\frac{1}{720} \\, x^{6} - \\frac{1}{120} \\, x^{5} - \\frac{1}{24} \\, x^{4} - \\frac{1}{6} \\, x^{3} - \\frac{1}{2} \\, x^{2} + 9 \\, x - 1\\right]$"
      ],
      "text/plain": [
       "[x - 1,\n",
       " -1/2*x^2 + 2*x - 1,\n",
       " -1/6*x^3 - 1/2*x^2 + 3*x - 1,\n",
       " -1/24*x^4 - 1/6*x^3 - 1/2*x^2 + 4*x - 1,\n",
       " -1/120*x^5 - 1/24*x^4 - 1/6*x^3 - 1/2*x^2 + 5*x - 1,\n",
       " -1/720*x^6 - 1/120*x^5 - 1/24*x^4 - 1/6*x^3 - 1/2*x^2 + 6*x - 1,\n",
       " -1/5040*x^7 - 1/720*x^6 - 1/120*x^5 - 1/24*x^4 - 1/6*x^3 - 1/2*x^2 + 7*x - 1,\n",
       " -1/40320*x^8 - 1/5040*x^7 - 1/720*x^6 - 1/120*x^5 - 1/24*x^4 - 1/6*x^3 - 1/2*x^2 + 8*x - 1,\n",
       " -1/362880*x^9 - 1/40320*x^8 - 1/5040*x^7 - 1/720*x^6 - 1/120*x^5 - 1/24*x^4 - 1/6*x^3 - 1/2*x^2 + 9*x - 1]"
      ]
     },
     "execution_count": 251,
     "metadata": {},
     "output_type": "execute_result"
    }
   ],
   "source": [
    "data = [*map(lambda i: sum(x - (x^n/factorial(n)),n,0,i),range(1,10))]\n",
    "data"
   ]
  },
  {
   "cell_type": "code",
   "execution_count": 252,
   "metadata": {
    "vscode": {
     "languageId": "sage"
    }
   },
   "outputs": [
    {
     "data": {
      "image/png": "[encoded data removed]",
      "text/plain": [
       "Graphics object consisting of 10 graphics primitives"
      ]
     },
     "execution_count": 252,
     "metadata": {},
     "output_type": "execute_result"
    }
   ],
   "source": [
    "plot(data, xmin=-10, xmax=10) + plot(sin(x),  color=\"black\", legend_label='sin(x)', xmin=-10, xmax=10) "
   ]
  }
 ],
 "metadata": {
  "kernelspec": {
   "display_name": "SageMath 10.5",
   "language": "sage",
   "name": "SageMath-10.5"
  },
  "language_info": {
   "codemirror_mode": {
    "name": "ipython",
    "version": 3
   },
   "file_extension": ".py",
   "mimetype": "text/x-python",
   "name": "python",
   "nbconvert_exporter": "python",
   "pygments_lexer": "ipython3",
   "version": "3.12.5"
  }
 },
 "nbformat": 4,
 "nbformat_minor": 2
}
