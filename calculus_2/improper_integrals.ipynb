{
 "cells": [
  {
   "cell_type": "code",
   "execution_count": 1,
   "metadata": {},
   "outputs": [],
   "source": [
    "from sage.all import *"
   ]
  },
  {
   "cell_type": "code",
   "execution_count": 58,
   "metadata": {},
   "outputs": [
    {
     "data": {
      "text/html": [
       "<html>\\(\\displaystyle \\left(a, b, c, p, x, y, z, \\mathit{dx}, \\mathit{dy}\\right)\\)</html>"
      ],
      "text/latex": [
       "$\\displaystyle \\left(a, b, c, p, x, y, z, \\mathit{dx}, \\mathit{dy}\\right)$"
      ],
      "text/plain": [
       "(a, b, c, p, x, y, z, dx, dy)"
      ]
     },
     "execution_count": 58,
     "metadata": {},
     "output_type": "execute_result"
    }
   ],
   "source": [
    "%display latex\n",
    "\n",
    "var('a, b, c, p, x, y, z, dx, dy')"
   ]
  },
  {
   "cell_type": "markdown",
   "metadata": {},
   "source": [
    "# Improper Integrals"
   ]
  },
  {
   "cell_type": "markdown",
   "metadata": {},
   "source": [
    "## Topics:\n",
    "\n",
    "- Improper integrals with infinite limits of integration.\n",
    "- Improper integrals with infinite discontinuities.\n",
    "- A special type of improper integral."
   ]
  },
  {
   "cell_type": "markdown",
   "metadata": {},
   "source": [
    "## Definitions and Theorems:"
   ]
  },
  {
   "cell_type": "markdown",
   "metadata": {},
   "source": [
    "- **If f is continuous on the interval:** $[a, ∞)$, then $\\int_a^∞ f(x)dx = lim_{b \\to ∞} \\int_a^b f(x)dx$."
   ]
  },
  {
   "cell_type": "markdown",
   "metadata": {},
   "source": [
    "- **If f is continuous on the interval:** $[-∞, b)$, then $\\int_{-∞}^b f(x)dx = lim_{a \\to ∞} \\int_a^b f(x)dx$."
   ]
  },
  {
   "cell_type": "markdown",
   "metadata": {},
   "source": [
    "- **If f is continuous on the interval:** $[-∞, ∞)$, then $\\int_{-∞}^∞ f(x)dx = lim_{-∞ \\to c} \\int_c^∞ f(x)dx$."
   ]
  },
  {
   "cell_type": "markdown",
   "metadata": {},
   "source": [
    "- **If f is continuous on the interval:** $[-∞, ∞)$, and has an infinite discontinuity at b, then $\\int_{-∞}^∞ f(x)dx =  \\int_{-∞}^{c} f(x)dx + \\int_c^∞ f(x)dx$. There are similar definitions for discontinuities at the left-hand endpoint and in the interior"
   ]
  },
  {
   "cell_type": "markdown",
   "metadata": {},
   "source": [
    "- **Theorem:** $\\int_1^∞ \\frac{1}{x^p}dx = \\frac{1}{p - 1}, p > 1$ The integral diverges if $p ≤ 1$."
   ]
  },
  {
   "cell_type": "markdown",
   "metadata": {},
   "source": [
    "## Example 1:\n",
    "\n",
    "A Divergent Improper Integral.\n",
    "\n",
    "Evaluate the integral $\\int_1^∞ \\frac{1}{x}dx$."
   ]
  },
  {
   "cell_type": "code",
   "execution_count": 8,
   "metadata": {},
   "outputs": [
    {
     "data": {
      "text/html": [
       "<html>\\(\\displaystyle \\left(+\\infty = +\\infty, \\log\\left(x\\right) = +\\infty\\right)\\)</html>"
      ],
      "text/latex": [
       "$\\displaystyle \\left(+\\infty = +\\infty, \\log\\left(x\\right) = +\\infty\\right)$"
      ],
      "text/plain": [
       "(+Infinity == +Infinity, log(x) == +Infinity)"
      ]
     },
     "execution_count": 8,
     "metadata": {},
     "output_type": "execute_result"
    }
   ],
   "source": [
    "limit(integrate(1/x, x), x=oo) == limit(integral(1/x, x), x=oo), limit(log(x), b=oo) == limit(log(b) - log(1), b=oo)"
   ]
  },
  {
   "cell_type": "markdown",
   "metadata": {},
   "source": [
    "## Example 2:\n",
    "\n",
    "Convergent Improper Integral.\n",
    "\n",
    "Evaluate the integral $\\int_1^∞ \\frac{1}{x^2}dx$."
   ]
  },
  {
   "cell_type": "code",
   "execution_count": 28,
   "metadata": {},
   "outputs": [
    {
     "data": {
      "text/html": [
       "<html>\\(\\displaystyle \\left(-\\frac{1}{x} = -\\frac{1}{x}, -\\frac{1}{x} = -\\frac{1}{x}, 1\\right)\\)</html>"
      ],
      "text/latex": [
       "$\\displaystyle \\left(-\\frac{1}{x} = -\\frac{1}{x}, -\\frac{1}{x} = -\\frac{1}{x}, 1\\right)$"
      ],
      "text/plain": [
       "(-1/x == -1/x, -1/x == -1/x, 1)"
      ]
     },
     "execution_count": 28,
     "metadata": {},
     "output_type": "execute_result"
    }
   ],
   "source": [
    "limit(integrate(1/x^2, x),b=oo) == limit(integral(1/x^2, x), b=oo), limit(integral(x^(-2), x), b=oo) == limit((-1/x), b=oo), limit((-1/b) - (-1/1), b=oo)"
   ]
  },
  {
   "cell_type": "markdown",
   "metadata": {},
   "source": [
    "## Example 3:\n",
    "\n",
    "An Infinite Discontinuity at an Endpoint.\n",
    "\n",
    "Evaluate the integral $\\int_0^1 \\frac{1}{(\\sqrt{x})^3}dx$."
   ]
  },
  {
   "cell_type": "code",
   "execution_count": 56,
   "metadata": {},
   "outputs": [
    {
     "data": {
      "text/html": [
       "<html>\\(\\displaystyle \\left(\\frac{1}{x^{\\frac{3}{2}}} = \\frac{3}{2} \\, x^{\\frac{2}{3}}, \\frac{3}{2} \\, x^{\\frac{2}{3}} = \\left(\\frac{3}{2}\\right)\\right)\\)</html>"
      ],
      "text/latex": [
       "$\\displaystyle \\left(\\frac{1}{x^{\\frac{3}{2}}} = \\frac{3}{2} \\, x^{\\frac{2}{3}}, \\frac{3}{2} \\, x^{\\frac{2}{3}} = \\left(\\frac{3}{2}\\right)\\right)$"
      ],
      "text/plain": [
       "(x^(-3/2) == 3/2*x^(2/3), 3/2*x^(2/3) == (3/2))"
      ]
     },
     "execution_count": 56,
     "metadata": {},
     "output_type": "execute_result"
    }
   ],
   "source": [
    "integral(1/sqrt(x)^3, (b,0,1)) == limit(integral(x^(-1/3), x), b=0), limit((3/2)*x^(2/3), b=1) == limit(3/2 * (1 - b^(2/3)), b=0)"
   ]
  },
  {
   "cell_type": "markdown",
   "metadata": {},
   "source": [
    "## Example 4:\n",
    "\n",
    "A Special Improper Integral.\n",
    "\n",
    "Show that $\\int_1^∞ \\frac{1}{x^p}dx = \\frac{1}{p - 1}, p > 1$. If $p ≤ 1$, the integral diverges.\n"
   ]
  },
  {
   "cell_type": "code",
   "execution_count": 93,
   "metadata": {},
   "outputs": [],
   "source": [
    "assume(p == 1)"
   ]
  },
  {
   "cell_type": "code",
   "execution_count": 100,
   "metadata": {},
   "outputs": [
    {
     "data": {
      "text/html": [
       "<html>\\(\\displaystyle -\\frac{b^{-p + 1}}{p - 1} + \\frac{1}{p - 1}\\)</html>"
      ],
      "text/latex": [
       "$\\displaystyle -\\frac{b^{-p + 1}}{p - 1} + \\frac{1}{p - 1}$"
      ],
      "text/plain": [
       "-b^(-p + 1)/(p - 1) + 1/(p - 1)"
      ]
     },
     "execution_count": 100,
     "metadata": {},
     "output_type": "execute_result"
    }
   ],
   "source": [
    "integral(1/x^p, x, a=1, b=b, algorithm=\"giac\")"
   ]
  },
  {
   "cell_type": "code",
   "execution_count": 108,
   "metadata": {},
   "outputs": [
    {
     "data": {
      "text/html": [
       "<html>\\(\\displaystyle \\left(\\log\\left(p\\right) = \\log\\left(p\\right), -\\frac{x^{-p + 1}}{p} + 1 = -p x^{-p + 1} + 1, -p {\\left(\\frac{1}{b^{p}} - 1\\right)}\\right)\\)</html>"
      ],
      "text/latex": [
       "$\\displaystyle \\left(\\log\\left(p\\right) = \\log\\left(p\\right), -\\frac{x^{-p + 1}}{p} + 1 = -p x^{-p + 1} + 1, -p {\\left(\\frac{1}{b^{p}} - 1\\right)}\\right)$"
      ],
      "text/plain": [
       "(log(p) == log(p), -x^(-p + 1)/p + 1 == -p*x^(-p + 1) + 1, -p*(1/b^p - 1))"
      ]
     },
     "execution_count": 108,
     "metadata": {},
     "output_type": "execute_result"
    }
   ],
   "source": [
    "integral(1/x^p, x, a=1, b=p) == integral(x^(-p), x, a=1, b=p), limit(x^(-p+1) / -p + 1, b=1) == 1/1 - p * limit(1/x^(p-1), b=1), 1/1 - p * (1/b^p-1) - 1"
   ]
  },
  {
   "cell_type": "markdown",
   "metadata": {},
   "source": [
    "## Problems:"
   ]
  },
  {
   "cell_type": "markdown",
   "metadata": {},
   "source": [
    "- 1"
   ]
  },
  {
   "cell_type": "markdown",
   "metadata": {},
   "source": [
    "- 2"
   ]
  },
  {
   "cell_type": "markdown",
   "metadata": {},
   "source": [
    "- 3"
   ]
  }
 ],
 "metadata": {
  "kernelspec": {
   "display_name": "SageMath 10.5",
   "language": "sage",
   "name": "SageMath-10.5"
  },
  "language_info": {
   "codemirror_mode": {
    "name": "ipython",
    "version": 3
   },
   "file_extension": ".py",
   "mimetype": "text/x-python",
   "name": "python",
   "nbconvert_exporter": "python",
   "pygments_lexer": "ipython3",
   "version": "3.12.5"
  }
 },
 "nbformat": 4,
 "nbformat_minor": 2
}
