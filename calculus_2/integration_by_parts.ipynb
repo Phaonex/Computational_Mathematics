{
 "cells": [
  {
   "cell_type": "code",
   "execution_count": 1,
   "metadata": {},
   "outputs": [],
   "source": [
    "from sage.all import *"
   ]
  },
  {
   "cell_type": "code",
   "execution_count": 60,
   "metadata": {},
   "outputs": [
    {
     "data": {
      "text/html": [
       "<html>\\(\\displaystyle \\left(a, A, b, c, C, x, y, z, \\mathit{dx}, \\mathit{dy}\\right)\\)</html>"
      ],
      "text/latex": [
       "$\\displaystyle \\left(a, A, b, c, C, x, y, z, \\mathit{dx}, \\mathit{dy}\\right)$"
      ],
      "text/plain": [
       "(a, A, b, c, C, x, y, z, dx, dy)"
      ]
     },
     "execution_count": 60,
     "metadata": {},
     "output_type": "execute_result"
    }
   ],
   "source": [
    "%display latex\n",
    "\n",
    "var('a, A, b, c, C, x, y, z, dx, dy')"
   ]
  },
  {
   "cell_type": "code",
   "execution_count": 3,
   "metadata": {},
   "outputs": [
    {
     "data": {
      "text/html": [
       "<html>\\(\\displaystyle \\left(m_{0}, m_{1}, m_{2}, m_{3}, m_{4}\\right)\\)</html>"
      ],
      "text/latex": [
       "$\\displaystyle \\left(m_{0}, m_{1}, m_{2}, m_{3}, m_{4}\\right)$"
      ],
      "text/plain": [
       "(m0, m1, m2, m3, m4)"
      ]
     },
     "execution_count": 3,
     "metadata": {},
     "output_type": "execute_result"
    }
   ],
   "source": [
    "SR.var('m', 5)"
   ]
  },
  {
   "cell_type": "code",
   "execution_count": 4,
   "metadata": {},
   "outputs": [],
   "source": [
    "f = 3*x^2 - x^2 - 10*x\n",
    "g = -x^2 + 2*x"
   ]
  },
  {
   "cell_type": "markdown",
   "metadata": {},
   "source": [
    "# Integration by Parts"
   ]
  },
  {
   "cell_type": "markdown",
   "metadata": {},
   "source": [
    "## Topics:\n",
    "\n",
    "- Review of integration formulas.\n",
    "- Integration by parts.\n",
    "- Applications."
   ]
  },
  {
   "cell_type": "markdown",
   "metadata": {},
   "source": [
    "## Definitions and Theorems:"
   ]
  },
  {
   "cell_type": "markdown",
   "metadata": {},
   "source": [
    "- **integration by parts:**\n",
    "\n",
    "    $\\int udv = uv - \\int v du$.\n",
    "\n",
    "- The integral of the logarithmic function is:\n",
    "\n",
    "$\\int ln x dx = x ln x - x + C$."
   ]
  },
  {
   "cell_type": "markdown",
   "metadata": {},
   "source": [
    "## Example 1:\n",
    "\n",
    "Evaluating Integrals.\n",
    "\n",
    "Although the following two integrals seem similar, their solutions are quite different. The first is solved by\n",
    "substitution, whereas the second is a formula involving the inverse sine function."
   ]
  },
  {
   "cell_type": "code",
   "execution_count": 22,
   "metadata": {},
   "outputs": [],
   "source": [
    "# a:\n",
    "\n",
    "F = integral(x/sqrt(1 - x^2), x) == (- 1/2) * integral(1 -x^2^ -1/2 * (-2*x), x)"
   ]
  },
  {
   "cell_type": "code",
   "execution_count": 28,
   "metadata": {},
   "outputs": [
    {
     "data": {
      "text/html": [
       "<html>\\(\\displaystyle \\mathrm{False}\\)</html>"
      ],
      "text/latex": [
       "$\\displaystyle \\mathrm{False}$"
      ],
      "text/plain": [
       "False"
      ]
     },
     "execution_count": 28,
     "metadata": {},
     "output_type": "execute_result"
    }
   ],
   "source": [
    "F == (- 1/2) * (1- x^2)^(1/2) / 1/2 + C == -sqrt(1 - x^2) + C"
   ]
  },
  {
   "cell_type": "code",
   "execution_count": 29,
   "metadata": {},
   "outputs": [
    {
     "data": {
      "text/html": [
       "<html>\\(\\displaystyle \\arcsin\\left(x\\right) = C + \\arcsin\\left(x\\right)\\)</html>"
      ],
      "text/latex": [
       "$\\displaystyle \\arcsin\\left(x\\right) = C + \\arcsin\\left(x\\right)$"
      ],
      "text/plain": [
       "arcsin(x) == C + arcsin(x)"
      ]
     },
     "execution_count": 29,
     "metadata": {},
     "output_type": "execute_result"
    }
   ],
   "source": [
    "# b:\n",
    "integral(1/sqrt(1 - x^2), x) == arcsin(x) + C"
   ]
  },
  {
   "cell_type": "markdown",
   "metadata": {},
   "source": [
    "## Example 2:\n",
    "\n",
    "Integration by Parts\n",
    "\n",
    "$\\int x sin x dx$"
   ]
  },
  {
   "cell_type": "code",
   "execution_count": null,
   "metadata": {},
   "outputs": [],
   "source": [
    "U = x\n",
    "V = -cos(x)\n",
    "DU = dx\n",
    "DV = sin(x)*dx"
   ]
  },
  {
   "cell_type": "code",
   "execution_count": 42,
   "metadata": {},
   "outputs": [
    {
     "data": {
      "text/html": [
       "<html>\\(\\displaystyle \\left(-x \\cos\\left(x\\right) + \\sin\\left(x\\right) = x \\cos\\left(x\\right) - \\mathit{dx} \\sin\\left(x\\right), -x \\cos\\left(x\\right) + \\sin\\left(x\\right) = -x \\cos\\left(x\\right) + C + \\sin\\left(x\\right)\\right)\\)</html>"
      ],
      "text/latex": [
       "$\\displaystyle \\left(-x \\cos\\left(x\\right) + \\sin\\left(x\\right) = x \\cos\\left(x\\right) - \\mathit{dx} \\sin\\left(x\\right), -x \\cos\\left(x\\right) + \\sin\\left(x\\right) = -x \\cos\\left(x\\right) + C + \\sin\\left(x\\right)\\right)$"
      ],
      "text/plain": [
       "(-x*cos(x) + sin(x) == x*cos(x) - dx*sin(x),\n",
       " -x*cos(x) + sin(x) == -x*cos(x) + C + sin(x))"
      ]
     },
     "execution_count": 42,
     "metadata": {},
     "output_type": "execute_result"
    }
   ],
   "source": [
    "integral(x*sin(x), x) == U * V - integral(V*DU, x), x*(-cos(x)) - integral(-cos(x), x) == - x*cos(x) + sin(x) + C  "
   ]
  },
  {
   "cell_type": "markdown",
   "metadata": {},
   "source": [
    "## Example 3:\n",
    "\n",
    "Repeated Integration by Parts\n",
    "\n",
    "$\\int x^2 e^x dx$"
   ]
  },
  {
   "cell_type": "code",
   "execution_count": 44,
   "metadata": {},
   "outputs": [],
   "source": [
    "U = x^2\n",
    "V = e^x\n",
    "DU = 2*x*dx\n",
    "DV = e^x*dx"
   ]
  },
  {
   "cell_type": "code",
   "execution_count": 47,
   "metadata": {},
   "outputs": [
    {
     "data": {
      "text/html": [
       "<html>\\(\\displaystyle \\left({\\left(x^{2} - 2 \\, x + 2\\right)} e^{x} = -2 \\, \\mathit{dx} {\\left(x - 1\\right)} e^{x} + x^{2} e^{x}, x^{2} e^{x} - 2 \\, {\\left(x - 1\\right)} e^{x}\\right)\\)</html>"
      ],
      "text/latex": [
       "$\\displaystyle \\left({\\left(x^{2} - 2 \\, x + 2\\right)} e^{x} = -2 \\, \\mathit{dx} {\\left(x - 1\\right)} e^{x} + x^{2} e^{x}, x^{2} e^{x} - 2 \\, {\\left(x - 1\\right)} e^{x}\\right)$"
      ],
      "text/plain": [
       "((x^2 - 2*x + 2)*e^x == -2*dx*(x - 1)*e^x + x^2*e^x, x^2*e^x - 2*(x - 1)*e^x)"
      ]
     },
     "execution_count": 47,
     "metadata": {},
     "output_type": "execute_result"
    }
   ],
   "source": [
    "integral(x^2*e^x, x) == U*V - integral(V*DU, x), x^2*e^x - 2*integral(x*e^x, x)"
   ]
  },
  {
   "cell_type": "code",
   "execution_count": 51,
   "metadata": {},
   "outputs": [],
   "source": [
    "U = x\n",
    "DU = dx\n",
    "V = e^x\n",
    "DV = e^x"
   ]
  },
  {
   "cell_type": "code",
   "execution_count": 58,
   "metadata": {},
   "outputs": [
    {
     "data": {
      "text/html": [
       "<html>\\(\\displaystyle \\left({\\left(x^{2} - 2 \\, x + 2\\right)} e^{x} = x^{2} e^{x} - 2 \\, x e^{x} + 2 \\, e^{x}, x^{2} e^{x} - 2 \\, x e^{x} + C + 2 \\, e^{x}\\right)\\)</html>"
      ],
      "text/latex": [
       "$\\displaystyle \\left({\\left(x^{2} - 2 \\, x + 2\\right)} e^{x} = x^{2} e^{x} - 2 \\, x e^{x} + 2 \\, e^{x}, x^{2} e^{x} - 2 \\, x e^{x} + C + 2 \\, e^{x}\\right)$"
      ],
      "text/plain": [
       "((x^2 - 2*x + 2)*e^x == x^2*e^x - 2*x*e^x + 2*e^x,\n",
       " x^2*e^x - 2*x*e^x + C + 2*e^x)"
      ]
     },
     "execution_count": 58,
     "metadata": {},
     "output_type": "execute_result"
    }
   ],
   "source": [
    "integral(x^2*e^x, x) == x^2*V - 2*(U*V - integral(DV, x)), x^2*V - 2*U*V + 2*DV + C"
   ]
  },
  {
   "cell_type": "markdown",
   "metadata": {},
   "source": [
    "## Example 4:\n",
    "\n",
    "An Application to Area\n",
    "\n",
    "Find the area bounded by the graphs of $f(x) = ln x,y = 0$ and $x = e$."
   ]
  },
  {
   "cell_type": "code",
   "execution_count": 61,
   "metadata": {},
   "outputs": [
    {
     "data": {
      "text/html": [
       "<html>\\(\\displaystyle A = 0\\)</html>"
      ],
      "text/latex": [
       "$\\displaystyle A = 0$"
      ],
      "text/plain": [
       "A == 0"
      ]
     },
     "execution_count": 61,
     "metadata": {},
     "output_type": "execute_result"
    }
   ],
   "source": [
    "A == limit(integral(log(x), x), x=e)"
   ]
  },
  {
   "cell_type": "code",
   "execution_count": 62,
   "metadata": {},
   "outputs": [],
   "source": [
    "U = log(x)\n",
    "DU = 1/x * dx\n",
    "V = x\n",
    "DV = dx"
   ]
  },
  {
   "cell_type": "code",
   "execution_count": 64,
   "metadata": {},
   "outputs": [
    {
     "data": {
      "text/html": [
       "<html>\\(\\displaystyle \\left(x \\log\\left(x\\right) - x = -\\mathit{dx} x + x \\log\\left(x\\right), -\\mathit{dx} x + x \\log\\left(x\\right) = -C x + x \\log\\left(x\\right)\\right)\\)</html>"
      ],
      "text/latex": [
       "$\\displaystyle \\left(x \\log\\left(x\\right) - x = -\\mathit{dx} x + x \\log\\left(x\\right), -\\mathit{dx} x + x \\log\\left(x\\right) = -C x + x \\log\\left(x\\right)\\right)$"
      ],
      "text/plain": [
       "(x*log(x) - x == -dx*x + x*log(x), -dx*x + x*log(x) == -C*x + x*log(x))"
      ]
     },
     "execution_count": 64,
     "metadata": {},
     "output_type": "execute_result"
    }
   ],
   "source": [
    "integral(log(x), x) == (U)*V - integral(V* DU, x), V*U - integral(DV, x) == V*U - V * C"
   ]
  },
  {
   "cell_type": "code",
   "execution_count": 80,
   "metadata": {},
   "outputs": [
    {
     "data": {
      "text/html": [
       "<html>\\(\\displaystyle \\left(A = x \\log\\left(x\\right) - x, 1 = 1\\right)\\)</html>"
      ],
      "text/latex": [
       "$\\displaystyle \\left(A = x \\log\\left(x\\right) - x, 1 = 1\\right)$"
      ],
      "text/plain": [
       "(A == x*log(x) - x, 1 == 1)"
      ]
     },
     "execution_count": 80,
     "metadata": {},
     "output_type": "execute_result"
    }
   ],
   "source": [
    "A == integral(log(x), x) == limit(V*U - V, x=1), (e*log(e) - e) - (log(1) - 1) == e -e + 1"
   ]
  }
 ],
 "metadata": {
  "kernelspec": {
   "display_name": "SageMath 10.5",
   "language": "sage",
   "name": "SageMath-10.5"
  },
  "language_info": {
   "codemirror_mode": {
    "name": "ipython",
    "version": 3
   },
   "file_extension": ".py",
   "mimetype": "text/x-python",
   "name": "python",
   "nbconvert_exporter": "python",
   "pygments_lexer": "ipython3",
   "version": "3.12.5"
  }
 },
 "nbformat": 4,
 "nbformat_minor": 2
}
