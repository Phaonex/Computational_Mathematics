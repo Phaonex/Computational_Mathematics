{
 "cells": [
  {
   "cell_type": "code",
   "execution_count": 1,
   "metadata": {},
   "outputs": [],
   "source": [
    "from sage.all import *"
   ]
  },
  {
   "cell_type": "code",
   "execution_count": 43,
   "metadata": {},
   "outputs": [
    {
     "data": {
      "text/html": [
       "<html>\\(\\displaystyle \\left(A, a, B, b, c, C, D, x, y, z, \\mathit{dx}, \\mathit{dy}\\right)\\)</html>"
      ],
      "text/latex": [
       "$\\displaystyle \\left(A, a, B, b, c, C, D, x, y, z, \\mathit{dx}, \\mathit{dy}\\right)$"
      ],
      "text/plain": [
       "(A, a, B, b, c, C, D, x, y, z, dx, dy)"
      ]
     },
     "execution_count": 43,
     "metadata": {},
     "output_type": "execute_result"
    }
   ],
   "source": [
    "%display latex\n",
    "\n",
    "var('A, a, B, b, c, C, D, x, y, z, dx, dy')"
   ]
  },
  {
   "cell_type": "code",
   "execution_count": 3,
   "metadata": {},
   "outputs": [
    {
     "data": {
      "text/html": [
       "<html>\\(\\displaystyle \\left(m_{0}, m_{1}, m_{2}, m_{3}, m_{4}\\right)\\)</html>"
      ],
      "text/latex": [
       "$\\displaystyle \\left(m_{0}, m_{1}, m_{2}, m_{3}, m_{4}\\right)$"
      ],
      "text/plain": [
       "(m0, m1, m2, m3, m4)"
      ]
     },
     "execution_count": 3,
     "metadata": {},
     "output_type": "execute_result"
    }
   ],
   "source": [
    "SR.var('m', 5)"
   ]
  },
  {
   "cell_type": "markdown",
   "metadata": {},
   "source": [
    "# Integration by Partial Fractions"
   ]
  },
  {
   "cell_type": "markdown",
   "metadata": {},
   "source": [
    "## Topics:\n",
    "\n",
    "- Integrals with distinct linear terms.\n",
    "\n",
    "- Integrals with repeated linear terms.\n",
    "\n",
    "- Integrals with irreducible quadratic terms.\n",
    "\n",
    "- Application to the logistic differential equation."
   ]
  },
  {
   "cell_type": "markdown",
   "metadata": {},
   "source": [
    "## Definitions and Theorems:"
   ]
  },
  {
   "cell_type": "markdown",
   "metadata": {},
   "source": [
    "- **linear factors:** If the linear factor $(px + q)$ occurs to the $m^{th}$ power, then use\n",
    "\n",
    "$\\frac{A_1}{(px + q)} + \\frac{A_2}{(px + q)^2}+...+\\frac{A_m}{(px + q)^m}$."
   ]
  },
  {
   "cell_type": "markdown",
   "metadata": {},
   "source": [
    "- **quadratic factors:** If the irreducible quadratic factor $(ax^2 + bx + c)$ occurs to the $n^{th}$ power, then use\n",
    "\n",
    "$\\frac{B_1 x + C_1}{ax^2 + bx + c}+ \\frac{B_2 x + C_2}{(ax^2 + bx + c)^2}+...+\\frac{B_n x + C_n}{(ax^2 + bx + c)^n}$."
   ]
  },
  {
   "cell_type": "markdown",
   "metadata": {},
   "source": [
    "## Properties:\n",
    "\n",
    "- $$.\n",
    "-"
   ]
  },
  {
   "cell_type": "markdown",
   "metadata": {},
   "source": [
    "## Example 1:\n",
    "\n",
    "Distinct Linear Factors.\n",
    "\n",
    "Evaluate the integral $\\int \\dfrac{dx}{x^2 - 5x + 6}$."
   ]
  },
  {
   "cell_type": "code",
   "execution_count": 20,
   "metadata": {},
   "outputs": [
    {
     "data": {
      "text/html": [
       "<html>\\(\\displaystyle x^{2} - 5 \\, x + 6\\)</html>"
      ],
      "text/latex": [
       "$\\displaystyle x^{2} - 5 \\, x + 6$"
      ],
      "text/plain": [
       "x^2 - 5*x + 6"
      ]
     },
     "execution_count": 20,
     "metadata": {},
     "output_type": "execute_result"
    }
   ],
   "source": [
    "simplify(x^2 - 5*x + 6)"
   ]
  },
  {
   "cell_type": "code",
   "execution_count": 16,
   "metadata": {},
   "outputs": [
    {
     "data": {
      "text/html": [
       "<html>\\(\\displaystyle \\left(-5 \\, x + \\frac{1}{x^{2}} + 6, \\frac{x - 2}{x - 3} = \\frac{A}{x} + \\frac{B}{x} - 5\\right)\\)</html>"
      ],
      "text/latex": [
       "$\\displaystyle \\left(-5 \\, x + \\frac{1}{x^{2}} + 6, \\frac{x - 2}{x - 3} = \\frac{A}{x} + \\frac{B}{x} - 5\\right)$"
      ],
      "text/plain": [
       "(-5*x + 1/x^2 + 6, (x - 2)/(x - 3) == A/x + B/x - 5)"
      ]
     },
     "execution_count": 16,
     "metadata": {},
     "output_type": "execute_result"
    }
   ],
   "source": [
    "1/x^2 - 5*x + 6, 1/(x-3)*(x-2) == A/x-3 + B/x-2"
   ]
  },
  {
   "cell_type": "code",
   "execution_count": 17,
   "metadata": {},
   "outputs": [
    {
     "data": {
      "text/html": [
       "<html>\\(\\displaystyle \\left(-5 \\, x + \\frac{1}{x^{2}} + 6, \\frac{A}{x} + \\frac{B}{x} - 5 = A {\\left(x - 2\\right)} + B {\\left(x - 2\\right)}\\right)\\)</html>"
      ],
      "text/latex": [
       "$\\displaystyle \\left(-5 \\, x + \\frac{1}{x^{2}} + 6, \\frac{A}{x} + \\frac{B}{x} - 5 = A {\\left(x - 2\\right)} + B {\\left(x - 2\\right)}\\right)$"
      ],
      "text/plain": [
       "(-5*x + 1/x^2 + 6, A/x + B/x - 5 == A*(x - 2) + B*(x - 2))"
      ]
     },
     "execution_count": 17,
     "metadata": {},
     "output_type": "execute_result"
    }
   ],
   "source": [
    "1/x^2 - 5*x + 6, A/x-3 + B/x-2 == A*(x-2) + B*(x-3)/(x-3)*(x-2)"
   ]
  },
  {
   "cell_type": "code",
   "execution_count": 23,
   "metadata": {},
   "outputs": [
    {
     "data": {
      "text/html": [
       "<html>\\(\\displaystyle \\left(x = 3, A = A, 1\\right)\\)</html>"
      ],
      "text/latex": [
       "$\\displaystyle \\left(x = 3, A = A, 1\\right)$"
      ],
      "text/plain": [
       "(x == 3, A == A, 1)"
      ]
     },
     "execution_count": 23,
     "metadata": {},
     "output_type": "execute_result"
    }
   ],
   "source": [
    "x == 3//1, A*(3-2) == A,1"
   ]
  },
  {
   "cell_type": "code",
   "execution_count": 32,
   "metadata": {},
   "outputs": [
    {
     "data": {
      "text/html": [
       "<html>\\(\\displaystyle \\left(x = 2, -B = B, -1\\right)\\)</html>"
      ],
      "text/latex": [
       "$\\displaystyle \\left(x = 2, -B = B, -1\\right)$"
      ],
      "text/plain": [
       "(x == 2, -B == B, -1)"
      ]
     },
     "execution_count": 32,
     "metadata": {},
     "output_type": "execute_result"
    }
   ],
   "source": [
    "x == 2//1, B*(2-3) == B,-1"
   ]
  },
  {
   "cell_type": "code",
   "execution_count": 13,
   "metadata": {},
   "outputs": [
    {
     "data": {
      "text/html": [
       "<html>\\(\\displaystyle \\left(\\frac{1}{3} \\, x^{3} - \\frac{5}{2} \\, x^{2} + 6 \\, x = A \\log\\left(x\\right) + B \\log\\left(x\\right) - 5 \\, x, -5 \\, x = C - \\log\\left({\\left| x - 2 \\right|}\\right) + \\log\\left({\\left| x - 3 \\right|}\\right)\\right)\\)</html>"
      ],
      "text/latex": [
       "$\\displaystyle \\left(\\frac{1}{3} \\, x^{3} - \\frac{5}{2} \\, x^{2} + 6 \\, x = A \\log\\left(x\\right) + B \\log\\left(x\\right) - 5 \\, x, -5 \\, x = C - \\log\\left({\\left| x - 2 \\right|}\\right) + \\log\\left({\\left| x - 3 \\right|}\\right)\\right)$"
      ],
      "text/plain": [
       "(1/3*x^3 - 5/2*x^2 + 6*x == A*log(x) + B*log(x) - 5*x,\n",
       " -5*x == C - log(abs(x - 2)) + log(abs(x - 3)))"
      ]
     },
     "execution_count": 13,
     "metadata": {},
     "output_type": "execute_result"
    }
   ],
   "source": [
    "integral(x^2 - 5*x + 6,x) == integral(A/x-3 + B/x-2, x), integral(1/x-3 + -1/x-2, x) == log(abs(x - 3)) - log(abs(x- 2)) + C"
   ]
  },
  {
   "cell_type": "markdown",
   "metadata": {},
   "source": [
    "## Example 2:\n",
    "\n",
    "Repeated Linear Factors.\n",
    "\n",
    "Determine the partial fraction decomposition for the integral $\\int\\dfrac{5x^2 + 20x + 6}{x^3 - 2x^2 + x}dx$."
   ]
  },
  {
   "cell_type": "code",
   "execution_count": 33,
   "metadata": {},
   "outputs": [
    {
     "data": {
      "text/html": [
       "<html>\\(\\displaystyle \\left(2 \\, x^{3} + x = {\\left(x^{2} + 2 \\, x + 1\\right)} x, {\\left(x + 1\\right)}^{2} x\\right)\\)</html>"
      ],
      "text/latex": [
       "$\\displaystyle \\left(2 \\, x^{3} + x = {\\left(x^{2} + 2 \\, x + 1\\right)} x, {\\left(x + 1\\right)}^{2} x\\right)$"
      ],
      "text/plain": [
       "(2*x^3 + x == (x^2 + 2*x + 1)*x, (x + 1)^2*x)"
      ]
     },
     "execution_count": 33,
     "metadata": {},
     "output_type": "execute_result"
    }
   ],
   "source": [
    "x^3 + x*x^2 + x == x*(x^2 + 2*x + 1), x*(x + 1)^2"
   ]
  },
  {
   "cell_type": "code",
   "execution_count": 34,
   "metadata": {},
   "outputs": [
    {
     "data": {
      "text/html": [
       "<html>\\(\\displaystyle 7 \\, x^{2} + 21 \\, x + \\frac{6}{x^{3}} = \\frac{A}{x} + \\frac{B}{x} + \\frac{C}{{\\left(x + 1\\right)}^{2}} + 1\\)</html>"
      ],
      "text/latex": [
       "$\\displaystyle 7 \\, x^{2} + 21 \\, x + \\frac{6}{x^{3}} = \\frac{A}{x} + \\frac{B}{x} + \\frac{C}{{\\left(x + 1\\right)}^{2}} + 1$"
      ],
      "text/plain": [
       "7*x^2 + 21*x + 6/x^3 == A/x + B/x + C/(x + 1)^2 + 1"
      ]
     },
     "execution_count": 34,
     "metadata": {},
     "output_type": "execute_result"
    }
   ],
   "source": [
    "5*x^2 + 20*x + 6/x^3 + 2*x^2 + x == A/x + B/x + 1 + C/(x + 1)^2"
   ]
  },
  {
   "cell_type": "code",
   "execution_count": 37,
   "metadata": {},
   "outputs": [
    {
     "data": {
      "text/html": [
       "<html>\\(\\displaystyle \\left(7 \\, x^{2} + 21 \\, x + \\frac{6}{x^{3}} = A {\\left(x + 1\\right)}^{2} + C {\\left(x + 1\\right)}^{2} + B {\\left(x + 1\\right)} x, 5 \\, x^{2} + 20 \\, x + 6 = A {\\left(x + 1\\right)}^{2} + B {\\left(x + 1\\right)} x + C x\\right)\\)</html>"
      ],
      "text/latex": [
       "$\\displaystyle \\left(7 \\, x^{2} + 21 \\, x + \\frac{6}{x^{3}} = A {\\left(x + 1\\right)}^{2} + C {\\left(x + 1\\right)}^{2} + B {\\left(x + 1\\right)} x, 5 \\, x^{2} + 20 \\, x + 6 = A {\\left(x + 1\\right)}^{2} + B {\\left(x + 1\\right)} x + C x\\right)$"
      ],
      "text/plain": [
       "(7*x^2 + 21*x + 6/x^3 == A*(x + 1)^2 + C*(x + 1)^2 + B*(x + 1)*x,\n",
       " 5*x^2 + 20*x + 6 == A*(x + 1)^2 + B*(x + 1)*x + C*x)"
      ]
     },
     "execution_count": 37,
     "metadata": {},
     "output_type": "execute_result"
    }
   ],
   "source": [
    "5*x^2 + 20*x + 6/x^3 + 2*x^2 + x == A*(x +1)^2 + B*x*(x + 1) + C*x/x*(x + 1)^2, 5*x^2 + 20*x + 6 == A*(x +1)^2 + B*x*(x + 1) + C*x"
   ]
  },
  {
   "cell_type": "code",
   "execution_count": 38,
   "metadata": {},
   "outputs": [
    {
     "data": {
      "text/html": [
       "<html>\\(\\displaystyle \\left(x = 0, -1, 1\\right)\\)</html>"
      ],
      "text/latex": [
       "$\\displaystyle \\left(x = 0, -1, 1\\right)$"
      ],
      "text/plain": [
       "(x == 0, -1, 1)"
      ]
     },
     "execution_count": 38,
     "metadata": {},
     "output_type": "execute_result"
    }
   ],
   "source": [
    "x == 0, -1, 1"
   ]
  },
  {
   "cell_type": "code",
   "execution_count": 40,
   "metadata": {},
   "outputs": [
    {
     "data": {
      "text/html": [
       "<html>\\(\\displaystyle \\left(A = 5, B = \\left(-1\\right), C = 9\\right)\\)</html>"
      ],
      "text/latex": [
       "$\\displaystyle \\left(A = 5, B = \\left(-1\\right), C = 9\\right)$"
      ],
      "text/plain": [
       "(A == 5, B == -1, C == 9)"
      ]
     },
     "execution_count": 40,
     "metadata": {},
     "output_type": "execute_result"
    }
   ],
   "source": [
    "A ==5, B == -1, C == 9"
   ]
  },
  {
   "cell_type": "code",
   "execution_count": 42,
   "metadata": {},
   "outputs": [
    {
     "data": {
      "text/html": [
       "<html>\\(\\displaystyle \\left(7 \\, x^{2} + 21 \\, x + \\frac{6}{x^{3}} = x - \\frac{9}{x + 1} + 5 \\, \\log\\left(x\\right), C - \\frac{9}{x + 1} - \\log\\left({\\left| x + 1 \\right|}\\right) + 6 \\, \\log\\left({\\left| x \\right|}\\right)\\right)\\)</html>"
      ],
      "text/latex": [
       "$\\displaystyle \\left(7 \\, x^{2} + 21 \\, x + \\frac{6}{x^{3}} = x - \\frac{9}{x + 1} + 5 \\, \\log\\left(x\\right), C - \\frac{9}{x + 1} - \\log\\left({\\left| x + 1 \\right|}\\right) + 6 \\, \\log\\left({\\left| x \\right|}\\right)\\right)$"
      ],
      "text/plain": [
       "(7*x^2 + 21*x + 6/x^3 == x - 9/(x + 1) + 5*log(x),\n",
       " C - 9/(x + 1) - log(abs(x + 1)) + 6*log(abs(x)))"
      ]
     },
     "execution_count": 42,
     "metadata": {},
     "output_type": "execute_result"
    }
   ],
   "source": [
    "5*x^2 + 20*x + 6/x^3 + 2*x^2 + x == integral((6/x + -1/x + 1 + 9/(x + 1)^2), x), 6*log(abs(x)) - log(abs(x + 1)) - 9/(x + 1) + C "
   ]
  },
  {
   "cell_type": "markdown",
   "metadata": {},
   "source": [
    "## Example 3:\n",
    "\n",
    "A Quadratic Factor.\n",
    "\n",
    "Set up the partial fraction decomposition for the integral $\\int\\dfrac{2x^3 - 4x - 8}{x(x - 1)(x^2 + 4)}dx$."
   ]
  },
  {
   "cell_type": "code",
   "execution_count": 44,
   "metadata": {},
   "outputs": [
    {
     "data": {
      "text/html": [
       "<html>\\(\\displaystyle 2 \\, x^{3} - \\frac{8 \\, {\\left(x^{2} + 4\\right)} {\\left(x - 1\\right)}}{x} - 4 \\, x = C x + \\frac{D}{x^{2} + 4} + \\frac{A}{x} + \\frac{B}{x} - 1\\)</html>"
      ],
      "text/latex": [
       "$\\displaystyle 2 \\, x^{3} - \\frac{8 \\, {\\left(x^{2} + 4\\right)} {\\left(x - 1\\right)}}{x} - 4 \\, x = C x + \\frac{D}{x^{2} + 4} + \\frac{A}{x} + \\frac{B}{x} - 1$"
      ],
      "text/plain": [
       "2*x^3 - 8*(x^2 + 4)*(x - 1)/x - 4*x == C*x + D/(x^2 + 4) + A/x + B/x - 1"
      ]
     },
     "execution_count": 44,
     "metadata": {},
     "output_type": "execute_result"
    }
   ],
   "source": [
    "2*x^3 - 4*x - 8/x*(x - 1)*(x^2 + 4) == A/x + B/x - 1 + C*x + D/(x^2 + 4)"
   ]
  },
  {
   "cell_type": "code",
   "execution_count": 50,
   "metadata": {},
   "outputs": [
    {
     "data": {
      "text/html": [
       "<html>\\(\\displaystyle 2 \\, x^{3} - \\frac{8 \\, {\\left(x^{2} + 4\\right)}^{2} {\\left(x - 1\\right)}^{2}}{x^{2}} - 4 \\, x = {\\left(x^{2} + 4\\right)} A {\\left(x - 1\\right)} + \\frac{{\\left(C x + D x\\right)} {\\left(x^{2} + 4\\right)} {\\left(x - 1\\right)}^{2}}{x} + {\\left(x^{2} + 4\\right)} B x\\)</html>"
      ],
      "text/latex": [
       "$\\displaystyle 2 \\, x^{3} - \\frac{8 \\, {\\left(x^{2} + 4\\right)}^{2} {\\left(x - 1\\right)}^{2}}{x^{2}} - 4 \\, x = {\\left(x^{2} + 4\\right)} A {\\left(x - 1\\right)} + \\frac{{\\left(C x + D x\\right)} {\\left(x^{2} + 4\\right)} {\\left(x - 1\\right)}^{2}}{x} + {\\left(x^{2} + 4\\right)} B x$"
      ],
      "text/plain": [
       "2*x^3 - 8*(x^2 + 4)^2*(x - 1)^2/x^2 - 4*x == (x^2 + 4)*A*(x - 1) + (C*x + D*x)*(x^2 + 4)*(x - 1)^2/x + (x^2 + 4)*B*x"
      ]
     },
     "execution_count": 50,
     "metadata": {},
     "output_type": "execute_result"
    }
   ],
   "source": [
    "2*x^3 - 4*x - 8/x*(x - 1)*(x^2 + 4)/x*(x - 1)*(x^2 + 4) == A*(x - 1)*(x^2 + 4) + B*x*(x^2 + 4) + (C*x + D*x)*(x - 1)/x*(x - 1)*(x^2 + 4)"
   ]
  },
  {
   "cell_type": "code",
   "execution_count": 51,
   "metadata": {},
   "outputs": [
    {
     "data": {
      "text/html": [
       "<html>\\(\\displaystyle 2 \\, x^{3} - 4 \\, x - 8 = {\\left(x^{2} + 4\\right)} A {\\left(x - 1\\right)} + {\\left(C x + D\\right)} {\\left(x - 1\\right)} x\\)</html>"
      ],
      "text/latex": [
       "$\\displaystyle 2 \\, x^{3} - 4 \\, x - 8 = {\\left(x^{2} + 4\\right)} A {\\left(x - 1\\right)} + {\\left(C x + D\\right)} {\\left(x - 1\\right)} x$"
      ],
      "text/plain": [
       "2*x^3 - 4*x - 8 == (x^2 + 4)*A*(x - 1) + (C*x + D)*(x - 1)*x"
      ]
     },
     "execution_count": 51,
     "metadata": {},
     "output_type": "execute_result"
    }
   ],
   "source": [
    "2*x^3 - 4*x - 8 == A*(x -1)*(x^2 + 4) + (C*x + D)*x*(x - 1)"
   ]
  },
  {
   "cell_type": "code",
   "execution_count": 52,
   "metadata": {},
   "outputs": [
    {
     "data": {
      "text/html": [
       "<html>\\(\\displaystyle \\left(A = 2, B = \\left(-2\\right), C = 2, D = 4\\right)\\)</html>"
      ],
      "text/latex": [
       "$\\displaystyle \\left(A = 2, B = \\left(-2\\right), C = 2, D = 4\\right)$"
      ],
      "text/plain": [
       "(A == 2, B == -2, C == 2, D == 4)"
      ]
     },
     "execution_count": 52,
     "metadata": {},
     "output_type": "execute_result"
    }
   ],
   "source": [
    "A == 2, B == -2, C == 2, D == 4"
   ]
  },
  {
   "cell_type": "markdown",
   "metadata": {},
   "source": [
    "## Example 4:\n",
    "\n",
    "The Logistic Differential Equation.\n",
    "\n",
    "The partial fraction decomposition for the logistic differential equation is\n",
    "\n",
    "$\\dfrac{dy}{y(L - y)} = \\dfrac{\\dfrac{1}{L}}{y} + \\dfrac{\\dfrac{1}{L}}{L - y}$."
   ]
  }
 ],
 "metadata": {
  "kernelspec": {
   "display_name": "SageMath 10.5",
   "language": "sage",
   "name": "SageMath-10.5"
  },
  "language_info": {
   "codemirror_mode": {
    "name": "ipython",
    "version": 3
   },
   "file_extension": ".py",
   "mimetype": "text/x-python",
   "name": "python",
   "nbconvert_exporter": "python",
   "pygments_lexer": "ipython3",
   "version": "3.12.5"
  }
 },
 "nbformat": 4,
 "nbformat_minor": 2
}
