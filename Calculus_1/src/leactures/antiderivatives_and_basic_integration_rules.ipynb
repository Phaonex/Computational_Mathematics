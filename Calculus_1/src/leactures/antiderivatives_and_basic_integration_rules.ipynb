{
 "cells": [
  {
   "cell_type": "code",
   "execution_count": 1,
   "metadata": {},
   "outputs": [],
   "source": [
    "using Symbolics\n",
    "using SymbolicNumericIntegration\n",
    "using Latexify\n",
    "using Makie\n",
    "using CairoMakie"
   ]
  },
  {
   "cell_type": "code",
   "execution_count": 2,
   "metadata": {},
   "outputs": [
    {
     "data": {
      "text/plain": [
       "restart_axis (generic function with 1 method)"
      ]
     },
     "metadata": {},
     "output_type": "display_data"
    }
   ],
   "source": [
    "\n",
    "figure = Figure()\n",
    "\n",
    "ax = Axis(figure[1, 1], xlabel = \"x values\", ylabel = \"y values\",)\n",
    "restart_axis(ax) =  ax = Axis(figure[1, 1], xlabel = \"x values\", ylabel = \"y values\",)\n"
   ]
  },
  {
   "cell_type": "code",
   "execution_count": 91,
   "metadata": {},
   "outputs": [],
   "source": [
    "@variables a b c d f r n t u h k x y y′ A C D P V I ∫ Δx Δy lim(..) f(..) f′(..) g(..) ∫(..) G′(..);"
   ]
  },
  {
   "cell_type": "markdown",
   "metadata": {},
   "source": [
    "# Antiderivatives and Basic Integration Rules"
   ]
  },
  {
   "cell_type": "markdown",
   "metadata": {},
   "source": [
    "## Definitions and Theorems:"
   ]
  },
  {
   "cell_type": "code",
   "execution_count": 4,
   "metadata": {},
   "outputs": [],
   "source": [
    "dx = Differential(x);\n",
    "dy = f′(x)dx;\n",
    "xs = Symbolics.variables(:x, 1:2);\n",
    "ys = Symbolics.variables(:y, 1:2);"
   ]
  },
  {
   "cell_type": "markdown",
   "metadata": {},
   "source": [
    "**antiderivative**"
   ]
  },
  {
   "cell_type": "code",
   "execution_count": 5,
   "metadata": {},
   "outputs": [
    {
     "data": {
      "text/latex": [
       "$$ \\begin{equation}\n",
       "3 x^{2} = 6 x\n",
       "\\end{equation}\n",
       " $$"
      ],
      "text/plain": [
       "3(x^2) ~ 6x"
      ]
     },
     "metadata": {},
     "output_type": "display_data"
    }
   ],
   "source": [
    "integrate(6x)[1] ~ Symbolics.derivative(3x^2, x)"
   ]
  },
  {
   "cell_type": "markdown",
   "metadata": {},
   "source": [
    "**Notation:**\n",
    "\n",
    "$$\n",
    "\\int_a^b f(x) \\: \\mathrm{d}x = G(x) + C\n",
    "$$\n"
   ]
  },
  {
   "cell_type": "markdown",
   "metadata": {},
   "source": [
    "1. $f$ is the integrand. \n",
    "\n",
    "2. $dx$ indicates that the variable of integration is $x$.\n",
    "\n",
    "3. $G$ is an antiderivative (or integral) of $f$.\n",
    "\n",
    "4. $C$ is the constant of integration.\n",
    "\n",
    "5. The expression is read as “the antiderivative of $f$ with respect to $x$ .”"
   ]
  },
  {
   "cell_type": "markdown",
   "metadata": {},
   "source": [
    "## Basic Integration Rules Based on Derivative Formulas:   "
   ]
  },
  {
   "cell_type": "code",
   "execution_count": 6,
   "metadata": {},
   "outputs": [
    {
     "data": {
      "text/latex": [
       "$$ \\begin{equation}\n",
       "\\int\\left( \\frac{\\mathrm{d}}{\\mathrm{d}x} 0 \\right) = 0 = C\n",
       "\\end{equation}\n",
       " $$"
      ],
      "text/plain": [
       "∫(Differential(x)(0)) ~ 0 ~ C"
      ]
     },
     "metadata": {},
     "output_type": "display_data"
    }
   ],
   "source": [
    "∫(dx(0)) ~ integrate(0*dx(x))[1] ~ C"
   ]
  },
  {
   "cell_type": "code",
   "execution_count": 7,
   "metadata": {},
   "outputs": [
    {
     "data": {
      "text/latex": [
       "$$ \\begin{equation}\n",
       "\\int\\left( \\frac{\\mathrm{d}}{\\mathrm{d}x} k \\right) = C + k x\n",
       "\\end{equation}\n",
       " $$"
      ],
      "text/plain": [
       "∫(Differential(x)(k)) ~ C + k*x"
      ]
     },
     "metadata": {},
     "output_type": "display_data"
    }
   ],
   "source": [
    "∫(dx(k)) ~ k*x + C"
   ]
  },
  {
   "cell_type": "code",
   "execution_count": 8,
   "metadata": {},
   "outputs": [
    {
     "data": {
      "text/latex": [
       "$$ \\begin{equation}\n",
       "\\int\\left( \\frac{\\mathrm{d}}{\\mathrm{d}x} k \\right)\n",
       "\\end{equation}\n",
       " $$"
      ],
      "text/plain": [
       "∫(Differential(x)(k))"
      ]
     },
     "metadata": {},
     "output_type": "display_data"
    }
   ],
   "source": [
    "∫(dx(k))"
   ]
  },
  {
   "cell_type": "code",
   "execution_count": 9,
   "metadata": {},
   "outputs": [
    {
     "data": {
      "text/latex": [
       "$$ \\begin{equation}\n",
       "\\left[\n",
       "\\begin{array}{ccc}\n",
       "\\frac{\\mathrm{d}}{\\mathrm{d}x} x \\left( g\\left( x \\right) + f\\left( x \\right) \\right) \\mathit{x} & 0 & 0 \\\\\n",
       "\\end{array}\n",
       "\\right] = \\int\\left( \\frac{\\mathrm{d} f\\left( x \\right)}{\\mathrm{d}x} \\right) + \\int\\left( \\frac{\\mathrm{d} g\\left( x \\right)}{\\mathrm{d}x} \\right)\n",
       "\\end{equation}\n",
       " $$"
      ],
      "text/plain": [
       "(Num[Differential(x)(x)*(g(x) + f(x))*𝑥], 0, 0) ~ ∫(Differential(x)(f(x))) + ∫(Differential(x)(g(x)))"
      ]
     },
     "metadata": {},
     "output_type": "display_data"
    }
   ],
   "source": [
    "integrate([f(x) + g(x)]*dx(x)) ~ ∫(dx(f(x))) + ∫(dx(g(x)))"
   ]
  },
  {
   "cell_type": "code",
   "execution_count": 10,
   "metadata": {},
   "outputs": [
    {
     "data": {
      "text/latex": [
       "$$ \\begin{equation}\n",
       "\\int\\left( \\frac{\\mathrm{d}}{\\mathrm{d}x} x^{n} \\right) = \\left[\n",
       "\\begin{array}{c}\n",
       "1 + C + x^{n} + \\frac{1}{n} \\\\\n",
       "n \\neq -1 \\\\\n",
       "\\end{array}\n",
       "\\right]\n",
       "\\end{equation}\n",
       " $$"
      ],
      "text/plain": [
       "∫(Differential(x)(x^n)) ~ (1 + C + x^n + 1 / n, n != -1)"
      ]
     },
     "metadata": {},
     "output_type": "display_data"
    }
   ],
   "source": [
    "∫(dx(x^n)) ~ x^n+1//n + 1 + C, n != -1 "
   ]
  },
  {
   "cell_type": "code",
   "execution_count": 11,
   "metadata": {},
   "outputs": [
    {
     "data": {
      "text/latex": [
       "$$ \\begin{equation}\n",
       "\\int\\left( \\frac{\\mathrm{d} \\cos\\left( x \\right)}{\\mathrm{d}x} \\right) = C + \\sin\\left( x \\right)\n",
       "\\end{equation}\n",
       " $$"
      ],
      "text/plain": [
       "∫(Differential(x)(cos(x))) ~ C + sin(x)"
      ]
     },
     "metadata": {},
     "output_type": "display_data"
    }
   ],
   "source": [
    "∫(dx(cos(x))) ~ sin(x) + C"
   ]
  },
  {
   "cell_type": "code",
   "execution_count": 12,
   "metadata": {},
   "outputs": [
    {
     "data": {
      "text/latex": [
       "$$ \\begin{equation}\n",
       "\\int\\left( \\frac{\\mathrm{d} \\sin\\left( x \\right)}{\\mathrm{d}x} \\right) = C - \\cos\\left( x \\right)\n",
       "\\end{equation}\n",
       " $$"
      ],
      "text/plain": [
       "∫(Differential(x)(sin(x))) ~ C - cos(x)"
      ]
     },
     "metadata": {},
     "output_type": "display_data"
    }
   ],
   "source": [
    "∫(dx(sin(x))) ~ -cos(x) + C"
   ]
  },
  {
   "cell_type": "code",
   "execution_count": 13,
   "metadata": {},
   "outputs": [
    {
     "data": {
      "text/latex": [
       "$$ \\begin{equation}\n",
       "\\int\\left( \\frac{\\mathrm{d}}{\\mathrm{d}x} \\sec^{2}\\left( x \\right) \\right) = C + \\tan\\left( x \\right)\n",
       "\\end{equation}\n",
       " $$"
      ],
      "text/plain": [
       "∫(Differential(x)(sec(x)^2)) ~ C + tan(x)"
      ]
     },
     "metadata": {},
     "output_type": "display_data"
    }
   ],
   "source": [
    "∫(dx(sec(x)^2)) ~ tan(x) + C"
   ]
  },
  {
   "cell_type": "code",
   "execution_count": 14,
   "metadata": {},
   "outputs": [
    {
     "data": {
      "text/latex": [
       "$$ \\begin{equation}\n",
       "\\frac{\\mathrm{d}}{\\mathrm{d}x} 3 x^{2} = 6 x = 3 x^{2}\n",
       "\\end{equation}\n",
       " $$"
      ],
      "text/plain": [
       "Differential(x)(3(x^2)) ~ 6x ~ 3(x^2)"
      ]
     },
     "metadata": {},
     "output_type": "display_data"
    }
   ],
   "source": [
    "dx(3x^2) ~ Symbolics.derivative(3x^2, x) ~ integrate(6x)[1]"
   ]
  },
  {
   "cell_type": "code",
   "execution_count": 15,
   "metadata": {},
   "outputs": [
    {
     "data": {
      "text/latex": [
       "$$ \\begin{equation}\n",
       "\\int\\left( \\sec^{2}\\left( x \\right) \\right) = 2 \\sec^{2}\\left( x \\right) \\tan\\left( x \\right)\n",
       "\\end{equation}\n",
       " $$"
      ],
      "text/plain": [
       "∫(sec(x)^2) ~ 2tan(x)*(sec(x)^2)"
      ]
     },
     "metadata": {},
     "output_type": "display_data"
    }
   ],
   "source": [
    "∫(integrate(Symbolics.derivative(sec(x)^2, x))[1]) ~ Symbolics.derivative(integrate(2sec(x)^2 * tan(x))[1], x)"
   ]
  },
  {
   "cell_type": "markdown",
   "metadata": {},
   "source": [
    "## Example 1: \n",
    "\n",
    "Finding Antiderivatives"
   ]
  },
  {
   "cell_type": "code",
   "execution_count": 29,
   "metadata": {},
   "outputs": [
    {
     "data": {
      "text/latex": [
       "$$ \\begin{equation}\n",
       "\\int\\left( \\frac{\\mathrm{d} \\cos\\left( x \\right)}{\\mathrm{d}x} \\right) = C + \\sin\\left( x \\right) = \\sin\\left( x \\right) = \\cos\\left( x \\right)\n",
       "\\end{equation}\n",
       " $$"
      ],
      "text/plain": [
       "∫(Differential(x)(cos(x))) ~ C + sin(x) ~ sin(x) ~ cos(x)"
      ]
     },
     "metadata": {},
     "output_type": "display_data"
    }
   ],
   "source": [
    "∫(dx(cos(x))) ~ sin(x) + C ~\n",
    "integrate(cos(x))[1] ~\n",
    "Symbolics.derivative(sin(x), x)"
   ]
  },
  {
   "cell_type": "code",
   "execution_count": 89,
   "metadata": {},
   "outputs": [
    {
     "data": {
      "text/latex": [
       "$$ \\begin{equation}\n",
       "\\int\\left( \\frac{\\mathrm{d}}{\\mathrm{d}x} \\left( 3 + \\sin\\left( x \\right) + x^{5} \\right) \\right) = 3 x - \\cos\\left( x \\right) + \\frac{1}{6} x^{6} = 3 + \\sin\\left( x \\right) + x^{5}\n",
       "\\end{equation}\n",
       " $$"
      ],
      "text/plain": [
       "∫(Differential(x)(3 + sin(x) + x^5)) ~ 3x - cos(x) + (1//6)*(x^6) ~ 3 + sin(x) + x^5"
      ]
     },
     "metadata": {},
     "output_type": "display_data"
    }
   ],
   "source": [
    "∫(dx(x^5 + sin(x) + 3)) ~ \n",
    "integrate(x^5 + sin(x) + 3)[1] ~\n",
    "Symbolics.derivative(integrate(x^5 + sin(x) + 3)[1], x)"
   ]
  },
  {
   "cell_type": "markdown",
   "metadata": {},
   "source": [
    "## Example 2: \n",
    "\n",
    "Solving a Differential Equation"
   ]
  },
  {
   "cell_type": "code",
   "execution_count": 94,
   "metadata": {},
   "outputs": [
    {
     "data": {
      "text/latex": [
       "$$ \\begin{equation}\n",
       "\\mathtt{G\\prime}\\left( x \\right) = \\left[\n",
       "\\begin{array}{c}\n",
       "\\frac{1}{x^{2}} \\\\\n",
       "x > 0 \\\\\n",
       "\\end{array}\n",
       "\\right] = \\mathtt{G\\prime}\\left( 1 \\right)\n",
       "\\end{equation}\n",
       " $$"
      ],
      "text/plain": [
       "G′(x) ~ (1 / (x^2), x > 0) ~ G′(1)"
      ]
     },
     "metadata": {},
     "output_type": "display_data"
    }
   ],
   "source": [
    "G′(x) ~ 1//x^2, x > 0 ~ G′(1)"
   ]
  },
  {
   "cell_type": "code",
   "execution_count": 105,
   "metadata": {},
   "outputs": [
    {
     "data": {
      "text/latex": [
       "$$ \\begin{equation}\n",
       "-2\n",
       "\\end{equation}\n",
       " $$"
      ],
      "text/plain": [
       "-2.0"
      ]
     },
     "metadata": {},
     "output_type": "display_data"
    }
   ],
   "source": [
    "substitute(Symbolics.derivative(1//x^2, x), (x => 1))"
   ]
  },
  {
   "cell_type": "code",
   "execution_count": 108,
   "metadata": {},
   "outputs": [
    {
     "data": {
      "text/latex": [
       "$$ \\begin{equation}\n",
       "\\mathtt{G\\prime}\\left( x \\right) = \\frac{1}{x^{2}} =  - 2 x \\frac{1}{x^{4}} = -2\n",
       "\\end{equation}\n",
       " $$"
      ],
      "text/plain": [
       "G′(x) ~ 1 / (x^2) ~ -2x*(1 / (x^4)) ~ -2.0"
      ]
     },
     "metadata": {},
     "output_type": "display_data"
    }
   ],
   "source": [
    "G′(x) ~ 1//x^2 ~ Symbolics.derivative(1//x^2, x) ~ substitute(Symbolics.derivative(1//x^2, x), (x => 1))"
   ]
  },
  {
   "cell_type": "code",
   "execution_count": 115,
   "metadata": {},
   "outputs": [
    {
     "data": {
      "text/latex": [
       "$$ \\begin{equation}\n",
       "\\left( \\frac{1}{x} \\right)^{2}\n",
       "\\end{equation}\n",
       " $$"
      ],
      "text/plain": [
       "(1 / x)^2"
      ]
     },
     "metadata": {},
     "output_type": "display_data"
    }
   ],
   "source": [
    "integrate(-2x * 1/x^4)[1]"
   ]
  },
  {
   "cell_type": "code",
   "execution_count": 121,
   "metadata": {},
   "outputs": [
    {
     "data": {
      "text/latex": [
       "$$ \\begin{equation}\n",
       "1\n",
       "\\end{equation}\n",
       " $$"
      ],
      "text/plain": [
       "1.0"
      ]
     },
     "metadata": {},
     "output_type": "display_data"
    }
   ],
   "source": [
    "substitute((1//x)^2, (x => 1))"
   ]
  },
  {
   "cell_type": "code",
   "execution_count": 157,
   "metadata": {},
   "outputs": [
    {
     "data": {
      "text/latex": [
       "$$ \\begin{equation}\n",
       "\\mathtt{G\\prime}\\left( x \\right) = \\left( \\frac{1}{x} \\right)^{2} = \\left( \\frac{1}{x} \\right)^{2} = C + \\frac{-1}{x} = C + \\frac{-1}{x}\n",
       "\\end{equation}\n",
       " $$"
      ],
      "text/plain": [
       "G′(x) ~ (1 / x)^2 ~ (1 / x)^2 ~ C + (-1//1) / x ~ C + -1 / x"
      ]
     },
     "metadata": {},
     "output_type": "display_data"
    }
   ],
   "source": [
    "G′(x) ~ integrate(Symbolics.derivative(1//x^2, x))[1] ~ integrate(Symbolics.derivative(x^-2, x))[1] ~ x^-1//-1 + C ~ -1//x + C "
   ]
  },
  {
   "cell_type": "code",
   "execution_count": 158,
   "metadata": {},
   "outputs": [
    {
     "data": {
      "text/plain": [
       "(cos(x^2), 0, 0)"
      ]
     },
     "metadata": {},
     "output_type": "display_data"
    }
   ],
   "source": [
    "integrate(Symbolics.derivative(cos(x^2), x))"
   ]
  },
  {
   "cell_type": "markdown",
   "metadata": {},
   "source": [
    "## Problems:"
   ]
  },
  {
   "cell_type": "markdown",
   "metadata": {},
   "source": [
    "1. "
   ]
  },
  {
   "cell_type": "code",
   "execution_count": 168,
   "metadata": {},
   "outputs": [
    {
     "data": {
      "text/latex": [
       "$$ \\begin{equation}\n",
       "7 x + \\frac{1}{2} x^{2} = 7 + x\n",
       "\\end{equation}\n",
       " $$"
      ],
      "text/plain": [
       "7x + (1//2)*(x^2) ~ 7 + x"
      ]
     },
     "metadata": {},
     "output_type": "display_data"
    }
   ],
   "source": [
    "integrate(x + 7)[1] ~ Symbolics.derivative(7x + 1//2 * x^2, x)"
   ]
  },
  {
   "cell_type": "markdown",
   "metadata": {},
   "source": [
    "2. "
   ]
  },
  {
   "cell_type": "code",
   "execution_count": 170,
   "metadata": {},
   "outputs": [
    {
     "data": {
      "text/latex": [
       "$$ \\begin{equation}\n",
       "x^{2} - x^{3} = 2 x - 3 x^{2}\n",
       "\\end{equation}\n",
       " $$"
      ],
      "text/plain": [
       "x^2 - (x^3) ~ 2x - 3(x^2)"
      ]
     },
     "metadata": {},
     "output_type": "display_data"
    }
   ],
   "source": [
    "integrate(2x - 3x^2)[1] ~ Symbolics.derivative(x^2 - x^3, x)"
   ]
  },
  {
   "cell_type": "markdown",
   "metadata": {},
   "source": [
    "3. "
   ]
  },
  {
   "cell_type": "code",
   "execution_count": 172,
   "metadata": {},
   "outputs": [
    {
     "data": {
      "text/latex": [
       "$$ \\begin{equation}\n",
       "12 x^{0.5} + \\frac{1}{2} x^{2} = x + \\frac{6}{x^{0.5}}\n",
       "\\end{equation}\n",
       " $$"
      ],
      "text/plain": [
       "12(x^0.5) + (1//2)*(x^2) ~ x + 6.0 / (x^0.5)"
      ]
     },
     "metadata": {},
     "output_type": "display_data"
    }
   ],
   "source": [
    "integrate(x + 6//√x)[1] ~ Symbolics.derivative(12x^0.5 + 1//2 * x^2, x)"
   ]
  }
 ],
 "metadata": {
  "kernelspec": {
   "display_name": "Julia 1.11.2",
   "language": "julia",
   "name": "julia-1.11"
  },
  "language_info": {
   "file_extension": ".jl",
   "mimetype": "application/julia",
   "name": "julia",
   "version": "1.11.2"
  }
 },
 "nbformat": 4,
 "nbformat_minor": 2
}
