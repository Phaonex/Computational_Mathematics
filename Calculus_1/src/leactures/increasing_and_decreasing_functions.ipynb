{
 "cells": [
  {
   "cell_type": "code",
   "execution_count": 2,
   "metadata": {},
   "outputs": [],
   "source": [
    "using LinearAlgebra\n",
    "using Nemo\n",
    "using Groebner\n",
    "using Symbolics\n",
    "using Latexify\n",
    "using Makie\n",
    "using CairoMakie"
   ]
  },
  {
   "cell_type": "code",
   "execution_count": 3,
   "metadata": {},
   "outputs": [
    {
     "data": {
      "text/plain": [
       "restart_axis (generic function with 1 method)"
      ]
     },
     "metadata": {},
     "output_type": "display_data"
    }
   ],
   "source": [
    "\n",
    "figure = Figure()\n",
    "\n",
    "ax = Axis(figure[1, 1], xlabel = \"x values\", ylabel = \"y values\",)\n",
    "restart_axis() = Axis(figure[1, 1], xlabel = \"x values\", ylabel = \"y values\",)\n"
   ]
  },
  {
   "cell_type": "code",
   "execution_count": 4,
   "metadata": {},
   "outputs": [],
   "source": [
    "@variables a b c d f r n t u x y y′ D P I Δx Δy lim(..) f(..) f′(..) min(..) max(..);"
   ]
  },
  {
   "cell_type": "markdown",
   "metadata": {},
   "source": [
    "# Increasing and Decreasing Functions"
   ]
  },
  {
   "cell_type": "markdown",
   "metadata": {},
   "source": [
    "## Definitions and Theorems:"
   ]
  },
  {
   "cell_type": "code",
   "execution_count": 5,
   "metadata": {},
   "outputs": [],
   "source": [
    "dx = Differential(x);\n",
    "dy = Differential(y);"
   ]
  },
  {
   "cell_type": "markdown",
   "metadata": {},
   "source": [
    "**increasing**"
   ]
  },
  {
   "cell_type": "code",
   "execution_count": 26,
   "metadata": {},
   "outputs": [
    {
     "data": {
      "text/latex": [
       "$$ \\begin{equation}\n",
       "I = a < b\n",
       "\\end{equation}\n",
       " $$"
      ],
      "text/plain": [
       "I ~ a < b"
      ]
     },
     "metadata": {},
     "output_type": "display_data"
    }
   ],
   "source": [
    "I ~ a < b"
   ]
  },
  {
   "cell_type": "code",
   "execution_count": null,
   "metadata": {},
   "outputs": [
    {
     "data": {
      "text/latex": [
       "$$ \\begin{equation}\n",
       "I = f\\left( a \\right) \\leq f\\left( b \\right)\n",
       "\\end{equation}\n",
       " $$"
      ],
      "text/plain": [
       "I ~ f(a) <= f(b)"
      ]
     },
     "metadata": {},
     "output_type": "display_data"
    }
   ],
   "source": [
    "I ~ f(a) <= f(b)"
   ]
  },
  {
   "cell_type": "markdown",
   "metadata": {},
   "source": [
    "**decreasing**"
   ]
  },
  {
   "cell_type": "code",
   "execution_count": 25,
   "metadata": {},
   "outputs": [
    {
     "data": {
      "text/latex": [
       "$$ \\begin{equation}\n",
       "I = a < b\n",
       "\\end{equation}\n",
       " $$"
      ],
      "text/plain": [
       "I ~ a < b"
      ]
     },
     "metadata": {},
     "output_type": "display_data"
    }
   ],
   "source": [
    "I ~ a < b"
   ]
  },
  {
   "cell_type": "code",
   "execution_count": 23,
   "metadata": {},
   "outputs": [
    {
     "data": {
      "text/latex": [
       "$$ \\begin{equation}\n",
       "I = f\\left( a \\right) \\geq f\\left( b \\right)\n",
       "\\end{equation}\n",
       " $$"
      ],
      "text/plain": [
       "I ~ f(a) >= f(b)"
      ]
     },
     "metadata": {},
     "output_type": "display_data"
    }
   ],
   "source": [
    "I ~ f(a) >= f(b)"
   ]
  },
  {
   "cell_type": "markdown",
   "metadata": {},
   "source": [
    "**first derivative test**"
   ]
  },
  {
   "cell_type": "code",
   "execution_count": 28,
   "metadata": {},
   "outputs": [
    {
     "data": {
      "text/latex": [
       "$$ \\begin{equation}\n",
       "\\mathtt{f\\prime}\\left( c \\right) = f\\left( c \\right) = \\left[\n",
       "\\begin{array}{c}\n",
       "c \\\\\n",
       "\\mathtt{max}\\left( f\\left( c \\right) \\right) \\\\\n",
       "\\end{array}\n",
       "\\right]\n",
       "\\end{equation}\n",
       " $$"
      ],
      "text/plain": [
       "f′(c) ~ f(c) ~ (c, max(f(c)))"
      ]
     },
     "metadata": {},
     "output_type": "display_data"
    }
   ],
   "source": [
    " f′(c) ~ f(c) ~ (c, max((f(c))))"
   ]
  },
  {
   "cell_type": "code",
   "execution_count": 32,
   "metadata": {},
   "outputs": [
    {
     "data": {
      "text/latex": [
       "$$ \\begin{equation}\n",
       "\\mathtt{f\\prime}\\left( c \\right) = f\\left( c \\right) = \\left[\n",
       "\\begin{array}{c}\n",
       "c \\\\\n",
       "\\mathtt{min}\\left( f\\left( c \\right) \\right) \\\\\n",
       "\\end{array}\n",
       "\\right]\n",
       "\\end{equation}\n",
       " $$"
      ],
      "text/plain": [
       "f′(c) ~ f(c) ~ (c, min(f(c)))"
      ]
     },
     "metadata": {},
     "output_type": "display_data"
    }
   ],
   "source": [
    "f′(c) ~ f(c) ~ (c, min((f(c))))"
   ]
  },
  {
   "cell_type": "markdown",
   "metadata": {},
   "source": [
    "**Rolle’s theorem**"
   ]
  },
  {
   "cell_type": "markdown",
   "metadata": {},
   "source": [
    "Lets f be continue on the open interval and differentiable on the open."
   ]
  },
  {
   "cell_type": "code",
   "execution_count": 33,
   "metadata": {},
   "outputs": [
    {
     "data": {
      "text/latex": [
       "$$ \\begin{equation}\n",
       "I = \\left[\n",
       "\\begin{array}{cc}\n",
       "a & b \\\\\n",
       "\\end{array}\n",
       "\\right]\n",
       "\\end{equation}\n",
       " $$"
      ],
      "text/plain": [
       "I ~ Num[a b]"
      ]
     },
     "metadata": {},
     "output_type": "display_data"
    }
   ],
   "source": [
    "I ~ [a b]"
   ]
  },
  {
   "cell_type": "code",
   "execution_count": 44,
   "metadata": {},
   "outputs": [
    {
     "data": {
      "text/latex": [
       "$$ \\begin{equation}\n",
       "f = f\\left( a \\right) = f\\left( b \\right) = \\left[\n",
       "\\begin{array}{c}\n",
       "c \\\\\n",
       "\\left[\n",
       "\\begin{array}{c}\n",
       "a \\\\\n",
       "b \\\\\n",
       "\\end{array}\n",
       "\\right] \\\\\n",
       "\\end{array}\n",
       "\\right] = \\mathtt{f\\prime}\\left( c \\right) = 0\n",
       "\\end{equation}\n",
       " $$"
      ],
      "text/plain": [
       "f() ~ f(a) == f(b) ~ (c, (a, b)) ~ f′(c) == 0"
      ]
     },
     "metadata": {},
     "output_type": "display_data"
    }
   ],
   "source": [
    "f() ~ f(a) == f(b) ~ (c, (a, b)) ~ f′(c) == 0"
   ]
  },
  {
   "cell_type": "markdown",
   "metadata": {},
   "source": [
    "**Mean value theorem**"
   ]
  },
  {
   "cell_type": "markdown",
   "metadata": {},
   "source": [
    "if f is continuous on the closed interval [a, b] and differentiable o nthe open [a, b] then:"
   ]
  },
  {
   "cell_type": "code",
   "execution_count": 48,
   "metadata": {},
   "outputs": [
    {
     "data": {
      "text/latex": [
       "$$ \\begin{equation}\n",
       "f = \\left[\n",
       "\\begin{array}{c}\n",
       "c \\\\\n",
       "\\left[\n",
       "\\begin{array}{c}\n",
       "a \\\\\n",
       "b \\\\\n",
       "\\end{array}\n",
       "\\right] \\\\\n",
       "\\end{array}\n",
       "\\right] = \\mathtt{f\\prime}\\left( c \\right) =  - a + \\frac{ - f\\left( a \\right)}{b} + f\\left( b \\right)\n",
       "\\end{equation}\n",
       " $$"
      ],
      "text/plain": [
       "f() ~ (c, (a, b)) ~ f′(c) == (-a + (-f(a)) / b + f(b))"
      ]
     },
     "metadata": {},
     "output_type": "display_data"
    }
   ],
   "source": [
    "f() ~ (c, (a, b)) ~ f′(c) == f(b) - f(a)// b - a"
   ]
  },
  {
   "cell_type": "markdown",
   "metadata": {},
   "source": [
    "## Guidelines for Finding Intervals on Which a Function Is Increasing or Decreasing:\n",
    "Let f be continuous on (a, b)."
   ]
  },
  {
   "cell_type": "markdown",
   "metadata": {},
   "source": [
    "locate critical number of f.\n",
    "\n",
    "Use it as test number intervals."
   ]
  },
  {
   "cell_type": "code",
   "execution_count": 10,
   "metadata": {},
   "outputs": [
    {
     "data": {
      "text/latex": [
       "$$ \\begin{equation}\n",
       "f = \\left[\n",
       "\\begin{array}{cc}\n",
       "a & b \\\\\n",
       "\\end{array}\n",
       "\\right]\n",
       "\\end{equation}\n",
       " $$"
      ],
      "text/plain": [
       "f() ~ Num[a b]"
      ]
     },
     "metadata": {},
     "output_type": "display_data"
    }
   ],
   "source": [
    "f() ~ [a b]"
   ]
  },
  {
   "cell_type": "markdown",
   "metadata": {},
   "source": [
    "what is the sing?"
   ]
  },
  {
   "cell_type": "code",
   "execution_count": 50,
   "metadata": {},
   "outputs": [
    {
     "data": {
      "text/latex": [
       "$$ \\begin{equation}\n",
       "\\left[\n",
       "\\begin{array}{c}\n",
       "\\mathtt{f\\prime}\\left( a \\right) \\\\\n",
       "\\mathtt{f\\prime}\\left( b \\right) \\\\\n",
       "\\mathtt{f\\prime}\\left( a \\right) \\\\\n",
       "\\mathtt{f\\prime}\\left( b \\right) \\\\\n",
       "\\mathtt{f\\prime}\\left( a \\right) \\\\\n",
       "\\mathtt{f\\prime}\\left( b \\right) \\\\\n",
       "\\end{array}\n",
       "\\right]\n",
       "\\end{equation}\n",
       " $$"
      ],
      "text/plain": [
       "6-element Vector{Num}:\n",
       " f′(a)\n",
       " f′(b)\n",
       " f′(a)\n",
       " f′(b)\n",
       " f′(a)\n",
       " f′(b)"
      ]
     },
     "metadata": {},
     "output_type": "display_data"
    }
   ],
   "source": [
    "map(c -> f′(c), [a, b, a, b, a, b])"
   ]
  },
  {
   "cell_type": "code",
   "execution_count": 52,
   "metadata": {},
   "outputs": [
    {
     "data": {
      "text/latex": [
       "$$ \\begin{equation}\n",
       "\\left[\n",
       "\\begin{array}{c}\n",
       " - \\mathtt{f\\prime}\\left( a \\right) \\\\\n",
       " - \\mathtt{f\\prime}\\left( b \\right) \\\\\n",
       " - \\mathtt{f\\prime}\\left( a \\right) \\\\\n",
       " - \\mathtt{f\\prime}\\left( b \\right) \\\\\n",
       " - \\mathtt{f\\prime}\\left( a \\right) \\\\\n",
       " - \\mathtt{f\\prime}\\left( b \\right) \\\\\n",
       "\\end{array}\n",
       "\\right]\n",
       "\\end{equation}\n",
       " $$"
      ],
      "text/plain": [
       "6-element Vector{Num}:\n",
       " -f′(a)\n",
       " -f′(b)\n",
       " -f′(a)\n",
       " -f′(b)\n",
       " -f′(a)\n",
       " -f′(b)"
      ]
     },
     "metadata": {},
     "output_type": "display_data"
    }
   ],
   "source": [
    "map(c -> -f′(c), [a, b, a, b, a, b])"
   ]
  },
  {
   "cell_type": "markdown",
   "metadata": {},
   "source": [
    "Its increasse if is positive, decreasing if is negative."
   ]
  },
  {
   "cell_type": "markdown",
   "metadata": {},
   "source": [
    "## Example 1: \n",
    "\n",
    "Intervals on Which a Function Is Increasing or Decreasing"
   ]
  },
  {
   "cell_type": "code",
   "execution_count": 57,
   "metadata": {},
   "outputs": [
    {
     "data": {
      "text/latex": [
       "$$ \\begin{equation}\n",
       "f\\left( x \\right) =  - \\frac{3}{2} x^{2} + x^{3}\n",
       "\\end{equation}\n",
       " $$"
      ],
      "text/plain": [
       "f(x) ~ -(3//2)*(x^2) + x^3"
      ]
     },
     "metadata": {},
     "output_type": "display_data"
    }
   ],
   "source": [
    "f(x) ~ x^3 - 3//2 * x^2 "
   ]
  },
  {
   "cell_type": "code",
   "execution_count": null,
   "metadata": {},
   "outputs": [
    {
     "data": {
      "text/latex": [
       "$$ \\begin{equation}\n",
       "f\\left( x \\right) =  - \\frac{3}{2} x^{2} + x^{3} = -1 - 2 \\frac{\\mathrm{d}}{\\mathrm{d}x} 3 - \\frac{3}{2} x \\frac{\\mathrm{d}}{\\mathrm{d}x} 2 + 3 x^{3} =  - 6 x\n",
       "\\end{equation}\n",
       " $$"
      ],
      "text/plain": [
       "f(x) ~ -(3//2)*(x^2) + x^3 ~ -1 - 2Differential(x)(3) - (3//2)*x*Differential(x)(2) + 3(x^3) ~ -6x"
      ]
     },
     "metadata": {},
     "output_type": "display_data"
    }
   ],
   "source": [
    "f(x) ~ x^3 - 3//2 * x^2 ~\n",
    "3x^3-1 - 2 * dx(3) - 3 * dx(2) / 2^2 * 2x ~\n",
    "3x^2 - 2 * 3x - 3 * 2x / 4 * 2x ~"
   ]
  },
  {
   "cell_type": "markdown",
   "metadata": {},
   "source": [
    "## Example 2:\n",
    "\n",
    "The First Derivative Test"
   ]
  },
  {
   "cell_type": "code",
   "execution_count": 103,
   "metadata": {},
   "outputs": [
    {
     "data": {
      "text/plain": [
       "(0, 6.283185307179586)"
      ]
     },
     "metadata": {},
     "output_type": "display_data"
    }
   ],
   "source": [
    "P = (0, 2π)"
   ]
  },
  {
   "cell_type": "code",
   "execution_count": 104,
   "metadata": {},
   "outputs": [
    {
     "data": {
      "text/latex": [
       "$$ \\begin{equation}\n",
       "f\\left( x \\right) = \\frac{1}{2} x - \\sin\\left( x \\right)\n",
       "\\end{equation}\n",
       " $$"
      ],
      "text/plain": [
       "f(x) ~ (1//2)*x - sin(x)"
      ]
     },
     "metadata": {},
     "output_type": "display_data"
    }
   ],
   "source": [
    "f(x) ~ 1//2 * x- sin(x)"
   ]
  },
  {
   "cell_type": "code",
   "execution_count": 140,
   "metadata": {},
   "outputs": [
    {
     "data": {
      "text/latex": [
       "$$ \\begin{equation}\n",
       "f\\left( x \\right) = \\frac{1}{2} - \\frac{\\mathrm{d} \\sin\\left( x \\right)}{\\mathrm{d}x} = f\\left( x \\right) = \\frac{1}{2} - \\cos\\left( x \\right) = 0\n",
       "\\end{equation}\n",
       " $$"
      ],
      "text/plain": [
       "f(x) ~ (1//2) - Differential(x)(sin(x)) ~ f(x) ~ (1//2) - cos(x) ~ 0"
      ]
     },
     "metadata": {},
     "output_type": "display_data"
    }
   ],
   "source": [
    "f(x) ~ 1//2 * x - sin(x) ~~\n",
    "f(x) ~ 1//2 * 1 - dx(sin(x)) ~\n",
    "f(x) ~ 1//2 * 1 - cos(x) ~ 0"
   ]
  },
  {
   "cell_type": "markdown",
   "metadata": {},
   "source": [
    "## Example 3: \n",
    "\n",
    "The Mean Value Theorem"
   ]
  },
  {
   "cell_type": "code",
   "execution_count": 148,
   "metadata": {},
   "outputs": [
    {
     "data": {
      "text/latex": [
       "$$ \\begin{equation}\n",
       "\\mathtt{min}\\left( 1 \\right) = x = \\mathtt{max}\\left( 4 \\right)\n",
       "\\end{equation}\n",
       " $$"
      ],
      "text/plain": [
       "min(1) ~ x ~ max(4)"
      ]
     },
     "metadata": {},
     "output_type": "display_data"
    }
   ],
   "source": [
    "min(1) ~ x ~ max(4)"
   ]
  },
  {
   "cell_type": "code",
   "execution_count": null,
   "metadata": {},
   "outputs": [
    {
     "data": {
      "text/latex": [
       "$$ \\begin{equation}\n",
       "f\\left( x \\right) = 5 + \\frac{-4}{x} = 5 + \\frac{-4}{x}\n",
       "\\end{equation}\n",
       " $$"
      ],
      "text/plain": [
       "f(x) ~ 5 + -4 / x ~ 5 + -4 / x"
      ]
     },
     "metadata": {},
     "output_type": "display_data"
    }
   ],
   "source": [
    "f(x) ~ 5 - 4 // x ~ 5 - 4x^-1"
   ]
  },
  {
   "cell_type": "code",
   "execution_count": 155,
   "metadata": {},
   "outputs": [
    {
     "data": {
      "text/latex": [
       "$$ \\begin{equation}\n",
       "f\\left( x \\right) = 5 + \\frac{-4}{x} = 5 + \\frac{-4}{x} = -1 - \\frac{1}{4} f\\left( 1 \\right) + f\\left( 4 \\right) = 1 = 1\n",
       "\\end{equation}\n",
       " $$"
      ],
      "text/plain": [
       "f(x) ~ 5 + -4 / x ~ 5 + -4 / x ~ -1 - (1//4)*f(1) + f(4) ~ 1.0 ~ 1"
      ]
     },
     "metadata": {},
     "output_type": "display_data"
    }
   ],
   "source": [
    "f(x) ~ 5 - 4 // x ~ 5 - 4x^-1 ~\n",
    "f(4) - f(1)// 4 - 1 ~\n",
    "3 / 3 ~ 1"
   ]
  },
  {
   "cell_type": "code",
   "execution_count": 157,
   "metadata": {},
   "outputs": [
    {
     "data": {
      "text/latex": [
       "$$ \\begin{equation}\n",
       "f\\left( x \\right) = \\mathtt{f\\prime}\\left( 4 \\left( \\frac{1}{x} \\right)^{2} \\right) = \\frac{4}{x^{2}}\n",
       "\\end{equation}\n",
       " $$"
      ],
      "text/plain": [
       "f(x) ~ f′(4((1 / x)^2)) ~ 4 / (x^2)"
      ]
     },
     "metadata": {},
     "output_type": "display_data"
    }
   ],
   "source": [
    "f(x) ~ f′(4x^-2) ~ 4//x^2"
   ]
  },
  {
   "cell_type": "code",
   "execution_count": 161,
   "metadata": {},
   "outputs": [
    {
     "data": {
      "text/latex": [
       "$$ \\begin{equation}\n",
       "\\frac{\\mathrm{d}}{\\mathrm{d}x} 4 \\left( \\frac{1}{x} \\right)^{2} = 1 = \\frac{4}{x} = c = 2\n",
       "\\end{equation}\n",
       " $$"
      ],
      "text/plain": [
       "Differential(x)(4((1 / x)^2)) ~ 1 ~ 4 / x ~ c ~ 2"
      ]
     },
     "metadata": {},
     "output_type": "display_data"
    }
   ],
   "source": [
    "dx(4x^-2) ~ 1 ~ 4//x ~ c ~ 2"
   ]
  }
 ],
 "metadata": {
  "kernelspec": {
   "display_name": "Julia 1.11.2",
   "language": "julia",
   "name": "julia-1.11"
  },
  "language_info": {
   "file_extension": ".jl",
   "mimetype": "application/julia",
   "name": "julia",
   "version": "1.11.2"
  }
 },
 "nbformat": 4,
 "nbformat_minor": 2
}
