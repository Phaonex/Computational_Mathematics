{
 "cells": [
  {
   "cell_type": "code",
   "execution_count": 1,
   "metadata": {},
   "outputs": [],
   "source": [
    "using LinearAlgebra\n",
    "using Nemo\n",
    "using Groebner\n",
    "using Symbolics\n",
    "using Latexify\n",
    "using Makie\n",
    "using CairoMakie"
   ]
  },
  {
   "cell_type": "code",
   "execution_count": 2,
   "metadata": {},
   "outputs": [
    {
     "data": {
      "text/plain": [
       "restart_axis (generic function with 1 method)"
      ]
     },
     "metadata": {},
     "output_type": "display_data"
    }
   ],
   "source": [
    "\n",
    "figure = Figure()\n",
    "\n",
    "ax = Axis(figure[1, 1], xlabel = \"x values\", ylabel = \"y values\",)\n",
    "restart_axis() = Axis(figure[1, 1], xlabel = \"x values\", ylabel = \"y values\",)\n"
   ]
  },
  {
   "cell_type": "markdown",
   "metadata": {},
   "source": [
    "# Basic Differentiation Rules"
   ]
  },
  {
   "cell_type": "markdown",
   "metadata": {},
   "source": [
    "## Definitions and Theorems:"
   ]
  },
  {
   "cell_type": "markdown",
   "metadata": {},
   "source": [
    "**slope of the graph of the function:**"
   ]
  },
  {
   "cell_type": "code",
   "execution_count": 3,
   "metadata": {},
   "outputs": [],
   "source": [
    "@variables c d dy dx f n t x y y′ D P Δx Δy lim(..) f(..) f′(..) g(..) g′(..);"
   ]
  },
  {
   "cell_type": "code",
   "execution_count": 4,
   "metadata": {},
   "outputs": [],
   "source": [
    "xs = Symbolics.variables(:x, 1:2);\n",
    "ys = Symbolics.variables(:y, 1:2);"
   ]
  },
  {
   "cell_type": "markdown",
   "metadata": {},
   "source": [
    "The derivative of a constant:"
   ]
  },
  {
   "cell_type": "code",
   "execution_count": 5,
   "metadata": {},
   "outputs": [
    {
     "data": {
      "text/latex": [
       "$$ \\begin{equation}\n",
       "\\mathtt{f\\prime}\\left( x \\right) = \\mathtt{lim}\\left( \\frac{ - f\\left( x \\right)}{\\mathtt{{\\Delta}x}} + f\\left( x + \\mathtt{{\\Delta}x} \\right), \\mathtt{{\\Delta}x} = 0 \\right)\n",
       "\\end{equation}\n",
       " $$"
      ],
      "text/plain": [
       "f′(x) ~ lim((-f(x)) / Δx + f(x + Δx), Δx ~ 0)"
      ]
     },
     "metadata": {},
     "output_type": "display_data"
    }
   ],
   "source": [
    "f′(x) ~ lim(f(x + Δx) - f(x) // Δx, Δx ~ 0)"
   ]
  },
  {
   "cell_type": "code",
   "execution_count": 6,
   "metadata": {},
   "outputs": [
    {
     "data": {
      "text/plain": [
       "D′ (generic function with 1 method)"
      ]
     },
     "metadata": {},
     "output_type": "display_data"
    }
   ],
   "source": [
    "D′(vars) = substitute(limit(f(x + Δx) - f(x) // Δx, Δx, c), Dict(vars))"
   ]
  },
  {
   "cell_type": "code",
   "execution_count": 7,
   "metadata": {},
   "outputs": [
    {
     "data": {
      "text/latex": [
       "$$ \\begin{equation}\n",
       "\\left[\n",
       "\\begin{array}{c}\n",
       "\\frac{d}{\\mathtt{dx}} \\\\\n",
       "\\left[\n",
       "\\begin{array}{c}\n",
       "x^{n} \\\\\n",
       "\\end{array}\n",
       "\\right] \\\\\n",
       "\\end{array}\n",
       "\\right] = -1 + x^{n} n\n",
       "\\end{equation}\n",
       " $$"
      ],
      "text/plain": [
       "(d / dx, Num[x^n]) ~ -1 + n*(x^n)"
      ]
     },
     "metadata": {},
     "output_type": "display_data"
    }
   ],
   "source": [
    " d // dx,[x^n]~ n*x^n-1"
   ]
  },
  {
   "cell_type": "code",
   "execution_count": 8,
   "metadata": {},
   "outputs": [
    {
     "data": {
      "text/latex": [
       "$$ \\begin{equation}\n",
       "\\left[\n",
       "\\begin{array}{c}\n",
       "\\frac{d}{\\mathtt{dx}} \\\\\n",
       "\\left[\n",
       "\\begin{array}{c}\n",
       "c f\\left( x \\right) \\\\\n",
       "\\end{array}\n",
       "\\right] \\\\\n",
       "\\end{array}\n",
       "\\right] = c \\mathtt{f\\prime}\\left( x \\right)\n",
       "\\end{equation}\n",
       " $$"
      ],
      "text/plain": [
       "(d / dx, Num[c*f(x)]) ~ c*f′(x)"
      ]
     },
     "metadata": {},
     "output_type": "display_data"
    }
   ],
   "source": [
    "d // dx,[c*f(x)] ~ c*f′(x)"
   ]
  },
  {
   "cell_type": "code",
   "execution_count": 9,
   "metadata": {},
   "outputs": [
    {
     "data": {
      "text/latex": [
       "$$ \\begin{equation}\n",
       "\\left[\n",
       "\\begin{array}{c}\n",
       "\\frac{d}{\\mathtt{dx}} \\\\\n",
       "\\left[\n",
       "\\begin{array}{c}\n",
       "g\\left( x \\right) + f\\left( x \\right) \\\\\n",
       "\\end{array}\n",
       "\\right] \\\\\n",
       "\\end{array}\n",
       "\\right] = \\mathtt{g\\prime}\\left( x \\right) + \\mathtt{f\\prime}\\left( x \\right)\n",
       "\\end{equation}\n",
       " $$"
      ],
      "text/plain": [
       "(d / dx, Num[g(x) + f(x)]) ~ g′(x) + f′(x)"
      ]
     },
     "metadata": {},
     "output_type": "display_data"
    }
   ],
   "source": [
    "d // dx,[f(x) + g(x)] ~ f′(x) + g′(x)"
   ]
  },
  {
   "cell_type": "code",
   "execution_count": 10,
   "metadata": {},
   "outputs": [
    {
     "data": {
      "text/latex": [
       "$$ \\begin{equation}\n",
       "\\left[\n",
       "\\begin{array}{c}\n",
       "\\frac{d}{\\mathtt{dx}} \\\\\n",
       "\\left[\n",
       "\\begin{array}{c}\n",
       " - g\\left( x \\right) + f\\left( x \\right) \\\\\n",
       "\\end{array}\n",
       "\\right] \\\\\n",
       "\\end{array}\n",
       "\\right] =  - \\mathtt{g\\prime}\\left( x \\right) + \\mathtt{f\\prime}\\left( x \\right)\n",
       "\\end{equation}\n",
       " $$"
      ],
      "text/plain": [
       "(d / dx, Num[-g(x) + f(x)]) ~ -g′(x) + f′(x)"
      ]
     },
     "metadata": {},
     "output_type": "display_data"
    }
   ],
   "source": [
    "d // dx,[f(x) - g(x)] ~ f′(x) - g′(x)"
   ]
  },
  {
   "cell_type": "code",
   "execution_count": 11,
   "metadata": {},
   "outputs": [
    {
     "data": {
      "text/latex": [
       "$$ \\begin{equation}\n",
       "\\left[\n",
       "\\begin{array}{c}\n",
       "\\frac{d}{\\mathtt{dx}} \\\\\n",
       "\\left[\n",
       "\\begin{array}{c}\n",
       "\\sin\\left( x \\right) \\\\\n",
       "\\end{array}\n",
       "\\right] \\\\\n",
       "\\end{array}\n",
       "\\right] = \\cos\\left( x \\right)\n",
       "\\end{equation}\n",
       " $$"
      ],
      "text/plain": [
       "(d / dx, Num[sin(x)]) ~ cos(x)"
      ]
     },
     "metadata": {},
     "output_type": "display_data"
    }
   ],
   "source": [
    "d // dx,[sin(x)] ~  cos(x)"
   ]
  },
  {
   "cell_type": "code",
   "execution_count": 12,
   "metadata": {},
   "outputs": [
    {
     "data": {
      "text/latex": [
       "$$ \\begin{equation}\n",
       "\\left[\n",
       "\\begin{array}{c}\n",
       "\\frac{d}{\\mathtt{dx}} \\\\\n",
       "\\left[\n",
       "\\begin{array}{c}\n",
       "\\cos\\left( x \\right) \\\\\n",
       "\\end{array}\n",
       "\\right] \\\\\n",
       "\\end{array}\n",
       "\\right] =  - \\sin\\left( x \\right)\n",
       "\\end{equation}\n",
       " $$"
      ],
      "text/plain": [
       "(d / dx, Num[cos(x)]) ~ -sin(x)"
      ]
     },
     "metadata": {},
     "output_type": "display_data"
    }
   ],
   "source": [
    "d // dx,[cos(x)] ~  -sin(x)"
   ]
  },
  {
   "cell_type": "code",
   "execution_count": 13,
   "metadata": {},
   "outputs": [
    {
     "data": {
      "text/latex": [
       "$$ \\begin{equation}\n",
       "1 = 0\n",
       "\\end{equation}\n",
       " $$"
      ],
      "text/plain": [
       "1.0 ~ 0.0"
      ]
     },
     "metadata": {},
     "output_type": "display_data"
    }
   ],
   "source": [
    "cos(0) ~ sin(0)"
   ]
  },
  {
   "cell_type": "code",
   "execution_count": 14,
   "metadata": {},
   "outputs": [
    {
     "data": {
      "text/latex": [
       "$$ \\begin{equation}\n",
       "1 = 1\n",
       "\\end{equation}\n",
       " $$"
      ],
      "text/plain": [
       "1.0 ~ 1.0"
      ]
     },
     "metadata": {},
     "output_type": "display_data"
    }
   ],
   "source": [
    "cos(sin(0)) ~ cos(0)"
   ]
  },
  {
   "cell_type": "code",
   "execution_count": 15,
   "metadata": {},
   "outputs": [
    {
     "data": {
      "text/latex": [
       "$$ \\begin{equation}\n",
       "0.84147 = 0.84147\n",
       "\\end{equation}\n",
       " $$"
      ],
      "text/plain": [
       "0.8414709848078965 ~ 0.8414709848078965"
      ]
     },
     "metadata": {},
     "output_type": "display_data"
    }
   ],
   "source": [
    "sin(1) ~ sin(cos(0))"
   ]
  },
  {
   "cell_type": "code",
   "execution_count": 16,
   "metadata": {},
   "outputs": [
    {
     "data": {
      "text/latex": [
       "$$ \\begin{equation}\n",
       "0.5403 = 0.66637\n",
       "\\end{equation}\n",
       " $$"
      ],
      "text/plain": [
       "0.5403023058681398 ~ 0.6663667453928805"
      ]
     },
     "metadata": {},
     "output_type": "display_data"
    }
   ],
   "source": [
    "cos(1) ~ cos(sin(1))"
   ]
  },
  {
   "cell_type": "markdown",
   "metadata": {},
   "source": [
    "## Example 1: Finding the Derivative"
   ]
  },
  {
   "cell_type": "code",
   "execution_count": 17,
   "metadata": {},
   "outputs": [
    {
     "data": {
      "text/latex": [
       "$$ \\begin{equation}\n",
       "\\left[\n",
       "\\begin{array}{c}\n",
       "\\frac{d}{\\mathtt{dx}} \\\\\n",
       "\\frac{1}{3} x^{2} \\\\\n",
       "\\end{array}\n",
       "\\right] = \\frac{2}{3 \\left( -1 + \\frac{1}{3} x^{2} \\right)} = \\frac{2}{9 x}\n",
       "\\end{equation}\n",
       " $$"
      ],
      "text/plain": [
       "(d / dx, (1//3)*(x^2)) ~ 2 / (3(-1 + (1//3)*(x^2))) ~ 2 / (9x)"
      ]
     },
     "metadata": {},
     "output_type": "display_data"
    }
   ],
   "source": [
    "d//dx, x^2//3 ~ 2//3(x^2//3-1) ~ 2//3x^1//3 "
   ]
  },
  {
   "cell_type": "code",
   "execution_count": 18,
   "metadata": {},
   "outputs": [
    {
     "data": {
      "text/latex": [
       "$$ \\begin{equation}\n",
       "\\left[\n",
       "\\begin{array}{c}\n",
       "\\frac{d}{\\mathtt{dx}} \\\\\n",
       "\\frac{1}{x^{2}} \\\\\n",
       "\\end{array}\n",
       "\\right] = \\left[\n",
       "\\begin{array}{c}\n",
       "\\frac{d}{\\mathtt{dx}} \\\\\n",
       "\\left( \\frac{1}{x} \\right)^{2} \\\\\n",
       "\\end{array}\n",
       "\\right] =  - 2 \\left( \\frac{1}{x} \\right)^{3} = \\frac{-2}{x^{3}}\n",
       "\\end{equation}\n",
       " $$"
      ],
      "text/plain": [
       "(d / dx, 1 / (x^2)) ~ (d / dx, (1 / x)^2) ~ -2((1 / x)^3) ~ -2 / (x^3)"
      ]
     },
     "metadata": {},
     "output_type": "display_data"
    }
   ],
   "source": [
    "d//dx, 1//x^2 ~ d//dx, x^-2 ~ -2x^-3 ~ -2 // x^3"
   ]
  },
  {
   "cell_type": "code",
   "execution_count": 19,
   "metadata": {},
   "outputs": [
    {
     "data": {
      "text/latex": [
       "$$ \\begin{equation}\n",
       "\\frac{-2}{x^{6}}\n",
       "\\end{equation}\n",
       " $$"
      ],
      "text/plain": [
       "-2 / (x^6)"
      ]
     },
     "metadata": {},
     "output_type": "display_data"
    }
   ],
   "source": [
    "fx(x) = -2x^-3;\n",
    "eq = fx(x) * (1//x)^3;\n",
    "\n",
    "simplify(eq)"
   ]
  },
  {
   "cell_type": "markdown",
   "metadata": {},
   "source": [
    "## Example 2: Finding the Derivative Using Sum and Difference Rules"
   ]
  },
  {
   "cell_type": "code",
   "execution_count": 20,
   "metadata": {},
   "outputs": [
    {
     "data": {
      "text/latex": [
       "$$ \\begin{equation}\n",
       "\\left[\n",
       "\\begin{array}{c}\n",
       "\\frac{d}{\\mathtt{dx}} \\\\\n",
       "5 - 4 x + x^{3} \\\\\n",
       "\\end{array}\n",
       "\\right] = \\left[\n",
       "\\begin{array}{c}\n",
       "\\frac{d}{\\mathtt{dx}} \\\\\n",
       "-5 + 3 x^{3} \\\\\n",
       "\\end{array}\n",
       "\\right] = \\left[\n",
       "\\begin{array}{c}\n",
       "\\frac{d}{\\mathtt{dx}} \\\\\n",
       "-4 + 3 x^{2} \\\\\n",
       "\\end{array}\n",
       "\\right]\n",
       "\\end{equation}\n",
       " $$"
      ],
      "text/plain": [
       "(d / dx, 5 - 4x + x^3) ~ (d / dx, -5 + 3(x^3)) ~ (d / dx, -4 + 3(x^2))"
      ]
     },
     "metadata": {},
     "output_type": "display_data"
    }
   ],
   "source": [
    "d//dx, x^3 - 4x + 5 ~ d//dx, 3x^3-1 - 4 ~ d//dx, 3x^2 - 4"
   ]
  },
  {
   "cell_type": "code",
   "execution_count": 21,
   "metadata": {},
   "outputs": [
    {
     "data": {
      "text/latex": [
       "$$ \\begin{equation}\n",
       "\\left[\n",
       "\\begin{array}{c}\n",
       "\\frac{d}{\\mathtt{dx}} \\\\\n",
       "-43.982 + 3 t^{5} \\\\\n",
       "\\end{array}\n",
       "\\right] = \\left[\n",
       "\\begin{array}{c}\n",
       "\\frac{d}{\\mathtt{dx}} \\\\\n",
       "-15 + 3 t^{5} \\\\\n",
       "\\end{array}\n",
       "\\right] = \\left[\n",
       "\\begin{array}{c}\n",
       "\\frac{d}{\\mathtt{dx}} \\\\\n",
       "-1 + 3 t^{5} \\\\\n",
       "\\end{array}\n",
       "\\right] = 15 t^{4}\n",
       "\\end{equation}\n",
       " $$"
      ],
      "text/plain": [
       "(d / dx, -43.982297150257104 + 3(t^5)) ~ (d / dx, -15 + 3(t^5)) ~ (d / dx, -1 + 3(t^5)) ~ 15(t^4)"
      ]
     },
     "metadata": {},
     "output_type": "display_data"
    }
   ],
   "source": [
    "d//dx, 3t^5 - 14π ~ d//dx, 3t^5-1 - 14 ~ d//dx, 3t^5-1 ~ 15t^4"
   ]
  },
  {
   "cell_type": "code",
   "execution_count": 22,
   "metadata": {},
   "outputs": [
    {
     "data": {
      "text/plain": [
       "Differential(Differential(-43.982297150257104 + 3(t^5)))"
      ]
     },
     "metadata": {},
     "output_type": "display_data"
    }
   ],
   "source": [
    "D′(x) = Differential(x);\n",
    "D′(D′(3t^5 - 14π))"
   ]
  },
  {
   "cell_type": "code",
   "execution_count": 23,
   "metadata": {},
   "outputs": [
    {
     "data": {
      "text/plain": [
       "Differential(-43.982297150257104 + 3(t^5))"
      ]
     },
     "metadata": {},
     "output_type": "display_data"
    }
   ],
   "source": [
    "expand_derivatives(D′(3t^5 - 14π))"
   ]
  },
  {
   "cell_type": "markdown",
   "metadata": {},
   "source": [
    "## Example 3: Trigonometric Derivatives"
   ]
  },
  {
   "cell_type": "code",
   "execution_count": 25,
   "metadata": {},
   "outputs": [
    {
     "data": {
      "text/latex": [
       "$$ \\begin{equation}\n",
       "y = 9.4248 \\sin\\left( x \\right) = 3 \\cos\\left( x \\right)\n",
       "\\end{equation}\n",
       " $$"
      ],
      "text/plain": [
       "y ~ 9.42477796076938sin(x) ~ 3cos(x)"
      ]
     },
     "metadata": {},
     "output_type": "display_data"
    }
   ],
   "source": [
    "y ~ 3sin(x) * π ~ 3cos(x)"
   ]
  },
  {
   "cell_type": "code",
   "execution_count": 40,
   "metadata": {},
   "outputs": [
    {
     "data": {
      "text/latex": [
       "$$ \\begin{equation}\n",
       "y = \\frac{1}{3 \\cos\\left( x \\right)} + 5 x^{2} = \\frac{1}{3} - \\sin\\left( x \\right) + 5 \\left( -1 + 2 x^{2} \\right) = \\frac{1}{3} + 10 x - \\sin\\left( x \\right) = 10 x + \\frac{-1}{3 \\sin\\left( x \\right)}\n",
       "\\end{equation}\n",
       " $$"
      ],
      "text/plain": [
       "y ~ 1 / (3cos(x)) + 5(x^2) ~ (1//3) - sin(x) + 5(-1 + 2(x^2)) ~ (1//3) + 10x - sin(x) ~ 10x + -1 / (3sin(x))"
      ]
     },
     "metadata": {},
     "output_type": "display_data"
    }
   ],
   "source": [
    "y ~ 5x^2 + 1//3cos(x) ~ 5(2x^2-1) + 1//3-sin(x) ~ 5(2x) + 1//3-sin(x) ~ 10x - 1//3sin(x)"
   ]
  },
  {
   "cell_type": "markdown",
   "metadata": {},
   "source": [
    "## Example 4: Motion"
   ]
  }
 ],
 "metadata": {
  "kernelspec": {
   "display_name": "Julia 1.11.2",
   "language": "julia",
   "name": "julia-1.11"
  },
  "language_info": {
   "file_extension": ".jl",
   "mimetype": "application/julia",
   "name": "julia",
   "version": "1.11.2"
  }
 },
 "nbformat": 4,
 "nbformat_minor": 2
}
