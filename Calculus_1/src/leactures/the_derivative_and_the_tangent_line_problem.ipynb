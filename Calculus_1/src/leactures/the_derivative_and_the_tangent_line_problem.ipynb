{
 "cells": [
  {
   "cell_type": "code",
   "execution_count": 28,
   "metadata": {},
   "outputs": [],
   "source": [
    "using LinearAlgebra\n",
    "using Nemo\n",
    "using Groebner\n",
    "using Symbolics\n",
    "using Latexify\n",
    "using Makie\n",
    "using CairoMakie"
   ]
  },
  {
   "cell_type": "code",
   "execution_count": 29,
   "metadata": {},
   "outputs": [
    {
     "data": {
      "text/plain": [
       "restart_axis (generic function with 1 method)"
      ]
     },
     "metadata": {},
     "output_type": "display_data"
    }
   ],
   "source": [
    "\n",
    "figure = Figure()\n",
    "\n",
    "ax = Axis(figure[1, 1], xlabel = \"x values\", ylabel = \"y values\",)\n",
    "restart_axis() = Axis(figure[1, 1], xlabel = \"x values\", ylabel = \"y values\",)\n"
   ]
  },
  {
   "cell_type": "markdown",
   "metadata": {},
   "source": [
    "# Infinite Limits and Limits at Infinity"
   ]
  },
  {
   "cell_type": "markdown",
   "metadata": {},
   "source": [
    "## Definitions and Theorems:"
   ]
  },
  {
   "cell_type": "markdown",
   "metadata": {},
   "source": [
    "**slope of the graph of the function:**"
   ]
  },
  {
   "cell_type": "code",
   "execution_count": 116,
   "metadata": {},
   "outputs": [],
   "source": [
    "@variables c d dy dx f m x y y′ D P Δx Δy lim(..) f(..) f′(..) g(..);"
   ]
  },
  {
   "cell_type": "code",
   "execution_count": 31,
   "metadata": {},
   "outputs": [],
   "source": [
    "xs = Symbolics.variables(:x, 1:2);\n",
    "ys = Symbolics.variables(:y, 1:2);"
   ]
  },
  {
   "cell_type": "code",
   "execution_count": 32,
   "metadata": {},
   "outputs": [
    {
     "data": {
      "text/plain": [
       "fx (generic function with 1 method)"
      ]
     },
     "metadata": {},
     "output_type": "display_data"
    }
   ],
   "source": [
    "fx(x) = abs(x - 2)"
   ]
  },
  {
   "cell_type": "code",
   "execution_count": 33,
   "metadata": {},
   "outputs": [
    {
     "data": {
      "text/latex": [
       "$$ \\begin{equation}\n",
       "\\mathtt{lim}\\left( -2 + \\left|-2 + x\\right| + \\frac{ - f\\left( c \\right)}{x}, x = 2 \\right)\n",
       "\\end{equation}\n",
       " $$"
      ],
      "text/plain": [
       "lim(-2 + abs(-2 + x) + (-f(c)) / x, x ~ 2)"
      ]
     },
     "metadata": {},
     "output_type": "display_data"
    }
   ],
   "source": [
    "lim(fx(x) - f(c) // x - 2, x ~ 2)"
   ]
  },
  {
   "cell_type": "code",
   "execution_count": 34,
   "metadata": {},
   "outputs": [
    {
     "data": {
      "text/latex": [
       "$$ \\begin{equation}\n",
       "\\mathtt{lim}\\left( -1 - f\\left( 2 \\right), 1 = 2 \\right)\n",
       "\\end{equation}\n",
       " $$"
      ],
      "text/plain": [
       "lim(-1 - f(2), 1 ~ 2)"
      ]
     },
     "metadata": {},
     "output_type": "display_data"
    }
   ],
   "source": [
    "substitute(lim(fx(x) - f(c) // x - 2, x ~ 2), Dict(x => 1, c => 2))"
   ]
  },
  {
   "cell_type": "code",
   "execution_count": 35,
   "metadata": {},
   "outputs": [
    {
     "data": {
      "text/plain": [
       "(c, f(c))"
      ]
     },
     "metadata": {},
     "output_type": "display_data"
    }
   ],
   "source": [
    "P = (c, f(c))"
   ]
  },
  {
   "cell_type": "code",
   "execution_count": 36,
   "metadata": {},
   "outputs": [
    {
     "data": {
      "text/latex": [
       "$$ \\begin{equation}\n",
       "m = \\mathtt{lim}\\left(  - c + f\\left( x \\right) + \\frac{ - f\\left( c \\right)}{x}, x = c \\right)\n",
       "\\end{equation}\n",
       " $$"
      ],
      "text/plain": [
       "m ~ lim(-c + f(x) + (-f(c)) / x, x ~ c)"
      ]
     },
     "metadata": {},
     "output_type": "display_data"
    }
   ],
   "source": [
    "m ~ lim(f(x) - f(c) // x - c, x ~ c)"
   ]
  },
  {
   "cell_type": "markdown",
   "metadata": {},
   "source": [
    "**slope**"
   ]
  },
  {
   "cell_type": "code",
   "execution_count": 37,
   "metadata": {},
   "outputs": [
    {
     "data": {
      "text/latex": [
       "$$ \\begin{equation}\n",
       "x = \\left[\n",
       "\\begin{array}{c}\n",
       "c + \\mathtt{{\\Delta}x} \\\\\n",
       " - c + x \\\\\n",
       "\\end{array}\n",
       "\\right] = \\mathtt{{\\Delta}x}\n",
       "\\end{equation}\n",
       " $$"
      ],
      "text/plain": [
       "x ~ (c + Δx, -c + x) ~ Δx"
      ]
     },
     "metadata": {},
     "output_type": "display_data"
    }
   ],
   "source": [
    "x ~ c + Δx, x - c ~ Δx"
   ]
  },
  {
   "cell_type": "code",
   "execution_count": 38,
   "metadata": {},
   "outputs": [
    {
     "data": {
      "text/latex": [
       "$$ \\begin{equation}\n",
       "m = \\mathtt{lim}\\left( \\frac{ - f\\left( x \\right)}{\\mathtt{{\\Delta}x}} + f\\left( x + \\mathtt{{\\Delta}x} \\right), \\mathtt{{\\Delta}x} = 0 \\right)\n",
       "\\end{equation}\n",
       " $$"
      ],
      "text/plain": [
       "m ~ lim((-f(x)) / Δx + f(x + Δx), Δx ~ 0)"
      ]
     },
     "metadata": {},
     "output_type": "display_data"
    }
   ],
   "source": [
    "m ~ lim(f(x + Δx) - f(x) // Δx, Δx ~ 0)"
   ]
  },
  {
   "cell_type": "markdown",
   "metadata": {},
   "source": [
    "**derivative**"
   ]
  },
  {
   "cell_type": "code",
   "execution_count": 39,
   "metadata": {},
   "outputs": [
    {
     "data": {
      "text/latex": [
       "$$ \\begin{equation}\n",
       "\\mathtt{f\\prime}\\left( x \\right) = \\mathtt{lim}\\left( \\frac{ - f\\left( x \\right)}{\\mathtt{{\\Delta}x}} + f\\left( x + \\mathtt{{\\Delta}x} \\right), \\mathtt{{\\Delta}x} = 0 \\right)\n",
       "\\end{equation}\n",
       " $$"
      ],
      "text/plain": [
       "f′(x) ~ lim((-f(x)) / Δx + f(x + Δx), Δx ~ 0)"
      ]
     },
     "metadata": {},
     "output_type": "display_data"
    }
   ],
   "source": [
    "f′(x) ~ lim(f(x + Δx) - f(x) // Δx, Δx ~ 0)"
   ]
  },
  {
   "cell_type": "markdown",
   "metadata": {},
   "source": [
    "**Differentiability implies continuity theorem:**\n",
    "\n",
    "If f is continuous at x = c"
   ]
  },
  {
   "cell_type": "code",
   "execution_count": 40,
   "metadata": {},
   "outputs": [
    {
     "data": {
      "text/latex": [
       "$$ \\begin{equation}\n",
       "f\\left( x \\right) = x = c\n",
       "\\end{equation}\n",
       " $$"
      ],
      "text/plain": [
       "f(x) ~ x ~ c"
      ]
     },
     "metadata": {},
     "output_type": "display_data"
    }
   ],
   "source": [
    "f(x) ~ x ~ c "
   ]
  },
  {
   "cell_type": "markdown",
   "metadata": {},
   "source": [
    "**Notations:**"
   ]
  },
  {
   "cell_type": "code",
   "execution_count": 41,
   "metadata": {},
   "outputs": [
    {
     "data": {
      "text/latex": [
       "$$ \\begin{equation}\n",
       "y = \\left[\n",
       "\\begin{array}{c}\n",
       "f\\left( x \\right) \\\\\n",
       "\\mathtt{f\\prime}\\left( x \\right) \\\\\n",
       "\\frac{\\mathtt{dy}}{\\mathtt{dx}} \\\\\n",
       "\\mathtt{y\\prime} \\\\\n",
       "\\left[\n",
       "\\begin{array}{c}\n",
       "\\frac{d}{\\mathtt{dx}} \\\\\n",
       "\\left[\n",
       "\\begin{array}{c}\n",
       "f\\left( x \\right) \\\\\n",
       "\\end{array}\n",
       "\\right] \\\\\n",
       "\\end{array}\n",
       "\\right] \\\\\n",
       "\\left[\n",
       "\\begin{array}{c}\n",
       "D \\\\\n",
       "\\left[\n",
       "\\begin{array}{c}\n",
       "y \\\\\n",
       "\\end{array}\n",
       "\\right] \\\\\n",
       "\\end{array}\n",
       "\\right] \\\\\n",
       "\\end{array}\n",
       "\\right]\n",
       "\\end{equation}\n",
       " $$"
      ],
      "text/plain": [
       "y ~ (f(x), f′(x), dy / dx, y′, Any[d / dx, Num[f(x)]], Any[D, Num[y]])"
      ]
     },
     "metadata": {},
     "output_type": "display_data"
    }
   ],
   "source": [
    "y ~ f(x), f′(x), dy//dx, y′, [d//dx,[f(x)]], [D,([y])]"
   ]
  },
  {
   "cell_type": "markdown",
   "metadata": {},
   "source": [
    "## Example 1: \n",
    "\n",
    "Finding the Derivative by the Limit Process"
   ]
  },
  {
   "cell_type": "code",
   "execution_count": 42,
   "metadata": {},
   "outputs": [
    {
     "data": {
      "text/latex": [
       "$$ \\begin{equation}\n",
       "f\\left( x \\right) = x^{3}\n",
       "\\end{equation}\n",
       " $$"
      ],
      "text/plain": [
       "f(x) ~ x^3"
      ]
     },
     "metadata": {},
     "output_type": "display_data"
    }
   ],
   "source": [
    "f(x) ~ x^3"
   ]
  },
  {
   "cell_type": "code",
   "execution_count": 43,
   "metadata": {},
   "outputs": [],
   "source": [
    "fx(x) = x^3;"
   ]
  },
  {
   "cell_type": "code",
   "execution_count": 44,
   "metadata": {},
   "outputs": [
    {
     "data": {
      "text/latex": [
       "$$ \\begin{equation}\n",
       "\\frac{ - x^{3}}{\\mathtt{{\\Delta}x}} + \\left( x + \\mathtt{{\\Delta}x} \\right)^{3}\n",
       "\\end{equation}\n",
       " $$"
      ],
      "text/plain": [
       "(-(x^3)) / Δx + (x + Δx)^3"
      ]
     },
     "metadata": {},
     "output_type": "display_data"
    }
   ],
   "source": [
    "expr = fx(x + Δx) - fx(x) // Δx"
   ]
  },
  {
   "cell_type": "code",
   "execution_count": 45,
   "metadata": {},
   "outputs": [
    {
     "data": {
      "text/latex": [
       "$$ \\begin{equation}\n",
       "\\frac{ - x^{3}}{\\mathtt{{\\Delta}x}} + x^{3} + 3 x^{2} \\mathtt{{\\Delta}x} + 3 \\mathtt{{\\Delta}x}^{2} x + \\mathtt{{\\Delta}x}^{3}\n",
       "\\end{equation}\n",
       " $$"
      ],
      "text/plain": [
       "(-(x^3)) / Δx + x^3 + 3(x^2)*Δx + 3x*(Δx^2) + Δx^3"
      ]
     },
     "metadata": {},
     "output_type": "display_data"
    }
   ],
   "source": [
    "expr1 = expand(expr)"
   ]
  },
  {
   "cell_type": "code",
   "execution_count": 46,
   "metadata": {},
   "outputs": [
    {
     "data": {
      "text/latex": [
       "$$ \\begin{equation}\n",
       "\\frac{ - x^{3} + x^{3} \\mathtt{{\\Delta}x} + 3 \\mathtt{{\\Delta}x}^{2} x^{2} + 3 \\mathtt{{\\Delta}x}^{3} x + \\mathtt{{\\Delta}x}^{4}}{\\mathtt{{\\Delta}x}}\n",
       "\\end{equation}\n",
       " $$"
      ],
      "text/plain": [
       "(-(x^3) + (x^3)*Δx + 3(x^2)*(Δx^2) + 3x*(Δx^3) + Δx^4) / Δx"
      ]
     },
     "metadata": {},
     "output_type": "display_data"
    }
   ],
   "source": [
    "expr2 = simplify(expr1)"
   ]
  },
  {
   "cell_type": "code",
   "execution_count": 62,
   "metadata": {},
   "outputs": [
    {
     "data": {
      "text/latex": [
       "$$ \\begin{equation}\n",
       "x^{3 \\mathtt{{\\Delta}x}} - x^{3} + 3 \\mathtt{{\\Delta}x}^{2} x^{2} + 3 \\mathtt{{\\Delta}x}^{3} x + \\mathtt{{\\Delta}x}^{4} = 8 \\mathtt{{\\Delta}x}^{4}\n",
       "\\end{equation}\n",
       " $$"
      ],
      "text/plain": [
       "x^(3Δx) - (x^3) + 3(x^2)*(Δx^2) + 3x*(Δx^3) + Δx^4 ~ 8(Δx^4)"
      ]
     },
     "metadata": {},
     "output_type": "display_data"
    }
   ],
   "source": [
    "eq = -x^3 + x^3Δx + 3Δx^2*x^2 + 3Δx^3*x + Δx^4 ~  6Δx^4 + Δx^4 + Δx^4"
   ]
  },
  {
   "cell_type": "code",
   "execution_count": 82,
   "metadata": {},
   "outputs": [
    {
     "data": {
      "text/latex": [
       "$$ \\begin{equation}\n",
       " - x^{3} + 8 \\mathtt{{\\Delta}x}^{4}\n",
       "\\end{equation}\n",
       " $$"
      ],
      "text/plain": [
       "-(x^3) + 8(Δx^4)"
      ]
     },
     "metadata": {},
     "output_type": "display_data"
    }
   ],
   "source": [
    " expr3 = -x^3 + 6Δx^4 + Δx^4 + Δx^4 "
   ]
  },
  {
   "cell_type": "code",
   "execution_count": 93,
   "metadata": {},
   "outputs": [
    {
     "data": {
      "text/latex": [
       "$$ \\begin{equation}\n",
       " - x^{3} + 8 \\mathtt{{\\Delta}x}^{4} = x^{3} \\left( -1 + 8 \\mathtt{{\\Delta}x} \\right)\n",
       "\\end{equation}\n",
       " $$"
      ],
      "text/plain": [
       "-(x^3) + 8(Δx^4) ~ (x^3)*(-1 + 8Δx)"
      ]
     },
     "metadata": {},
     "output_type": "display_data"
    }
   ],
   "source": [
    "eq2 = 8Δx^4 - x^3 ~ x^3 * (8Δx - 1)"
   ]
  },
  {
   "cell_type": "code",
   "execution_count": 84,
   "metadata": {},
   "outputs": [
    {
     "name": "stderr",
     "output_type": "stream",
     "text": [
      "┌ Warning: Infinite number of solutions\n",
      "└ @ SymbolicsGroebnerExt /Users/kabuquecisouzaalves/.julia/packages/Symbolics/YbNrd/ext/SymbolicsGroebnerExt.jl:228\n",
      "┌ Info: Assuming ((1//16)*√((-32//1)*(x^3))) != 0\n",
      "└ @ Symbolics /Users/kabuquecisouzaalves/.julia/packages/Symbolics/YbNrd/src/solver/univar.jl:93\n"
     ]
    },
    {
     "data": {
      "text/plain": [
       "4-element Vector{Any}:\n",
       " Dict{Num, Any}(Δx => (1//2)*√((1//8)*√(-32(x^3))) - (1//2)*√((-1//8)*√(-32(x^3))), x => x)\n",
       " Dict{Num, Any}(Δx => (1//2)*√((1//8)*√(-32(x^3))) + (1//2)*√((-1//8)*√(-32(x^3))), x => x)\n",
       " Dict{Num, Any}(Δx => -(1//2)*√((1//8)*√(-32(x^3))) - (1//2)*√((-1//8)*√(-32(x^3))), x => x)\n",
       " Dict{Num, Any}(Δx => -(1//2)*√((1//8)*√(-32(x^3))) + (1//2)*√((-1//8)*√(-32(x^3))), x => x)"
      ]
     },
     "metadata": {},
     "output_type": "display_data"
    }
   ],
   "source": [
    "symbolic_solve(expr3)"
   ]
  },
  {
   "cell_type": "code",
   "execution_count": 81,
   "metadata": {},
   "outputs": [
    {
     "data": {
      "text/plain": [
       "1"
      ]
     },
     "metadata": {},
     "output_type": "display_data"
    }
   ],
   "source": [
    "gcd(8, 1)"
   ]
  },
  {
   "cell_type": "code",
   "execution_count": 94,
   "metadata": {},
   "outputs": [
    {
     "data": {
      "text/latex": [
       "$$ \\begin{equation}\n",
       "0 = 0 = 0 = 0\n",
       "\\end{equation}\n",
       " $$"
      ],
      "text/plain": [
       "0 ~ 0 ~ 0 ~ 0"
      ]
     },
     "metadata": {},
     "output_type": "display_data"
    }
   ],
   "source": [
    "substitute(eq ~ eq, Dict(x => 1, Δx => 0))"
   ]
  },
  {
   "cell_type": "code",
   "execution_count": 98,
   "metadata": {},
   "outputs": [
    {
     "data": {
      "text/latex": [
       "$$ \\begin{equation}\n",
       "\\frac{ - x^{3} + 8 x^{3} \\mathtt{{\\Delta}x}}{\\mathtt{{\\Delta}x}}\n",
       "\\end{equation}\n",
       " $$"
      ],
      "text/plain": [
       "(-(x^3) + 8(x^3)*Δx) / Δx"
      ]
     },
     "metadata": {},
     "output_type": "display_data"
    }
   ],
   "source": [
    "expand(x^3 * (8Δx - 1) / Δx)"
   ]
  },
  {
   "cell_type": "code",
   "execution_count": 117,
   "metadata": {},
   "outputs": [
    {
     "ename": "AssertionError",
     "evalue": "AssertionError: All variables should be Nums or BasicSymbolics",
     "output_type": "error",
     "traceback": [
      "AssertionError: All variables should be Nums or BasicSymbolics\n",
      "\n",
      "Stacktrace:\n",
      " [1] symbolic_solve(expr::Num; x::@Kwargs{})\n",
      "   @ Symbolics ~/.julia/packages/Symbolics/YbNrd/src/solver/main.jl:249\n",
      " [2] symbolic_solve(expr::Num)\n",
      "   @ Symbolics ~/.julia/packages/Symbolics/YbNrd/src/solver/main.jl:225\n",
      " [3] top-level scope\n",
      "   @ ~/Documents/linierAlgebra/julia/Calculus_1/src/leactures/jl_notebook_cell_df34fa98e69747e1a8f8a730347b8e2f_X42sZmlsZQ==.jl:1"
     ]
    }
   ],
   "source": [
    "symbolic_solve(f(x + Δx) - f(x) // Δx)"
   ]
  },
  {
   "cell_type": "code",
   "execution_count": 246,
   "metadata": {},
   "outputs": [],
   "source": [
    "@syms x::Real c::Real Δx::Real;\n",
    "@syms f(..)::Real;"
   ]
  },
  {
   "cell_type": "code",
   "execution_count": 247,
   "metadata": {},
   "outputs": [
    {
     "data": {
      "text/plain": [
       "1.0"
      ]
     },
     "metadata": {},
     "output_type": "display_data"
    }
   ],
   "source": [
    "substitute(f(x + Δx) - f(x) // Δx, Dict(x => 1, Δx => 1, f => x -> x))"
   ]
  },
  {
   "cell_type": "code",
   "execution_count": 248,
   "metadata": {},
   "outputs": [
    {
     "data": {
      "text/plain": [
       "10-element Vector{Float64}:\n",
       "  1.0\n",
       "  3.0\n",
       "  5.0\n",
       "  7.0\n",
       "  9.0\n",
       " 11.0\n",
       " 13.0\n",
       " 15.0\n",
       " 17.0\n",
       " 19.0"
      ]
     },
     "metadata": {},
     "output_type": "display_data"
    }
   ],
   "source": [
    "data = map(y -> limit(substitute(f(x + Δx) - f(x) // Δx, Dict(x => y, Δx => y, f => x -> x)), Δx, 0), 1:10)"
   ]
  },
  {
   "cell_type": "markdown",
   "metadata": {},
   "source": [
    "increasing by 2 factor."
   ]
  },
  {
   "cell_type": "code",
   "execution_count": 249,
   "metadata": {},
   "outputs": [
    {
     "data": {
      "text/plain": [
       "9-element Vector{Float64}:\n",
       " 2.0\n",
       " 2.0\n",
       " 2.0\n",
       " 2.0\n",
       " 2.0\n",
       " 2.0\n",
       " 2.0\n",
       " 2.0\n",
       " 2.0"
      ]
     },
     "metadata": {},
     "output_type": "display_data"
    }
   ],
   "source": [
    "diff(data)"
   ]
  },
  {
   "cell_type": "markdown",
   "metadata": {},
   "source": [
    "We use the factor and plug to the equation to get the limit:"
   ]
  },
  {
   "cell_type": "code",
   "execution_count": 250,
   "metadata": {},
   "outputs": [
    {
     "data": {
      "text/plain": [
       "3.0"
      ]
     },
     "metadata": {},
     "output_type": "display_data"
    }
   ],
   "source": [
    "limit(substitute(f(x + Δx) - f(x) // Δx, Dict(x => 2, Δx => 2, f => x -> x)), Δx, 0)"
   ]
  },
  {
   "cell_type": "markdown",
   "metadata": {},
   "source": [
    "## Example 2: \n",
    "\n",
    "A Graph with a Sharp Turn"
   ]
  },
  {
   "cell_type": "code",
   "execution_count": 251,
   "metadata": {},
   "outputs": [],
   "source": [
    "fx(x) = abs(x - 2);"
   ]
  },
  {
   "cell_type": "code",
   "execution_count": 252,
   "metadata": {},
   "outputs": [
    {
     "data": {
      "text/plain": [
       "10-element Vector{Int64}:\n",
       " 1\n",
       " 0\n",
       " 1\n",
       " 2\n",
       " 3\n",
       " 4\n",
       " 5\n",
       " 6\n",
       " 7\n",
       " 8"
      ]
     },
     "metadata": {},
     "output_type": "display_data"
    }
   ],
   "source": [
    "data = map(x -> fx(x), 1:10)"
   ]
  },
  {
   "cell_type": "markdown",
   "metadata": {},
   "source": [
    "**Maping a function many range steps is the same as maping its limit.**"
   ]
  },
  {
   "cell_type": "code",
   "execution_count": 253,
   "metadata": {},
   "outputs": [
    {
     "data": {
      "text/latex": [
       "$$ \\begin{equation}\n",
       "\\left[\n",
       "\\begin{array}{c}\n",
       "1 \\\\\n",
       "0 \\\\\n",
       "1 \\\\\n",
       "2 \\\\\n",
       "3 \\\\\n",
       "4 \\\\\n",
       "5 \\\\\n",
       "6 \\\\\n",
       "7 \\\\\n",
       "8 \\\\\n",
       "\\end{array}\n",
       "\\right] = \\left[\n",
       "\\begin{array}{c}\n",
       "1 \\\\\n",
       "0 \\\\\n",
       "1 \\\\\n",
       "2 \\\\\n",
       "3 \\\\\n",
       "4 \\\\\n",
       "5 \\\\\n",
       "6 \\\\\n",
       "7 \\\\\n",
       "8 \\\\\n",
       "\\end{array}\n",
       "\\right]\n",
       "\\end{equation}\n",
       " $$"
      ],
      "text/plain": [
       "[1, 0, 1, 2, 3, 4, 5, 6, 7, 8] ~ [1, 0, 1, 2, 3, 4, 5, 6, 7, 8]"
      ]
     },
     "metadata": {},
     "output_type": "display_data"
    }
   ],
   "source": [
    "map(y -> limit(substitute(fx(x), Dict(x => y)), x, 0), 1:10) ~ data"
   ]
  },
  {
   "cell_type": "code",
   "execution_count": 254,
   "metadata": {},
   "outputs": [
    {
     "data": {
      "text/plain": [
       "9-element Vector{Int64}:\n",
       " -1\n",
       "  1\n",
       "  1\n",
       "  1\n",
       "  1\n",
       "  1\n",
       "  1\n",
       "  1\n",
       "  1"
      ]
     },
     "metadata": {},
     "output_type": "display_data"
    }
   ],
   "source": [
    "diff(data)"
   ]
  },
  {
   "cell_type": "code",
   "execution_count": 291,
   "metadata": {},
   "outputs": [
    {
     "data": {
      "text/plain": [
       "21-element Vector{Float64}:\n",
       " -11.8\n",
       " -10.777777777777779\n",
       "  -9.75\n",
       "  -8.714285714285715\n",
       "  -7.666666666666667\n",
       "  -6.6\n",
       "  -5.5\n",
       "  -4.333333333333334\n",
       "  -3.0\n",
       "  -1.0\n",
       "   ⋮\n",
       "  -1.0\n",
       "   0.3333333333333335\n",
       "   1.5\n",
       "   2.5999999999999996\n",
       "   3.666666666666667\n",
       "   4.714285714285714\n",
       "   5.75\n",
       "   6.777777777777779\n",
       "   7.800000000000001"
      ]
     },
     "metadata": {},
     "output_type": "display_data"
    }
   ],
   "source": [
    "data = map(y ->  substitute(f(x) - f(c) // x - c, Dict(x => y, c => 2, f => x -> x, f => c -> c)), -10:10)"
   ]
  },
  {
   "cell_type": "code",
   "execution_count": 281,
   "metadata": {},
   "outputs": [
    {
     "ename": "MethodError",
     "evalue": "MethodError: no method matching limit(::Float64, ::Equation)\nThe function `limit` exists, but no method is defined for this combination of argument types.\n\nClosest candidates are:\n  limit(::Any, ::Any, !Matched::Any, !Matched::Any...)\n   @ Symbolics ~/.julia/packages/Symbolics/YbNrd/src/limits.jl:20\n",
     "output_type": "error",
     "traceback": [
      "MethodError: no method matching limit(::Float64, ::Equation)\n",
      "The function `limit` exists, but no method is defined for this combination of argument types.\n",
      "\n",
      "Closest candidates are:\n",
      "  limit(::Any, ::Any, !Matched::Any, !Matched::Any...)\n",
      "   @ Symbolics ~/.julia/packages/Symbolics/YbNrd/src/limits.jl:20\n",
      "\n",
      "\n",
      "Stacktrace:\n",
      " [1] top-level scope\n",
      "   @ ~/Documents/linierAlgebra/julia/Calculus_1/src/leactures/jl_notebook_cell_df34fa98e69747e1a8f8a730347b8e2f_Y110sZmlsZQ==.jl:1"
     ]
    }
   ],
   "source": [
    "limit(substitute(f(x) - f(c) // x - c, Dict(x => 1, c => 1, f => x -> x, f => c -> c)), x ~ 0)"
   ]
  },
  {
   "cell_type": "code",
   "execution_count": 303,
   "metadata": {},
   "outputs": [
    {
     "ename": "ErrorException",
     "evalue": "Invalid xlims length of 1, must be 2.",
     "output_type": "error",
     "traceback": [
      "Invalid xlims length of 1, must be 2.\n",
      "\n",
      "Stacktrace:\n",
      " [1] error(s::String)\n",
      "   @ Base ./error.jl:35\n",
      " [2] xlims!(ax::Axis, xlims::Int64)\n",
      "   @ Makie ~/.julia/packages/Makie/Y3ABD/src/makielayout/blocks/axis.jl:0\n",
      " [3] limits!(ax::Axis, xlims::Int64, ylims::Float64)\n",
      "   @ Makie ~/.julia/packages/Makie/Y3ABD/src/makielayout/blocks/axis.jl:1383\n",
      " [4] limits!(::Int64, ::Float64)\n",
      "   @ Makie ~/.julia/packages/Makie/Y3ABD/src/makielayout/blocks/axis.jl:1414\n",
      " [5] top-level scope\n",
      "   @ ~/Documents/linierAlgebra/julia/Calculus_1/src/leactures/jl_notebook_cell_df34fa98e69747e1a8f8a730347b8e2f_Y103sZmlsZQ==.jl:1"
     ]
    }
   ],
   "source": [
    "limits!(0, 4pi)\n",
    "lines(data)\n"
   ]
  },
  {
   "cell_type": "markdown",
   "metadata": {},
   "source": [
    "## Example 3: \n",
    "\n",
    "A Graph with a Vertical Tangent Line"
   ]
  },
  {
   "cell_type": "code",
   "execution_count": 314,
   "metadata": {},
   "outputs": [
    {
     "data": {
      "text/latex": [
       "$$ \\begin{equation}\n",
       "f\\left( x \\right) = \\frac{1}{3} x\n",
       "\\end{equation}\n",
       " $$"
      ],
      "text/plain": [
       "f(x) ~ (1//3)*x"
      ]
     },
     "metadata": {},
     "output_type": "display_data"
    }
   ],
   "source": [
    "f(x) ~ x^1//3"
   ]
  },
  {
   "cell_type": "markdown",
   "metadata": {},
   "source": [
    "Is this function differenciable at (0,0)?"
   ]
  },
  {
   "cell_type": "code",
   "execution_count": 316,
   "metadata": {},
   "outputs": [],
   "source": [
    "fx(x) = f(x) - f(c) // x - c;"
   ]
  },
  {
   "cell_type": "code",
   "execution_count": 318,
   "metadata": {},
   "outputs": [
    {
     "data": {
      "text/plain": [
       "NaN"
      ]
     },
     "metadata": {},
     "output_type": "display_data"
    }
   ],
   "source": [
    "limit(substitute(fx(x), Dict(x => 0, c => 0, f => x -> x, f => c -> c)), x, 0)"
   ]
  },
  {
   "cell_type": "code",
   "execution_count": 351,
   "metadata": {},
   "outputs": [
    {
     "data": {
      "text/latex": [
       "$$ \\begin{equation}\n",
       "\\frac{\\frac{1}{3}}{x^{2}}\n",
       "\\end{equation}\n",
       " $$"
      ],
      "text/plain": [
       "(1//3) / (x^2)"
      ]
     },
     "metadata": {},
     "output_type": "display_data"
    }
   ],
   "source": [
    "m = 1 // x^2//3"
   ]
  },
  {
   "cell_type": "markdown",
   "metadata": {},
   "source": [
    "Is not differenciable at P = (0, 0)!"
   ]
  },
  {
   "cell_type": "code",
   "execution_count": 386,
   "metadata": {},
   "outputs": [],
   "source": [
    "data_fx = map(y -> limit(substitute(fx(x), Dict(x => y + 1, c => y , f => x -> x, f => c -> c)), x, 0), 0:100);\n",
    "data_m = map(y -> limit(substitute(m, Dict(x => y + 1, c => y , f => x -> x, f => c -> c)), x, 0), 0:100);"
   ]
  },
  {
   "cell_type": "code",
   "execution_count": 387,
   "metadata": {},
   "outputs": [
    {
     "data": {
      "image/png": "[encoded data removed]",
      "text/html": [
       "<img width=600 height=450 style='object-fit: contain; height: auto;' src=\"data:image/png;base64, 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\"/>"
      ]
     },
     "metadata": {},
     "output_type": "display_data"
    }
   ],
   "source": [
    "lines(data_fx)"
   ]
  },
  {
   "cell_type": "code",
   "execution_count": 410,
   "metadata": {},
   "outputs": [
    {
     "data": {
      "image/png": "[encoded data removed]",
      "text/html": [
       "<img width=600 height=450 style='object-fit: contain; height: auto;' src=\"data:image/png;base64, iVBORw0KGgoAAAANSUhEUgAABLAAAAOECAIAAAA+D1+tAAAABmJLR0QA/wD/AP+gvaeTAAAgAElEQVR4nOzdf3Cc9WHg/8+uVisJS/KPWLbABkL4YRwbc44x4VdMADeXGBJMEhrPzZHeXJIB0rSMp8Nkctcb0n476Tf0hmmbhia9EK6Z0hmacodThx/FdWJ+NAViaDDg2DgJMVi2ZWMbSba0K+3u/bEgO5Ys+ceudh99Xq/JTB6eZ/3sxyaYvP35fJ4nVSqVAgAAAPFJ13oAAAAA1IYgBAAAiJQgBAAAiJQgBAAAiJQgBAAAiJQgBAAAiJQgBAAAiJQgBAAAiJQgBAAAiJQgBAAAiJQgBAAAiJQgBAAAiJQgBAAAiJQgBAAAiJQgBAAAiJQgBAAAiJQgBAAAiJQgBAAAiJQgBAAAiJQgBAAAiJQgBAAAiJQgBAAAiJQgBAAAiJQgBAAAiJQgBAAAiJQgBAAAiJQgBAAAiJQgBAAAiJQgBAAAiJQgBAAAiFSm1gOoC6lUqtZDAAAAGEWpVKrezc0QAgAARMoM4WFVLe+Ruru7BwYGZs2a1dzcPJHfC8Ap2rVrVz6f7+zszGaztR4LACdgx44dhUJhzpw5DQ0NtR7LcZmAlYxmCAEAACIlCAEAACIlCAEAACIlCAEAACIlCAEAACIlCAEAACIlCAEAACIlCAEAACIlCAEAACIlCAEAACIlCAEAACIlCAEAACIlCAEAACIlCAEAACIlCAEAACIlCAEAACIlCAEAACIlCAEAACIlCAEAACIlCAEAACIlCAEAACIlCAEAACIlCAEAACIlCAEAACI1oUG4f//+BQsW3H777Sf3w3/yk5/ceuutV1111Qc+8IGVK1fed999uVyusiMEAACIR2Yiv+yhhx569dVXzznnnJP4sX/wB39wzz33DP/liy++uGbNmr/4i7/4p3/6p7PPPrtyYwQAAIjFxAXhnj17/viP//jkfuzdd99drsELLrhg5cqVnZ2dTzzxxKOPPrpp06aPf/zjzz33XHNzc0UHCwAAMPlVfclosVjcunXrn//5n1966aVvvPHGSdyhu7v7j/7oj0IICxcu/OlPf/r1r3999erVjzzyyF133RVC2LRp09/8zd9UeNAAAAARqG4Qbtu2raWlZd68eatXr3799ddP7ib33XffoUOHUqnUP/7jP7a1tQ2f/+pXv3rZZZeFEL7xjW9UZLQAAABRqW4QplKp008//ex3NTU1ncRN1q5dG0K48sor582bd9SlT37ykyGEbdu2vfbaa6c+WgAAgKhUNwjPPffc149QntA7IcVi8YUXXgghXHXVVSOv3nDDDeWD55577hSHCgAAEJt6fw/h9u3bBwYGQggXXHDByKvz5s3LZDIhBDOEAAAAJ2pCXztxEnbt2lU+OP3000deTafTs2fP3rFjx86dO8e+z/79+8f9rmKxeBIjPGnFI0zk9wJwivwGDpBQw797p1KpWo+lXtR7EB48eLB8cNppp436gZaWliM/diwzZswY97vefPPNExzdKXnrrbdyudzg4ODIrZWpVD6V6g8hlErZUqllIkcFwLj27NkzODhYKBQaGxtrPRYATsCuXbuKxWKpVGpoaKj1WOpFvQdhPp8vH5SXho5UPl9eVjqG6dOnj3G1PH+YTk/oAtpUKpVKpdLp9MjvbW39/rRp/y2E0Nd3y4EDX5vIUQEwrnQ6fazfwAGoZ+l0ulQq+Q38SPUehMMTg7lcbtQPlFOwPE84hn379o1xtTxlPHfu3JMZ4snKZrMDAwOzZs1qbm4ecXFa+b9aW1tbWyd0VACMK5PJ5PP5zs7ObDZb67EAcAJSqVShUJgzZ44ZwmH1XsbDLx7s6ekZ9QPl80e+nxAAAIDjUe9BeM4555QPRt3g19/fX576G/4YAAAAx6neg3D69OmzZ88OIbz00ksjr27atKl8MH/+/AkdFgAAQPLVexCGEK699toQwvr160de+pd/+ZcQQmNj47JlyyZ6WAAAAAmXgCC8+eabQwjbtm177LHHjjyfy+W+853vhBA++tGPtre312ZwAAAAiVVfQfjhD3+4s7Ozs7Nzz549wydXrlx50UUXhRBuvfXW1157rXwyn8/fdtttv/zlL1Op1B/+4R/WZrgAAABJVl+vndi7d+/u3btDCIVCYfhkKpV64IEHrrjiiu3bt8+bN2/JkiUdHR1PPfVUX19fCOGuu+669NJLazZiAACAxKqvGcJjueiii5555pkPfOADpVLppz/96aOPPtrX1zd9+vR77733rrvuqvXoAAAAEmlCZwh//OMfj/2Bl19++ViXFi1atHHjxpdeeumVV17p7+8/66yzPvShDzU1NVV4iAAAANGoryWj41q0aNGiRYtqPQoAAIDJIBlLRgEAAKg4QQgAABApQQgAABApQQgAABApQQgAABApQQgAABApQQgAABApQQgAABApQQgAABApQQgAABApQQgAABApQQgAABApQQgAABApQQgAABApQQgAABApQQgAABApQQgAABApQQgAABApQQgAABApQQgAABApQQgAABApQQgAABApQQgAABApQQgAABApQQgAABApQQgAABApQQgAABApQQgAABApQQgAABApQQgAABApQQgAABApQQgAABApQQgAABApQQgAABApQQgAABApQQgAABApQQgAABApQQgAABApQQgAABApQQgAABApQQgAABApQQgAABApQQgAABApQQgAABApQQgAABApQQgAABApQQgAABApQQgAABApQQgAABApQQgAABApQQgAABApQQgAABApQQgAABApQQgAABApQQgAABApQQgAABApQQgAABApQQgAABApQQgAABApQQgAABApQQgAABApQQgAABApQQgAABApQQgAABApQQgAABApQQgAABApQQgAABApQQgAABApQQgAABApQQgAABApQQgAABApQQgAABApQQgAABApQQgAABApQQgAABApQQgAABApQQgAABApQQgAABApQQgAABApQQgAABApQQgAABApQQgAABApQQgAABApQQgAABApQQgAABApQQgAABApQQgAABApQQgAABApQQgAABApQQgAABApQQgAABApQQgAABApQQgAABApQQgAABApQQgAABApQQgAABApQQgAABApQQgAABApQQgAABApQQgAABApQQgAABApQQgAABApQQgAABApQQgAABApQQgAABApQQgAABApQQgAABApQQgAABApQQgAABApQQgAABApQQgAABApQQgAABApQQgAABApQQgAABApQQgAABApQQgAABApQQgAABApQQgAABApQQgAABApQQgAABApQQgAABApQQgAABApQQgAABApQQgAABApQQgAABApQQgAABApQQgAABApQQgAABApQQgAABApQQgAABApQQgAABApQQgAABApQQgAABApQQgAABApQQgAABApQQgAABApQQgAABApQQgAABApQQgAABApQQgAABApQQgAABApQQgAABApQQgAABApQQgAABApQQgAABApQQgAABApQQgAABApQQgAABApQQgAABApQQgAABApQQgAABApQQgAABApQQgAABApQQgAABApQQgAABApQQgAABApQQgAABApQQgAABApQQgAABApQQgAABApQQgAABApQQgAABApQQgAABApQQgAABApQQgAABApQQgAABApQQgAABApQQgAABApQQgAABApQQgAABApQQgAABApQQgAABApQQgAABApQQgAABApQQgAABApQQgAABApQQgAABApQQgAABApQQgAABApQQgAABApQQgAABApQQgAABApQQgAABApQQgAABApQQgAABApQQgAABApQQgAABApQQgAABApQQgAABApQQgAABApQQgAABApQQgAABApQQgAABApQQgAABApQQgAABApQQgAABApQQgAABApQQgAABApQQgAABApQQgAABApQQgAABApQQgAABApQQgAABApQQgAABApQQgAABApQQgAABApQQgAABApQQgAABApQQgAABApQQgAABApQQgAABApQQgAABApQQgAABApQQgAABApQQgAABApQQgAABApQQgAABApQQgAABApQQgAABApQQgAABApQQgAABApQQgAABApQQgAABApQQgAABApQQgAABApQQgAABApQQgAABApQQgAABApQQgAABApQQgAABApQQgAABApQQgAABApQQgAABApQQgAABApQQgAABApQQgAABApQQgAABApQQgAABApQQgAABApQQgAABApQQgAABApQQgAABApQQgAABApQQgAABApQQgAABApQQgAABApQQgAABApQQgAABApQQgAABApQQgAABApQQgAABApQQgAABApQQgAABApQQgAABApQQgAABApQQgAABApQQgAABApQQgAABApQQgAABApQQgAABApQQgAABApQQgAABApQQgAABApQQgAABApQQgAABApQQgAABApQQgAABApQQgAABApQQgAABApQQgAABApQQgAABApQQgAABApQQgAABApQQgAABApQQgAABApQQgAABApQQgAABApQQgAABApQQgAABApQQgAABApQQgAABApQQgAABApQQgAABApQQgAABApQQgAABApQQgAABApQQgAABApQQgAABApQQgAABApQQgAABApQQgAABApQQgAABApQQgAABApQQgAABApQQgAABApQQgAABApQQgAABApQQgAABApQQgAABApQQgAABApQQgAABApQQgAABApQQgAABApQQgAABApQQgAABApQQgAABApQQgAABApQQgAABApQQgAABApQQgAABApQQgAABApQQgAABApQQgAABApQQgAABApQQgAABApQQgAABApQQgAABApQQgAABApQQgAABApQQgAABApQQgAABApQQgAABApQQgAABApQQgAABApQQgAABApQQgAABApQQgAABApQQgAABApQQgAABApQQgAABApQQgAABApQQgAABApQQgAABApQQgAABApQQgAABApQQgAABApQQgAABCpzMR8zaZNmx577LGurq729vbFixevWLEim80e/w9/6623du7ceayrLS0t5557biWGCQAAEJGqB+GBAwc+//nPP/TQQ0eenDt37gMPPLBs2bLjvMk999zzta997VhXL7744n//938/pVECAADEp7pLRgcHB1euXFmuwY6Ojk996lMXXXRRCOHNN9/86Ec/unHjxuO8z2uvvVbFUQIAAESpujOE3/72tzds2BBCuO222+69995UKhVC2LBhw0c+8pH+/v4vfOELL7zwwvHcpxyEt9xyy2c/+9mRV9va2io6agAAgChUMQhLpdKf/dmfhRAuv/zyb3zjG+UaDCFcffXV99xzz5e+9KUXX3xx3bp1y5cvH/dWv/jFL0IIy5cvP54PAwAAcDyquGT0xRdf3L59ewjhjjvuyGR+ozxvueWWxsbGEMKaNWvGvc/u3bt7e3tDCBdccEF1RgoAABCjKgbhk08+WT649tprj7rU3t5+9dVXH/mZMWzbtq18MG/evIoOEAAAIGpVXDK6ZcuWEMLs2bM7OjpGXr300kvXrVu3bdu2Uqk0vJp0VOUNhB0dHel0+k//9E83bty4a9eu888/f9GiRTfffPPcuXOrNH4AAIDJrYpB+MYbb4QQjhVs5fOHDh3au3fvqMU4rByE+Xz+fe973759+8onn3nmmRDCV7/61a9//eu33nrr2EkJAADASFUMwr6+vhBCa2vrqFeHz/f29o4dhOUlo2+//XZTU9OnPvWppUuXZjKZn/3sZw8++GBPT8/tt99eKBR+93d/d+zBHE8xlnc8Tpi33norl8vlcrmmpqajLrW27psxI4QQ+vr69u2b0FEBMK49e/YMDg4ODg6W98MDkBS7du0qFouFQqGhoaHWY6kXVQzC/v7+EMLI2ikbPn/o0KGx71OeIezs7Pznf/7n8msMy7785S/fcMMNr7/++le+8pVPfOITZ555ZmXGDQAAEIcqBmFzc3MIIZ/Pj3o1l8uVD7LZ7Nj3ue+++3K53Nlnn3366acfeX7BggXf/OY3r7/++t7e3r/7u7/7yle+MsZNSqXSGFfL84dnnXXW2COprObm5oGBgVmzZpV/oX7TjPJ/tba2trZO6KgAGFc2m83n852dneP+KwyAutLQ0FAoFObMmWOGcFgVg3DKlCkhhIMHD456dXhi8FhrSoctXrz4WJdWrFhxxhlndHV1bdq06WSHCQAAEKkqvnZizpw5IYSurq5Rr+7YsSOEkMlkxt5AOK4LL7wwhLB58+ZTuQkAAECEqhiE5dcG7ty5s/xa+aNs3bo1hHDeeeed4o78dDodQjhqNSkAAADjqmIQXnnllSGEYrFYfkXEkUqlUvlk+TNjeOihhy688ML3v//9u3fvHvUD5bnBhQsXVmDEAAAAMaliEH7wgx/s7OwMIdx///1HXVq3bt2bb74ZQrjpppvGvsmyZct+8YtfbN68+Vvf+tbIq2vWrCkvPb388ssrM2gAAIBoVDEI0+n06tWrQwjf//73H3nkkeHz+/fvv+OOO0IICxYs+NjHPnbkD7nzzjtXrVq1atWqt99+u3ymo6Oj/Jk/+ZM/efjhh4/88FNPPfXFL34xhHDNNdeMG5YAAAAcJTX2+xhO0cDAwFVXXbVx48bGxsYVK1Zcc801W7Zs+cEPfrBjx45sNrt+/fqjlowuXLjwlVdeCSHs3LmzPLtYPr7kkkvKD6e58sorlyxZUigUXn755SeffLJUKk2dOvX5558///zzT2Wc5ddOVPWXYqTu7u5jv3bir0P4YgghhNtDuHciRwXAuHbt2uW1EwBJtGPHjmS9dmICOqWKr50IITQ3N69du3bVqlUbNmxYs2bNmjVryudnzpz5ve99b9wNhGWnn376I488cuuttz777LPPPPPMkTsSV6xY8e1vf3vu3LlVGT0AAMCkVt0gDCF0dnb+6Ec/Wr9+/eOPP97V1dXe3r5kyZJPf/rTU6dOHfnh+++/v/zewhkzZhx5/uKLL/63f/u3devWPffcc6+//npDQ8OiRYsWL1582WWXVXv8AAAAk1XVgzCEkEqlrrvuuuuuu27cTy5dunSMq8uXL1++fHnlxgUAABC1Kj5UBgAAgHomCAEAACIlCAEAACIlCAEAACIlCAEAACIlCAEAACIlCAEAACIlCAEAACIlCAEAACIlCAEAACIlCAEAACIlCAEAACIlCAEAACIlCAEAACIlCAEAACIlCAEAACIlCAEAACIlCAEAACIlCAEAACIlCAEAACIlCAEAACIlCAEAACIlCAEAACIlCAEAACIlCAEAACIlCAEAACIlCAEAACIlCAEAACIlCAEAACIlCAEAACIlCAEAACIlCAEAACIlCAEAACIlCAEAACIlCAEAACIlCAEAACIlCAEAACIlCAEAACIlCAEAACIlCAEAACIlCAEAACIlCAEAACIlCAEAACIlCAEAACIlCAEAACIlCAEAACIlCAEAACIlCAEAACIlCAEAACIlCAEAACIlCAEAACIlCAEAACIlCAEAACIlCAEAACIlCAEAACIlCAEAACIlCAEAACIlCAEAACIlCAEAACIlCAEAACIlCAEAACIlCAEAACIlCAEAACIlCAEAACIlCAEAACIlCAEAACIlCAEAACIlCAEAACIlCAEAACIlCAEAACIlCAEAACIlCAEAACIlCAEAACIlCAEAACIlCAEAACIlCAEAACIlCAEAACIlCAEAACIlCAEAACIlCAEAACIlCAEAACIlCAEAACIlCAEAACIlCAEAACIlCAEAACIlCAEAACIlCAEAACIlCAEAACIlCAEAACIlCAEAACIlCAEAACIlCAEAACIlCAEAACIlCAEAACIlCAEAACIlCAEAACIlCAEAACIlCAEAACIlCAEAACIlCAEAACIlCAEAACIlCAEAACIlCAEAACIlCAEAACIlCAEAACIlCAEAACIlCAEAACIlCOtRz8BQ+WB3b662IwEAACYxQViPNu/uKx+8squ3tiMBAAAmMUFYj5ob3/n7ki8UazsSAABgEhOE9eiIICzVdiQAAMAkJgjrUXOmoXxghhAAAKgeQViPWhrfCcJBQQgAAFSNIKxHzZl3l4wOCUIAAKBaBGE9OhyE9hACAABVIwjrUfbdIBwqFq0aBQAAqkQQ1rveXKHWQwAAACYnQVjvegYGaz0EAABgchKE9a4nN1TrIQAAAJOTIKx3PQOCEAAAqApBWO8EIQAAUCWCsN7ZQwgAAFSJIKx39hACAABVIgjrnSWjAABAlQjCetdrhhAAAKgOQVjvzBACAABVIgjrnSAEAACqRBDWO08ZBQAAqkQQ1jtPGQUAAKpEENY7S0YBAIAqEYT1ThACAABVIgjrnT2EAABAlQjCemcPIQAAUCWCsN715QrFUqnWowAAACYhQVjviqVSX65Q61EAAACTkCBMAKtGAQCAahCECeC5MgAAQDUIwgTw5gkAAKAaBGECCEIAAKAaBGEC2EMIAABUgyBMAHsIAQCAahCECWDJKAAAUA2CMAEEIQAAUA2CMAF67SEEAACqQBAmgBlCAACgGgRhAnjKKAAAUA2CMAE8ZRQAAKgGQZgAlowCAADVIAgTQBACAADVIAgTwB5CAACgGgRhAthDCAAAVIMgTABLRgEAgGoQhHUtk06HEIaKpUP5Qq3HAgAATDaCsK5lG1LlA9sIAQCAihOEdS2beedvkFWjAABAxQnCutbYMByEnisDAABUmCCsa9nhILRkFAAAqDRBWNcO7yG0ZBQAAKg0QVjXDs8QCkIAAKDSBGFda8zYQwgAAFSLIKxr9hACAADVIwjr2vAewl5LRgEAgEoThHWt0QwhAABQNYKwrnnKKAAAUD2CsK55yigAAFA9grCuZT1lFAAAqBpBWNca0/YQAgAA1SII61o2Yw8hAABQLYKwrtlDCAAAVI8grGtHBKE9hAAAQIUJwrrWkE6Vm3BgqJgvFGs9HAAAYFIRhPWuvTlTPrBqFAAAqCxBWO8EIQAAUCWCsN4JQgAAoEoEYb1rb2osH/TkPFcGAACoJEFY78wQAgAAVSII650gBAAAqkQQ1jtBCAAAVIkgrHf2EAIAAFUiCOtdW9M7M4S9OTOEAABAJQnCemfJKAAAUCWCsN4JQgAAoEoEYb0ThAAAQJUIwnrX/u4ewh57CAEAgIoShPWuvfndp4wOeMooAABQSYKw3lkyCgAAVIkgrHeCEAAAqBJBWO/sIQQAAKpEENa7KdlMQzoVQjiYHyoUS7UeDgAAMHkIwnqXSoW2pkwIoVQKvSYJAQCAyhGECWAbIQAAUA2CMAFsIwQAAKpBECaAVxECAADVIAgTwJJRAACgGgRhAghCAACgGgRhAthDCAAAVIMgTAAzhAAAQDUIwgRoG54h9FAZAACgcgRhAgw/ZdSL6QEAgAoShAlgySgAAFANgjABPFQGAACoBkGYAGYIAQCAahCECSAIAQCAahCECTD8UBlPGQUAACpIECaAPYQAAEA1CMIEsGQUAACoBkGYAG1NmVQqhBB6BoZKpVqPBgAAmCwEYQI0pFNTspkQQrFUOpg3SQgAAFSGIEwG2wgBAICKE4TJYBshAABQcYIwGQQhAABQcYIwGbyKEAAAqDhBmAz2EAIAABUnCJPBklEAAKDiBGEyCEIAAKDiBGEyCEIAAKDiBGEytL27h7DXHkIAAKBCBGEytDe9+5TRnKeMAgAAlSEIk8GSUQAAoOIEYTIIQgAAoOIEYTIIQgAAoOIEYTLYQwgAAFScIEwGM4QAAEDFCcJkEIQAAEDFCcJkEIQAAEDFCcJkyDakmzPpEEK+UBwYKtZ6OAAAwGQgCBOjvfnd58oMeK4MAABQAYIwMawaBQAAKksQJoYgBAAAKksQJkZ707tBmBOEAABABQjCxGg7PENoDyEAAFABgjAxDs8QWjIKAABUgiBMjCOeMioIAQCAChCEiXH4oTL2EAIAAJUgCBOj7d0lo71mCAEAgEoQhIlhhhAAAKgsQZgYRzxUxlNGAQCAChCEieGhMgAAQGUJwsQ4vGRUEAIAAJUgCBPDHkIAAKCyBGFi2EMIAABUliBMDEtGAQCAyhKEiXH4oTKWjAIAAJUgCBNjSrYhk06FEA7lC4OFYq2HAwAAJJ4gTJK2d7cR9uYKtR0JAAAwCQjCJDliG6HnygAAAKdKECaJbYQAAEAFCcIk8aBRAACgggRhkhzxKkJBCAAAnCpBmCT2EAIAABUkCJPkcBDaQwgAAJwyQZgkhx8qY8koAABwygRhkhzxHkJBCAAAnCpBmCSeMgoAAFSQIEwSTxkFAAAqSBAmiaeMAgAAFSQIk+TwQ2XsIQQAAE6ZIEwSS0YBAIAKEoRJ4qEyAABABQnCJLGHEAAAqCBBmCSHg9AeQgAA4JQJwiRpa8qkU6kQQm9uqFgq1Xo4AABAsgnCJEmnUlOyDSGEUin05Qq1Hg4AAJBsgjBhrBoFAAAqRRAmjOfKAAAAlSIIE6a96d1303vzBAAAcGoEYcJ4FSEAAFApgjBh7CEEAAAqRRAmjD2EAABApQjChLGHEAAAqBRBmDD2EAIAAJUiCBOmremdIOy1hxAAADg1gjBhzBACAACVIggTxlNGAQCAShGECeMpowAAQKUIwoTxlFEAAKBSBGHC2EMIAABUiiBMGHsIAQCAShGECdPeZA8hAABQGYIwYaa22EMIAABUhiBMmEw61dLYEEIYKpYO5Qu1Hg4AAJBggjB5bCMEAAAqQhAmzxHbCAUhAABw8gRh8ng3PQAAUBGCMHnam999rowlowAAwCkQhMnj3fQAAEBFCMLkmSoIAQCAShCEydPR2lQ+eGlnT21HAgAAJJogTJ7l588sH/zw1d21HQkAAJBogjB5rjlvZmtTJoTw8+6+1/YerPVwAACApBKEydOUSf6HChAAABsYSURBVF973juThI9sNkkIAACcJEGYSNe/f1b54Ievdtd2JAAAQHIJwkS64f2zU6kQQtjwi7d6vY0QAAA4KYIwkc5ob/4PZ0wNIeQLxSe27qn1cAAAgEQShEl1w/tnlw+sGgUAAE6OIEyq4W2Ea1/dXSyVajsYAAAgiQRhUi09c9rstqYQQndfbuObb9d6OAAAQPIIwqRKp1Ifu3D4WaNePgEAAJwwQZhg1w9vI9xsGyEAAHDCBGGCfeSCjmxDOoSw8c0DXT0DtR4OAACQMIIwwdqbM1edMyOEUCqFR00SAgAAJ0gQJtsRq0ZtIwQAAE6MIEy2Gxe+E4T/vGVPbqhY28EAAADJIgiT7dz3TDl/5pQQwsF8YcMv3qr1cAAAgCQRhIl3g1WjAADASRGEiTe8jXCttxECAAAnQhAm3rL3zZja3BhC+OVbh37e3Vfr4QAAAIkhCBOvsSH9WxfMLB+bJAQAAI6fIJwMDr98QhACAADHTRBOBivmz0qnUiGEp3+170D/YK2HAwAAJIMgnAxmtTZdcubUEMJQsfT4lj21Hg4AAJAMgnCSuH6+VaMAAMCJEYSTxPDbCB/5eXehWKrtYAAAgEQQhJPE4jlT50xtDiG8dTD/7Pb9tR4OAACQAIJwkkilwor5s8rHP3y1u7aDAQAAEkEQTh6HtxFuto0QAAAYnyCcPJZf0NGcSYcQftbV8+v9/bUeDgAAUO8E4eQxJdvw4fNmlo8f3WzVKAAAMA5BOKlcP7yN0KpRAABgPIJwUrn+3ZdPrN+2tzc3VNvBAAAAdU4QTirnzDhtQWdbCOFQvvDZv3+xWPJCQgAA4JgE4WRz54fPLR88/PKur/zw57UdDAAAUM8E4WTzO0vPvPOad5rw7h9t+/ZPfl3b8QAAAHVLEE5C///181cu7Cwf/97/fXn9tr21HQ8AAFCfBOEklE6l/v4/f2DpmdNCCIOF4s1/+9Otew7WelAAAEDdEYSTU0tjw8P/dencqc0hhH2HBj/x3ef29w/WelAAAEB9EYST1hntzWv+66VTsg0hhC3dfSu/+3y+UKz1oAAAgDoiCCezD8yd+r3/tDidSoUQnvzlW7f/46ZajwgAAKgjgnCS++RFp/9/H5tXPv7uc9vv2fDL2o4HAACoH4Jw8vtv153/hcvOKh/f+U+vrnl5V23HAwAA1AlBGIVv3HTRh943I4RQLJX+89+/+LOunlqPCAAAqD1BGIWmTPr//Jel73vPaSGEvtzQld94+n889vPe3FCtxwUAANSSIIzFzCnZtZ/74LSWxhDCwXzhT5547byvrb/3mdcHPXoUAABiJQgjMn9266Nf+ODiOVPLf9ndl/vd/7Ppov+54f9usqsQAABiJAjjctnZ0zeuXvYPn11SXj4aQtjS3ffJ//38ZX/x9FO/3FfbsQEAABNMEEYnlQo3X3zG5i9f8+crF5RXkIYQnt2+f9k3n/n4fc+9tvdgbYcHAABMGEEYqWxD+o4PvW/bV65dvex92YZ3/mew9tXdC+7+8Yr/9exf/+vr2/f313aEAABAtWUm5ms2bdr02GOPdXV1tbe3L168eMWKFdls9kRvcujQoTVr1rzyyiuHDh0666yzbrjhhvPOO68ao43He6Zk77lxwZeuOue/P/rzB/99R6kUBgvFR3/e/ejPu0PYdPEZ7dfPn/3xBbMvPWtaOpWq9WABAIAKS5VKpap+wYEDBz7/+c8/9NBDR56cO3fuAw88sGzZsuO/z8MPP/y5z31u377f2Of2hS984S//8i+bm5tPcZCpVCqEUO1fiqN0d3cPDAzMmjVrtPH/dQhfDCGEcHsI907MeJ5/48CX127+0ba9Iy91tGavnz/7+vfP/o/zOtqaJugPEQDq1q5du/L5fGdn50n84SYANbRjx45CoTBnzpyGhoZaj+W4TECnVDcIBwcHf+u3fmvDhg0hhI6OjmXLlm3dunXTpk0hhJaWlqeeemrJkiXHc5/HH3/8+uuvLxQK6XT6kksu6ezs/PGPf9zT0xNC+O3f/u0HH3zwFMcpCIf9en//41u6123d+8jm3QfzhZEfOL29ecncqUvmTl3Q2fb+2W3zZ7eaPARiIwgBEkoQjvIVVb37X/3VX/3e7/1eCOG222679957yz+fDRs2fOQjH8nn84sXL37hhRfGvUkulzv33HN37Ngxbdq0f/3Xf50/f34IYXBw8JOf/OTatWtDCA8//PCNN954KuMUhCMdzBee2Lrnh6/uXvvq7l29uWN9rL05c9Hp7YtOb7/4jPYLZ7WePb1lztTmxgZ7U4HJTBACJJQgHOUrqnf3Uqn03ve+d/v27ZdffvmTTz6ZyRxeavjNb37zS1/6UgjhiSeeWL58+dj3+e53v/u5z30uhPDDH/5wxYoVw+f7+voWLVr0q1/96sorr3z66adPZaiCcAylUvjpmwfWvrp77au7f9bVUyiO86uUTqU625reO+O0M6c1nzmt5cxpLe+d0XLmtJbOtqb3TMlmtSKQfIIQIKEE4UhV3A/24osvbt++PYRwxx13HFmDIYRbbrll9erVg4ODa9asGTcIH3744RDChRdeeGQNhhBaW1tvvvnmu++++yc/+cmePXs6Ojoq/TMghBBSqbD0zGlLz5z2R/9xXv9g4dXdfT/renvTzt6Xunp+trPnrYP5oz5fLJW6ega6egZGvVt7c2Z2a9PM1uzMKdn3nJadOSU7u61p5pTs1ObG9ubMtJbGqc2Z9uZMe3Njc0Y6AgBAdVUxCJ988snywbXXXnvUpfb29quvvnrdunXDnxnDU089FUK47rrrRl76xCc+cffddxeLxaeffvqmm2465SEzjpbGhvIGwuEzXT0DL3X1vLSz56Wunl/t6//1/kM7e3LFY/8ZRs/AUM/A0PG87TDbkG5vzkxtbpzWkjkt29CUaZje0ticSbc0NkxtyTRnGqZkG9qaMo0NqfLbFKe3NIYQprU0plKp9uZMQyrV1pTJNKSaGtKnZZPxJ0AAADDBqhiEW7ZsCSHMnj171Lm7Sy+9dN26ddu2bSuVSqljP5Vk9+7dBw4cCCEsXLhw5NWlS5emUqlSqbR169bKDZwTcEZ78xntzR+9cNbwmcFCsasnt31//6/3H3rjQP8bBwbeOND/+r5Dew7m9x7Mj7vidFi+UNx7ML93xAzkSWttyjSmU6lUKAdkUyZ9WmNDCKEhnWpvbix/pr0p05BOhRDK5Vk+mc2kp7yblA2pVHvz4X9qmjK/UZvZhsOfLGtpbDhqqjPTkB71Sa3loB1panMmnR79H5CRXwcAACekikH4xhtvhBDmzp076tXy+UOHDu3du3eM1Z7lmxzrPtlstqOjo7u7u7w2lXrQ2JA+e3rL2dNbPhRmjLz61sH83iP+092XKx+UZw7fHhg80D/UkxvsGRjKDRUrO7C+3FD5YN+hwcreuZ5Na2kc9yGw6XRqavOJ/VZwii06/bTKb7vKNqSmZCf6nSgtjenmTPKaPJ0OU5tH/wMIjtPBgwcLhcKUKT3H2oJyrD/iAaC2enp6isVi+9aBdHqU3UlTsg1fuuqciR9VbVXx/z/19fWFEFpbW0e9Ony+t7d3jCAs32Ts+3R3d/f29o49mBkzRomTo7z55pvjfqaC9u7dm8vlBgcHm5qajrrU2npg2rQQQujr6ztwYEJHNQGmhDClMZw9LYRp6RBaQmgZ9WP5Qqk3V+gbLPTkigfzhVyh1Jsb6h8s5oultwcKuUJpYKjYmy8MFkp9+WKpVOrJF0MIB/oHQwg9uWIplHrzxWKxVP7khP4M60n5F2RcI/eCAgBMXjtHPTvztMzK90b3J3pVDML+/v4QwsjaKRs+f+jQoXFvMu59xr5JCGH//v1jfyCEUCxOaDaUSqVSqVQsFkd+b2/vzX19N4QQSqVsqRRpzGRSYXpzenpzOrRV5oZ9+WKhVCoUS335YgghVygODJVCCEPF4sH8O7/IvflieQPkwFApV3jnZL5Q6h9857hQeueHl+WGfqM288XDnywrF+yRZ4aKpVFf8Ph2bpSTIYSeXOFYWzJHfh0AAKdigougHlQxCMtvU8jnR595yOXeebXd2M/sHn4lw9j3GffB3/v27Rvjann+8FirW6skm80e+7UTUBn7j2OGsFgsvT0wdEK3zQ0VDw2OXrDH4zjnLU9IvlA6mD+xn8Wp6x8sDgyd/K9DrRSL4e2BiBZOV0Nvb2+hUGhrazvWktHj+UcPgInX29tbKpXa2tpGfYhJazYzwUVQD6oYhFOmTAkhHDw4+vMkh+f0jrUW9MibjHufsW8SQpg+ffrYHwghjLqSuHrSR5jI7yUq75ky+tT6UToqNA0LkfAeQoCEStx7CCdAFVNkzpw5IYSurq5Rr+7YsSOEkMlkxn5/YPkmx7rP0NBQd3d3COGMM844xdECAADEpopBOG/evBDCzp07R33iS/lFEeedd15j41gbN+fMmVOe/Su/xOIo27ZtKy/znT9/fkXGDAAAEI8qBuGVV14ZQigWi88888xRl0qlUvlk+TNju+KKK8K7r6c/yvDJ8mcAAAA4flUMwg9+8IOdnZ0hhPvvv/+oS+vWrSu/4+Gmm24a9z433nhjCOHZZ5/dvHnzUZf+9m//NoRwySWXnHnmmRUZMwAAQDyqGITpdHr16tUhhO9///uPPPLI8Pn9+/ffcccdIYQFCxZ87GMfO/KH3HnnnatWrVq1atXbb789fPJ3fud3yvsMb7vttoGBgeHz3/rWt8rTjHfeeWf1fhYAAACTVap0rHecVcLAwMBVV121cePGxsbGFStWXHPNNVu2bPnBD36wY8eObDa7fv36o5aMLly48JVXXgkh7Ny5szy7WPYP//APn/nMZ0II55133sqVKzs6OtatW7du3bpSqfTxj398zZo1oz439viVf3hVfylG6u7u9toJgCTylFGAhErcU0YnoFOqG4QhhF27dq1atWrDhg1Hnpw5c+b3vve9o6YHw7GDMIRw3333/f7v//5RL6D/zGc+853vfGfcd06MSxACcPwEIUBCCcJRvmICKqhUKq1fv/7xxx/v6upqb29fsmTJpz/96alTp4785PPPP19+3+AVV1wx8t+yu3fvfvDBB1955ZX+/v6zzjrrxhtvXLp0aUVGKAgBOH6CECChBOEoXzHBFVSfBCEAx08QAiSUIBypig+VAQAAoJ4JQgAAgEgJQgAAgEgJQgAAgEgJQgAAgEgJQgAAgEgJQgAAgEgJQgD4f+3da2iXdRsH8N/a1DxO8FBprkw8YJ6WlKEF2UENZ/pCBVNJImsKSZQ0QqETYSCRwlATy0QKpqUv5gFLDVIsD2Whpmmzabh0Tp1mbm1ze17czzOWm3saj/7/Pt6fz6t7v/vavP4i1+6v9wkAYkogBAAAiCmBEAAAIKYEQgAAgJgSCAEAAGJKIAQAAIgpgRAAACCmBEIAAICYEggBAABiSiAEAACIKYEQAAAgpgRCAACAmBIIAQAAYkogBAAAiCmBEAAAIKYEQgAAgJhKS3YDN5CUlJRktwAAAJA4zhACAADEVEpNTU2ye4ipkSNHfvHFF5s2bRoxYkSyewGgCQYNGvTjjz/+8MMPAwcOTHYvADTB7bfffurUqZMnT952223J7uVG4QwhAABATAmEAAAAMSUQAgAAxJRACAAAEFMCIQAAQEwJhAAAADElEAIAAMSUQAgAABBTAiEAAEBMpdTU1CS7BwAAAJLAGUIAAICYEggBAABiSiAEAACIKYEQAAAgpgRCAACAmBIIAQAAYkogBAAAiCmBEAAAIKYEQgAAgJgSCAEAAGIqLdkNxNSJEycOHjx46dKljIyMgQMHpqSkJLsjAP4nBw8ePHr0aGpqaq9eve65555ktwMQFyUlJZs3b87MzOzdu3fjlU0a1FVVVXv37i0qKmrXrl2/fv06dep07Vq+sThDmGiFhYWjRo3q1q3bE088MXbs2MzMzLvvvvvTTz9Ndl8AhBDCe++91/Hqhg8fXv9btm7deu+99/bt2zcrK+vJJ5/s0aPHkCFDvv/++8Q3DxBDy5YtmzRpUn5+fiM1TR3Uubm5Xbt2feCBB8aNG/foo4926dJl4sSJp0+fvg7tJ58zhAlVUFAwZMiQM2fOhBDS0tLatm177ty548ePT548uaioaPbs2cluECDu9u3bF03pBp07d+6KlTVr1kyYMKG6ujqE0LZt28rKyvLy8l27dg0dOnTLli3Dhg27vu0CxNtff/318ccfN17T1EH90ksvLVy4MNru2LHj2bNnq6qqVq9evXv37l27dt18pwoFwoR6+umnz5w5c8sttyxatGjSpElt2rTZs2fPlClTjhw5kpOT8/jjjw8aNCjZPQLE2pEjR0IIw4YNe+SRR+rvveOOO+p+WVxc/Mwzz1RXV3fs2DEvL+/hhx+uqqrasGHD1KlTy8rKJk6cWFBQcOuttyamc4C4KSkpmTVr1s8//9xITVMH9YYNG6I0OHTo0CVLlvTv37+kpGTRokWvv/56YWHhCy+8sGbNmuv+wRKshkTZuHFj9Hf+7rvv1l0/fPhwenp6CGH8+PHJ6g2ASOfOnUMIixcv/ifFOTk5IYS0tLTt27fXXV+1alU08HNzc69PmwDxtX///jlz5mRlZdUNcvPnz2+wuKmDesiQISGEjIyM4uLiuuszZ84MIaSkpOzbt++af6Lkcg9h4uTl5YUQOnfu/PLLL9dd79mz5/jx40MI69atKysrS05zAIRw4cKF4uLiEEKvXr3+SX002MeMGXPFFUcTJkzo0aNHCKH2gAOAa2Xbtm3vvPPOunXrysvL/2txkwb1sWPHdu7cGUJ45ZVXrrg09LXXXgsh1NTUrF69+lp8iBuIQJg4X375ZQhh5MiRzZo1u2LXmDFjQgjl5eXbt29PQmcAhBBC+OWXX6KN//qouqi4sLAwhJCVlVV/bzTYd+zY4X/6AK6t4cOHL6+jkcqmDurocL3B+jvvvDO6t2vz5s3/6we4wQiECfLHH3+cOHEihJCZmVl/b+1j6w4dOpTQtgCoI7qBsE2bNl27dv3mm29yc3Pnzp27YsWKvXv3Xr58+Yrin376KdpoZLBXVVXVhkwAronevXtPq6ORyqYO6qg+PT29wZdSRPU33+G6h8okSEFBQbRx11131d/brl279u3bl5aW1pYBkHjRMUHbtm0fe+yxrVu31t11//33f/jhh/37969dOXr0aLTR4GCvXSwoKKj7XQAkTFMHdVSfkZHR4E+L6s+ePVtaWtq+ffvr0XBSOEOYIBcuXIg2rvavJ1o/f/584noC4O+iM4S///771q1bO3ToMGrUqKysrOjIYPfu3YMHD66bEhsf7LWLBjtAsjR1UEf1jR+uh5tusAuECXLp0qVo42rPH2/ZsmUI4c8//0xcTwD8XRQI09LSli5dWlJSsnHjxvz8/GPHji1durR169aVlZXPP/987a0m0WBv1qzZLbc08Ms0murBYAdInqYO6qi+8cP1cNMNdoEwQdLS/n11bv27UCKVlZUhhJSUlMT1BMDfTZ06dd68eevXr58+fXrd9enTp7/99tshhIKCgtoHGESDvfGpHgx2gORp6qCO52B3D2GCtG7dOtq42uNxo/U2bdokricA/i47O/tqu1588cW33nqrtLR079690Uo02KurqysrK+s/Prp22hvsAMnS1EEd1Td+uB5uusHuDGGC1L7J5NSpU/X31tTURG++6tixY0LbAuCfSUtL69OnTwhh37590Urjg/3kyZPRhsEOkCxNHdRRfYPFtfUpKSkdOnS45q0mkUCYIN27d2/evHmo87Cjuk6cOFFRURFCiI42ALgBRUcALVq0iL6sfVdhg4P9119/jTYMdoBkaeqgjup/++232qtD69d369atVatW16PbZBEIEyQ1NXXgwIEhhG+//bb+3p07d0Yb9913X0LbAuA/vvrqq+zs7JkzZ17tVfKHDx8OIfTr1y/6csCAAdHdJo0M9g4dOjT4rHMAEqCpg3rw4MEhhIqKitq7A+rX33yH6wJh4owePTqEsGXLljNnzlyxa9WqVSGEjIyMKDQCkHhdunT54IMPFi9eHM3kK+zfvz96VWztoE5PT3/ooYfCf2Z4XZcvX16zZk0IYfTo0Q0+2g6ABGjqoB4+fHj0KNH69QcPHty/f38I4amnnrrebSeY31KJ8+yzzzZv3ryiomLu3Ll113fu3Pn555+HEGbOnJmk1gAIvXv3zszMDCG8+uqrx44dq7vr7Nmzzz33XHV1dffu3adMmVK7PmPGjBDCd999l5eXV7f+/fffLyoqqi0AIFmaNKhbtmw5bdq0EMKSJUvqXmVaU1OTk5MTQujUqdOECRMS0njipL7xxhvJ7iEu0tPTy8vLt23btmfPnoKCghYtWpSWlq5YsSK6PKlXr14fffRR/ccfAZAwAwYMWLly5YULF5YvX37x4sXz588fOHBg1apV06ZNi64XzcvLq3tPYN++fbds2XL8+PH8/PyysrJWrVodOnRowYIF8+bNq6mpmTx58qxZs5L3aQBi4c033wwhjBgxYujQofX3NnVQZ2Zmrly5srS0dO3atSkpKS1btvz6669zcnLWr18fQli4cOGDDz6YmM+VMCk1NTXJ7iFGqqurp02btnLlyivWe/TosXHjxp49eyalKwBqffLJJ9nZ2RcvXrxivUuXLkuWLBkzZswV68XFxaNGjap/t8nIkSPXrl1b+xZjAK6T6K2A8+fPnz17doMFTR3UO3bsGDdu3OnTp6/4U+bMmRO9k/YmIxAmQX5+/vLlyw8cOFBWVpaRkTF27NgZM2bcZO8zAfj/VVJSsmDBgl27dhUWFqampg4YMCAzMzM7O7t9+/YN1ldUVCxbtuyzzz47evRoampqnz59Jk+ePGnSpJvszcUAN6bogsernSGMNHVQnzp1Kjc3d9OmTUVFRe3atRs8eHB2dvawYcOu00dILoEQAAAgpjxUBgAAIKYEQgAAgJgSCAEAAGJKIAQAAIgpgRAAACCmBEIAAICYEggBAABiSiAEAACIKYEQAAAgpgRCAACAmBIIAQAAYkogBAAAiCmBEAAAIKYEQgAAgJgSCAEAAGJKIAQAAIgpgRAAACCmBEIAAICYEggBAABiSiAEAACIKYEQAAAgpgRCAACAmBIIAQAAYkogBAAAiCmBEAAAIKYEQgAAgJgSCAEAAGJKIAQAAIgpgRAAACCmBEIAAICYEggBAABiSiAEAACIKYEQAAAgpgRCAACAmPoXes6V8XKpW8wAAAAASUVORK5CYII=\"/>"
      ]
     },
     "metadata": {},
     "output_type": "display_data"
    }
   ],
   "source": [
    "lines(data_m)\n",
    "linesegments!([0 + 1], 0:1, color= :yellow)\n",
    "current_figure()\n"
   ]
  }
 ],
 "metadata": {
  "kernelspec": {
   "display_name": "Julia 1.11.2",
   "language": "julia",
   "name": "julia-1.11"
  },
  "language_info": {
   "file_extension": ".jl",
   "mimetype": "application/julia",
   "name": "julia",
   "version": "1.11.2"
  }
 },
 "nbformat": 4,
 "nbformat_minor": 2
}
