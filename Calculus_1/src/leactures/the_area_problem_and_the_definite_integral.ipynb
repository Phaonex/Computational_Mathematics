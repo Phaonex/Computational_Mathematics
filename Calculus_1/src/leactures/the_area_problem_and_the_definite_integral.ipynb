{
 "cells": [
  {
   "cell_type": "code",
   "execution_count": 1,
   "metadata": {},
   "outputs": [],
   "source": [
    "using Symbolics\n",
    "using SymbolicNumericIntegration\n",
    "using Latexify\n",
    "using Makie\n",
    "using CairoMakie"
   ]
  },
  {
   "cell_type": "code",
   "execution_count": 2,
   "metadata": {},
   "outputs": [
    {
     "data": {
      "text/plain": [
       "restart_axis (generic function with 1 method)"
      ]
     },
     "metadata": {},
     "output_type": "display_data"
    }
   ],
   "source": [
    "\n",
    "figure = Figure()\n",
    "\n",
    "ax = Axis(figure[1, 1], xlabel = \"x values\", ylabel = \"y values\",)\n",
    "restart_axis(ax) =  ax = Axis(figure[1, 1], xlabel = \"x values\", ylabel = \"y values\",)\n"
   ]
  },
  {
   "cell_type": "code",
   "execution_count": 3,
   "metadata": {},
   "outputs": [],
   "source": [
    "@variables a b c d f r n t u h i k x y y′ A C D P V I ∫ Δx Δy lim(..) f(..) f′(..) g(..) ∫(..) Σ(..) G′(..);"
   ]
  },
  {
   "cell_type": "markdown",
   "metadata": {},
   "source": [
    "# The Area Problem and the Definite Integral"
   ]
  },
  {
   "cell_type": "markdown",
   "metadata": {},
   "source": [
    "## Definitions and Theorems:"
   ]
  },
  {
   "cell_type": "code",
   "execution_count": 4,
   "metadata": {},
   "outputs": [],
   "source": [
    "dx = Differential(x);\n",
    "dy = f′(x)dx;\n",
    "xs = Symbolics.variables(:x, 1:3);\n",
    "ys = Symbolics.variables(:y, 1:2);\n",
    "as = Symbolics.variables(:a, 1:3);\n",
    "cs = Symbolics.variables(:c, 1:3);"
   ]
  },
  {
   "cell_type": "markdown",
   "metadata": {},
   "source": [
    "**Sigma notation for sums:**"
   ]
  },
  {
   "cell_type": "code",
   "execution_count": 5,
   "metadata": {},
   "outputs": [
    {
     "data": {
      "text/latex": [
       "$$ \\begin{equation}\n",
       "\\mathtt{lim}\\left( \\Sigma\\left( \\left[\n",
       "\\begin{array}{c}\n",
       "\\mathtt{a_1} \\\\\n",
       "\\mathtt{a_2} \\\\\n",
       "\\mathtt{a_3} \\\\\n",
       "\\end{array}\n",
       "\\right] \\right), i, n \\right) = \\mathtt{a{_1}} + \\mathtt{a{_2}} + \\mathtt{a{_3}}\n",
       "\\end{equation}\n",
       " $$"
      ],
      "text/plain": [
       "lim(Σ(Num[a₁, a₂, a₃]), i, n) ~ a₁ + a₂ + a₃"
      ]
     },
     "metadata": {},
     "output_type": "display_data"
    }
   ],
   "source": [
    "lim(Σ(as), i, n) ~  as[1] + as[2] + as[3]"
   ]
  },
  {
   "cell_type": "markdown",
   "metadata": {},
   "source": [
    "**area of a region in the plane:**\n",
    "\n",
    "partition: $[a, b]$"
   ]
  },
  {
   "cell_type": "code",
   "execution_count": 6,
   "metadata": {},
   "outputs": [
    {
     "data": {
      "text/latex": [
       "$$ \\begin{equation}\n",
       "\\mathtt{{\\Delta}x} = \\left[\n",
       "\\begin{array}{c}\n",
       "b + \\frac{ - a}{n} \\\\\n",
       "a \\\\\n",
       "\\left[\n",
       "\\begin{array}{c}\n",
       "\\mathtt{x{_1}} \\\\\n",
       "\\mathtt{x{_2}} \\\\\n",
       "\\mathtt{x{_3}} \\\\\n",
       "\\end{array}\n",
       "\\right] \\\\\n",
       "\\end{array}\n",
       "\\right]\n",
       "\\end{equation}\n",
       " $$"
      ],
      "text/plain": [
       "Δx ~ (b + (-a) / n, a, Num[x₁, x₂, x₃])"
      ]
     },
     "metadata": {},
     "output_type": "display_data"
    }
   ],
   "source": [
    "Δx ~ b - a/n, a, xs"
   ]
  },
  {
   "cell_type": "code",
   "execution_count": 7,
   "metadata": {},
   "outputs": [
    {
     "data": {
      "text/latex": [
       "$$ \\begin{equation}\n",
       "A = \\left[\n",
       "\\begin{array}{c}\n",
       "\\mathtt{lim}\\left( \\Sigma\\left( f\\left( \\left[\n",
       "\\begin{array}{c}\n",
       "\\mathtt{c_1} \\\\\n",
       "\\mathtt{c_2} \\\\\n",
       "\\mathtt{c_3} \\\\\n",
       "\\end{array}\n",
       "\\right] \\right) \\mathtt{{\\Delta}x} \\right), i, n \\right) \\\\\n",
       "\\left[\n",
       "\\begin{array}{c}\n",
       "\\left( -1 + i - \\mathtt{x{_1}} \\leq \\mathtt{c{_1}} \\right) \\wedge \\left( \\mathtt{c{_1}} \\leq \\mathtt{x{_1}} \\right) \\\\\n",
       "\\left( -1 + i - \\mathtt{x{_2}} \\leq \\mathtt{c{_2}} \\right) \\wedge \\left( \\mathtt{c{_2}} \\leq \\mathtt{x{_2}} \\right) \\\\\n",
       "\\left( -1 + i - \\mathtt{x{_3}} \\leq \\mathtt{c{_3}} \\right) \\wedge \\left( \\mathtt{c{_3}} \\leq \\mathtt{x{_3}} \\right) \\\\\n",
       "\\end{array}\n",
       "\\right] \\\\\n",
       "\\end{array}\n",
       "\\right]\n",
       "\\end{equation}\n",
       " $$"
      ],
      "text/plain": [
       "A ~ (lim(Σ(f(Num[c₁, c₂, c₃])*Δx), i, n), Num[((-1 + i - x₁) <= c₁) & (c₁ <= x₁), ((-1 + i - x₂) <= c₂) & (c₂ <= x₂), ((-1 + i - x₃) <= c₃) & (c₃ <= x₃)])"
      ]
     },
     "metadata": {},
     "output_type": "display_data"
    }
   ],
   "source": [
    "A ~ lim(Σ(f(cs)*Δx), i, n), ((i - 1) .- xs) .<= cs .<= xs"
   ]
  },
  {
   "cell_type": "markdown",
   "metadata": {},
   "source": [
    "**definite integral ~ Riemann sum** "
   ]
  },
  {
   "cell_type": "code",
   "execution_count": 8,
   "metadata": {},
   "outputs": [
    {
     "data": {
      "text/latex": [
       "$$ \\begin{equation}\n",
       "\\mathtt{lim}\\left( f, a, b \\right) = \\int\\left( \\frac{\\mathrm{d} f\\left( x \\right)}{\\mathrm{d}x} \\right) = \\Sigma\\left( f\\left( \\left[\n",
       "\\begin{array}{c}\n",
       "\\mathtt{c_1} \\\\\n",
       "\\mathtt{c_2} \\\\\n",
       "\\mathtt{c_3} \\\\\n",
       "\\end{array}\n",
       "\\right] \\right) \\mathtt{{\\Delta}x} \\right)\n",
       "\\end{equation}\n",
       " $$"
      ],
      "text/plain": [
       "lim(f(), a, b) ~ ∫(Differential(x)(f(x))) ~ Σ(f(Num[c₁, c₂, c₃])*Δx)"
      ]
     },
     "metadata": {},
     "output_type": "display_data"
    }
   ],
   "source": [
    "lim(f(), a, b) ~ ∫(dx(f(x))) ~ Σ(f(cs)*Δx)"
   ]
  },
  {
   "cell_type": "markdown",
   "metadata": {},
   "source": [
    "## Properties:"
   ]
  },
  {
   "cell_type": "code",
   "execution_count": 9,
   "metadata": {},
   "outputs": [
    {
     "data": {
      "text/latex": [
       "$$ \\begin{equation}\n",
       "\\mathtt{lim}\\left( \\int\\left( \\frac{\\mathrm{d} f\\left( x \\right)}{\\mathrm{d}x} \\right), a, b \\right) = 0 =  - \\mathtt{lim}\\left( \\int\\left( \\frac{\\mathrm{d} f\\left( x \\right)}{\\mathrm{d}x} \\right), a, b \\right)\n",
       "\\end{equation}\n",
       " $$"
      ],
      "text/plain": [
       "lim(∫(Differential(x)(f(x))), a, b) ~ 0 ~ -lim(∫(Differential(x)(f(x))), a, b)"
      ]
     },
     "metadata": {},
     "output_type": "display_data"
    }
   ],
   "source": [
    "lim(∫(dx(f(x))), a, b) ~ 0 ~ -lim(∫(dx(f(x))), a, b)"
   ]
  },
  {
   "cell_type": "code",
   "execution_count": 10,
   "metadata": {},
   "outputs": [
    {
     "data": {
      "text/latex": [
       "$$ \\begin{equation}\n",
       "\\mathtt{lim}\\left( \\int\\left( \\frac{\\mathrm{d} f\\left( x \\right)}{\\mathrm{d}x} \\right), a, b \\right) = \\mathtt{lim}\\left( \\int\\left( \\frac{\\mathrm{d} f\\left( x \\right)}{\\mathrm{d}x} \\right), c, b \\right) + \\mathtt{lim}\\left( \\int\\left( \\frac{\\mathrm{d} f\\left( x \\right)}{\\mathrm{d}x} \\right), a, c \\right)\n",
       "\\end{equation}\n",
       " $$"
      ],
      "text/plain": [
       "lim(∫(Differential(x)(f(x))), a, b) ~ lim(∫(Differential(x)(f(x))), c, b) + lim(∫(Differential(x)(f(x))), a, c)"
      ]
     },
     "metadata": {},
     "output_type": "display_data"
    }
   ],
   "source": [
    "lim(∫(dx(f(x))), a, b) ~ lim(∫(dx(f(x))), a, c) + lim(∫(dx(f(x))), c, b)"
   ]
  },
  {
   "cell_type": "code",
   "execution_count": 11,
   "metadata": {},
   "outputs": [
    {
     "data": {
      "text/latex": [
       "$$ \\begin{equation}\n",
       "\\mathtt{lim}\\left( \\int\\left( \\frac{\\mathrm{d}}{\\mathrm{d}x} k f\\left( x \\right) \\right), a, b \\right) = k \\mathtt{lim}\\left( \\int\\left( \\frac{\\mathrm{d} f\\left( x \\right)}{\\mathrm{d}x} \\right), a, b \\right) = \\mathtt{lim}\\left( \\int\\left( \\frac{\\mathrm{d}}{\\mathrm{d}x} \\left[\n",
       "\\begin{array}{c}\n",
       "g\\left( x \\right) + f\\left( x \\right) \\\\\n",
       "\\end{array}\n",
       "\\right] \\right), a, b \\right) = \\mathtt{lim}\\left( \\int\\left( \\frac{\\mathrm{d} g\\left( x \\right)}{\\mathrm{d}x} \\right), a, b \\right) + \\mathtt{lim}\\left( \\int\\left( \\frac{\\mathrm{d} f\\left( x \\right)}{\\mathrm{d}x} \\right), a, b \\right)\n",
       "\\end{equation}\n",
       " $$"
      ],
      "text/plain": [
       "lim(∫(Differential(x)(k*f(x))), a, b) ~ k*lim(∫(Differential(x)(f(x))), a, b) ~ lim(∫(Differential(x)(Num[g(x) + f(x)])), a, b) ~ lim(∫(Differential(x)(g(x))), a, b) + lim(∫(Differential(x)(f(x))), a, b)"
      ]
     },
     "metadata": {},
     "output_type": "display_data"
    }
   ],
   "source": [
    "lim(∫(dx(k*f(x))), a, b) ~ k*lim(∫(dx(f(x))), a, b) ~  lim(∫(dx([f(x) + g(x)])), a, b) ~ lim(∫(dx(f(x))), a, b) + lim(∫(dx(g(x))), a, b)"
   ]
  },
  {
   "cell_type": "code",
   "execution_count": 12,
   "metadata": {},
   "outputs": [
    {
     "data": {
      "text/latex": [
       "$$ \\begin{equation}\n",
       "\\left[\n",
       "\\begin{array}{c}\n",
       "a \\\\\n",
       "b \\\\\n",
       "\\end{array}\n",
       "\\right] = 0 \\leq \\mathtt{lim}\\left( \\int\\left( \\frac{\\mathrm{d} f\\left( x \\right)}{\\mathrm{d}x} \\right), a, b \\right)\n",
       "\\end{equation}\n",
       " $$"
      ],
      "text/plain": [
       "Num[a, b] ~ 0 <= lim(∫(Differential(x)(f(x))), a, b)"
      ]
     },
     "metadata": {},
     "output_type": "display_data"
    }
   ],
   "source": [
    "[a, b] ~ 0 <= lim(∫(dx(f(x))), a, b)"
   ]
  },
  {
   "cell_type": "code",
   "execution_count": 13,
   "metadata": {},
   "outputs": [
    {
     "data": {
      "text/latex": [
       "$$ \\begin{equation}\n",
       "f\\left( x \\right) \\leq g\\left( x \\right) = \\left[\n",
       "\\begin{array}{c}\n",
       "a \\\\\n",
       "b \\\\\n",
       "\\end{array}\n",
       "\\right] = \\mathtt{lim}\\left( \\int\\left( \\frac{\\mathrm{d} f\\left( x \\right)}{\\mathrm{d}x} \\right), a, b \\right) \\leq \\mathtt{lim}\\left( \\int\\left( \\frac{\\mathrm{d} g\\left( x \\right)}{\\mathrm{d}x} \\right), a, b \\right)\n",
       "\\end{equation}\n",
       " $$"
      ],
      "text/plain": [
       "f(x) <= g(x) ~ Num[a, b] ~ lim(∫(Differential(x)(f(x))), a, b) <= lim(∫(Differential(x)(g(x))), a, b)"
      ]
     },
     "metadata": {},
     "output_type": "display_data"
    }
   ],
   "source": [
    "f(x) <= g(x) ~ [a, b] ~ lim(∫(dx(f(x))), a, b) <=  lim(∫(dx(g(x))), a, b)"
   ]
  },
  {
   "cell_type": "markdown",
   "metadata": {},
   "source": [
    "## Summation Formulas:"
   ]
  },
  {
   "cell_type": "markdown",
   "metadata": {},
   "source": [
    "1. "
   ]
  },
  {
   "cell_type": "code",
   "execution_count": 14,
   "metadata": {},
   "outputs": [
    {
     "data": {
      "text/latex": [
       "$$ \\begin{equation}\n",
       "\\mathrm{\\mathtt{lim}}\\left( i, n; \\Sigma\\left( c \\right) = \\left[\n",
       "\\begin{array}{c}\n",
       "\\mathtt{c_1} \\\\\n",
       "\\mathtt{c_2} \\\\\n",
       "\\mathtt{c_3} \\\\\n",
       "\\end{array}\n",
       "\\right] = c n \\right)\n",
       "\\end{equation}\n",
       " $$"
      ],
      "text/plain": [
       "lim(Σ(c) ~ Num[c₁, c₂, c₃] ~ c*n, i, n)"
      ]
     },
     "metadata": {},
     "output_type": "display_data"
    }
   ],
   "source": [
    "lim(Σ(c) ~ +cs ~ c*n, i, n)"
   ]
  },
  {
   "cell_type": "markdown",
   "metadata": {},
   "source": [
    "2."
   ]
  },
  {
   "cell_type": "code",
   "execution_count": 15,
   "metadata": {},
   "outputs": [
    {
     "data": {
      "text/latex": [
       "$$ \\begin{equation}\n",
       "\\mathrm{\\mathtt{lim}}\\left( i, n; \\Sigma\\left( i \\right) = \\frac{1}{2} n \\left( 1 + n \\right) \\right)\n",
       "\\end{equation}\n",
       " $$"
      ],
      "text/plain": [
       "lim(Σ(i) ~ (1//2)*n*(1 + n), i, n)"
      ]
     },
     "metadata": {},
     "output_type": "display_data"
    }
   ],
   "source": [
    "lim(Σ(i) ~ n*(n + 1)// 2, i, n)"
   ]
  },
  {
   "cell_type": "markdown",
   "metadata": {},
   "source": [
    "3. "
   ]
  },
  {
   "cell_type": "code",
   "execution_count": 16,
   "metadata": {},
   "outputs": [
    {
     "data": {
      "text/latex": [
       "$$ \\begin{equation}\n",
       "\\mathrm{\\mathtt{lim}}\\left( i, n; \\Sigma\\left( i^{2} \\right) = \\frac{1}{6} n \\left( 1 + n \\right) \\left( 1 + 2 n \\right) \\right)\n",
       "\\end{equation}\n",
       " $$"
      ],
      "text/plain": [
       "lim(Σ(i^2) ~ (1//6)*n*(1 + n)*(1 + 2n), i, n)"
      ]
     },
     "metadata": {},
     "output_type": "display_data"
    }
   ],
   "source": [
    "lim(Σ(i^2) ~ n*(n + 1)*(2n + 1)// 6, i, n)"
   ]
  },
  {
   "cell_type": "markdown",
   "metadata": {},
   "source": [
    "## Example 1: The Area under a Parabola"
   ]
  },
  {
   "cell_type": "code",
   "execution_count": 17,
   "metadata": {},
   "outputs": [
    {
     "data": {
      "text/latex": [
       "$$ \\begin{equation}\n",
       "f\\left( x \\right) = x^{2} = x = \\left[\n",
       "\\begin{array}{c}\n",
       "0 \\leq x \\\\\n",
       "x \\leq 2 \\\\\n",
       "\\end{array}\n",
       "\\right]\n",
       "\\end{equation}\n",
       " $$"
      ],
      "text/plain": [
       "f(x) ~ x^2 ~ x ~ (0 <= x, x <= 2)"
      ]
     },
     "metadata": {},
     "output_type": "display_data"
    }
   ],
   "source": [
    "f(x) ~ x^2 ~ x ~ 0 <= x, x <= 2"
   ]
  },
  {
   "cell_type": "code",
   "execution_count": 18,
   "metadata": {},
   "outputs": [
    {
     "data": {
      "text/plain": [
       "fx (generic function with 1 method)"
      ]
     },
     "metadata": {},
     "output_type": "display_data"
    }
   ],
   "source": [
    "fx(x) = x^2"
   ]
  },
  {
   "cell_type": "code",
   "execution_count": 19,
   "metadata": {},
   "outputs": [
    {
     "data": {
      "text/plain": [
       "3-element Vector{Int64}:\n",
       " 0\n",
       " 1\n",
       " 4"
      ]
     },
     "metadata": {},
     "output_type": "display_data"
    }
   ],
   "source": [
    "map( x -> sum(fx(x)), 0:2)"
   ]
  },
  {
   "cell_type": "code",
   "execution_count": 31,
   "metadata": {},
   "outputs": [],
   "source": [
    "Δ_x() = 2-0//n;"
   ]
  },
  {
   "cell_type": "code",
   "execution_count": 32,
   "metadata": {},
   "outputs": [],
   "source": [
    "eq_2() =  2*i//n;"
   ]
  },
  {
   "cell_type": "code",
   "execution_count": 22,
   "metadata": {},
   "outputs": [
    {
     "data": {
      "text/latex": [
       "$$ \\begin{equation}\n",
       "x^{2}\n",
       "\\end{equation}\n",
       " $$"
      ],
      "text/plain": [
       "x^2"
      ]
     },
     "metadata": {},
     "output_type": "display_data"
    }
   ],
   "source": [
    "fx(x)"
   ]
  },
  {
   "cell_type": "code",
   "execution_count": 29,
   "metadata": {},
   "outputs": [
    {
     "data": {
      "text/plain": [
       "4//3"
      ]
     },
     "metadata": {},
     "output_type": "display_data"
    }
   ],
   "source": [
    "eq_2(1, 3)*Δ_x(3)"
   ]
  },
  {
   "cell_type": "code",
   "execution_count": 38,
   "metadata": {},
   "outputs": [
    {
     "data": {
      "text/latex": [
       "$$ \\begin{equation}\n",
       "\\left[\n",
       "\\begin{array}{c}\n",
       "2 \\\\\n",
       "2 \\\\\n",
       "2 \\\\\n",
       "\\end{array}\n",
       "\\right]\n",
       "\\end{equation}\n",
       " $$"
      ],
      "text/plain": [
       "3-element Vector{Num}:\n",
       " 2\n",
       " 2\n",
       " 2"
      ]
     },
     "metadata": {},
     "output_type": "display_data"
    }
   ],
   "source": [
    "map( x -> substitute(Δ_x(), Dict(i => i, n => 3)), 0:2)"
   ]
  },
  {
   "cell_type": "code",
   "execution_count": 24,
   "metadata": {},
   "outputs": [
    {
     "data": {
      "text/latex": [
       "$$ \\begin{equation}\n",
       "\\frac{1}{3} x^{3} = x^{2}\n",
       "\\end{equation}\n",
       " $$"
      ],
      "text/plain": [
       "(1//3)*(x^3) ~ x^2"
      ]
     },
     "metadata": {},
     "output_type": "display_data"
    }
   ],
   "source": [
    "integrate(x^2)[1] ~ Symbolics.derivative(1//3 * x^3, x)"
   ]
  },
  {
   "cell_type": "markdown",
   "metadata": {},
   "source": [
    "## Example 2: \n",
    "\n",
    "The Definite Integral"
   ]
  },
  {
   "cell_type": "code",
   "execution_count": 93,
   "metadata": {},
   "outputs": [],
   "source": [
    "fx(x) = 4x;"
   ]
  },
  {
   "cell_type": "code",
   "execution_count": 94,
   "metadata": {},
   "outputs": [],
   "source": [
    "Δ_x(x) = dx(f(x));"
   ]
  },
  {
   "cell_type": "code",
   "execution_count": 95,
   "metadata": {},
   "outputs": [
    {
     "data": {
      "text/latex": [
       "$$ \\begin{equation}\n",
       "\\frac{\\mathrm{d} f\\left( 2 \\right)}{\\mathrm{d}x} + \\frac{\\mathrm{d} f\\left( 0 \\right)}{\\mathrm{d}x} + \\frac{\\mathrm{d} f\\left( 1 \\right)}{\\mathrm{d}x}\n",
       "\\end{equation}\n",
       " $$"
      ],
      "text/plain": [
       "Differential(x)(f(2)) + Differential(x)(f(0)) + Differential(x)(f(1))"
      ]
     },
     "metadata": {},
     "output_type": "display_data"
    }
   ],
   "source": [
    "sum(map( x -> substitute(Δ_x(x), Dict(x => x)), 0:2))"
   ]
  },
  {
   "cell_type": "code",
   "execution_count": 102,
   "metadata": {},
   "outputs": [
    {
     "data": {
      "text/latex": [
       "$$ \\begin{equation}\n",
       "12 \\mathit{x}\n",
       "\\end{equation}\n",
       " $$"
      ],
      "text/plain": [
       "12𝑥"
      ]
     },
     "metadata": {},
     "output_type": "display_data"
    }
   ],
   "source": [
    "integrate(fx(3))[1]"
   ]
  }
 ],
 "metadata": {
  "kernelspec": {
   "display_name": "Julia 1.11.2",
   "language": "julia",
   "name": "julia-1.11"
  },
  "language_info": {
   "file_extension": ".jl",
   "mimetype": "application/julia",
   "name": "julia",
   "version": "1.11.2"
  }
 },
 "nbformat": 4,
 "nbformat_minor": 2
}
