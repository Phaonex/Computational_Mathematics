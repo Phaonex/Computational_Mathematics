{
 "cells": [
  {
   "cell_type": "code",
   "execution_count": 1,
   "metadata": {},
   "outputs": [],
   "source": [
    "using LinearAlgebra\n",
    "using Nemo\n",
    "using Groebner\n",
    "using Symbolics\n",
    "using Latexify\n",
    "using Makie\n",
    "using CairoMakie"
   ]
  },
  {
   "cell_type": "code",
   "execution_count": 2,
   "metadata": {},
   "outputs": [
    {
     "data": {
      "text/plain": [
       "restart_axis (generic function with 1 method)"
      ]
     },
     "metadata": {},
     "output_type": "display_data"
    }
   ],
   "source": [
    "\n",
    "figure = Figure()\n",
    "\n",
    "ax = Axis(figure[1, 1], xlabel = \"x values\", ylabel = \"y values\",)\n",
    "restart_axis() = Axis(figure[1, 1], xlabel = \"x values\", ylabel = \"y values\",)\n"
   ]
  },
  {
   "cell_type": "markdown",
   "metadata": {},
   "source": [
    "# The Chain Rule"
   ]
  },
  {
   "cell_type": "markdown",
   "metadata": {},
   "source": [
    "## Definitions and Theorems:"
   ]
  },
  {
   "cell_type": "code",
   "execution_count": 12,
   "metadata": {},
   "outputs": [],
   "source": [
    "@variables c d dy dx du f n t u x y y′ D P Δx Δy lim(..) f(..) f′(..) g(..) g′(..);"
   ]
  },
  {
   "cell_type": "markdown",
   "metadata": {},
   "source": [
    "**Chain rule:**"
   ]
  },
  {
   "cell_type": "code",
   "execution_count": 7,
   "metadata": {},
   "outputs": [
    {
     "data": {
      "text/latex": [
       "$$ \\begin{equation}\n",
       "y = f\\left( u \\right)\n",
       "\\end{equation}\n",
       " $$"
      ],
      "text/plain": [
       "y ~ f(u)"
      ]
     },
     "metadata": {},
     "output_type": "display_data"
    }
   ],
   "source": [
    "y ~ f(u)"
   ]
  },
  {
   "cell_type": "code",
   "execution_count": 8,
   "metadata": {},
   "outputs": [
    {
     "data": {
      "text/latex": [
       "$$ \\begin{equation}\n",
       "u = g\\left( x \\right)\n",
       "\\end{equation}\n",
       " $$"
      ],
      "text/plain": [
       "u ~ g(x)"
      ]
     },
     "metadata": {},
     "output_type": "display_data"
    }
   ],
   "source": [
    "u ~ g(x)"
   ]
  },
  {
   "cell_type": "code",
   "execution_count": 9,
   "metadata": {},
   "outputs": [
    {
     "data": {
      "text/latex": [
       "$$ \\begin{equation}\n",
       "y = f\\left( g\\left( x \\right) \\right)\n",
       "\\end{equation}\n",
       " $$"
      ],
      "text/plain": [
       "y ~ f(g(x))"
      ]
     },
     "metadata": {},
     "output_type": "display_data"
    }
   ],
   "source": [
    "y ~ f(g(x))"
   ]
  },
  {
   "cell_type": "code",
   "execution_count": null,
   "metadata": {},
   "outputs": [
    {
     "data": {
      "text/latex": [
       "$$ \\begin{equation}\n",
       "\\left[\n",
       "\\begin{array}{c}\n",
       "\\frac{d}{\\mathtt{dx}} \\\\\n",
       "f\\left( g\\left( x \\right) \\right) \\\\\n",
       "\\end{array}\n",
       "\\right] = \\mathtt{f\\prime}\\left( g\\left( x \\right) \\right) \\mathtt{g\\prime}\\left( x \\right)\n",
       "\\end{equation}\n",
       " $$"
      ],
      "text/plain": [
       "(d / dx, f(g(x))) ~ f′(g(x))*g′(x)"
      ]
     },
     "metadata": {},
     "output_type": "display_data"
    }
   ],
   "source": [
    "d//dx, f(g(x)) ~ f′(g(x))g′(x)"
   ]
  },
  {
   "cell_type": "code",
   "execution_count": 19,
   "metadata": {},
   "outputs": [
    {
     "data": {
      "text/latex": [
       "$$ \\begin{equation}\n",
       "\\frac{\\mathtt{dy}}{\\mathtt{dx}} = \\frac{\\mathtt{dy}}{\\mathtt{dx}}\n",
       "\\end{equation}\n",
       " $$"
      ],
      "text/plain": [
       "dy / dx ~ dy / dx"
      ]
     },
     "metadata": {},
     "output_type": "display_data"
    }
   ],
   "source": [
    "dy//dx ~ dy//du * du//dx"
   ]
  },
  {
   "cell_type": "markdown",
   "metadata": {},
   "source": [
    "Example:"
   ]
  },
  {
   "cell_type": "code",
   "execution_count": 20,
   "metadata": {},
   "outputs": [
    {
     "data": {
      "text/latex": [
       "$$ \\begin{equation}\n",
       "f\\left( x \\right) = 1 + x^{2}\n",
       "\\end{equation}\n",
       " $$"
      ],
      "text/plain": [
       "f(x) ~ 1 + x^2"
      ]
     },
     "metadata": {},
     "output_type": "display_data"
    }
   ],
   "source": [
    "f(x) ~ (x^2 + 1)"
   ]
  },
  {
   "cell_type": "code",
   "execution_count": 22,
   "metadata": {},
   "outputs": [
    {
     "data": {
      "text/latex": [
       "$$ \\begin{equation}\n",
       "y = f\\left( u \\right) = \\left[\n",
       "\\begin{array}{c}\n",
       "u^{3} \\\\\n",
       "u \\\\\n",
       "\\end{array}\n",
       "\\right] = g\\left( x \\right) = 1 + x^{2}\n",
       "\\end{equation}\n",
       " $$"
      ],
      "text/plain": [
       "y ~ f(u) ~ (u^3, u) ~ g(x) ~ 1 + x^2"
      ]
     },
     "metadata": {},
     "output_type": "display_data"
    }
   ],
   "source": [
    "y ~ f(u) ~ u^3, u ~ g(x) ~ x^2 + 1"
   ]
  },
  {
   "cell_type": "code",
   "execution_count": 23,
   "metadata": {},
   "outputs": [
    {
     "data": {
      "text/latex": [
       "$$ \\begin{equation}\n",
       "\\frac{\\mathtt{dy}}{\\mathtt{du}} = 3 u^{2} = \\left[\n",
       "\\begin{array}{c}\n",
       "3 \\left( 1 + x^{2} \\right)^{2} \\\\\n",
       "\\frac{\\mathtt{du}}{\\mathtt{dx}} \\\\\n",
       "\\end{array}\n",
       "\\right] = 2 x\n",
       "\\end{equation}\n",
       " $$"
      ],
      "text/plain": [
       "dy / du ~ 3(u^2) ~ (3((1 + x^2)^2), du / dx) ~ 2x"
      ]
     },
     "metadata": {},
     "output_type": "display_data"
    }
   ],
   "source": [
    "dy//du ~ 3u^2 ~ 3(x^2 + 1)^2, du//dx ~ 2x"
   ]
  },
  {
   "cell_type": "markdown",
   "metadata": {},
   "source": [
    "## Example 1: \n",
    "\n",
    "The Chain Rule"
   ]
  },
  {
   "cell_type": "code",
   "execution_count": 48,
   "metadata": {},
   "outputs": [
    {
     "data": {
      "text/latex": [
       "$$ \\begin{equation}\n",
       "\\left[\n",
       "\\begin{array}{c}\n",
       "\\frac{d}{\\mathtt{dx}} \\\\\n",
       "\\left( 1 + x^{2} \\right)^{3} \\\\\n",
       "\\end{array}\n",
       "\\right] = \\frac{\\mathtt{dy}}{\\mathtt{dx}} = 6 \\left( 1 + x^{2} \\right)^{2} x\n",
       "\\end{equation}\n",
       " $$"
      ],
      "text/plain": [
       "(d / dx, (1 + x^2)^3) ~ dy / dx ~ 6x*((1 + x^2)^2)"
      ]
     },
     "metadata": {},
     "output_type": "display_data"
    }
   ],
   "source": [
    "d//dx, (x^2 + 1)^3 ~ dy//du * du//dx ~ 3(x^2 + 1)^2 * 2x"
   ]
  },
  {
   "cell_type": "markdown",
   "metadata": {},
   "source": [
    "Notice: power rule is $[x^n] ~ nx^n-1$ here is $[u^n]\\prime ~ nu^n-1 * \\dfrac{du}{dx}$"
   ]
  },
  {
   "cell_type": "markdown",
   "metadata": {},
   "source": [
    "## Example 2: \n",
    "\n",
    "The General Power Rule"
   ]
  },
  {
   "cell_type": "code",
   "execution_count": 47,
   "metadata": {},
   "outputs": [
    {
     "data": {
      "text/latex": [
       "$$ \\begin{equation}\n",
       "\\left[\n",
       "\\begin{array}{c}\n",
       "\\frac{d}{\\mathtt{dx}} \\\\\n",
       "1 + 1.7321 x \\\\\n",
       "\\end{array}\n",
       "\\right] = \\frac{\\mathtt{dy}}{\\mathtt{dx}} = \\frac{1}{2} \\left( 1 + 3 x \\right) = \\frac{-3}{2} + \\frac{1}{2 \\left( 1 + 3 x \\right)} = 1 + \\frac{3}{3.4641 x}\n",
       "\\end{equation}\n",
       " $$"
      ],
      "text/plain": [
       "(d / dx, 1 + 1.7320508075688772x) ~ dy / dx ~ (1//2)*(1 + 3x) ~ -(3//2) + 1 / (2(1 + 3x)) ~ 1 + 3 / (3.4641016151377544x)"
      ]
     },
     "metadata": {},
     "output_type": "display_data"
    }
   ],
   "source": [
    "d//dx, √3x + 1 ~ dy//du * du//dx ~ (3x + 1)^1//2 ~ 1//2(3x + 1)-1//2 * (3) ~ 3//2√3x + 1"
   ]
  },
  {
   "cell_type": "markdown",
   "metadata": {},
   "source": [
    "## Example 3: \n",
    "\n",
    "Repeated Chain Rule"
   ]
  },
  {
   "cell_type": "code",
   "execution_count": 60,
   "metadata": {},
   "outputs": [
    {
     "data": {
      "text/latex": [
       "$$ \\begin{equation}\n",
       "\\left[\n",
       "\\begin{array}{c}\n",
       "\\frac{d}{\\mathtt{dx}} \\\\\n",
       "\\sin^{3}\\left( 4 x \\right) \\\\\n",
       "\\end{array}\n",
       "\\right] = \\left[\n",
       "\\begin{array}{c}\n",
       "\\frac{3 d \\sin\\left( 4 x \\right)}{\\mathtt{dx}} \\\\\n",
       "\\sin\\left( 4 x \\right) \\\\\n",
       "\\end{array}\n",
       "\\right] = 12 \\sin^{2}\\left( 4 x \\right) \\cos\\left( 4 x \\right) = 48 \\sin^{2}\\left( 4 x \\right) x \\cos\\left( 4 x \\right)\n",
       "\\end{equation}\n",
       " $$"
      ],
      "text/plain": [
       "(d / dx, sin(4x)^3) ~ ((3d*sin(4x)) / dx, sin(4x)) ~ 12cos(4x)*(sin(4x)^2) ~ 48x*cos(4x)*(sin(4x)^2)"
      ]
     },
     "metadata": {},
     "output_type": "display_data"
    }
   ],
   "source": [
    "eq = d//dx, sin(4x)^3 ~ 3sin(4x) * d//dx, sin(4x) ~ 3sin(4x)^2 * cos(4x)*4 ~ 12sin(4x)^2 * 4x * cos(4x)"
   ]
  }
 ],
 "metadata": {
  "kernelspec": {
   "display_name": "Julia 1.11.2",
   "language": "julia",
   "name": "julia-1.11"
  },
  "language_info": {
   "file_extension": ".jl",
   "mimetype": "application/julia",
   "name": "julia",
   "version": "1.11.2"
  }
 },
 "nbformat": 4,
 "nbformat_minor": 2
}
