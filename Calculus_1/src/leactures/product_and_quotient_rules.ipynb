{
 "cells": [
  {
   "cell_type": "code",
   "execution_count": 2,
   "metadata": {},
   "outputs": [],
   "source": [
    "using LinearAlgebra\n",
    "using Nemo\n",
    "using Groebner\n",
    "using Symbolics\n",
    "using Latexify\n",
    "using Makie\n",
    "using CairoMakie"
   ]
  },
  {
   "cell_type": "code",
   "execution_count": 3,
   "metadata": {},
   "outputs": [
    {
     "data": {
      "text/plain": [
       "restart_axis (generic function with 1 method)"
      ]
     },
     "metadata": {},
     "output_type": "display_data"
    }
   ],
   "source": [
    "\n",
    "figure = Figure()\n",
    "\n",
    "ax = Axis(figure[1, 1], xlabel = \"x values\", ylabel = \"y values\",)\n",
    "restart_axis() = Axis(figure[1, 1], xlabel = \"x values\", ylabel = \"y values\",)\n"
   ]
  },
  {
   "cell_type": "markdown",
   "metadata": {},
   "source": [
    "# Product and Quotient Rules"
   ]
  },
  {
   "cell_type": "markdown",
   "metadata": {},
   "source": [
    "## Definitions and Theorems:"
   ]
  },
  {
   "cell_type": "markdown",
   "metadata": {},
   "source": [
    "**The product rule:**"
   ]
  },
  {
   "cell_type": "code",
   "execution_count": 4,
   "metadata": {},
   "outputs": [],
   "source": [
    "@variables c d dy dx f n t x y y′ D P Δx Δy lim(..) f(..) f′(..) g(..) g′(..);"
   ]
  },
  {
   "cell_type": "code",
   "execution_count": 5,
   "metadata": {},
   "outputs": [],
   "source": [
    "xs = Symbolics.variables(:x, 1:2);\n",
    "ys = Symbolics.variables(:y, 1:2);"
   ]
  },
  {
   "cell_type": "code",
   "execution_count": 15,
   "metadata": {},
   "outputs": [
    {
     "data": {
      "text/latex": [
       "$$ \\begin{equation}\n",
       "\\left[\n",
       "\\begin{array}{c}\n",
       "\\frac{d}{\\mathtt{dx}} \\\\\n",
       "\\left[\n",
       "\\begin{array}{c}\n",
       "g\\left( x \\right) f\\left( x \\right) \\\\\n",
       "\\end{array}\n",
       "\\right] \\\\\n",
       "\\end{array}\n",
       "\\right] = \\mathtt{g\\prime}\\left( x \\right) f\\left( x \\right) + g\\left( x \\right) \\mathtt{f\\prime}\\left( x \\right)\n",
       "\\end{equation}\n",
       " $$"
      ],
      "text/plain": [
       "(d / dx, Num[g(x)*f(x)]) ~ g′(x)*f(x) + g(x)*f′(x)"
      ]
     },
     "metadata": {},
     "output_type": "display_data"
    }
   ],
   "source": [
    "d//dx,[f(x)g(x)] ~ f(x)g′(x) + g(x)f′(x)"
   ]
  },
  {
   "cell_type": "markdown",
   "metadata": {},
   "source": [
    "The quotient rule:"
   ]
  },
  {
   "cell_type": "code",
   "execution_count": 16,
   "metadata": {},
   "outputs": [
    {
     "data": {
      "text/latex": [
       "$$ \\begin{equation}\n",
       "\\left[\n",
       "\\begin{array}{c}\n",
       "\\frac{d}{\\mathtt{dx}} \\\\\n",
       "\\frac{f\\left( x \\right)}{g\\left( x \\right)} \\\\\n",
       "\\end{array}\n",
       "\\right] = \\frac{ - \\mathtt{g\\prime}\\left( x \\right) f\\left( x \\right)}{\\left( g\\left( x \\right) \\right)^{2}} + g\\left( x \\right) \\mathtt{f\\prime}\\left( x \\right)\n",
       "\\end{equation}\n",
       " $$"
      ],
      "text/plain": [
       "(d / dx, f(x) / g(x)) ~ (-g′(x)*f(x)) / (g(x)^2) + g(x)*f′(x)"
      ]
     },
     "metadata": {},
     "output_type": "display_data"
    }
   ],
   "source": [
    "d//dx, f(x)//g(x) ~ g(x)f′(x) - f(x)g′(x)//g(x)^2"
   ]
  },
  {
   "cell_type": "markdown",
   "metadata": {},
   "source": [
    "differential equation:\n",
    "\n",
    "Is just an equation that contain derivatives!"
   ]
  },
  {
   "cell_type": "markdown",
   "metadata": {},
   "source": [
    "Formulas and Properties:"
   ]
  },
  {
   "cell_type": "code",
   "execution_count": 22,
   "metadata": {},
   "outputs": [
    {
     "data": {
      "text/latex": [
       "$$ \\begin{equation}\n",
       "\\left[\n",
       "\\begin{array}{c}\n",
       "D \\\\\n",
       "\\left[\n",
       "\\begin{array}{c}\n",
       "\\sin\\left( x \\right) \\\\\n",
       "\\end{array}\n",
       "\\right] \\\\\n",
       "\\end{array}\n",
       "\\right] = \\cos\\left( x \\right)\n",
       "\\end{equation}\n",
       " $$"
      ],
      "text/plain": [
       "(D, Num[sin(x)]) ~ cos(x)"
      ]
     },
     "metadata": {},
     "output_type": "display_data"
    }
   ],
   "source": [
    "D,[sin(x)] ~ cos(x)"
   ]
  },
  {
   "cell_type": "code",
   "execution_count": 23,
   "metadata": {},
   "outputs": [
    {
     "data": {
      "text/latex": [
       "$$ \\begin{equation}\n",
       "\\left[\n",
       "\\begin{array}{c}\n",
       "D \\\\\n",
       "\\left[\n",
       "\\begin{array}{c}\n",
       "\\tan\\left( x \\right) \\\\\n",
       "\\end{array}\n",
       "\\right] \\\\\n",
       "\\end{array}\n",
       "\\right] = \\sec^{2}\\left( x \\right)\n",
       "\\end{equation}\n",
       " $$"
      ],
      "text/plain": [
       "(D, Num[tan(x)]) ~ sec(x)^2"
      ]
     },
     "metadata": {},
     "output_type": "display_data"
    }
   ],
   "source": [
    "D,[tan(x)] ~ sec(x)^2"
   ]
  },
  {
   "cell_type": "code",
   "execution_count": 26,
   "metadata": {},
   "outputs": [
    {
     "data": {
      "text/latex": [
       "$$ \\begin{equation}\n",
       "\\left[\n",
       "\\begin{array}{c}\n",
       "D \\\\\n",
       "\\left[\n",
       "\\begin{array}{c}\n",
       "\\sec\\left( x \\right) \\\\\n",
       "\\end{array}\n",
       "\\right] \\\\\n",
       "\\end{array}\n",
       "\\right] = \\tan\\left( x \\right) \\sec\\left( x \\right)\n",
       "\\end{equation}\n",
       " $$"
      ],
      "text/plain": [
       "(D, Num[sec(x)]) ~ tan(x)*sec(x)"
      ]
     },
     "metadata": {},
     "output_type": "display_data"
    }
   ],
   "source": [
    "D,[sec(x)] ~ sec(x)tan(x)"
   ]
  },
  {
   "cell_type": "code",
   "execution_count": 28,
   "metadata": {},
   "outputs": [
    {
     "data": {
      "text/latex": [
       "$$ \\begin{equation}\n",
       "\\left[\n",
       "\\begin{array}{c}\n",
       "D \\\\\n",
       "\\left[\n",
       "\\begin{array}{c}\n",
       "\\cos\\left( x \\right) \\\\\n",
       "\\end{array}\n",
       "\\right] \\\\\n",
       "\\end{array}\n",
       "\\right] =  - \\sin\\left( x \\right)\n",
       "\\end{equation}\n",
       " $$"
      ],
      "text/plain": [
       "(D, Num[cos(x)]) ~ -sin(x)"
      ]
     },
     "metadata": {},
     "output_type": "display_data"
    }
   ],
   "source": [
    "D,[cos(x)] ~ -sin(x)"
   ]
  },
  {
   "cell_type": "code",
   "execution_count": 33,
   "metadata": {},
   "outputs": [
    {
     "data": {
      "text/latex": [
       "$$ \\begin{equation}\n",
       "\\left[\n",
       "\\begin{array}{c}\n",
       "D \\\\\n",
       "\\left[\n",
       "\\begin{array}{c}\n",
       "\\cot\\left( x \\right) \\\\\n",
       "\\end{array}\n",
       "\\right] \\\\\n",
       "\\end{array}\n",
       "\\right] =  - \\csc^{2}\\left( x \\right)\n",
       "\\end{equation}\n",
       " $$"
      ],
      "text/plain": [
       "(D, Num[cot(x)]) ~ -(csc(x)^2)"
      ]
     },
     "metadata": {},
     "output_type": "display_data"
    }
   ],
   "source": [
    "D,[cot(x)] ~ -csc(x)^2"
   ]
  },
  {
   "cell_type": "code",
   "execution_count": 34,
   "metadata": {},
   "outputs": [
    {
     "data": {
      "text/latex": [
       "$$ \\begin{equation}\n",
       "\\left[\n",
       "\\begin{array}{c}\n",
       "D \\\\\n",
       "\\left[\n",
       "\\begin{array}{c}\n",
       "\\csc\\left( x \\right) \\\\\n",
       "\\end{array}\n",
       "\\right] \\\\\n",
       "\\end{array}\n",
       "\\right] =  - \\cot\\left( x \\right) \\csc\\left( x \\right)\n",
       "\\end{equation}\n",
       " $$"
      ],
      "text/plain": [
       "(D, Num[csc(x)]) ~ -cot(x)*csc(x)"
      ]
     },
     "metadata": {},
     "output_type": "display_data"
    }
   ],
   "source": [
    "D,[csc(x)] ~ -csc(x)cot(x)"
   ]
  },
  {
   "cell_type": "markdown",
   "metadata": {},
   "source": [
    "## Example 1: The Product Rule"
   ]
  },
  {
   "cell_type": "code",
   "execution_count": 44,
   "metadata": {},
   "outputs": [
    {
     "data": {
      "text/latex": [
       "$$ \\begin{equation}\n",
       "\\left[\n",
       "\\begin{array}{c}\n",
       "\\frac{d}{\\mathtt{dx}} \\\\\n",
       "3 x^{2 \\sin\\left( x \\right)} \\\\\n",
       "\\end{array}\n",
       "\\right] = \\left[\n",
       "\\begin{array}{c}\n",
       "\\frac{3 x^{2} d}{\\mathtt{dx}} \\\\\n",
       "\\frac{d \\sin\\left( x \\right)}{\\mathtt{dx}} + \\sin\\left( x \\right) \\\\\n",
       "3 x^{2} \\\\\n",
       "\\end{array}\n",
       "\\right] = 6 x \\sin\\left( x \\right) + 3 x^{2} \\cos\\left( x \\right) = 3 x \\left( 2 \\sin\\left( x \\right) + x \\cos\\left( x \\right) \\right)\n",
       "\\end{equation}\n",
       " $$"
      ],
      "text/plain": [
       "(d / dx, 3(x^(2sin(x)))) ~ ((3d*(x^2)) / dx, (d*sin(x)) / dx + sin(x), 3(x^2)) ~ 6x*sin(x) + 3(x^2)*cos(x) ~ 3x*(2sin(x) + x*cos(x))"
      ]
     },
     "metadata": {},
     "output_type": "display_data"
    }
   ],
   "source": [
    "d//dx,3x^2sin(x) ~ 3x^2 * d//dx,sin(x) + sin(x)*d//dx,3x^2 ~ 3x^2 * cos(x) + sin(x)*6x ~ 3x*(x*cos(x) + 2sin(x))"
   ]
  },
  {
   "cell_type": "markdown",
   "metadata": {},
   "source": [
    "## Example 2: The Quotient Rule"
   ]
  },
  {
   "cell_type": "code",
   "execution_count": 84,
   "metadata": {},
   "outputs": [
    {
     "data": {
      "text/latex": [
       "$$ \\begin{equation}\n",
       "\\left[\n",
       "\\begin{array}{c}\n",
       "\\frac{d}{\\mathtt{dx}} \\\\\n",
       "1 + 5 x + \\frac{-2}{x^{2}} \\\\\n",
       "\\end{array}\n",
       "\\right] = \\left[\n",
       "\\begin{array}{c}\n",
       "\\frac{d \\left( 1 + x^{2} \\right)}{\\mathtt{dx}} \\\\\n",
       "-2 + 5 x + \\frac{ - d \\left( -2 + 5 x \\right)}{\\mathtt{dx}} \\\\\n",
       "\\frac{1}{\\left( 1 + x^{2} \\right)^{2}} + x^{2} \\\\\n",
       "\\end{array}\n",
       "\\right] = \\frac{ - 2 \\left( -2 + 5 x \\right) x}{\\left( 1 + x^{2} \\right)^{2}} + 5 \\left( 1 + x^{2} \\right) = 5 + \\frac{ - 4 x - 10 x^{2}}{\\left( 1 + x^{2} \\right)^{2}} + 5 x^{2} = 4 x + \\frac{5}{\\left( 1 + x^{2} \\right)^{2}} - 5 x^{2}\n",
       "\\end{equation}\n",
       " $$"
      ],
      "text/plain": [
       "(d / dx, 1 + 5x + -2 / (x^2)) ~ ((d*(1 + x^2)) / dx, -2 + 5x + (-d*(-2 + 5x)) / dx, 1 / ((1 + x^2)^2) + x^2) ~ (-2(-2 + 5x)*x) / ((1 + x^2)^2) + 5(1 + x^2) ~ 5 + (-4x - 10(x^2)) / ((1 + x^2)^2) + 5(x^2) ~ 4x + 5 / ((1 + x^2)^2) - 5(x^2)"
      ]
     },
     "metadata": {},
     "output_type": "display_data"
    }
   ],
   "source": [
    "d//dx,5x - 2//x^2 + 1 ~ \n",
    "(x^2 + 1)d//dx,5x - 2 - (5x - 2)d//dx, x^2 + 1 // (x^2 + 1)^2 ~ \n",
    "(x^2 + 1)*5 - (5x - 2)*(2x) // (x^2 + 1)^2 ~\n",
    "(5x^2 + 5) - (10x^2 + 4x) // (x^2 + 1)^2 ~ \n",
    "-5x^2 + 4x + 5 // (x^2 + 1)^2"
   ]
  },
  {
   "cell_type": "markdown",
   "metadata": {},
   "source": [
    "## Example 3: Higher-Order Derivatives"
   ]
  },
  {
   "cell_type": "code",
   "execution_count": 101,
   "metadata": {},
   "outputs": [
    {
     "data": {
      "text/latex": [
       "$$ \\begin{equation}\n",
       "f\\left( x \\right) = x^{4} = \\mathtt{f\\prime}\\left( x \\right) = 4 x^{3} = \\mathtt{f\\prime}\\left( \\mathtt{f\\prime}\\left( x \\right) \\right) = 12 x^{2} = \\mathtt{f\\prime}\\left( \\mathtt{f\\prime}\\left( \\mathtt{f\\prime}\\left( x \\right) \\right) \\right) = 24 x = \\mathtt{f\\prime}\\left( \\mathtt{f\\prime}\\left( \\mathtt{f\\prime}\\left( \\mathtt{f\\prime}\\left( x \\right) \\right) \\right) \\right) = 24 = \\mathtt{f\\prime}\\left( \\mathtt{f\\prime}\\left( \\mathtt{f\\prime}\\left( \\mathtt{f\\prime}\\left( \\mathtt{f\\prime}\\left( x \\right) \\right) \\right) \\right) \\right) = 0\n",
       "\\end{equation}\n",
       " $$"
      ],
      "text/plain": [
       "f(x) ~ x^4 ~ f′(x) ~ 4(x^3) ~ f′(f′(x)) ~ 12(x^2) ~ f′(f′(f′(x))) ~ 24x ~ f′(f′(f′(f′(x)))) ~ 24 ~ f′(f′(f′(f′(f′(x))))) ~ 0"
      ]
     },
     "metadata": {},
     "output_type": "display_data"
    }
   ],
   "source": [
    "f(x) ~ x^4 ~ f′(x) ~ 4x^3 ~ f′(f′(x)) ~ 12x^2 ~ f′(f′(f′(x))) ~ 24x ~ f′(f′(f′(f′(x)))) ~ 24 ~ f′(f′(f′(f′(f′(x))))) ~ 0"
   ]
  },
  {
   "cell_type": "markdown",
   "metadata": {},
   "source": [
    "## Example 4: Differential Equations"
   ]
  },
  {
   "cell_type": "markdown",
   "metadata": {},
   "source": [
    "satisfy the eq y = sin x ~ y\" + y = 0 "
   ]
  },
  {
   "cell_type": "code",
   "execution_count": 114,
   "metadata": {},
   "outputs": [
    {
     "data": {
      "text/latex": [
       "$$ \\begin{equation}\n",
       "y = \\sin\\left( x \\right) = y + \\mathtt{f\\prime}\\left( \\cos\\left( x \\right) \\right) = y + \\mathtt{f\\prime}\\left(  - \\sin\\left( \\mathtt{f\\prime}\\left(  - \\sin\\left( x \\right) \\right) \\right) \\right) = y = 0\n",
       "\\end{equation}\n",
       " $$"
      ],
      "text/plain": [
       "y ~ sin(x) ~ y + f′(cos(x)) ~ y + f′(-sin(f′(-sin(x)))) ~ y ~ 0"
      ]
     },
     "metadata": {},
     "output_type": "display_data"
    }
   ],
   "source": [
    "y ~ sin(x) ~ f′(cos(x)) + y ~ f′(-sin(f′(-sin(x)))) + y ~ -sin(x) + sin(x) + y ~ 0"
   ]
  },
  {
   "cell_type": "code",
   "execution_count": 113,
   "metadata": {},
   "outputs": [
    {
     "data": {
      "text/plain": [
       "0.0"
      ]
     },
     "metadata": {},
     "output_type": "display_data"
    }
   ],
   "source": [
    "-sin(0) + sin(0)"
   ]
  }
 ],
 "metadata": {
  "kernelspec": {
   "display_name": "Julia 1.11.2",
   "language": "julia",
   "name": "julia-1.11"
  },
  "language_info": {
   "file_extension": ".jl",
   "mimetype": "application/julia",
   "name": "julia",
   "version": "1.11.2"
  }
 },
 "nbformat": 4,
 "nbformat_minor": 2
}
