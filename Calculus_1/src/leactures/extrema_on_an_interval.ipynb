{
 "cells": [
  {
   "cell_type": "code",
   "execution_count": 1,
   "metadata": {},
   "outputs": [],
   "source": [
    "using LinearAlgebra\n",
    "using Nemo\n",
    "using Groebner\n",
    "using Symbolics\n",
    "using Latexify\n",
    "using Makie\n",
    "using CairoMakie"
   ]
  },
  {
   "cell_type": "code",
   "execution_count": 2,
   "metadata": {},
   "outputs": [
    {
     "data": {
      "text/plain": [
       "restart_axis (generic function with 1 method)"
      ]
     },
     "metadata": {},
     "output_type": "display_data"
    }
   ],
   "source": [
    "\n",
    "figure = Figure()\n",
    "\n",
    "ax = Axis(figure[1, 1], xlabel = \"x values\", ylabel = \"y values\",)\n",
    "restart_axis() = Axis(figure[1, 1], xlabel = \"x values\", ylabel = \"y values\",)\n"
   ]
  },
  {
   "cell_type": "code",
   "execution_count": 19,
   "metadata": {},
   "outputs": [],
   "source": [
    "@variables a b c d f r n t u x y y′ D P I Δx Δy lim(..) f(..) f′(..) min(..) max(..);"
   ]
  },
  {
   "cell_type": "markdown",
   "metadata": {},
   "source": [
    "# Implicit Differentiation and Related Rates"
   ]
  },
  {
   "cell_type": "markdown",
   "metadata": {},
   "source": [
    "## Definitions and Theorems:"
   ]
  },
  {
   "cell_type": "code",
   "execution_count": 8,
   "metadata": {},
   "outputs": [],
   "source": [
    "dx = Differential(x);\n",
    "dy = Differential(y);"
   ]
  },
  {
   "cell_type": "markdown",
   "metadata": {},
   "source": [
    "**Minimun**"
   ]
  },
  {
   "cell_type": "code",
   "execution_count": 16,
   "metadata": {},
   "outputs": [
    {
     "data": {
      "text/latex": [
       "$$ \\begin{equation}\n",
       "I = f\\left( c \\right) \\leq f\\left( x \\right) = \\left|\\mathtt{min}\\left( f\\left( x \\right) \\right)\\right|\n",
       "\\end{equation}\n",
       " $$"
      ],
      "text/plain": [
       "I ~ f(c) <= f(x) ~ abs(min(f(x)))"
      ]
     },
     "metadata": {},
     "output_type": "display_data"
    }
   ],
   "source": [
    "I ~ f(c) <= f(x) ~ abs(min(f(x)))"
   ]
  },
  {
   "cell_type": "markdown",
   "metadata": {},
   "source": [
    "**Maximal**"
   ]
  },
  {
   "cell_type": "code",
   "execution_count": 17,
   "metadata": {},
   "outputs": [
    {
     "data": {
      "text/latex": [
       "$$ \\begin{equation}\n",
       "I = f\\left( c \\right) \\geq f\\left( x \\right) = \\left|\\mathtt{max}\\left( f\\left( x \\right) \\right)\\right|\n",
       "\\end{equation}\n",
       " $$"
      ],
      "text/plain": [
       "I ~ f(c) >= f(x) ~ abs(max(f(x)))"
      ]
     },
     "metadata": {},
     "output_type": "display_data"
    }
   ],
   "source": [
    "I ~ f(c) >= f(x) ~ abs(max(f(x)))"
   ]
  },
  {
   "cell_type": "markdown",
   "metadata": {},
   "source": [
    "extream value theorem.\n",
    "\n",
    "The f(c) is continues colser to the interval: a, b. So f has both the minumum and maximum values."
   ]
  },
  {
   "cell_type": "code",
   "execution_count": 36,
   "metadata": {},
   "outputs": [
    {
     "data": {
      "text/latex": [
       "$$ \\begin{equation}\n",
       "f = \\left[\n",
       "\\begin{array}{cc}\n",
       "a & b \\\\\n",
       "\\end{array}\n",
       "\\right] = \\left[\n",
       "\\begin{array}{cccc}\n",
       "\\left|\\mathtt{min}\\left( a \\right)\\right| & \\left|\\mathtt{max}\\left( a \\right)\\right| & \\left|\\mathtt{min}\\left( b \\right)\\right| & \\left|\\mathtt{max}\\left( b \\right)\\right| \\\\\n",
       "\\end{array}\n",
       "\\right]\n",
       "\\end{equation}\n",
       " $$"
      ],
      "text/plain": [
       "f() ~ Num[a b] ~ Num[abs(min(a)) abs(max(a)) abs(min(b)) abs(max(b))]"
      ]
     },
     "metadata": {},
     "output_type": "display_data"
    }
   ],
   "source": [
    "f() ~ [a b] ~ [abs(min(a)) abs(max(a)) abs(min(b)) abs(max(b))]"
   ]
  },
  {
   "cell_type": "markdown",
   "metadata": {},
   "source": [
    "Critical number.\n",
    "\n",
    "when f has the relative minimum and maximum."
   ]
  },
  {
   "cell_type": "code",
   "execution_count": 38,
   "metadata": {},
   "outputs": [
    {
     "data": {
      "text/latex": [
       "$$ \\begin{equation}\n",
       "\\mathtt{f\\prime}\\left( c \\right) = 0 = x = c\n",
       "\\end{equation}\n",
       " $$"
      ],
      "text/plain": [
       "f′(c) ~ 0 ~ x ~ c"
      ]
     },
     "metadata": {},
     "output_type": "display_data"
    }
   ],
   "source": [
    "f′(c) ~ 0 ~ x ~ c"
   ]
  },
  {
   "cell_type": "markdown",
   "metadata": {},
   "source": [
    "## Guidelines for Finding Extrema on a Closed Interval:"
   ]
  },
  {
   "cell_type": "markdown",
   "metadata": {},
   "source": [
    "find a and b of f."
   ]
  },
  {
   "cell_type": "code",
   "execution_count": 40,
   "metadata": {},
   "outputs": [
    {
     "data": {
      "text/latex": [
       "$$ \\begin{equation}\n",
       "f = \\left[\n",
       "\\begin{array}{cc}\n",
       "a & b \\\\\n",
       "\\end{array}\n",
       "\\right]\n",
       "\\end{equation}\n",
       " $$"
      ],
      "text/plain": [
       "f() ~ Num[a b]"
      ]
     },
     "metadata": {},
     "output_type": "display_data"
    }
   ],
   "source": [
    "f() ~ [a b]"
   ]
  },
  {
   "cell_type": "markdown",
   "metadata": {},
   "source": [
    "evaluate f at every critical number."
   ]
  },
  {
   "cell_type": "code",
   "execution_count": 44,
   "metadata": {},
   "outputs": [
    {
     "data": {
      "text/plain": [
       "5-element Vector{Vector{Num}}:\n",
       " [min(f(a)), max(f(b))]\n",
       " [min(f(a)), max(f(b))]\n",
       " [min(f(a)), max(f(b))]\n",
       " [min(f(a)), max(f(b))]\n",
       " [min(f(a)), max(f(b))]"
      ]
     },
     "metadata": {},
     "output_type": "display_data"
    }
   ],
   "source": [
    "map(x -> [min(f(a)), max(f(b))], 1:5)"
   ]
  },
  {
   "cell_type": "markdown",
   "metadata": {},
   "source": [
    "## Example 1: \n",
    "\n",
    "Finding Extrema on a Closed Interval"
   ]
  },
  {
   "cell_type": "code",
   "execution_count": 45,
   "metadata": {},
   "outputs": [
    {
     "data": {
      "text/plain": [
       "(0, 4)"
      ]
     },
     "metadata": {},
     "output_type": "display_data"
    }
   ],
   "source": [
    "P = (0, 4)"
   ]
  },
  {
   "cell_type": "code",
   "execution_count": 47,
   "metadata": {},
   "outputs": [
    {
     "data": {
      "text/latex": [
       "$$ \\begin{equation}\n",
       "f\\left( x \\right) =  - 2 x + x^{2}\n",
       "\\end{equation}\n",
       " $$"
      ],
      "text/plain": [
       "f(x) ~ -2x + x^2"
      ]
     },
     "metadata": {},
     "output_type": "display_data"
    }
   ],
   "source": [
    "f(x) ~ x^2 - 2x"
   ]
  },
  {
   "cell_type": "code",
   "execution_count": 51,
   "metadata": {},
   "outputs": [
    {
     "data": {
      "text/latex": [
       "$$ \\begin{equation}\n",
       "f\\left( x \\right) =  - 2 x + x^{2} = \\mathtt{f\\prime}\\left( x \\right) =  - 2 x + x^{2} = \\frac{\\mathrm{d}}{\\mathrm{d}x} \\left(  - 2 x + x^{2} \\right) = -1\n",
       "\\end{equation}\n",
       " $$"
      ],
      "text/plain": [
       "f(x) ~ -2x + x^2 ~ f′(x) ~ -2x + x^2 ~ Differential(x)(-2x + x^2) ~ -1"
      ]
     },
     "metadata": {},
     "output_type": "display_data"
    }
   ],
   "source": [
    "f(x) ~ x^2 - 2x ~ \n",
    "f′(x) ~ x^2 - 2x ~\n",
    "dx(x^2 - 2x) ~ -1\n"
   ]
  },
  {
   "cell_type": "code",
   "execution_count": 53,
   "metadata": {},
   "outputs": [
    {
     "data": {
      "text/latex": [
       "$$ \\begin{equation}\n",
       "\\frac{\\mathrm{d}}{1} -1\n",
       "\\end{equation}\n",
       " $$"
      ],
      "text/plain": [
       "Differential(1)(-1)"
      ]
     },
     "metadata": {},
     "output_type": "display_data"
    }
   ],
   "source": [
    "substitute(dx(x^2 - 2x), (x => 1))"
   ]
  },
  {
   "cell_type": "code",
   "execution_count": 58,
   "metadata": {},
   "outputs": [
    {
     "data": {
      "text/latex": [
       "$$ \\begin{equation}\n",
       "\\left[\n",
       "\\begin{array}{c}\n",
       "\\frac{\\mathrm{d}}{0} 0 \\\\\n",
       "\\frac{\\mathrm{d}}{1} -1 \\\\\n",
       "\\frac{\\mathrm{d}}{2} 0 \\\\\n",
       "\\frac{\\mathrm{d}}{3} 3 \\\\\n",
       "\\frac{\\mathrm{d}}{4} 8 \\\\\n",
       "\\end{array}\n",
       "\\right]\n",
       "\\end{equation}\n",
       " $$"
      ],
      "text/plain": [
       "5-element Vector{Num}:\n",
       "  Differential(0)(0)\n",
       " Differential(1)(-1)\n",
       "  Differential(2)(0)\n",
       "  Differential(3)(3)\n",
       "  Differential(4)(8)"
      ]
     },
     "metadata": {},
     "output_type": "display_data"
    }
   ],
   "source": [
    "map(y -> substitute(dx(x^2 - 2x), (x => y)), P[1]:P[2])"
   ]
  },
  {
   "cell_type": "markdown",
   "metadata": {},
   "source": [
    "## Example 2:"
   ]
  },
  {
   "cell_type": "code",
   "execution_count": 59,
   "metadata": {},
   "outputs": [
    {
     "data": {
      "text/plain": [
       "(-1, 3)"
      ]
     },
     "metadata": {},
     "output_type": "display_data"
    }
   ],
   "source": [
    "P = (-1, 3)"
   ]
  },
  {
   "cell_type": "code",
   "execution_count": 57,
   "metadata": {},
   "outputs": [
    {
     "data": {
      "text/latex": [
       "$$ \\begin{equation}\n",
       "f\\left( x \\right) = 2 x - x^{2}\n",
       "\\end{equation}\n",
       " $$"
      ],
      "text/plain": [
       "f(x) ~ 2x - (x^2)"
      ]
     },
     "metadata": {},
     "output_type": "display_data"
    }
   ],
   "source": [
    "f(x) ~ 2x - 3x^2//3"
   ]
  },
  {
   "cell_type": "code",
   "execution_count": 89,
   "metadata": {},
   "outputs": [
    {
     "data": {
      "text/latex": [
       "$$ \\begin{equation}\n",
       "f\\left( x \\right) = 2 x - x^{2} = \\mathtt{f\\prime}\\left( x \\right) = 2 x + \\frac{-1}{x} = 2 x + \\frac{-1}{x} = 2 \\left( 1 + \\frac{\\frac{-1}{3}}{x} \\right) = 2 \\left( \\frac{1}{3} x + \\frac{\\frac{-1}{3}}{x} \\right)\n",
       "\\end{equation}\n",
       " $$"
      ],
      "text/plain": [
       "f(x) ~ 2x - (x^2) ~ f′(x) ~ 2x + (-1//1) / x ~ 2x + (-1//1) / x ~ 2(1 + (-1//3) / x) ~ 2((1//3)*x + (-1//3) / x)"
      ]
     },
     "metadata": {},
     "output_type": "display_data"
    }
   ],
   "source": [
    "f(x) ~ 2x - 3x^2//3 ~ \n",
    "f′(x) ~ 2x - 3x^-1//3 ~\n",
    "2x - 3x^-1//3 ~\n",
    "2(1 - 1//x^1//3) ~\n",
    "2(x^1//3 - 1//x^1//3)"
   ]
  },
  {
   "cell_type": "code",
   "execution_count": 87,
   "metadata": {},
   "outputs": [
    {
     "data": {
      "text/latex": [
       "$$ \\begin{equation}\n",
       "\\left[\n",
       "\\begin{array}{c}\n",
       "\\frac{\\mathrm{d}}{-1} -3 \\\\\n",
       "\\frac{\\mathrm{d}}{0} 0 \\\\\n",
       "\\frac{\\mathrm{d}}{1} 1 \\\\\n",
       "\\frac{\\mathrm{d}}{2} 0 \\\\\n",
       "\\frac{\\mathrm{d}}{3} -3 \\\\\n",
       "\\end{array}\n",
       "\\right]\n",
       "\\end{equation}\n",
       " $$"
      ],
      "text/plain": [
       "5-element Vector{Num}:\n",
       " Differential(-1)(-3)\n",
       "   Differential(0)(0)\n",
       "   Differential(1)(1)\n",
       "   Differential(2)(0)\n",
       "  Differential(3)(-3)"
      ]
     },
     "metadata": {},
     "output_type": "display_data"
    }
   ],
   "source": [
    "map(y -> substitute(dx(2x - 3x^2//3), (x => y)), P[1]:P[2])"
   ]
  }
 ],
 "metadata": {
  "kernelspec": {
   "display_name": "Julia 1.11.2",
   "language": "julia",
   "name": "julia-1.11"
  },
  "language_info": {
   "file_extension": ".jl",
   "mimetype": "application/julia",
   "name": "julia",
   "version": "1.11.2"
  }
 },
 "nbformat": 4,
 "nbformat_minor": 2
}
